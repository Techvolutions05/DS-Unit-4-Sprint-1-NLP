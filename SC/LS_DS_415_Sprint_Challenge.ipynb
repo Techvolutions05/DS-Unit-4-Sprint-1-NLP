{
 "cells": [
  {
   "cell_type": "markdown",
   "metadata": {},
   "source": [
    "<img align=\"left\" src=\"https://lever-client-logos.s3.amazonaws.com/864372b1-534c-480e-acd5-9711f850815c-1524247202159.png\" width=200>\n",
    "<br></br>\n",
    "<br></br>\n",
    "\n",
    "# Sprint Challenge\n",
    "## *Data Science Unit 4 Sprint 1*\n",
    "\n",
    "After a week of Natural Language Processing, you've learned some cool new stuff: how to process text, how turn text into vectors, and how to model topics from documents. Apply your newly acquired skills to one of the most famous NLP datasets out there: [Yelp](https://www.yelp.com/dataset/challenge). As part of the job selection process, some of my friends have been asked to create analysis of this dataset, so I want to empower you to have a head start.  \n",
    "\n",
    "The real dataset is massive (almost 8 gigs uncompressed). I've sampled the data for you to something more managable for the Sprint Challenge. You can analyze the full dataset as a stretch goal or after the sprint challenge. As you work on the challenge, I suggest adding notes about your findings and things you want to analyze in the future.\n",
    "\n",
    "## Challenge Objectives\n",
    "*Successfully complete these all these objectives to earn a 2. There are more details on each objective further down in the notebook.*\n",
    "* <a href=\"#p1\">Part 1</a>: Write a function to tokenize the yelp reviews\n",
    "* <a href=\"#p2\">Part 2</a>: Create a vector representation of those tokens\n",
    "* <a href=\"#p3\">Part 3</a>: Use your tokens in a classification model on yelp rating\n",
    "* <a href=\"#p4\">Part 4</a>: Estimate & Interpret a topic model of the Yelp reviews"
   ]
  },
  {
   "cell_type": "code",
   "execution_count": 1,
   "metadata": {},
   "outputs": [],
   "source": [
    "import pandas as pd\n",
    "import re\n",
    "\n",
    "yelp = pd.read_json('./data/review_sample.json', lines=True)"
   ]
  },
  {
   "cell_type": "code",
   "execution_count": 2,
   "metadata": {},
   "outputs": [
    {
     "name": "stdout",
     "output_type": "stream",
     "text": [
      "(10000, 9) \n",
      "\n"
     ]
    },
    {
     "data": {
      "text/html": [
       "<div>\n",
       "<style scoped>\n",
       "    .dataframe tbody tr th:only-of-type {\n",
       "        vertical-align: middle;\n",
       "    }\n",
       "\n",
       "    .dataframe tbody tr th {\n",
       "        vertical-align: top;\n",
       "    }\n",
       "\n",
       "    .dataframe thead th {\n",
       "        text-align: right;\n",
       "    }\n",
       "</style>\n",
       "<table border=\"1\" class=\"dataframe\">\n",
       "  <thead>\n",
       "    <tr style=\"text-align: right;\">\n",
       "      <th></th>\n",
       "      <th>business_id</th>\n",
       "      <th>cool</th>\n",
       "      <th>date</th>\n",
       "      <th>funny</th>\n",
       "      <th>review_id</th>\n",
       "      <th>stars</th>\n",
       "      <th>text</th>\n",
       "      <th>useful</th>\n",
       "      <th>user_id</th>\n",
       "    </tr>\n",
       "  </thead>\n",
       "  <tbody>\n",
       "    <tr>\n",
       "      <th>0</th>\n",
       "      <td>nDuEqIyRc8YKS1q1fX0CZg</td>\n",
       "      <td>1</td>\n",
       "      <td>2015-03-31 16:50:30</td>\n",
       "      <td>0</td>\n",
       "      <td>eZs2tpEJtXPwawvHnHZIgQ</td>\n",
       "      <td>1</td>\n",
       "      <td>BEWARE!!! FAKE, FAKE, FAKE....We also own a sm...</td>\n",
       "      <td>10</td>\n",
       "      <td>n1LM36qNg4rqGXIcvVXv8w</td>\n",
       "    </tr>\n",
       "    <tr>\n",
       "      <th>1</th>\n",
       "      <td>eMYeEapscbKNqUDCx705hg</td>\n",
       "      <td>0</td>\n",
       "      <td>2015-12-16 05:31:03</td>\n",
       "      <td>0</td>\n",
       "      <td>DoQDWJsNbU0KL1O29l_Xug</td>\n",
       "      <td>4</td>\n",
       "      <td>Came here for lunch Togo. Service was quick. S...</td>\n",
       "      <td>0</td>\n",
       "      <td>5CgjjDAic2-FAvCtiHpytA</td>\n",
       "    </tr>\n",
       "    <tr>\n",
       "      <th>2</th>\n",
       "      <td>6Q7-wkCPc1KF75jZLOTcMw</td>\n",
       "      <td>1</td>\n",
       "      <td>2010-06-20 19:14:48</td>\n",
       "      <td>1</td>\n",
       "      <td>DDOdGU7zh56yQHmUnL1idQ</td>\n",
       "      <td>3</td>\n",
       "      <td>I've been to Vegas dozens of times and had nev...</td>\n",
       "      <td>2</td>\n",
       "      <td>BdV-cf3LScmb8kZ7iiBcMA</td>\n",
       "    </tr>\n",
       "    <tr>\n",
       "      <th>3</th>\n",
       "      <td>k3zrItO4l9hwfLRwHBDc9w</td>\n",
       "      <td>3</td>\n",
       "      <td>2010-07-13 00:33:45</td>\n",
       "      <td>4</td>\n",
       "      <td>LfTMUWnfGFMOfOIyJcwLVA</td>\n",
       "      <td>1</td>\n",
       "      <td>We went here on a night where they closed off ...</td>\n",
       "      <td>5</td>\n",
       "      <td>cZZnBqh4gAEy4CdNvJailQ</td>\n",
       "    </tr>\n",
       "    <tr>\n",
       "      <th>4</th>\n",
       "      <td>6hpfRwGlOzbNv7k5eP9rsQ</td>\n",
       "      <td>1</td>\n",
       "      <td>2018-06-30 02:30:01</td>\n",
       "      <td>0</td>\n",
       "      <td>zJSUdI7bJ8PNJAg4lnl_Gg</td>\n",
       "      <td>4</td>\n",
       "      <td>3.5 to 4 stars\\n\\nNot bad for the price, $12.9...</td>\n",
       "      <td>5</td>\n",
       "      <td>n9QO4ClYAS7h9fpQwa5bhA</td>\n",
       "    </tr>\n",
       "  </tbody>\n",
       "</table>\n",
       "</div>"
      ],
      "text/plain": [
       "              business_id  cool                date  funny  \\\n",
       "0  nDuEqIyRc8YKS1q1fX0CZg     1 2015-03-31 16:50:30      0   \n",
       "1  eMYeEapscbKNqUDCx705hg     0 2015-12-16 05:31:03      0   \n",
       "2  6Q7-wkCPc1KF75jZLOTcMw     1 2010-06-20 19:14:48      1   \n",
       "3  k3zrItO4l9hwfLRwHBDc9w     3 2010-07-13 00:33:45      4   \n",
       "4  6hpfRwGlOzbNv7k5eP9rsQ     1 2018-06-30 02:30:01      0   \n",
       "\n",
       "                review_id  stars  \\\n",
       "0  eZs2tpEJtXPwawvHnHZIgQ      1   \n",
       "1  DoQDWJsNbU0KL1O29l_Xug      4   \n",
       "2  DDOdGU7zh56yQHmUnL1idQ      3   \n",
       "3  LfTMUWnfGFMOfOIyJcwLVA      1   \n",
       "4  zJSUdI7bJ8PNJAg4lnl_Gg      4   \n",
       "\n",
       "                                                text  useful  \\\n",
       "0  BEWARE!!! FAKE, FAKE, FAKE....We also own a sm...      10   \n",
       "1  Came here for lunch Togo. Service was quick. S...       0   \n",
       "2  I've been to Vegas dozens of times and had nev...       2   \n",
       "3  We went here on a night where they closed off ...       5   \n",
       "4  3.5 to 4 stars\\n\\nNot bad for the price, $12.9...       5   \n",
       "\n",
       "                  user_id  \n",
       "0  n1LM36qNg4rqGXIcvVXv8w  \n",
       "1  5CgjjDAic2-FAvCtiHpytA  \n",
       "2  BdV-cf3LScmb8kZ7iiBcMA  \n",
       "3  cZZnBqh4gAEy4CdNvJailQ  \n",
       "4  n9QO4ClYAS7h9fpQwa5bhA  "
      ]
     },
     "execution_count": 2,
     "metadata": {},
     "output_type": "execute_result"
    }
   ],
   "source": [
    "print(yelp.shape, '\\n')\n",
    "yelp.head()"
   ]
  },
  {
   "cell_type": "code",
   "execution_count": 3,
   "metadata": {},
   "outputs": [
    {
     "data": {
      "text/plain": [
       "0    BEWARE!!! FAKE, FAKE, FAKE....We also own a sm...\n",
       "1    Came here for lunch Togo. Service was quick. S...\n",
       "2    I've been to Vegas dozens of times and had nev...\n",
       "3    We went here on a night where they closed off ...\n",
       "4    3.5 to 4 stars\\n\\nNot bad for the price, $12.9...\n",
       "Name: text, dtype: object"
      ]
     },
     "execution_count": 3,
     "metadata": {},
     "output_type": "execute_result"
    }
   ],
   "source": [
    "yelp['text'].head()"
   ]
  },
  {
   "cell_type": "code",
   "execution_count": 4,
   "metadata": {},
   "outputs": [],
   "source": [
    "# removing \\n and extra space from the data\n",
    "yelp['text'] = yelp['text'].apply(lambda x : re.sub(r'\\\\n', \"\", x))"
   ]
  },
  {
   "cell_type": "markdown",
   "metadata": {},
   "source": [
    "## Part 1: Tokenize Function\n",
    "<a id=\"#p1\"></a>\n",
    "\n",
    "Complete the function `tokenize`. Your function should\n",
    "- accept one document at a time\n",
    "- return a list of tokens\n",
    "\n",
    "You are free to use any method you have learned this week."
   ]
  },
  {
   "cell_type": "code",
   "execution_count": 5,
   "metadata": {},
   "outputs": [],
   "source": [
    "# imports to clean and tokenize dataset\n",
    "import spacy \n",
    "import numpy as np\n",
    "from spacy.tokenizer import Tokenizer\n",
    "import re\n",
    "\n",
    "import seaborn as sns"
   ]
  },
  {
   "cell_type": "code",
   "execution_count": 6,
   "metadata": {},
   "outputs": [],
   "source": [
    "# Instantiating NLP and the Tokenizer\n",
    "nlp = spacy.load(\"en_core_web_lg\")\n",
    "tokenizer = Tokenizer(nlp.vocab)"
   ]
  },
  {
   "cell_type": "code",
   "execution_count": 7,
   "metadata": {},
   "outputs": [],
   "source": [
    "# difining a tokenization function\n",
    "def tokenize(doc):\n",
    "    STOP_WORDS = ['$','food','good','great', 'place', 've', 'got', 'want', 'wasn',\n",
    "                  'came', 'service', 'like', 'come', 'went', 'said', 'ordered']\n",
    "    \n",
    "    '''Instantiating nlp to learn the document'''\n",
    "    doc = nlp(doc)\n",
    "    return [token.lemma_.strip() for token in doc if (token.is_stop != True) and (token.is_punct != True) \\\n",
    "           and (token.pos != 'PRON') and (token.is_space == False) and (token.is_digit == False) and (token.text.lower() not in STOP_WORDS)]"
   ]
  },
  {
   "cell_type": "code",
   "execution_count": 8,
   "metadata": {},
   "outputs": [],
   "source": [
    "# applying tokenizer\n",
    "yelp['tokens'] = yelp['text'].apply(tokenize)"
   ]
  },
  {
   "cell_type": "code",
   "execution_count": 9,
   "metadata": {},
   "outputs": [
    {
     "data": {
      "text/plain": [
       "<AxesSubplot:>"
      ]
     },
     "execution_count": 9,
     "metadata": {},
     "output_type": "execute_result"
    },
    {
     "data": {
      "image/png": "[encoded data removed]",
      "text/plain": [
       "<Figure size 432x288 with 1 Axes>"
      ]
     },
     "metadata": {
      "needs_background": "light"
     },
     "output_type": "display_data"
    }
   ],
   "source": [
    "doc_len = [len(doc) for doc in yelp['text']]\n",
    "sns.distplot(doc_len)"
   ]
  },
  {
   "cell_type": "code",
   "execution_count": 10,
   "metadata": {},
   "outputs": [
    {
     "data": {
      "text/plain": [
       "0    [beware, fake, fake, fake, small, business, Lo...\n",
       "1    [lunch, Togo, quick, staff, friendly, complain...\n",
       "2    [Vegas, dozen, time, step, foot, Circus, Circu...\n",
       "3    [night, close, street, party, good, actually, ...\n",
       "4    [3.5, star, bad, price, 12.99, lunch, senior, ...\n",
       "5    [tasty, fast, casual, latin, street, menu, ove...\n",
       "6    [absolutely, amazing, incredible, production, ...\n",
       "7    [Pho, enjoy, 9:00pm, busy, serve, right, away,...\n",
       "8    [absolutely, unique, experience, nail, shop, f...\n",
       "9    [wow, walk, sit, bar, minute, bartender, work,...\n",
       "Name: tokens, dtype: object"
      ]
     },
     "execution_count": 10,
     "metadata": {},
     "output_type": "execute_result"
    }
   ],
   "source": [
    "yelp['tokens'].head(10)"
   ]
  },
  {
   "cell_type": "code",
   "execution_count": 11,
   "metadata": {},
   "outputs": [
    {
     "data": {
      "text/html": [
       "<div>\n",
       "<style scoped>\n",
       "    .dataframe tbody tr th:only-of-type {\n",
       "        vertical-align: middle;\n",
       "    }\n",
       "\n",
       "    .dataframe tbody tr th {\n",
       "        vertical-align: top;\n",
       "    }\n",
       "\n",
       "    .dataframe thead th {\n",
       "        text-align: right;\n",
       "    }\n",
       "</style>\n",
       "<table border=\"1\" class=\"dataframe\">\n",
       "  <thead>\n",
       "    <tr style=\"text-align: right;\">\n",
       "      <th></th>\n",
       "      <th>business_id</th>\n",
       "      <th>cool</th>\n",
       "      <th>date</th>\n",
       "      <th>funny</th>\n",
       "      <th>review_id</th>\n",
       "      <th>stars</th>\n",
       "      <th>text</th>\n",
       "      <th>useful</th>\n",
       "      <th>user_id</th>\n",
       "      <th>tokens</th>\n",
       "    </tr>\n",
       "  </thead>\n",
       "  <tbody>\n",
       "    <tr>\n",
       "      <th>0</th>\n",
       "      <td>nDuEqIyRc8YKS1q1fX0CZg</td>\n",
       "      <td>1</td>\n",
       "      <td>2015-03-31 16:50:30</td>\n",
       "      <td>0</td>\n",
       "      <td>eZs2tpEJtXPwawvHnHZIgQ</td>\n",
       "      <td>1</td>\n",
       "      <td>BEWARE!!! FAKE, FAKE, FAKE....We also own a sm...</td>\n",
       "      <td>10</td>\n",
       "      <td>n1LM36qNg4rqGXIcvVXv8w</td>\n",
       "      <td>[beware, fake, fake, fake, small, business, Lo...</td>\n",
       "    </tr>\n",
       "  </tbody>\n",
       "</table>\n",
       "</div>"
      ],
      "text/plain": [
       "              business_id  cool                date  funny  \\\n",
       "0  nDuEqIyRc8YKS1q1fX0CZg     1 2015-03-31 16:50:30      0   \n",
       "\n",
       "                review_id  stars  \\\n",
       "0  eZs2tpEJtXPwawvHnHZIgQ      1   \n",
       "\n",
       "                                                text  useful  \\\n",
       "0  BEWARE!!! FAKE, FAKE, FAKE....We also own a sm...      10   \n",
       "\n",
       "                  user_id                                             tokens  \n",
       "0  n1LM36qNg4rqGXIcvVXv8w  [beware, fake, fake, fake, small, business, Lo...  "
      ]
     },
     "execution_count": 11,
     "metadata": {},
     "output_type": "execute_result"
    }
   ],
   "source": [
    "yelp.head(1)"
   ]
  },
  {
   "cell_type": "markdown",
   "metadata": {},
   "source": [
    "## Part 2: Vector Representation\n",
    "<a id=\"#p2\"></a>\n",
    "1. Create a vector representation of the reviews\n",
    "2. Write a fake review and query for the 10 most similiar reviews, print the text of the reviews. Do you notice any patterns?\n",
    "    - Given the size of the dataset, it will probably be best to use a `NearestNeighbors` model for this. "
   ]
  },
  {
   "cell_type": "code",
   "execution_count": 12,
   "metadata": {},
   "outputs": [],
   "source": [
    "from sklearn.neighbors import NearestNeighbors\n",
    "from sklearn.feature_extraction.text import TfidfVectorizer"
   ]
  },
  {
   "cell_type": "code",
   "execution_count": 13,
   "metadata": {},
   "outputs": [
    {
     "name": "stdout",
     "output_type": "stream",
     "text": [
      "(10000, 5000) \n",
      "\n"
     ]
    },
    {
     "data": {
      "text/html": [
       "<div>\n",
       "<style scoped>\n",
       "    .dataframe tbody tr th:only-of-type {\n",
       "        vertical-align: middle;\n",
       "    }\n",
       "\n",
       "    .dataframe tbody tr th {\n",
       "        vertical-align: top;\n",
       "    }\n",
       "\n",
       "    .dataframe thead th {\n",
       "        text-align: right;\n",
       "    }\n",
       "</style>\n",
       "<table border=\"1\" class=\"dataframe\">\n",
       "  <thead>\n",
       "    <tr style=\"text-align: right;\">\n",
       "      <th></th>\n",
       "      <th>+</th>\n",
       "      <th>+ year</th>\n",
       "      <th>-PRON-</th>\n",
       "      <th>-the</th>\n",
       "      <th>1.5</th>\n",
       "      <th>1.50</th>\n",
       "      <th>1/2</th>\n",
       "      <th>1/2 hour</th>\n",
       "      <th>1/4</th>\n",
       "      <th>10/10</th>\n",
       "      <th>...</th>\n",
       "      <th>yup</th>\n",
       "      <th>z</th>\n",
       "      <th>zero</th>\n",
       "      <th>zero star</th>\n",
       "      <th>zone</th>\n",
       "      <th>zoo</th>\n",
       "      <th>zucchini</th>\n",
       "      <th>~</th>\n",
       "      <th>à</th>\n",
       "      <th>était</th>\n",
       "    </tr>\n",
       "  </thead>\n",
       "  <tbody>\n",
       "    <tr>\n",
       "      <th>0</th>\n",
       "      <td>0.0</td>\n",
       "      <td>0.0</td>\n",
       "      <td>0.0</td>\n",
       "      <td>0.0</td>\n",
       "      <td>0.0</td>\n",
       "      <td>0.0</td>\n",
       "      <td>0.0</td>\n",
       "      <td>0.0</td>\n",
       "      <td>0.0</td>\n",
       "      <td>0.0</td>\n",
       "      <td>...</td>\n",
       "      <td>0.0</td>\n",
       "      <td>0.0</td>\n",
       "      <td>0.0</td>\n",
       "      <td>0.0</td>\n",
       "      <td>0.0</td>\n",
       "      <td>0.0</td>\n",
       "      <td>0.0</td>\n",
       "      <td>0.0</td>\n",
       "      <td>0.0</td>\n",
       "      <td>0.0</td>\n",
       "    </tr>\n",
       "    <tr>\n",
       "      <th>1</th>\n",
       "      <td>0.0</td>\n",
       "      <td>0.0</td>\n",
       "      <td>0.0</td>\n",
       "      <td>0.0</td>\n",
       "      <td>0.0</td>\n",
       "      <td>0.0</td>\n",
       "      <td>0.0</td>\n",
       "      <td>0.0</td>\n",
       "      <td>0.0</td>\n",
       "      <td>0.0</td>\n",
       "      <td>...</td>\n",
       "      <td>0.0</td>\n",
       "      <td>0.0</td>\n",
       "      <td>0.0</td>\n",
       "      <td>0.0</td>\n",
       "      <td>0.0</td>\n",
       "      <td>0.0</td>\n",
       "      <td>0.0</td>\n",
       "      <td>0.0</td>\n",
       "      <td>0.0</td>\n",
       "      <td>0.0</td>\n",
       "    </tr>\n",
       "    <tr>\n",
       "      <th>2</th>\n",
       "      <td>0.0</td>\n",
       "      <td>0.0</td>\n",
       "      <td>0.0</td>\n",
       "      <td>0.0</td>\n",
       "      <td>0.0</td>\n",
       "      <td>0.0</td>\n",
       "      <td>0.0</td>\n",
       "      <td>0.0</td>\n",
       "      <td>0.0</td>\n",
       "      <td>0.0</td>\n",
       "      <td>...</td>\n",
       "      <td>0.0</td>\n",
       "      <td>0.0</td>\n",
       "      <td>0.0</td>\n",
       "      <td>0.0</td>\n",
       "      <td>0.0</td>\n",
       "      <td>0.0</td>\n",
       "      <td>0.0</td>\n",
       "      <td>0.0</td>\n",
       "      <td>0.0</td>\n",
       "      <td>0.0</td>\n",
       "    </tr>\n",
       "    <tr>\n",
       "      <th>3</th>\n",
       "      <td>0.0</td>\n",
       "      <td>0.0</td>\n",
       "      <td>0.0</td>\n",
       "      <td>0.0</td>\n",
       "      <td>0.0</td>\n",
       "      <td>0.0</td>\n",
       "      <td>0.0</td>\n",
       "      <td>0.0</td>\n",
       "      <td>0.0</td>\n",
       "      <td>0.0</td>\n",
       "      <td>...</td>\n",
       "      <td>0.0</td>\n",
       "      <td>0.0</td>\n",
       "      <td>0.0</td>\n",
       "      <td>0.0</td>\n",
       "      <td>0.0</td>\n",
       "      <td>0.0</td>\n",
       "      <td>0.0</td>\n",
       "      <td>0.0</td>\n",
       "      <td>0.0</td>\n",
       "      <td>0.0</td>\n",
       "    </tr>\n",
       "    <tr>\n",
       "      <th>4</th>\n",
       "      <td>0.0</td>\n",
       "      <td>0.0</td>\n",
       "      <td>0.0</td>\n",
       "      <td>0.0</td>\n",
       "      <td>0.0</td>\n",
       "      <td>0.0</td>\n",
       "      <td>0.0</td>\n",
       "      <td>0.0</td>\n",
       "      <td>0.0</td>\n",
       "      <td>0.0</td>\n",
       "      <td>...</td>\n",
       "      <td>0.0</td>\n",
       "      <td>0.0</td>\n",
       "      <td>0.0</td>\n",
       "      <td>0.0</td>\n",
       "      <td>0.0</td>\n",
       "      <td>0.0</td>\n",
       "      <td>0.0</td>\n",
       "      <td>0.0</td>\n",
       "      <td>0.0</td>\n",
       "      <td>0.0</td>\n",
       "    </tr>\n",
       "  </tbody>\n",
       "</table>\n",
       "<p>5 rows × 5000 columns</p>\n",
       "</div>"
      ],
      "text/plain": [
       "     +  + year  -PRON-  -the  1.5  1.50  1/2  1/2 hour  1/4  10/10  ...  yup  \\\n",
       "0  0.0     0.0     0.0   0.0  0.0   0.0  0.0       0.0  0.0    0.0  ...  0.0   \n",
       "1  0.0     0.0     0.0   0.0  0.0   0.0  0.0       0.0  0.0    0.0  ...  0.0   \n",
       "2  0.0     0.0     0.0   0.0  0.0   0.0  0.0       0.0  0.0    0.0  ...  0.0   \n",
       "3  0.0     0.0     0.0   0.0  0.0   0.0  0.0       0.0  0.0    0.0  ...  0.0   \n",
       "4  0.0     0.0     0.0   0.0  0.0   0.0  0.0       0.0  0.0    0.0  ...  0.0   \n",
       "\n",
       "     z  zero  zero star  zone  zoo  zucchini    ~    à  était  \n",
       "0  0.0   0.0        0.0   0.0  0.0       0.0  0.0  0.0    0.0  \n",
       "1  0.0   0.0        0.0   0.0  0.0       0.0  0.0  0.0    0.0  \n",
       "2  0.0   0.0        0.0   0.0  0.0       0.0  0.0  0.0    0.0  \n",
       "3  0.0   0.0        0.0   0.0  0.0       0.0  0.0  0.0    0.0  \n",
       "4  0.0   0.0        0.0   0.0  0.0       0.0  0.0  0.0    0.0  \n",
       "\n",
       "[5 rows x 5000 columns]"
      ]
     },
     "execution_count": 13,
     "metadata": {},
     "output_type": "execute_result"
    }
   ],
   "source": [
    "# Tunning Parameters\n",
    "\n",
    "# Instantiate vectorizer object\n",
    "tfidf = TfidfVectorizer(stop_words='english', \n",
    "                        ngram_range=(1,2),\n",
    "                        max_df= 0.5, # max data frequency\n",
    "                        min_df= 3,  # min data frequancy\n",
    "                        tokenizer=tokenize,\n",
    "                        max_features = 5000)\n",
    "\n",
    "# Create a vocabulary and get word counts per document\n",
    "dtm = tfidf.fit_transform(yelp['text'])\n",
    "\n",
    "\n",
    "# Get feature names to use as dataframe column headers\n",
    "dtm = pd.DataFrame(dtm.todense(), columns=tfidf.get_feature_names())\n",
    "\n",
    "# View Feature Matrix as DataFrame\n",
    "print(dtm.shape, '\\n')\n",
    "dtm.head()"
   ]
  },
  {
   "cell_type": "code",
   "execution_count": 14,
   "metadata": {},
   "outputs": [],
   "source": [
    "# Calculate Distance of TF-IDF Vectors\n",
    "from sklearn.metrics.pairwise import cosine_similarity\n",
    "\n",
    "dist_matrix  = cosine_similarity(dtm)"
   ]
  },
  {
   "cell_type": "code",
   "execution_count": 15,
   "metadata": {},
   "outputs": [
    {
     "name": "stdout",
     "output_type": "stream",
     "text": [
      "(10000, 10000) \n",
      "\n"
     ]
    },
    {
     "data": {
      "text/html": [
       "<div>\n",
       "<style scoped>\n",
       "    .dataframe tbody tr th:only-of-type {\n",
       "        vertical-align: middle;\n",
       "    }\n",
       "\n",
       "    .dataframe tbody tr th {\n",
       "        vertical-align: top;\n",
       "    }\n",
       "\n",
       "    .dataframe thead th {\n",
       "        text-align: right;\n",
       "    }\n",
       "</style>\n",
       "<table border=\"1\" class=\"dataframe\">\n",
       "  <thead>\n",
       "    <tr style=\"text-align: right;\">\n",
       "      <th></th>\n",
       "      <th>0</th>\n",
       "      <th>1</th>\n",
       "      <th>2</th>\n",
       "      <th>3</th>\n",
       "      <th>4</th>\n",
       "      <th>5</th>\n",
       "      <th>6</th>\n",
       "      <th>7</th>\n",
       "      <th>8</th>\n",
       "      <th>9</th>\n",
       "      <th>...</th>\n",
       "      <th>9990</th>\n",
       "      <th>9991</th>\n",
       "      <th>9992</th>\n",
       "      <th>9993</th>\n",
       "      <th>9994</th>\n",
       "      <th>9995</th>\n",
       "      <th>9996</th>\n",
       "      <th>9997</th>\n",
       "      <th>9998</th>\n",
       "      <th>9999</th>\n",
       "    </tr>\n",
       "  </thead>\n",
       "  <tbody>\n",
       "    <tr>\n",
       "      <th>0</th>\n",
       "      <td>1.000000</td>\n",
       "      <td>0.000000</td>\n",
       "      <td>0.017007</td>\n",
       "      <td>0.000000</td>\n",
       "      <td>0.005504</td>\n",
       "      <td>0.022682</td>\n",
       "      <td>0.002975</td>\n",
       "      <td>0.000000</td>\n",
       "      <td>0.002697</td>\n",
       "      <td>0.019357</td>\n",
       "      <td>...</td>\n",
       "      <td>0.000000</td>\n",
       "      <td>0.000000</td>\n",
       "      <td>0.004398</td>\n",
       "      <td>0.022724</td>\n",
       "      <td>0.006670</td>\n",
       "      <td>0.048361</td>\n",
       "      <td>0.000000</td>\n",
       "      <td>0.012361</td>\n",
       "      <td>0.005234</td>\n",
       "      <td>0.035867</td>\n",
       "    </tr>\n",
       "    <tr>\n",
       "      <th>1</th>\n",
       "      <td>0.000000</td>\n",
       "      <td>1.000000</td>\n",
       "      <td>0.046219</td>\n",
       "      <td>0.000000</td>\n",
       "      <td>0.060944</td>\n",
       "      <td>0.038910</td>\n",
       "      <td>0.000000</td>\n",
       "      <td>0.000000</td>\n",
       "      <td>0.000000</td>\n",
       "      <td>0.000000</td>\n",
       "      <td>...</td>\n",
       "      <td>0.019331</td>\n",
       "      <td>0.027330</td>\n",
       "      <td>0.000000</td>\n",
       "      <td>0.000000</td>\n",
       "      <td>0.000000</td>\n",
       "      <td>0.000000</td>\n",
       "      <td>0.000000</td>\n",
       "      <td>0.000000</td>\n",
       "      <td>0.000000</td>\n",
       "      <td>0.008371</td>\n",
       "    </tr>\n",
       "    <tr>\n",
       "      <th>2</th>\n",
       "      <td>0.017007</td>\n",
       "      <td>0.046219</td>\n",
       "      <td>1.000000</td>\n",
       "      <td>0.018009</td>\n",
       "      <td>0.014860</td>\n",
       "      <td>0.009513</td>\n",
       "      <td>0.029036</td>\n",
       "      <td>0.000000</td>\n",
       "      <td>0.030168</td>\n",
       "      <td>0.033347</td>\n",
       "      <td>...</td>\n",
       "      <td>0.029388</td>\n",
       "      <td>0.043488</td>\n",
       "      <td>0.000000</td>\n",
       "      <td>0.037268</td>\n",
       "      <td>0.015552</td>\n",
       "      <td>0.021093</td>\n",
       "      <td>0.003290</td>\n",
       "      <td>0.008024</td>\n",
       "      <td>0.013036</td>\n",
       "      <td>0.100651</td>\n",
       "    </tr>\n",
       "    <tr>\n",
       "      <th>3</th>\n",
       "      <td>0.000000</td>\n",
       "      <td>0.000000</td>\n",
       "      <td>0.018009</td>\n",
       "      <td>1.000000</td>\n",
       "      <td>0.018976</td>\n",
       "      <td>0.058933</td>\n",
       "      <td>0.019451</td>\n",
       "      <td>0.000000</td>\n",
       "      <td>0.019421</td>\n",
       "      <td>0.000000</td>\n",
       "      <td>...</td>\n",
       "      <td>0.000000</td>\n",
       "      <td>0.000000</td>\n",
       "      <td>0.017808</td>\n",
       "      <td>0.000000</td>\n",
       "      <td>0.000000</td>\n",
       "      <td>0.136344</td>\n",
       "      <td>0.000000</td>\n",
       "      <td>0.000000</td>\n",
       "      <td>0.000000</td>\n",
       "      <td>0.105617</td>\n",
       "    </tr>\n",
       "    <tr>\n",
       "      <th>4</th>\n",
       "      <td>0.005504</td>\n",
       "      <td>0.060944</td>\n",
       "      <td>0.014860</td>\n",
       "      <td>0.018976</td>\n",
       "      <td>1.000000</td>\n",
       "      <td>0.043882</td>\n",
       "      <td>0.000000</td>\n",
       "      <td>0.042813</td>\n",
       "      <td>0.012591</td>\n",
       "      <td>0.081586</td>\n",
       "      <td>...</td>\n",
       "      <td>0.013209</td>\n",
       "      <td>0.011933</td>\n",
       "      <td>0.022541</td>\n",
       "      <td>0.000000</td>\n",
       "      <td>0.133332</td>\n",
       "      <td>0.000000</td>\n",
       "      <td>0.021876</td>\n",
       "      <td>0.044227</td>\n",
       "      <td>0.007821</td>\n",
       "      <td>0.050101</td>\n",
       "    </tr>\n",
       "  </tbody>\n",
       "</table>\n",
       "<p>5 rows × 10000 columns</p>\n",
       "</div>"
      ],
      "text/plain": [
       "       0         1         2         3         4         5         6     \\\n",
       "0  1.000000  0.000000  0.017007  0.000000  0.005504  0.022682  0.002975   \n",
       "1  0.000000  1.000000  0.046219  0.000000  0.060944  0.038910  0.000000   \n",
       "2  0.017007  0.046219  1.000000  0.018009  0.014860  0.009513  0.029036   \n",
       "3  0.000000  0.000000  0.018009  1.000000  0.018976  0.058933  0.019451   \n",
       "4  0.005504  0.060944  0.014860  0.018976  1.000000  0.043882  0.000000   \n",
       "\n",
       "       7         8         9     ...      9990      9991      9992      9993  \\\n",
       "0  0.000000  0.002697  0.019357  ...  0.000000  0.000000  0.004398  0.022724   \n",
       "1  0.000000  0.000000  0.000000  ...  0.019331  0.027330  0.000000  0.000000   \n",
       "2  0.000000  0.030168  0.033347  ...  0.029388  0.043488  0.000000  0.037268   \n",
       "3  0.000000  0.019421  0.000000  ...  0.000000  0.000000  0.017808  0.000000   \n",
       "4  0.042813  0.012591  0.081586  ...  0.013209  0.011933  0.022541  0.000000   \n",
       "\n",
       "       9994      9995      9996      9997      9998      9999  \n",
       "0  0.006670  0.048361  0.000000  0.012361  0.005234  0.035867  \n",
       "1  0.000000  0.000000  0.000000  0.000000  0.000000  0.008371  \n",
       "2  0.015552  0.021093  0.003290  0.008024  0.013036  0.100651  \n",
       "3  0.000000  0.136344  0.000000  0.000000  0.000000  0.105617  \n",
       "4  0.133332  0.000000  0.021876  0.044227  0.007821  0.050101  \n",
       "\n",
       "[5 rows x 10000 columns]"
      ]
     },
     "execution_count": 15,
     "metadata": {},
     "output_type": "execute_result"
    }
   ],
   "source": [
    "# Turn it into a DataFrame\n",
    "df = pd.DataFrame(dist_matrix)\n",
    "print(df.shape, '\\n')\n",
    "df.head()"
   ]
  },
  {
   "cell_type": "code",
   "execution_count": 16,
   "metadata": {},
   "outputs": [
    {
     "data": {
      "text/plain": [
       "NearestNeighbors(algorithm='kd_tree', leaf_size=30, metric='minkowski',\n",
       "                 metric_params=None, n_jobs=None, n_neighbors=5, p=2,\n",
       "                 radius=1.0)"
      ]
     },
     "execution_count": 16,
     "metadata": {},
     "output_type": "execute_result"
    }
   ],
   "source": [
    "# Fit DTM to NearestNeighbor\n",
    "nn = NearestNeighbors(n_neighbors=5, algorithm='kd_tree')\n",
    "nn.fit(dtm)"
   ]
  },
  {
   "cell_type": "code",
   "execution_count": 17,
   "metadata": {},
   "outputs": [
    {
     "data": {
      "text/plain": [
       "(array([[0.        , 1.        , 1.        , 1.15975804, 1.21791624]]),\n",
       " array([[   0, 6204, 6311, 2131, 6132]], dtype=int64))"
      ]
     },
     "execution_count": 17,
     "metadata": {},
     "output_type": "execute_result"
    }
   ],
   "source": [
    "nn.kneighbors([dtm.iloc[0].values])"
   ]
  },
  {
   "cell_type": "code",
   "execution_count": 18,
   "metadata": {},
   "outputs": [
    {
     "data": {
      "text/plain": [
       "(array([[0.        , 1.        , 1.        , 1.21226135, 1.21919513]]),\n",
       " array([[  10, 6204, 6311, 5531, 3048]], dtype=int64))"
      ]
     },
     "execution_count": 18,
     "metadata": {},
     "output_type": "execute_result"
    }
   ],
   "source": [
    "# Query Using kneighbors \n",
    "nn.kneighbors([dtm.iloc[10]])"
   ]
  },
  {
   "cell_type": "code",
   "execution_count": 19,
   "metadata": {},
   "outputs": [
    {
     "data": {
      "text/plain": [
       "\"We popped in for dinner yesterday with no reservation, and despite the place being packed, the staff still managed to find us a table for two. The inside is cozy: exposed brick, fairy lights, and big red leather chairs. \\n\\nTHE GOOD:\\n- Fresh bread while waiting for our food - yum!\\n- We had the charcuterie board as our starter, which came with pears, walnuts, olives, and a side of honey to drizzle over everything. This was delicious - my favourite was the blue cheese, which was strong but not overly pungent. \\n- The star of the show was my entrée: the pear and gorgonzola pizza. It took me forever to decide on what to order - there are so many amazing pizza and pasta choices - but this did not disappoint. It had a thin crust, a very generous amount of cheese, and the pears added a really nice sweetness. They serve it with a pizza cutter, so you can cut the slices to your liking - I thought that was a nice touch (even though I was terrible at cutting it neatly). \\n- We were in good hands with our server. He was attentive without being overly chatty. \\n\\nTHE BAD: \\n- My boyfriend had the seafood fettuccine. It was good, but the sauce was a little on the watery side. We would recommend sticking to the pizzas or trying another pasta dish. \\n\\nOverall, Aprilé Bambina is an awesome spot in a neighbourhood that doesn't have many Italian options. I would definitely come again.\""
      ]
     },
     "execution_count": 19,
     "metadata": {},
     "output_type": "execute_result"
    }
   ],
   "source": [
    "yelp['text'][10]"
   ]
  },
  {
   "cell_type": "code",
   "execution_count": 20,
   "metadata": {},
   "outputs": [],
   "source": [
    "# fake review for testing\n",
    "fake_review = ['''\n",
    "Today was a very nice sunny day in the south side of Spain.\n",
    "It looks like the perfect weather to go to the beach or hit\n",
    "the pool. Sounds like a very good plan for this 3 days long\n",
    "weekend.\n",
    "''']\n",
    "\n",
    "# Query for Sim of Random doc to yelp\n",
    "new = tfidf.transform(fake_review)"
   ]
  },
  {
   "cell_type": "code",
   "execution_count": 21,
   "metadata": {},
   "outputs": [
    {
     "data": {
      "text/plain": [
       "(array([[1.        , 1.        , 1.19185108, 1.20921962, 1.23372376]]),\n",
       " array([[6204, 6311, 6392, 8590, 3227]], dtype=int64))"
      ]
     },
     "execution_count": 21,
     "metadata": {},
     "output_type": "execute_result"
    }
   ],
   "source": [
    "# looking at the arrays for queries requests\n",
    "nn.kneighbors(new.todense())"
   ]
  },
  {
   "cell_type": "code",
   "execution_count": 23,
   "metadata": {},
   "outputs": [
    {
     "data": {
      "text/plain": [
       "0       BEWARE!!! FAKE, FAKE, FAKE....We also own a sm...\n",
       "1       Came here for lunch Togo. Service was quick. S...\n",
       "2       I've been to Vegas dozens of times and had nev...\n",
       "3       We went here on a night where they closed off ...\n",
       "4       3.5 to 4 stars\\n\\nNot bad for the price, $12.9...\n",
       "                              ...                        \n",
       "9995    My family and I were hungry and this Subway is...\n",
       "9996    My wife and I came here with a a couple of fri...\n",
       "9997    The food was just OK and not anything to brag ...\n",
       "9998    Today's visit is great!! Love and enjoy Town S...\n",
       "9999    This is the absolute worst place I have ever s...\n",
       "Name: text, Length: 10000, dtype: object"
      ]
     },
     "execution_count": 23,
     "metadata": {},
     "output_type": "execute_result"
    }
   ],
   "source": [
    "yelp['text']"
   ]
  },
  {
   "cell_type": "code",
   "execution_count": 24,
   "metadata": {},
   "outputs": [
    {
     "data": {
      "text/plain": [
       "'HORRIBLE IS ALL I CAN SAY.. I am from MIAMI where wet willies is originally from on south beach. The vibe at the Charlotte Wet Willies is awful the drinks taste nothing like the way south beach wet willies taste. \\n\\nI would not recommend to anybody the place is an embarassing to have the Wet Willies name'"
      ]
     },
     "execution_count": 24,
     "metadata": {},
     "output_type": "execute_result"
    }
   ],
   "source": [
    "yelp['text'][4900]"
   ]
  },
  {
   "cell_type": "markdown",
   "metadata": {},
   "source": [
    "## Part 3: Classification\n",
    "<a id=\"#p3\"></a>\n",
    "Your goal in this section will be to predict `stars` from the review dataset. \n",
    "\n",
    "1. Create a piepline object with a sklearn `CountVectorizer` or `TfidfVector` and any sklearn classifier. Use that pipeline to estimate a model to predict `stars`. Use the Pipeline to predict a star rating for your fake review from Part 2. \n",
    "2. Tune the entire pipeline with a GridSearch"
   ]
  },
  {
   "cell_type": "code",
   "execution_count": 25,
   "metadata": {},
   "outputs": [],
   "source": [
    "# Import Statements\n",
    "from sklearn.pipeline import Pipeline\n",
    "from sklearn.ensemble import RandomForestClassifier\n",
    "from sklearn.model_selection import GridSearchCV\n",
    "from sklearn.ensemble import GradientBoostingClassifier\n",
    "from sklearn.feature_extraction.text import TfidfVectorizer\n"
   ]
  },
  {
   "cell_type": "code",
   "execution_count": 26,
   "metadata": {},
   "outputs": [],
   "source": [
    "# Difining pipe components\n",
    "vect = TfidfVectorizer(stop_words='english', ngram_range=(1,2))\n",
    "clf = RandomForestClassifier()\n",
    "\n",
    "pipe = Pipeline([('vect', vect), ('clf', clf)])\n",
    "\n",
    "\n",
    "# lsi = Pipeline([('vect', vect), ('svd', svd)])\n",
    "# vect = TfidfVectorizer(stop_words='english', ngram_range=(1,2))\n",
    "# # clf = RandomForestClassifier()\n",
    "# pipe = Pipeline([('lsi', lsi), ('clf', clf)])"
   ]
  },
  {
   "cell_type": "code",
   "execution_count": 27,
   "metadata": {},
   "outputs": [
    {
     "data": {
      "text/plain": [
       "Pipeline(memory=None,\n",
       "         steps=[('vect',\n",
       "                 TfidfVectorizer(analyzer='word', binary=False,\n",
       "                                 decode_error='strict',\n",
       "                                 dtype=<class 'numpy.float64'>,\n",
       "                                 encoding='utf-8', input='content',\n",
       "                                 lowercase=True, max_df=1.0, max_features=None,\n",
       "                                 min_df=1, ngram_range=(1, 2), norm='l2',\n",
       "                                 preprocessor=None, smooth_idf=True,\n",
       "                                 stop_words='english', strip_accents=None,\n",
       "                                 sublinear_tf=False,\n",
       "                                 token_patte...\n",
       "                 RandomForestClassifier(bootstrap=True, ccp_alpha=0.0,\n",
       "                                        class_weight=None, criterion='gini',\n",
       "                                        max_depth=None, max_features='auto',\n",
       "                                        max_leaf_nodes=None, max_samples=None,\n",
       "                                        min_impurity_decrease=0.0,\n",
       "                                        min_impurity_split=None,\n",
       "                                        min_samples_leaf=1, min_samples_split=2,\n",
       "                                        min_weight_fraction_leaf=0.0,\n",
       "                                        n_estimators=100, n_jobs=None,\n",
       "                                        oob_score=False, random_state=None,\n",
       "                                        verbose=0, warm_start=False))],\n",
       "         verbose=False)"
      ]
     },
     "execution_count": 27,
     "metadata": {},
     "output_type": "execute_result"
    }
   ],
   "source": [
    "import warnings # ignoring warnings for visualization\n",
    "warnings.filterwarnings('ignore')\n",
    "# train-test-split import\n",
    "from sklearn.model_selection import train_test_split\n",
    "# instantiating variables to columns\n",
    "X = yelp['text']\n",
    "y = yelp['stars']\n",
    "\n",
    "X_train, X_test, y_train, y_test = train_test_split(X, y, test_size=0.33, random_state=42,\n",
    "                                                   stratify=y)\n",
    "\n",
    "pipe.fit(X_train, y_train)"
   ]
  },
  {
   "cell_type": "code",
   "execution_count": 28,
   "metadata": {},
   "outputs": [
    {
     "name": "stdout",
     "output_type": "stream",
     "text": [
      "Star Rating of (fake_review):  [5]\n"
     ]
    }
   ],
   "source": [
    "# Start rating prediction review from fake review\n",
    "print('Star Rating of (fake_review): ', pipe.predict(fake_review))"
   ]
  },
  {
   "cell_type": "code",
   "execution_count": 29,
   "metadata": {},
   "outputs": [
    {
     "data": {
      "text/plain": [
       "0.5281818181818182"
      ]
     },
     "execution_count": 29,
     "metadata": {},
     "output_type": "execute_result"
    }
   ],
   "source": [
    "# looking at the accuracy score\n",
    "from sklearn.metrics import accuracy_score\n",
    "\n",
    "accuracy_score(pipe.predict(X_test), y_test)"
   ]
  },
  {
   "cell_type": "code",
   "execution_count": 30,
   "metadata": {},
   "outputs": [],
   "source": [
    "# Parameters to fit on the pipeline\n",
    "parameters = {\n",
    "    'vect__max_df': (0.75, 1.0),\n",
    "    'vect__min_df': (0.02, 0.05),\n",
    "    'clf__max_depth':(5,10,15,20),\n",
    "    'clf__n_estimators':(5, 10,)\n",
    "}"
   ]
  },
  {
   "cell_type": "code",
   "execution_count": 31,
   "metadata": {},
   "outputs": [
    {
     "name": "stdout",
     "output_type": "stream",
     "text": [
      "Fitting 5 folds for each of 32 candidates, totalling 160 fits\n"
     ]
    },
    {
     "name": "stderr",
     "output_type": "stream",
     "text": [
      "[Parallel(n_jobs=2)]: Using backend LokyBackend with 2 concurrent workers.\n",
      "[Parallel(n_jobs=2)]: Done  46 tasks      | elapsed:  1.1min\n",
      "[Parallel(n_jobs=2)]: Done 160 out of 160 | elapsed:  3.8min finished\n"
     ]
    },
    {
     "data": {
      "text/plain": [
       "GridSearchCV(cv=5, error_score=nan,\n",
       "             estimator=Pipeline(memory=None,\n",
       "                                steps=[('vect',\n",
       "                                        TfidfVectorizer(analyzer='word',\n",
       "                                                        binary=False,\n",
       "                                                        decode_error='strict',\n",
       "                                                        dtype=<class 'numpy.float64'>,\n",
       "                                                        encoding='utf-8',\n",
       "                                                        input='content',\n",
       "                                                        lowercase=True,\n",
       "                                                        max_df=1.0,\n",
       "                                                        max_features=None,\n",
       "                                                        min_df=1,\n",
       "                                                        ngram_range=(1, 2),\n",
       "                                                        norm='l2',\n",
       "                                                        preprocessor=None,\n",
       "                                                        smooth_idf=True,\n",
       "                                                        stop_words='english',\n",
       "                                                        strip...\n",
       "                                                               min_weight_fraction_leaf=0.0,\n",
       "                                                               n_estimators=100,\n",
       "                                                               n_jobs=None,\n",
       "                                                               oob_score=False,\n",
       "                                                               random_state=None,\n",
       "                                                               verbose=0,\n",
       "                                                               warm_start=False))],\n",
       "                                verbose=False),\n",
       "             iid='deprecated', n_jobs=2,\n",
       "             param_grid={'clf__max_depth': (5, 10, 15, 20),\n",
       "                         'clf__n_estimators': (5, 10),\n",
       "                         'vect__max_df': (0.75, 1.0),\n",
       "                         'vect__min_df': (0.02, 0.05)},\n",
       "             pre_dispatch='2*n_jobs', refit=True, return_train_score=False,\n",
       "             scoring=None, verbose=1)"
      ]
     },
     "execution_count": 31,
     "metadata": {},
     "output_type": "execute_result"
    }
   ],
   "source": [
    "# Fitting the pipeline into GridSearchCV\n",
    "grid_search = GridSearchCV(pipe,parameters, cv=5, n_jobs=2, verbose=1)\n",
    "grid_search.fit(X_train, y_train)"
   ]
  },
  {
   "cell_type": "code",
   "execution_count": 32,
   "metadata": {},
   "outputs": [
    {
     "data": {
      "text/plain": [
       "0.5318181818181819"
      ]
     },
     "execution_count": 32,
     "metadata": {},
     "output_type": "execute_result"
    }
   ],
   "source": [
    "# the best estimator accuracy score\n",
    "accuracy_score(grid_search.best_estimator_.predict(X_test), y_test)"
   ]
  },
  {
   "cell_type": "markdown",
   "metadata": {},
   "source": [
    "## Part 4: Topic Modeling\n",
    "\n",
    "Let's find out what those yelp reviews are saying! :D\n",
    "\n",
    "1. Estimate a LDA topic model of the review text\n",
    "    - Keep the `iterations` parameter at or below 5 to reduce run time\n",
    "    - The `workers` parameter should match the number of physical cores on your machine.\n",
    "2. Create 1-2 visualizations of the results\n",
    "    - You can use the most important 3 words of a topic in relevant visualizations. Refer to yesterday's notebook to extract. \n",
    "3. In markdown, write 1-2 paragraphs of analysis on the results of your topic model\n",
    "\n",
    "__*Note*__: You can pass the DataFrame column of text reviews to gensim. You do not have to use a generator."
   ]
  },
  {
   "cell_type": "code",
   "execution_count": 33,
   "metadata": {
    "collapsed": false,
    "inputHidden": false,
    "jupyter": {
     "outputs_hidden": false
    },
    "outputHidden": false
   },
   "outputs": [],
   "source": [
    "# imports for topic models\n",
    "from gensim.models import LdaMulticore\n",
    "from gensim.corpora import Dictionary\n",
    "import gensim\n",
    "from gensim import corpora"
   ]
  },
  {
   "cell_type": "markdown",
   "metadata": {},
   "source": [
    "Learn the vocubalary of the yelp data:"
   ]
  },
  {
   "cell_type": "code",
   "execution_count": 34,
   "metadata": {},
   "outputs": [],
   "source": [
    "# Dictionary representation of topics\n",
    "id2word = corpora.Dictionary(yelp['tokens'])"
   ]
  },
  {
   "cell_type": "code",
   "execution_count": 35,
   "metadata": {},
   "outputs": [
    {
     "data": {
      "text/plain": [
       "11"
      ]
     },
     "execution_count": 35,
     "metadata": {},
     "output_type": "execute_result"
    }
   ],
   "source": [
    "# count of the word 'fake'\n",
    "id2word.token2id['fake']"
   ]
  },
  {
   "cell_type": "code",
   "execution_count": 36,
   "metadata": {},
   "outputs": [],
   "source": [
    "# filtering parameters for corpus\n",
    "id2word.filter_extremes(no_below=4, no_above=0.85)"
   ]
  },
  {
   "cell_type": "markdown",
   "metadata": {},
   "source": [
    "Create a bag of words representation of the entire corpus"
   ]
  },
  {
   "cell_type": "code",
   "execution_count": 37,
   "metadata": {
    "collapsed": false,
    "inputHidden": false,
    "jupyter": {
     "outputs_hidden": false
    },
    "outputHidden": false
   },
   "outputs": [],
   "source": [
    "# creating a corpus of the tokenized topics\n",
    "corpus = [id2word.doc2bow(text) for text in yelp['tokens']]"
   ]
  },
  {
   "cell_type": "code",
   "execution_count": 38,
   "metadata": {},
   "outputs": [
    {
     "data": {
      "text/plain": [
       "[(18, 1),\n",
       " (31, 1),\n",
       " (65, 1),\n",
       " (131, 1),\n",
       " (153, 1),\n",
       " (230, 1),\n",
       " (257, 2),\n",
       " (325, 1),\n",
       " (326, 1),\n",
       " (442, 1),\n",
       " (452, 1),\n",
       " (477, 1),\n",
       " (714, 1),\n",
       " (840, 1),\n",
       " (1009, 1),\n",
       " (1026, 1),\n",
       " (1096, 1),\n",
       " (1108, 1),\n",
       " (1161, 1),\n",
       " (1284, 1),\n",
       " (1285, 1),\n",
       " (1492, 1),\n",
       " (1612, 1),\n",
       " (2054, 1),\n",
       " (2698, 1),\n",
       " (4776, 1),\n",
       " (4777, 1),\n",
       " (4778, 1)]"
      ]
     },
     "execution_count": 38,
     "metadata": {},
     "output_type": "execute_result"
    }
   ],
   "source": [
    "corpus[812]"
   ]
  },
  {
   "cell_type": "code",
   "execution_count": 39,
   "metadata": {},
   "outputs": [
    {
     "data": {
      "text/plain": [
       "'nice'"
      ]
     },
     "execution_count": 39,
     "metadata": {},
     "output_type": "execute_result"
    }
   ],
   "source": [
    "id2word[77]"
   ]
  },
  {
   "cell_type": "markdown",
   "metadata": {},
   "source": [
    "Your LDA model should be ready for estimation: "
   ]
  },
  {
   "cell_type": "code",
   "execution_count": 40,
   "metadata": {
    "collapsed": false,
    "inputHidden": false,
    "jupyter": {
     "outputs_hidden": false
    },
    "outputHidden": false
   },
   "outputs": [],
   "source": [
    "lda = LdaMulticore(corpus=corpus,\n",
    "                   id2word=id2word,\n",
    "                   iterations=5,\n",
    "                   workers=4,\n",
    "                   num_topics = 10\n",
    "                  )"
   ]
  },
  {
   "cell_type": "code",
   "execution_count": 41,
   "metadata": {},
   "outputs": [
    {
     "data": {
      "text/plain": [
       "[(0,\n",
       "  '0.009*\"time\" + 0.007*\"try\" + 0.006*\"restaurant\" + 0.005*\"order\" + 0.005*\"love\" + 0.005*\"eat\" + 0.005*\"little\" + 0.005*\"good\" + 0.005*\"ask\" + 0.005*\"nice\"'),\n",
       " (1,\n",
       "  '0.007*\"time\" + 0.007*\"try\" + 0.005*\"price\" + 0.005*\"staff\" + 0.005*\"love\" + 0.004*\"tell\" + 0.004*\"take\" + 0.004*\"order\" + 0.004*\"find\" + 0.004*\"go\"'),\n",
       " (2,\n",
       "  '0.014*\"time\" + 0.008*\"try\" + 0.006*\"love\" + 0.006*\"order\" + 0.006*\"look\" + 0.005*\"good\" + 0.005*\"experience\" + 0.005*\"tell\" + 0.005*\"price\" + 0.004*\"definitely\"'),\n",
       " (3,\n",
       "  '0.009*\"time\" + 0.007*\"try\" + 0.007*\"love\" + 0.006*\"wait\" + 0.006*\"nice\" + 0.005*\"restaurant\" + 0.005*\"order\" + 0.005*\"price\" + 0.004*\"think\" + 0.004*\"amazing\"'),\n",
       " (4,\n",
       "  '0.016*\"time\" + 0.006*\"try\" + 0.005*\"love\" + 0.005*\"look\" + 0.005*\"know\" + 0.005*\"good\" + 0.005*\"go\" + 0.004*\"recommend\" + 0.004*\"need\" + 0.004*\"work\"'),\n",
       " (5,\n",
       "  '0.009*\"time\" + 0.006*\"try\" + 0.005*\"love\" + 0.005*\"look\" + 0.005*\"staff\" + 0.005*\"order\" + 0.005*\"restaurant\" + 0.005*\"day\" + 0.004*\"ask\" + 0.004*\"take\"'),\n",
       " (6,\n",
       "  '0.013*\"time\" + 0.006*\"try\" + 0.006*\"look\" + 0.006*\"wait\" + 0.005*\"love\" + 0.005*\"know\" + 0.005*\"nice\" + 0.005*\"order\" + 0.005*\"take\" + 0.004*\"day\"'),\n",
       " (7,\n",
       "  '0.007*\"love\" + 0.006*\"nice\" + 0.006*\"time\" + 0.006*\"look\" + 0.005*\"order\" + 0.005*\"try\" + 0.005*\"wait\" + 0.005*\"go\" + 0.004*\"work\" + 0.004*\"find\"'),\n",
       " (8,\n",
       "  '0.010*\"time\" + 0.006*\"eat\" + 0.005*\"price\" + 0.005*\"tell\" + 0.005*\"restaurant\" + 0.005*\"work\" + 0.004*\"staff\" + 0.004*\"look\" + 0.004*\"need\" + 0.004*\"love\"'),\n",
       " (9,\n",
       "  '0.008*\"time\" + 0.006*\"try\" + 0.006*\"nice\" + 0.005*\"recommend\" + 0.005*\"know\" + 0.005*\"ask\" + 0.005*\"eat\" + 0.005*\"good\" + 0.005*\"look\" + 0.005*\"price\"')]"
      ]
     },
     "execution_count": 41,
     "metadata": {},
     "output_type": "execute_result"
    }
   ],
   "source": [
    "lda.print_topics()"
   ]
  },
  {
   "cell_type": "markdown",
   "metadata": {},
   "source": [
    "Create 1-2 visualizations of the results"
   ]
  },
  {
   "cell_type": "code",
   "execution_count": 42,
   "metadata": {
    "collapsed": false,
    "inputHidden": false,
    "jupyter": {
     "outputs_hidden": false
    },
    "outputHidden": false
   },
   "outputs": [],
   "source": [
    "# removing extra',*,^ and \"\" from our topics\n",
    "words = [re.findall(r'\"[^\"]*\"', t[1]) for t in lda.print_topics(20)]"
   ]
  },
  {
   "cell_type": "code",
   "execution_count": 43,
   "metadata": {},
   "outputs": [],
   "source": [
    "# joining topics and separatuing with ,\n",
    "topic_labels = [', '.join(t[0:5]) for t in words]"
   ]
  },
  {
   "cell_type": "code",
   "execution_count": 44,
   "metadata": {},
   "outputs": [
    {
     "name": "stdout",
     "output_type": "stream",
     "text": [
      "------ Topic 0 ------\n",
      "\"time\", \"try\", \"restaurant\", \"order\", \"love\"\n",
      "\n",
      "------ Topic 1 ------\n",
      "\"time\", \"try\", \"price\", \"staff\", \"love\"\n",
      "\n",
      "------ Topic 2 ------\n",
      "\"time\", \"try\", \"love\", \"order\", \"look\"\n",
      "\n",
      "------ Topic 3 ------\n",
      "\"time\", \"try\", \"love\", \"wait\", \"nice\"\n",
      "\n",
      "------ Topic 4 ------\n",
      "\"time\", \"try\", \"love\", \"look\", \"know\"\n",
      "\n",
      "------ Topic 5 ------\n",
      "\"time\", \"try\", \"love\", \"look\", \"staff\"\n",
      "\n",
      "------ Topic 6 ------\n",
      "\"time\", \"try\", \"look\", \"wait\", \"love\"\n",
      "\n",
      "------ Topic 7 ------\n",
      "\"love\", \"nice\", \"time\", \"look\", \"order\"\n",
      "\n",
      "------ Topic 8 ------\n",
      "\"time\", \"eat\", \"price\", \"tell\", \"restaurant\"\n",
      "\n",
      "------ Topic 9 ------\n",
      "\"time\", \"try\", \"nice\", \"recommend\", \"know\"\n",
      "\n"
     ]
    }
   ],
   "source": [
    "for id, t in enumerate(topic_labels): \n",
    "    print(f\"------ Topic {id} ------\")\n",
    "    print(t, end=\"\\n\\n\")"
   ]
  },
  {
   "cell_type": "code",
   "execution_count": 45,
   "metadata": {},
   "outputs": [],
   "source": [
    "import pyLDAvis.gensim\n",
    "\n",
    "pyLDAvis.enable_notebook()"
   ]
  },
  {
   "cell_type": "code",
   "execution_count": 46,
   "metadata": {},
   "outputs": [
    {
     "name": "stderr",
     "output_type": "stream",
     "text": [
      "C:\\Users\\lomopa\\anaconda3\\envs\\U4-S1-NLP\\lib\\site-packages\\ipykernel\\ipkernel.py:287: DeprecationWarning: `should_run_async` will not call `transform_cell` automatically in the future. Please pass the result to `transformed_cell` argument and any exception that happen during thetransform in `preprocessing_exc_tuple` in IPython 7.17 and above.\n",
      "  and should_run_async(code)\n"
     ]
    },
    {
     "data": {
      "text/html": [
       "\n",
       "<link rel=\"stylesheet\" type=\"text/css\" href=\"https://cdn.rawgit.com/bmabey/pyLDAvis/files/ldavis.v1.0.0.css\">\n",
       "\n",
       "\n",
       "<div id=\"ldavis_el1542412527168660801730049033\"></div>\n",
       "<script type=\"text/javascript\">\n",
       "\n",
       "var ldavis_el1542412527168660801730049033_data = {\"mdsDat\": {\"x\": [-0.004063321860491077, 0.0027454491814331078, -0.005165569814929904, -0.0005312333966069754, 0.000729045322290586, -0.002595719168769634, 0.0003688262813312756, 0.001218858407922977, 0.002912027728272262, 0.004381637319547396], \"y\": [0.0015598192692561131, 0.003965549297165791, -0.0036017753885857874, 0.001038051009774907, -0.0017183753672743486, 0.00040923102614918744, 0.003664735759377843, 0.0019146055229737574, -0.005249082658000005, -0.001982758470837456], \"topics\": [1, 2, 3, 4, 5, 6, 7, 8, 9, 10], \"cluster\": [1, 1, 1, 1, 1, 1, 1, 1, 1, 1], \"Freq\": [10.41708288336288, 10.236128114176251, 10.187052830752643, 10.16657964152334, 9.98284268323612, 9.982379929157185, 9.880726027165256, 9.842485248998505, 9.7987645002332, 9.505958141394624]}, \"tinfo\": {\"Term\": [\"time\", \"eat\", \"nice\", \"ask\", \"wait\", \"recommend\", \"tell\", \"restaurant\", \"know\", \"try\", \"cheese\", \"staff\", \"right\", \"need\", \"friend\", \"money\", \"well\", \"table\", \"take\", \"day\", \"store\", \"room\", \"place\", \"year\", \"look\", \"minute\", \"give\", \"offer\", \"order\", \"love\", \"DR\", \"Lemonade\", \"nite\", \"realistic\", \"Guys\", \"dank\", \"worthwhile\", \"scorpion\", \"cuban\", \"stocked\", \"sammie\", \"money\", \"stingy\", \"instrument\", \"spray\", \"Roberto\", \"Wellington\", \"laptop\", \"lord\", \"dentist\", \"diabetes\", \"Calvin\", \"puck\", \"mission\", \"nom\", \"Animal\", \"strap\", \"curtesy\", \"teenage\", \"advertise\", \"time\", \"friend\", \"unique\", \"lobster\", \"ice\", \"colour\", \"count\", \"play\", \"offer\", \"hardly\", \"reasonable\", \"dog\", \"need\", \"way\", \"coffee\", \"hear\", \"recommend\", \"let\", \"get\", \"town\", \"know\", \"start\", \"go\", \"excellent\", \"return\", \"store\", \"new\", \"definitely\", \"work\", \"sure\", \"large\", \"friendly\", \"good\", \"delicious\", \"look\", \"chicken\", \"leave\", \"find\", \"car\", \"people\", \"right\", \"love\", \"think\", \"try\", \"price\", \"menu\", \"experience\", \"tell\", \"drink\", \"restaurant\", \"day\", \"eat\", \"staff\", \"order\", \"aim\\u00e9\", \"Je\", \"plut\\u00f4t\", \"malgr\\u00e9\", \"medallion\", \"juste\", \"Prime\", \"fav\", \"termite\", \"Lakewood\", \"nonexistent\", \"village\", \"pas\", \"Italy\", \"ole\", \"4:30\", \"Jon\", \"Jamie\", \"mart\", \"definition\", \"Fri\", \"multiple\", \"hut\", \"Sally\", \"cowboy\", \"Mall\", \"Beer\", \"soon\", \"stench\", \"Jungle\", \"place\", \"far\", \"taco\", \"restaurant\", \"soup\", \"pizza\", \"delicious\", \"little\", \"waiter\", \"course\", \"hard\", \"ask\", \"expect\", \"eat\", \"warm\", \"ok\", \"bread\", \"bar\", \"small\", \"order\", \"sandwich\", \"open\", \"try\", \"good\", \"fresh\", \"friendly\", \"well\", \"go\", \"drink\", \"feel\", \"time\", \"new\", \"bad\", \"chicken\", \"know\", \"nice\", \"think\", \"love\", \"room\", \"recommend\", \"take\", \"work\", \"find\", \"look\", \"definitely\", \"menu\", \"price\", \"Michelle\", \"obsessed\", \"dulce\", \"pierogi\", \"garment\", \"distant\", \"proud\", \"rapide\", \"dart\", \"supermarket\", \"shoyu\", \"Bangkok\", \"bonne\", \"it-\", \"pan\", \"hiking\", \"aid\", \"y\", \"tan\", \"nail\", \"soothing\", \"din\", \"De\", \"survey\", \"satisfactory\", \"beautifully\", \"speechless\", \"abordable\", \"pushy\", \"mere\", \"Sunday\", \"confident\", \"Ohio\", \"Saturday\", \"crowd\", \"table\", \"fast\", \"friend\", \"give\", \"interesting\", \"time\", \"experience\", \"try\", \"people\", \"card\", \"par\", \"tell\", \"definitely\", \"good\", \"order\", \"worth\", \"dish\", \"different\", \"close\", \"look\", \"love\", \"old\", \"star\", \"menu\", \"fry\", \"area\", \"drink\", \"hour\", \"night\", \"bad\", \"price\", \"wait\", \"amazing\", \"store\", \"feel\", \"staff\", \"walk\", \"day\", \"meal\", \"think\", \"taste\", \"thing\", \"nice\", \"find\", \"know\", \"restaurant\", \"little\", \"Bobbie\", \"acrobatic\", \"fingernail\", \"somebody\", \"stubborn\", \"martial\", \"diarrhea\", \"trunk\", \"groom\", \"Dragon\", \"vape\", \"raise\", \"nickel\", \"grooming\", \"stat\", \"blizzard\", \"visual\", \"Charlie\", \"eyebrow\", \"griddle\", \"reptile\", \"consultation\", \"Steak\", \"mongolian\", \"cheese\", \"poisoning\", \"sole\", \"Margherita\", \"boom\", \"spendy\", \"ton\", \"belly\", \"solid\", \"family\", \"real\", \"read\", \"fry\", \"super\", \"Yelp\", \"buy\", \"fish\", \"right\", \"Dr.\", \"lot\", \"dog\", \"follow\", \"staff\", \"day\", \"thing\", \"ask\", \"product\", \"little\", \"chocolate\", \"take\", \"restaurant\", \"meat\", \"store\", \"try\", \"amazing\", \"find\", \"need\", \"look\", \"tell\", \"go\", \"love\", \"order\", \"time\", \"experience\", \"recommend\", \"well\", \"know\", \"way\", \"people\", \"work\", \"price\", \"wait\", \"eat\", \"definitely\", \"nice\", \"gumbo\", \"bi\\u00e8res\", \"Siam\", \"mixer\", \"carpaccio\", \"milkshake\", \"poisoning\", \"delicacy\", \"smoothie\", \"Jungle\", \"inspection\", \"zoo\", \"Seattle\", \"to\", \"stench\", \"playing\", \"Pastor\", \"remake\", \"avons\", \"panang\", \"brownie\", \"sooooo\", \"2.50\", \"engage\", \"Patty\", \"Picasso\", \"tastey\", \"flour\", \"bikini\", \"rum\", \"gem\", \"Road\", \"not\", \"well\", \"glad\", \"wait\", \"better\", \"husband\", \"cheese\", \"average\", \"area\", \"roll\", \"actually\", \"greasy\", \"wrap\", \"plan\", \"nice\", \"feel\", \"love\", \"cream\", \"fresh\", \"amazing\", \"bowl\", \"restaurant\", \"think\", \"try\", \"fry\", \"inside\", \"stop\", \"lunch\", \"need\", \"experience\", \"order\", \"menu\", \"price\", \"new\", \"table\", \"drink\", \"time\", \"day\", \"way\", \"know\", \"take\", \"work\", \"chicken\", \"good\", \"staff\", \"find\", \"eat\", \"definitely\", \"people\", \"look\", \"Leo\", \"poker\", \"defeat\", \"technique\", \"acrobatic\", \"Vanessa\", \"tournament\", \"franchise\", \"grouper\", \"wolf\", \"ciabatta\", \"Westgate\", \"library\", \"zombie\", \"gf\", \"Store\", \"advanced\", \"gps\", \"definetly\", \"crush\", \"BMW\", \"cancellation\", \"barbeque\", \"tastey\", \"Mont\", \"devil\", \"brim\", \"Subway\", \"study\", \"apron\", \"fan\", \"Cali\", \"milkshake\", \"dine\", \"frequently\", \"shop\", \"breakfast\", \"dessert\", \"typical\", \"sister\", \"wait\", \"broth\", \"time\", \"know\", \"pedicure\", \"display\", \"Vegas\", \"customer\", \"beer\", \"store\", \"lunch\", \"take\", \"pick\", \"chocolate\", \"look\", \"right\", \"month\", \"choose\", \"day\", \"ask\", \"option\", \"house\", \"check\", \"drink\", \"taste\", \"kind\", \"highly\", \"nice\", \"lot\", \"walk\", \"need\", \"staff\", \"sauce\", \"visit\", \"friendly\", \"try\", \"think\", \"definitely\", \"love\", \"order\", \"find\", \"eat\", \"work\", \"way\", \"go\", \"people\", \"price\", \"amazing\", \"experience\", \"tell\", \"restaurant\", \"ghetto\", \"costly\", \"Sara\", \"cat\", \"sage\", \"kiosk\", \"poison\", \"bouncer\", \"Arena\", \"yelp\", \"Judy\", \"compliment\", \"unfriendly\", \"bypass\", \"Bob\", \"infest\", \"Angeles\", \"-1\", \"proficient\", \"Shawn\", \"incident\", \"zoom\", \"Roti\", \"rental\", \"a.m.\", \"eyelash\", \"chalkboard\", \"Frank\", \"risk\", \"expense\", \"warranty\", \"Alex\", \"juicy\", \"contract\", \"eat\", \"money\", \"technician\", \"safe\", \"happy\", \"future\", \"stay\", \"second\", \"phone\", \"place\", \"bed\", \"customer\", \"tell\", \"small\", \"young\", \"mix\", \"company\", \"need\", \"fee\", \"break\", \"work\", \"line\", \"price\", \"hour\", \"friendly\", \"restaurant\", \"clean\", \"staff\", \"time\", \"bar\", \"spot\", \"take\", \"come\", \"day\", \"find\", \"pay\", \"people\", \"room\", \"thing\", \"lot\", \"look\", \"recommend\", \"go\", \"order\", \"know\", \"good\", \"little\", \"love\", \"nice\", \"bad\", \"try\", \"amazing\", \"think\", \"Craig\", \"Vanessa\", \"tastey\", \"tikki\", \"weigh\", \"solo\", \"brain\", \"Bella\", \"kit\", \"Toni\", \"O\", \"refill\", \"aloo\", \"upsetting\", \"yr\", \"excite\", \"P.S.\", \"TV\", \"effectively\", \"dad\", \"BEST\", \"President\", \"Christine\", \"Serrano\", \"powerful\", \"diamond\", \"ihop\", \"unbeatable\", \"Friendly\", \"teacher\", \"slow\", \"recommend\", \"pasta\", \"buffet\", \"consistently\", \"ambience\", \"kid\", \"help\", \"glass\", \"ask\", \"prepare\", \"offer\", \"eat\", \"favorite\", \"give\", \"today\", \"mall\", \"crowd\", \"know\", \"nice\", \"perfect\", \"job\", \"fun\", \"day\", \"plate\", \"pretty\", \"ok\", \"lunch\", \"start\", \"good\", \"come\", \"cook\", \"free\", \"night\", \"friendly\", \"drink\", \"price\", \"minute\", \"sit\", \"menu\", \"look\", \"try\", \"server\", \"time\", \"room\", \"delicious\", \"staff\", \"love\", \"think\", \"bad\", \"new\", \"people\", \"lot\", \"restaurant\", \"need\", \"little\", \"go\", \"wait\", \"order\", \"work\", \"definitely\", \"Photography\", \"resource\", \"Lemonade\", \"Ian\", \"v\", \"tiger\", \"12.99\", \"Class\", \"marriage\", \"cover\", \"pierogie\", \"ATM\", \"flush\", \"Nancy\", \"c\", \"heavenly\", \"Daniel\", \"20.00\", \"poker\", \"brain\", \"mocha\", \"gaucho\", \"Veggie\", \"dim\", \"pastor\", \"aged\", \"piece\", \"nosh\", \"ink\", \"Maria\", \"boot\", \"downtown\", \"italian\", \"bath\", \"morning\", \"busy\", \"minor\", \"minute\", \"terrible\", \"girl\", \"nice\", \"week\", \"beat\", \"old\", \"want\", \"curry\", \"pay\", \"couple\", \"call\", \"love\", \"enjoy\", \"walk\", \"salad\", \"get\", \"thank\", \"spend\", \"sit\", \"look\", \"wait\", \"go\", \"fun\", \"special\", \"work\", \"order\", \"away\", \"find\", \"right\", \"chicken\", \"definitely\", \"thing\", \"think\", \"way\", \"experience\", \"menu\", \"good\", \"amazing\", \"tell\", \"try\", \"price\", \"time\", \"take\", \"little\", \"friendly\", \"ask\", \"know\", \"restaurant\", \"drink\", \"wheelchair\", \"V\", \"Brooklyn\", \"aim\\u00e9\", \"bike\", \"rotation\", \"Secret\", \"M.\", \"stadium\", \"Holly\", \"Mongolian\", \"uncooked\", \"ghetto\", \"barrier\", \"washing\", \"jump\", \"butcher\", \"bison\", \"Fountain\", \"catfish\", \"appal\", \"crime\", \"las\", \"push\", \"USA\", \"despite\", \"rub\", \"watering\", \"Lakes\", \"dated\", \"building\", \"point\", \"long\", \"maybe\", \"year\", \"problem\", \"fall\", \"water\", \"room\", \"happen\", \"salad\", \"ago\", \"previous\", \"staff\", \"star\", \"pho\", \"sushi\", \"take\", \"return\", \"leave\", \"tell\", \"price\", \"live\", \"table\", \"try\", \"fresh\", \"line\", \"bit\", \"find\", \"go\", \"seat\", \"little\", \"pretty\", \"ask\", \"offer\", \"end\", \"chicken\", \"order\", \"work\", \"feel\", \"time\", \"experience\", \"love\", \"sauce\", \"wait\", \"new\", \"good\", \"restaurant\", \"look\", \"nice\", \"bad\", \"definitely\"], \"Freq\": [4247.0, 1545.0, 1803.0, 1504.0, 1679.0, 1408.0, 1519.0, 1678.0, 1676.0, 2544.0, 766.0, 1569.0, 1091.0, 1362.0, 1073.0, 485.0, 940.0, 1145.0, 1485.0, 1511.0, 809.0, 1130.0, 566.0, 994.0, 1962.0, 1052.0, 1008.0, 639.0, 1866.0, 2226.0, 1.9488389567041355, 1.3811251637980777, 1.9369615856383544, 0.925499103714789, 1.4014880953778657, 1.8429079219126405, 1.931331502987791, 4.200623441931306, 0.8767478415762564, 1.3102370128813718, 1.4226548990670778, 94.638511482916, 1.1173549609461155, 1.8302160210452065, 9.480338848938583, 1.1104548105165077, 0.9483375977762217, 5.352294291084524, 1.079997085261568, 11.03293577973451, 0.9501289520898628, 0.6676464277420282, 1.054853003236461, 1.17146782592951, 3.674042855451034, 1.6794736221628894, 2.077318063443832, 0.916106855707505, 0.8836554367173476, 7.59279322062614, 707.957242750835, 178.91062427346313, 30.49246745083599, 22.46472503343479, 73.15711278065186, 3.5880597291654808, 9.046503694462956, 40.798558651344315, 94.12066299444791, 7.18395160827289, 39.736302705374285, 55.38478657396363, 183.59728048486767, 156.34281804079265, 87.62907018104151, 47.07696752786984, 186.33477769533965, 81.30227287410554, 111.42680920459263, 57.10803259195582, 216.59471937866894, 104.36066396467703, 196.81697158684997, 89.86062542603405, 74.29589597220833, 105.98029213728366, 137.87332328542743, 175.49942048337095, 181.16367545675783, 120.00793160250618, 75.51522122470607, 166.17718473710627, 197.08041970797353, 142.0319096545935, 216.77364823888072, 142.26579709901318, 127.46035173186542, 180.4273166929868, 90.09467336276023, 156.91189366734244, 130.66497183118162, 225.58401383509454, 162.30821676579282, 243.0854791822526, 176.38156644606104, 142.16071476133078, 153.97328956605386, 156.36687182522968, 144.95174618679047, 152.98059449649116, 144.55718588202362, 142.7146740187619, 140.5071023428223, 141.4393219051411, 1.5844082149037364, 1.821284228612947, 1.8384539871969845, 1.6008367320039556, 1.6919348945430817, 1.326972414033341, 2.4857994414418205, 6.221161383511821, 1.3853367489348904, 1.5039949875206116, 1.0437708866962316, 1.7627604952206948, 5.892154890274905, 4.664875220589534, 1.1438263973677285, 1.9508363914869238, 1.131733904235131, 2.21813272159957, 1.066739824185979, 0.6849477892139032, 1.4976406090410053, 20.82434368535583, 1.2113442868530067, 0.909749636766742, 1.3333358789969585, 2.730068002930953, 3.5540473139572297, 44.093061223530604, 1.1417906399287399, 1.1462988450679612, 97.56490170786556, 76.48692499220208, 72.65205172744791, 260.8848700324661, 80.31023655309727, 118.76564637102724, 177.64693013696737, 206.61411384017143, 50.04838350255203, 51.55543139469216, 66.2015524157592, 204.00964537956963, 82.74633585315439, 208.87025270624986, 38.679966099402215, 71.01007786418639, 65.40061612016858, 137.9107240306745, 118.36230751031725, 227.79192236959074, 77.94923411723576, 88.12805765811561, 291.8178390874455, 205.45658325382067, 122.45642216812055, 170.61256478040076, 120.51705230342279, 188.71846900624496, 170.45387472743454, 142.08661827664304, 401.5232493735543, 133.0732696812873, 145.68643806076912, 141.55813111764036, 181.1697704606173, 191.39297793370253, 157.69455379482332, 211.49112242449982, 130.06431900307214, 150.2384277322676, 151.9887888730101, 152.92884509112193, 156.97500775465934, 174.71818200291287, 143.66560401670702, 135.2049994884502, 136.1651925871962, 2.9926564436178977, 2.1192133215720235, 1.8062065763503963, 1.590593924048992, 1.2865471803350135, 1.441437387892234, 3.9547937559928257, 1.632153960464394, 0.7315493538365784, 2.7267075239301892, 1.4363036146409178, 1.2779773272020842, 1.5568035955729531, 0.9887858028063344, 7.213113424318869, 2.1648184555735948, 3.020276281652834, 7.81098657235455, 6.615074131777906, 65.83882738650823, 1.5517669953994495, 1.1898265550865712, 1.0397758426901305, 1.5484916189438405, 1.6641597682070375, 8.650566869290623, 0.6496967459379064, 1.1730419750372614, 3.3666774593568243, 2.50702709010647, 32.99548703197527, 5.553319394200815, 3.4819308604361714, 36.41650416690841, 22.66812115048906, 176.23231898870327, 72.976669992982, 164.4943605080384, 153.53380626841405, 29.158593647178236, 581.6645805638357, 208.6515433068373, 341.5320107285741, 185.54139439350533, 36.77510899571902, 14.031701700400989, 200.64443264872713, 187.2880525720769, 218.36136661533223, 232.8342770045575, 86.27340970995014, 113.89675455879836, 93.0765207977081, 78.02214632939135, 231.81756582029254, 257.4610763408976, 75.32569089970802, 120.81512456534986, 154.9185416327042, 125.97573230004686, 104.18983479413006, 164.92717491433012, 119.85130496322404, 126.39274397287674, 146.0434675558257, 191.0878889883231, 180.78405554481014, 150.98736890465148, 101.71881109570238, 133.17619728418686, 161.72350667243253, 108.0226794028648, 151.55595341264714, 107.99690064213378, 140.01149258577982, 122.60109829681714, 124.01643858252314, 150.50862749769666, 135.82763307065292, 131.9577388503196, 130.75775127126838, 125.76930602880505, 2.7322200351733175, 1.6331063837259805, 2.2380527452472045, 4.960818822892002, 1.5676404123207166, 1.3950165871718474, 1.6921663145964352, 1.006099487796172, 3.8095594202364467, 4.146924642624925, 1.0905800651198185, 7.1897226164565895, 0.6970832892013495, 3.1362099146655122, 1.103326755016356, 1.2518760741066508, 1.9750220669518528, 2.6171753176280097, 11.10193256482921, 0.9384079985599337, 1.0587843528980136, 3.4187643322584282, 7.4889483415444635, 2.4870175145296756, 134.81002392021549, 2.017839136352612, 1.6781215143131103, 1.1537926031640793, 1.029485436274339, 0.7551988338668876, 25.382242637886325, 11.726421785874045, 21.145291099246922, 84.00461830146594, 42.328071302185236, 40.59595381062978, 150.68292706539376, 97.96333045534202, 25.156605615113932, 73.1340802418764, 56.64926623107969, 153.03339939763092, 25.89700684715757, 150.2643256621182, 55.29039757846339, 24.907728187024045, 207.60914472302554, 193.09511023046355, 151.9695292175662, 187.91132509797342, 35.73985202990512, 174.33150790930728, 45.66140034599304, 180.43987742284892, 196.01419911807622, 84.49052290042717, 101.93435605457712, 271.71943764714865, 155.9277598674542, 180.21207446086993, 156.53408579152517, 213.09869683937697, 169.047458146968, 175.08569528321627, 230.52408647052013, 198.7184464155045, 387.04641500560626, 161.94196364437033, 156.38378674230887, 111.85335908617364, 171.44830753302313, 128.8643372438963, 145.67545183171075, 153.7457951581025, 169.203112083172, 159.00270827194132, 150.9726000196249, 145.26069772383948, 158.81660881739808, 2.701595244926216, 2.350978676512794, 1.6528143726422315, 1.3336275080806028, 1.9461799036823129, 7.4060035188690225, 2.527439275051954, 1.2241717650520676, 14.943118540031591, 1.3259814098373828, 3.688368929465205, 2.6985345226286865, 0.870167719931543, 21.22341909821459, 1.2685576454720817, 2.876914944134135, 1.6274645087100426, 2.1776213061309235, 0.959576693174519, 1.1941475332239826, 4.743684289151109, 3.201128314359181, 1.5145943285439207, 3.338408122831693, 1.4441476999717642, 3.4053604092578085, 1.0455070198981147, 3.904392119821937, 1.9331683042792807, 2.8138140190365726, 20.179797205686985, 5.737898151319425, 48.57416091632081, 147.1568221091464, 39.14791726632813, 246.61916414873244, 32.144955811682664, 66.70873355718798, 111.70145346509413, 33.06770846194779, 117.49545814971843, 78.99448547605199, 72.59301047452159, 16.897045925191534, 18.495357572198586, 33.25791842944173, 229.6667482582087, 151.00770040291147, 268.5499047849444, 74.2475992790621, 121.755748078381, 163.30449723662832, 39.25955117182397, 199.03570998565624, 174.870993534127, 280.5352234846521, 123.48119640410314, 59.77910207030133, 83.82795265483433, 95.33287042792286, 154.83864209667237, 161.81419312947025, 197.8565091198361, 145.24421582677957, 187.8630432456169, 126.01833542623403, 130.41366361760564, 151.27794034308366, 355.84781594166094, 158.23099781560683, 124.77833465924398, 163.02080922345428, 147.16321450982275, 148.4419541861748, 126.44263702902278, 158.39370123492722, 147.71480659344815, 142.96113868416174, 140.5875682182849, 136.19875739181342, 130.4899494698877, 130.05305531839818, 1.3449911238236556, 3.677218434738618, 1.9127694929539165, 6.0368829825015835, 1.2678611330263814, 1.5980655893325975, 2.1279498636789476, 3.560111358195795, 1.215418918118193, 1.085791292147041, 1.0697390900424237, 1.8075747697258482, 5.3628548024292515, 1.1911935034429946, 2.1871929261774037, 1.5377530208396337, 0.9002815649392064, 1.5854156508557828, 0.6549721695292724, 2.272591200082336, 1.011793597694164, 1.0055709081330857, 1.5984826681342752, 1.0267726141389364, 1.7628590259782335, 0.9039485391856467, 1.5212682703198808, 1.4902845870390298, 5.517856123946407, 1.1273797709293927, 47.29400745067693, 2.5251951189993957, 5.55844298280496, 18.087947965612063, 5.634376256320359, 80.26501039440177, 68.0484782204129, 74.46991897215264, 16.99504590793912, 13.168777897723274, 227.07934387547786, 21.2002167176269, 533.5349745594325, 220.619339029482, 23.017254084695534, 12.410049528827104, 113.50849961528814, 149.73394877355958, 83.8738291071886, 108.76452006619297, 102.32372998201616, 186.29664151283185, 65.43849550176412, 44.566626286066786, 236.09951628097934, 138.4033718756388, 61.55540264503318, 52.02130504922837, 183.3840911777956, 181.48080125370214, 79.33813123216831, 59.33177217078367, 117.94741718546855, 169.39858978089345, 140.3251844840871, 68.8231772380146, 71.77550280286935, 203.70435062404428, 131.74331819373617, 108.8901032893874, 158.36997973767248, 177.91033516705733, 111.77807526225695, 110.13219009391729, 159.38225837533423, 251.80504164457543, 161.9055055245613, 158.9367527321184, 220.81000637087385, 192.39084497024086, 167.65766891965495, 155.33819983505077, 150.70390495184705, 127.36847546211789, 153.16406731777332, 140.55570395279346, 152.88804375579465, 134.98209654346786, 138.4399462471853, 138.32822379764923, 141.3885999566049, 1.6252436274724398, 1.4086942283061181, 1.5052034517278114, 13.35542083321881, 1.364091176315703, 2.1433134757080046, 1.544065662545572, 5.9047327704604555, 0.958274418554409, 19.977350675863292, 1.04497201711153, 12.16311693682742, 4.550575715659149, 1.5255679251171799, 2.849031838766379, 0.6650450154872035, 2.446611018165598, 1.0469497284961637, 0.9217112498355972, 1.3001476277854225, 3.9810884933037407, 0.6491808073690524, 1.1358278863489446, 12.544171903658716, 2.008240106739058, 1.9776260532297985, 1.6243840696699101, 3.1459435000469638, 4.909013995211708, 2.0823629187443666, 11.65026746766374, 3.792098461772175, 17.997423053297837, 9.513514401126546, 235.51018463464052, 75.40553626858869, 12.532669111453849, 11.051194628478058, 106.57245640500494, 27.836260013449184, 95.42703093132752, 53.29796409512836, 55.85687391702044, 82.52225862278246, 25.30955610687015, 157.01027833415662, 206.37179474786132, 123.35012085160852, 24.52314426502784, 26.630341149609354, 53.702945155174866, 174.9076335174266, 23.681349666010576, 34.25949672221497, 189.82345354403182, 81.51971749771121, 208.23726411726417, 121.47322480442398, 167.09306083134996, 194.33785706935691, 109.86215983256761, 179.79372279980322, 423.0939712762526, 125.4429440030854, 67.0968144756963, 164.1712184110734, 112.15184342532727, 165.74320959325436, 169.66100924099607, 100.88791730904308, 147.35763747102618, 125.76390901138247, 127.82010209669828, 118.84139736511412, 178.55943228471864, 141.33798559835648, 151.25497185323218, 165.54936518599055, 154.25193920919907, 154.38939234318062, 137.02357271996792, 174.49585448795878, 155.61127620728493, 126.20388843464286, 163.28374326526242, 128.51672984065866, 127.25150832684947, 2.3985722564366765, 1.8359222412191776, 1.3070727708571328, 0.7601691448449568, 3.4279136876906664, 2.7470171495043836, 1.4075226590848926, 1.6152438519619747, 2.271538924576137, 1.1015944829192867, 0.9610295305231203, 24.26975850154571, 0.6731543253226123, 1.3031492421125752, 1.647413529783505, 0.7599233967433681, 1.162731560874607, 1.802031512215566, 1.1514828283980894, 6.682347430192081, 1.9734914213374655, 0.8809073566099637, 1.2017764102010842, 2.246905620593747, 1.4682543526303908, 3.1072153027871514, 0.8678913702350671, 0.7249576401148794, 1.3368855178049743, 8.675065253020097, 41.001915830256664, 221.71630603107013, 28.03002935572355, 42.76932847643005, 9.401059788710345, 12.749030634184766, 68.40835304753818, 91.770005453052, 41.98371644346809, 211.1772532003071, 21.78332259876035, 91.52084249685487, 208.05135274900397, 85.79327893769052, 135.7477316183769, 58.287839961548784, 17.458660686622995, 20.81283098887651, 215.3717964165004, 227.41509596014646, 74.91248238475045, 67.80655200559809, 61.66940018177148, 183.40870989449672, 54.97669741970359, 130.1767834206107, 65.06853638914775, 96.45395627270908, 96.06940751090998, 193.97098255191185, 113.6252360639617, 65.95104144161071, 73.79571297506877, 120.6158823731566, 154.52183339476076, 155.23699457816429, 186.92758458755554, 120.44541093560932, 92.72455831049824, 139.6446345668117, 193.89207305121587, 232.75940917230818, 101.45979075464548, 327.21755026316976, 121.56884301391811, 124.33082717796155, 147.66023245686978, 182.0117861681476, 139.14950256526714, 125.16735697365341, 115.38415214907647, 129.25742992487292, 115.2274609678362, 138.6849449150612, 126.31814106001032, 127.48070565433805, 132.90680952119666, 134.67308960847822, 136.43446036098194, 129.48677546983353, 123.07521268238075, 2.4109379592285047, 2.5811003358069717, 1.1141936112015538, 2.3125282634438027, 0.8714771361653645, 2.881174933529229, 0.8403638202677999, 1.408596218161225, 0.9916541082249499, 34.298928113053, 1.0536114630952782, 0.6770454119573694, 2.068613642462989, 1.9382379082332009, 4.994032698670136, 4.284233172822007, 1.691992600745857, 0.6488230083064078, 3.140096822663988, 1.294692300112194, 5.476988566404434, 0.6425324103845197, 1.3932066696535936, 9.81929709828763, 2.7650466244364558, 4.3894739369399405, 55.32226116722065, 0.8886883766091045, 2.2096572542063777, 2.800936454479448, 5.109452174773891, 24.64475961564146, 27.056157549688127, 4.849618886816729, 42.16614633648762, 80.19052844412163, 5.33364625999283, 157.2440852406419, 32.48674998943363, 46.84896832914546, 242.29769391154727, 89.92687910904536, 20.550443558415502, 77.78853994366297, 105.60504766200427, 19.66235956218046, 114.37721562500666, 61.62812907364921, 107.07286268944775, 275.40072759773955, 118.52700936299378, 116.13345137535626, 94.83293749576227, 107.30024593340596, 79.87290521737506, 52.06818700745011, 99.36741171244877, 229.19359161794523, 198.0584387107439, 187.82182415127414, 61.517999307954355, 82.30355368727325, 173.31619038094885, 203.4574013949162, 81.0203607576152, 172.60483814523374, 125.27544852754434, 133.69902634373415, 152.15987742742703, 129.80468610783944, 151.46796207633594, 125.79433786395823, 148.61901486564355, 134.5203856851926, 163.6722498364171, 135.99716432447724, 145.32695386242824, 199.04386989041924, 159.12243369041087, 241.39206718340097, 139.79840565717532, 132.16201223287686, 129.65116302545243, 127.48927194469513, 120.75495754533006, 120.53719838987499, 119.00730799158622, 2.075986051052104, 1.631762360394777, 2.7206408940137514, 1.2804261360348062, 18.220016225650898, 3.1763757419614205, 1.6368305019086065, 1.1588059000765465, 2.224354477947769, 1.084256407437318, 1.8034245583727972, 1.2257645507252644, 1.4569206316008088, 2.3946821339778954, 1.0600738952056528, 9.867188111737809, 1.4166001876693768, 1.5637583590765542, 1.4375697018451619, 1.3764991400886113, 1.0139020476258251, 0.8878899515384339, 1.2707418037686244, 11.804062574228135, 1.3992587225335882, 16.572632816484195, 4.133811690746832, 1.5802847395953625, 0.733321289378158, 0.9597573452441247, 21.338833463735146, 66.07666587724755, 117.55412763576116, 59.964122218422766, 143.98579171087286, 56.30610827085097, 25.864931550369196, 65.45847961644525, 150.55835945920757, 40.81444442059272, 95.48444059101448, 44.20708203445834, 15.88279920192763, 189.66418743543875, 120.33348522898957, 11.962412390899976, 62.62762938506617, 174.99852023864736, 69.739334345573, 125.9102235253066, 175.91314958524606, 200.12989336851103, 62.29768931067993, 134.23625954040767, 269.1898919431643, 112.27681644444539, 75.30761029294855, 99.8319460435791, 166.66660771946795, 163.6535355177779, 72.29051515739178, 147.03458976212332, 115.87090281494062, 148.4224149885259, 76.7645302094374, 83.96668481955506, 122.21129373158185, 169.95029201862246, 143.3482642458376, 117.16641566808758, 287.8557558787436, 137.59539558896685, 180.2129748045644, 99.14958506300533, 146.0457443795944, 110.96063513925964, 145.80275734335805, 143.90511335114306, 158.0255837630211, 139.823515131407, 116.5291536526135, 113.78254704317375], \"Total\": [4247.0, 1545.0, 1803.0, 1504.0, 1679.0, 1408.0, 1519.0, 1678.0, 1676.0, 2544.0, 766.0, 1569.0, 1091.0, 1362.0, 1073.0, 485.0, 940.0, 1145.0, 1485.0, 1511.0, 809.0, 1130.0, 566.0, 994.0, 1962.0, 1052.0, 1008.0, 639.0, 1866.0, 2226.0, 6.5692233720275395, 5.2196912968164915, 8.777502274462556, 4.38573780414012, 6.738277746889166, 8.939527295433123, 9.46764036685829, 20.875335252525126, 4.375229822905225, 6.588676040161954, 7.255738280778066, 485.36284814174155, 5.748246393881855, 9.463121280568101, 50.19809334521554, 5.90892025998064, 5.073294428738709, 29.171947709530983, 5.896081118281021, 60.697801847306614, 5.237522913043742, 3.711002363236662, 5.912897890808814, 6.587738471439682, 20.663607228733635, 9.484476306783407, 11.84490357709795, 5.228149996860857, 5.071461186845068, 43.761240115517936, 4247.133622796491, 1073.9284192171258, 182.18688184442914, 136.26030694781352, 462.87040646528186, 20.728732848846196, 54.288514110109915, 260.8077283925963, 639.1357598163429, 42.76875730107538, 260.85783499863265, 374.5072093440621, 1362.7129706599383, 1149.0564664665676, 619.8894760820992, 319.0004050427582, 1408.9993012468237, 575.366351245922, 811.7591934862065, 392.7719847470466, 1676.2329727888566, 764.054595887412, 1586.9153747101934, 664.3552420004448, 541.177465524652, 809.858754149371, 1093.6660234257195, 1441.5170904977942, 1519.021448494849, 952.2397442228582, 556.4791990053707, 1396.8528328509456, 1711.7527917365644, 1176.6326172900674, 1962.2313452177416, 1193.0717490387178, 1043.871884448672, 1594.924006854124, 688.3197557392153, 1369.2350951512312, 1091.2035165723391, 2226.5415532852408, 1467.372043364193, 2544.7719460458025, 1768.0060228699053, 1287.6764299523816, 1463.789556688376, 1519.3554903236172, 1411.9330866917358, 1678.5268385859988, 1511.7822091622527, 1545.6022093678876, 1569.1381493063718, 1866.422840745382, 5.9683615916273345, 7.320603951362343, 7.475546254667684, 6.787237218919957, 7.444075836163548, 5.932724886373691, 11.560709199403961, 29.715716014995962, 6.625281877038653, 7.306341921173474, 5.225006011289464, 8.825573644991275, 29.517171374560668, 23.80002244789503, 5.936672040465945, 10.20367073495311, 5.949954458231947, 11.713486767553498, 5.766586433625191, 3.721293603492964, 8.148578647800845, 113.43669926173692, 6.75992189922515, 5.078333554547575, 7.453442780198855, 15.291013814581284, 20.262815261812502, 254.47854695022863, 6.606603537263984, 6.643065696482182, 566.7559062194557, 457.59403767299364, 447.60111312841696, 1678.5268385859988, 498.880140211681, 754.9886964576311, 1176.6326172900674, 1408.9997206603919, 322.3684638002091, 336.8867831935553, 445.3933164151732, 1504.1611012649582, 570.1312508402387, 1545.6022093678876, 253.08934232502992, 491.70975730075395, 455.44273790596657, 1041.6860720540892, 880.8005437183615, 1866.422840745382, 563.8112172175472, 650.8398804621961, 2544.7719460458025, 1711.7527917365644, 951.0920118047488, 1396.8528328509456, 940.8197212699952, 1586.9153747101934, 1411.9330866917358, 1159.284781011927, 4247.133622796491, 1093.6660234257195, 1237.177103608097, 1193.0717490387178, 1676.2329727888566, 1803.7000827976601, 1467.372043364193, 2226.5415532852408, 1130.1495357585782, 1408.9993012468237, 1485.9915866974266, 1519.021448494849, 1594.924006854124, 1962.2313452177416, 1441.5170904977942, 1287.6764299523816, 1768.0060228699053, 10.154680952374562, 9.657035857308083, 8.26290789296298, 7.286829142072877, 5.944297201033974, 6.786648313425707, 19.397037445396805, 8.130524773828592, 3.71818848639222, 13.917677094950779, 7.439210298057856, 6.624096144420112, 8.120189179489728, 5.249437858031512, 38.35461219386619, 11.53353365316175, 16.652351342268194, 43.16771445182836, 36.68756766789028, 365.3717244669089, 8.804428683124438, 6.765715287445218, 5.916759095845412, 8.825507536183569, 9.49491729882532, 49.361519139232776, 3.7215432796955827, 6.755329299800688, 19.40140908808517, 14.448426761944178, 192.48079104016787, 32.148326167720924, 20.073905860462347, 216.5051692556032, 138.0467841717065, 1145.6598765396714, 463.1442564636435, 1073.9284192171258, 1008.1700416296567, 181.992473575507, 4247.133622796491, 1463.789556688376, 2544.7719460458025, 1369.2350951512312, 242.17078903489798, 86.21737370107395, 1519.3554903236172, 1441.5170904977942, 1711.7527917365644, 1866.422840745382, 635.1608067169228, 866.6268799704528, 697.9715577082283, 575.0912717693018, 1962.2313452177416, 2226.5415532852408, 557.2730580194338, 960.9663533589311, 1287.6764299523816, 1017.579603125572, 824.046168477475, 1411.9330866917358, 970.5494387395319, 1034.0082298476934, 1237.177103608097, 1768.0060228699053, 1679.2111543493631, 1339.4065891259756, 809.858754149371, 1159.284781011927, 1569.1381493063718, 880.5515791222232, 1511.7822091622527, 896.3911550139029, 1467.372043364193, 1148.2512196866678, 1178.5437942689546, 1803.7000827976601, 1594.924006854124, 1676.2329727888566, 1678.5268385859988, 1408.9997206603919, 10.311233949889612, 6.5595681847729645, 9.627777002591557, 22.542271898381916, 7.408679612451805, 6.7274102412373065, 8.799743766741935, 5.2461948246482475, 19.877618684633333, 21.76129366834905, 5.73939019829539, 38.02791924098107, 3.712772441543454, 16.78685657522028, 5.922576924678979, 6.762612634527143, 10.82525492782803, 14.39212206449973, 61.71638983284998, 5.227180639703431, 5.8980000967361566, 19.21443867808337, 42.15628599380223, 14.016535240826284, 766.8577587845213, 11.531190168290724, 9.61384898497747, 6.612706206477438, 5.916291298332508, 4.382444233937099, 147.92615513541432, 69.4529555287851, 128.53295951296903, 530.2039658430856, 267.4964359199771, 257.8526509344563, 1017.579603125572, 653.1122339746473, 158.64113740613539, 488.8646908137815, 376.6394086487222, 1091.2035165723391, 165.04654992296176, 1097.0255329392473, 374.5072093440621, 159.67763572461308, 1569.1381493063718, 1511.7822091622527, 1178.5437942689546, 1504.1611012649582, 239.32959485236708, 1408.9997206603919, 315.0642714947062, 1485.9915866974266, 1678.5268385859988, 648.1105053330712, 809.858754149371, 2544.7719460458025, 1339.4065891259756, 1594.924006854124, 1362.7129706599383, 1962.2313452177416, 1519.3554903236172, 1586.9153747101934, 2226.5415532852408, 1866.422840745382, 4247.133622796491, 1463.789556688376, 1408.9993012468237, 940.8197212699952, 1676.2329727888566, 1149.0564664665676, 1369.2350951512312, 1519.021448494849, 1768.0060228699053, 1679.2111543493631, 1545.6022093678876, 1441.5170904977942, 1803.7000827976601, 10.88126699646658, 10.335729607528766, 7.290301330206751, 5.933215968954454, 8.690649269683927, 33.50392424195748, 11.531190168290724, 5.933600328433747, 73.29202454174921, 6.643065696482182, 18.550536269125207, 13.580058547957792, 4.414295948772169, 108.86784717077143, 6.606603537263984, 14.991052834035933, 8.674972940997735, 11.70237084335887, 5.2470941847140224, 6.623591974733232, 26.432934708743208, 17.879728345276522, 8.492791417565012, 18.737646052808802, 8.142541221010312, 19.215255083548886, 5.920611016474397, 22.29543919026832, 11.061614331002058, 16.155060491933956, 119.00214339184907, 33.39139566011982, 299.69441215017156, 940.8197212699952, 245.26984817107257, 1679.2111543493631, 202.0334656774415, 434.3596312896255, 766.8577587845213, 213.069196783451, 824.046168477475, 545.9963836270013, 499.26880883453185, 105.5892683539833, 116.47986386315698, 219.9727499282502, 1803.7000827976601, 1159.284781011927, 2226.5415532852408, 546.1617714290217, 951.0920118047488, 1339.4065891259756, 270.32865277418597, 1678.5268385859988, 1467.372043364193, 2544.7719460458025, 1017.579603125572, 443.1110491999889, 656.9648543575415, 767.1949577138269, 1362.7129706599383, 1463.789556688376, 1866.422840745382, 1287.6764299523816, 1768.0060228699053, 1093.6660234257195, 1145.6598765396714, 1411.9330866917358, 4247.133622796491, 1511.7822091622527, 1149.0564664665676, 1676.2329727888566, 1485.9915866974266, 1519.021448494849, 1193.0717490387178, 1711.7527917365644, 1569.1381493063718, 1594.924006854124, 1545.6022093678876, 1441.5170904977942, 1369.2350951512312, 1962.2313452177416, 6.597387648655138, 18.044902173646495, 9.647321983341651, 31.175415361865124, 6.5595681847729645, 8.275737928329496, 11.173515062989306, 19.032826169304112, 6.597236228051344, 5.909407582226967, 5.906671273890565, 9.994000659791512, 29.67040171654142, 6.608595774941357, 12.227002148107271, 8.64712138686634, 5.070270194772468, 8.979644955012624, 3.71219142174298, 12.888858579759738, 5.747465038096563, 5.764474229301197, 9.163535245062501, 5.920611016474397, 10.173382221338777, 5.233567329177052, 8.816572285200813, 8.650785664660695, 32.10080619732347, 6.591080935472322, 290.59180951014497, 14.915833676731175, 33.50392424195748, 115.53967452682502, 34.40571415143766, 548.1721540037488, 461.609453237265, 516.3041750498413, 109.20733451963432, 83.63043129369122, 1679.2111543493631, 138.7661561649693, 4247.133622796491, 1676.2329727888566, 152.9040873695116, 79.48998767151214, 838.0635836228564, 1128.8253771864174, 609.9346195129734, 809.858754149371, 767.1949577138269, 1485.9915866974266, 477.1544364592115, 315.0642714947062, 1962.2313452177416, 1091.2035165723391, 450.06382667204207, 376.37383605006204, 1511.7822091622527, 1504.1611012649582, 600.7555630263937, 436.17159736878205, 936.452557487312, 1411.9330866917358, 1148.2512196866678, 518.1686771917371, 545.1822753853714, 1803.7000827976601, 1097.0255329392473, 880.5515791222232, 1362.7129706599383, 1569.1381493063718, 914.1901726853315, 898.725539997049, 1396.8528328509456, 2544.7719460458025, 1467.372043364193, 1441.5170904977942, 2226.5415532852408, 1866.422840745382, 1594.924006854124, 1545.6022093678876, 1519.021448494849, 1149.0564664665676, 1586.9153747101934, 1369.2350951512312, 1768.0060228699053, 1339.4065891259756, 1463.789556688376, 1519.3554903236172, 1678.5268385859988, 8.030090269103892, 7.294602354865154, 7.836381507455758, 70.7709624696501, 7.294682836411239, 11.544157639436879, 8.325000623830743, 31.92613543047988, 5.248072007740971, 109.81733319397773, 5.765962202974032, 67.24568912328759, 25.17191890393791, 8.51241274960055, 15.9874608122387, 3.7335241723579284, 13.756602604985703, 5.920533960225935, 5.259465510618316, 7.4408264246887965, 22.80677916039493, 3.729455960118419, 6.625242035434738, 73.22421336050131, 11.74117451422811, 11.5651670309696, 9.515456925275647, 18.451748480032336, 28.805418177535543, 12.26272714954306, 69.39198041734606, 22.332458006760884, 108.87563915864597, 57.03217951083966, 1545.6022093678876, 485.36284814174155, 76.3922860438703, 67.60869951189149, 709.5011087466753, 176.7891938008136, 652.8210161196347, 354.7121804682388, 373.56352074605445, 566.7559062194557, 163.36880546038657, 1128.8253771864174, 1519.3554903236172, 880.8005437183615, 158.33363541539248, 174.57066833207875, 374.0203410280271, 1362.7129706599383, 155.3462692639826, 232.5756527068291, 1519.021448494849, 608.4582100118306, 1768.0060228699053, 970.5494387395319, 1396.8528328509456, 1678.5268385859988, 886.107222128417, 1569.1381493063718, 4247.133622796491, 1041.6860720540892, 506.4502759463346, 1485.9915866974266, 945.0755686669944, 1511.7822091622527, 1594.924006854124, 854.9727441822101, 1369.2350951512312, 1130.1495357585782, 1178.5437942689546, 1097.0255329392473, 1962.2313452177416, 1408.9993012468237, 1586.9153747101934, 1866.422840745382, 1676.2329727888566, 1711.7527917365644, 1408.9997206603919, 2226.5415532852408, 1803.7000827976601, 1237.177103608097, 2544.7719460458025, 1339.4065891259756, 1467.372043364193, 9.867034850908471, 8.275737928329496, 5.920611016474397, 3.726522195464881, 16.82107978035271, 14.460170150397444, 7.4662409129931335, 8.67917787308607, 12.232724427921445, 5.938586155469933, 5.24121220953252, 132.39897630502594, 3.7214494612512676, 7.296410054863734, 9.537352058207311, 4.400830804255561, 6.781952457271435, 10.520299582980446, 6.77165506719142, 39.3316868358726, 11.700186711046783, 5.238816409551405, 7.163688376485821, 13.418820262402772, 8.827850570658581, 18.707978559930286, 5.241565428547493, 4.410442545175269, 8.174635489598128, 53.35324766335121, 255.6682932832904, 1408.9993012468237, 175.47784664555087, 276.22186396705973, 59.34224558707673, 81.40619936725834, 463.10961579044886, 630.4303952493897, 279.22983492902836, 1504.1611012649582, 142.2763789055096, 639.1357598163429, 1545.6022093678876, 610.4333993748133, 1008.1700416296567, 410.2676193857106, 114.48464235355083, 138.0467841717065, 1676.2329727888566, 1803.7000827976601, 550.1211436167472, 498.1643443828395, 454.5160145334003, 1511.7822091622527, 403.2279549237308, 1060.792542205398, 491.70975730075395, 767.1949577138269, 764.054595887412, 1711.7527917365644, 945.0755686669944, 508.9992026074605, 580.6661143448189, 1034.0082298476934, 1396.8528328509456, 1411.9330866917358, 1768.0060228699053, 1052.0279732442655, 765.9940402381675, 1287.6764299523816, 1962.2313452177416, 2544.7719460458025, 862.6358324059354, 4247.133622796491, 1130.1495357585782, 1176.6326172900674, 1569.1381493063718, 2226.5415532852408, 1467.372043364193, 1237.177103608097, 1093.6660234257195, 1369.2350951512312, 1097.0255329392473, 1678.5268385859988, 1362.7129706599383, 1408.9997206603919, 1586.9153747101934, 1679.2111543493631, 1866.422840745382, 1519.021448494849, 1441.5170904977942, 8.15766114136289, 11.070584168425329, 5.2196912968164915, 11.172079502684968, 4.39694550490058, 14.621859866184009, 4.411638244289199, 7.465958794153773, 5.260258037788523, 185.58971652742224, 5.775533021583579, 3.725714909103634, 11.53742644544696, 10.854706036990482, 28.355330491321826, 24.346507389182772, 9.667039544696793, 3.728467214164809, 18.044902173646495, 7.4662409129931335, 31.698193923222156, 3.730114490498836, 8.131852833623714, 57.320450824665386, 16.152434210882102, 25.734262577486266, 324.8279720328094, 5.260818858827388, 13.095747546315707, 16.68228260553866, 30.51928018608326, 149.59131226454375, 168.29270974553953, 29.125615492813154, 266.89974821668164, 523.0337706492585, 32.11863077034172, 1052.0279732442655, 211.069794558093, 317.3510745891267, 1803.7000827976601, 641.6442471659146, 134.44889591640236, 557.2730580194338, 782.2143800708794, 128.43084945082947, 854.9727441822101, 439.8259295839738, 802.0698162937257, 2226.5415532852408, 897.4172808123853, 880.5515791222232, 706.6299202873045, 811.7591934862065, 591.3922897421292, 370.6770782762508, 765.9940402381675, 1962.2313452177416, 1679.2111543493631, 1586.9153747101934, 454.5160145334003, 635.1104422322019, 1519.021448494849, 1866.422840745382, 633.5608061538419, 1594.924006854124, 1091.2035165723391, 1193.0717490387178, 1441.5170904977942, 1178.5437942689546, 1467.372043364193, 1149.0564664665676, 1463.789556688376, 1287.6764299523816, 1711.7527917365644, 1339.4065891259756, 1519.3554903236172, 2544.7719460458025, 1768.0060228699053, 4247.133622796491, 1485.9915866974266, 1408.9997206603919, 1396.8528328509456, 1504.1611012649582, 1676.2329727888566, 1678.5268385859988, 1411.9330866917358, 7.519247136618931, 5.977345227928208, 11.109437500064445, 5.9683615916273345, 89.82809943021896, 15.728463305494907, 8.318144957088627, 5.965238560587837, 11.773027395793225, 5.803237832773775, 9.722802687858131, 6.642067511626205, 8.030090269103892, 13.315785785046737, 5.954443853678569, 55.516077808996904, 7.996232121394414, 8.852612306790022, 8.173410174188662, 7.867613426039641, 5.8005614029314385, 5.104301501025531, 7.31739924621462, 68.23921652689513, 8.190081231840797, 98.96708448495122, 24.773093932028505, 9.520410589835475, 4.42228757137278, 5.787857153493035, 130.8182484247287, 413.1801952159553, 785.8063110430703, 399.11027472002826, 994.9221322559506, 383.2073322120371, 174.51374811450125, 465.4368633866438, 1130.1495357585782, 283.46036000033456, 706.6299202873045, 312.7244961029405, 105.12749754788457, 1569.1381493063718, 960.9663533589311, 78.38431103323035, 474.44738784936635, 1485.9915866974266, 541.177465524652, 1043.871884448672, 1519.3554903236172, 1768.0060228699053, 480.7512507329953, 1145.6598765396714, 2544.7719460458025, 951.0920118047488, 608.4582100118306, 856.8639604917743, 1594.924006854124, 1586.9153747101934, 589.1744546334351, 1408.9997206603919, 1060.792542205398, 1504.1611012649582, 639.1357598163429, 718.756743612775, 1193.0717490387178, 1866.422840745382, 1519.021448494849, 1159.284781011927, 4247.133622796491, 1463.789556688376, 2226.5415532852408, 914.1901726853315, 1679.2111543493631, 1093.6660234257195, 1711.7527917365644, 1678.5268385859988, 1962.2313452177416, 1803.7000827976601, 1237.177103608097, 1441.5170904977942], \"Category\": [\"Default\", \"Default\", \"Default\", \"Default\", \"Default\", \"Default\", \"Default\", \"Default\", \"Default\", \"Default\", \"Default\", \"Default\", \"Default\", \"Default\", \"Default\", \"Default\", \"Default\", \"Default\", \"Default\", \"Default\", \"Default\", \"Default\", \"Default\", \"Default\", \"Default\", \"Default\", \"Default\", \"Default\", \"Default\", \"Default\", \"Topic1\", \"Topic1\", \"Topic1\", \"Topic1\", \"Topic1\", \"Topic1\", \"Topic1\", \"Topic1\", \"Topic1\", \"Topic1\", \"Topic1\", \"Topic1\", \"Topic1\", \"Topic1\", \"Topic1\", \"Topic1\", \"Topic1\", \"Topic1\", \"Topic1\", \"Topic1\", \"Topic1\", \"Topic1\", \"Topic1\", \"Topic1\", \"Topic1\", \"Topic1\", \"Topic1\", \"Topic1\", \"Topic1\", \"Topic1\", \"Topic1\", \"Topic1\", \"Topic1\", \"Topic1\", \"Topic1\", \"Topic1\", \"Topic1\", \"Topic1\", \"Topic1\", \"Topic1\", \"Topic1\", \"Topic1\", \"Topic1\", \"Topic1\", \"Topic1\", \"Topic1\", \"Topic1\", \"Topic1\", \"Topic1\", \"Topic1\", \"Topic1\", \"Topic1\", \"Topic1\", \"Topic1\", \"Topic1\", \"Topic1\", \"Topic1\", \"Topic1\", \"Topic1\", \"Topic1\", \"Topic1\", \"Topic1\", \"Topic1\", \"Topic1\", \"Topic1\", \"Topic1\", \"Topic1\", \"Topic1\", \"Topic1\", \"Topic1\", \"Topic1\", \"Topic1\", \"Topic1\", \"Topic1\", \"Topic1\", \"Topic1\", \"Topic1\", \"Topic1\", \"Topic1\", \"Topic1\", \"Topic1\", \"Topic1\", \"Topic1\", \"Topic1\", \"Topic2\", \"Topic2\", \"Topic2\", \"Topic2\", \"Topic2\", \"Topic2\", \"Topic2\", \"Topic2\", \"Topic2\", \"Topic2\", \"Topic2\", \"Topic2\", \"Topic2\", \"Topic2\", \"Topic2\", \"Topic2\", \"Topic2\", \"Topic2\", \"Topic2\", \"Topic2\", \"Topic2\", \"Topic2\", \"Topic2\", \"Topic2\", \"Topic2\", \"Topic2\", \"Topic2\", \"Topic2\", \"Topic2\", \"Topic2\", \"Topic2\", \"Topic2\", \"Topic2\", \"Topic2\", \"Topic2\", \"Topic2\", \"Topic2\", \"Topic2\", \"Topic2\", \"Topic2\", \"Topic2\", \"Topic2\", \"Topic2\", \"Topic2\", \"Topic2\", \"Topic2\", \"Topic2\", \"Topic2\", \"Topic2\", \"Topic2\", \"Topic2\", \"Topic2\", \"Topic2\", \"Topic2\", \"Topic2\", \"Topic2\", \"Topic2\", \"Topic2\", \"Topic2\", \"Topic2\", \"Topic2\", \"Topic2\", \"Topic2\", \"Topic2\", \"Topic2\", \"Topic2\", \"Topic2\", \"Topic2\", \"Topic2\", \"Topic2\", \"Topic2\", \"Topic2\", \"Topic2\", \"Topic2\", \"Topic2\", \"Topic2\", \"Topic2\", \"Topic3\", \"Topic3\", \"Topic3\", \"Topic3\", \"Topic3\", \"Topic3\", \"Topic3\", \"Topic3\", \"Topic3\", \"Topic3\", \"Topic3\", \"Topic3\", \"Topic3\", \"Topic3\", \"Topic3\", \"Topic3\", \"Topic3\", \"Topic3\", \"Topic3\", \"Topic3\", \"Topic3\", \"Topic3\", \"Topic3\", \"Topic3\", \"Topic3\", \"Topic3\", \"Topic3\", \"Topic3\", \"Topic3\", \"Topic3\", \"Topic3\", \"Topic3\", \"Topic3\", \"Topic3\", \"Topic3\", \"Topic3\", \"Topic3\", \"Topic3\", \"Topic3\", \"Topic3\", \"Topic3\", \"Topic3\", \"Topic3\", \"Topic3\", \"Topic3\", \"Topic3\", \"Topic3\", \"Topic3\", \"Topic3\", \"Topic3\", \"Topic3\", \"Topic3\", \"Topic3\", \"Topic3\", \"Topic3\", \"Topic3\", \"Topic3\", \"Topic3\", \"Topic3\", \"Topic3\", \"Topic3\", \"Topic3\", \"Topic3\", \"Topic3\", \"Topic3\", \"Topic3\", \"Topic3\", \"Topic3\", \"Topic3\", \"Topic3\", \"Topic3\", \"Topic3\", \"Topic3\", \"Topic3\", \"Topic3\", \"Topic3\", \"Topic3\", \"Topic3\", \"Topic3\", \"Topic3\", \"Topic3\", \"Topic3\", \"Topic4\", \"Topic4\", \"Topic4\", \"Topic4\", \"Topic4\", \"Topic4\", \"Topic4\", \"Topic4\", \"Topic4\", \"Topic4\", \"Topic4\", \"Topic4\", \"Topic4\", \"Topic4\", \"Topic4\", \"Topic4\", \"Topic4\", \"Topic4\", \"Topic4\", \"Topic4\", \"Topic4\", \"Topic4\", \"Topic4\", \"Topic4\", \"Topic4\", \"Topic4\", \"Topic4\", \"Topic4\", \"Topic4\", \"Topic4\", \"Topic4\", \"Topic4\", \"Topic4\", \"Topic4\", \"Topic4\", \"Topic4\", \"Topic4\", \"Topic4\", \"Topic4\", \"Topic4\", \"Topic4\", \"Topic4\", \"Topic4\", \"Topic4\", \"Topic4\", \"Topic4\", \"Topic4\", \"Topic4\", \"Topic4\", \"Topic4\", \"Topic4\", \"Topic4\", \"Topic4\", \"Topic4\", \"Topic4\", \"Topic4\", \"Topic4\", \"Topic4\", \"Topic4\", \"Topic4\", \"Topic4\", \"Topic4\", \"Topic4\", \"Topic4\", \"Topic4\", \"Topic4\", \"Topic4\", \"Topic4\", \"Topic4\", \"Topic4\", \"Topic4\", \"Topic4\", \"Topic4\", \"Topic4\", \"Topic4\", \"Topic4\", \"Topic4\", \"Topic4\", \"Topic4\", \"Topic5\", \"Topic5\", \"Topic5\", \"Topic5\", \"Topic5\", \"Topic5\", \"Topic5\", \"Topic5\", \"Topic5\", \"Topic5\", \"Topic5\", \"Topic5\", \"Topic5\", \"Topic5\", \"Topic5\", \"Topic5\", \"Topic5\", \"Topic5\", \"Topic5\", \"Topic5\", \"Topic5\", \"Topic5\", \"Topic5\", \"Topic5\", \"Topic5\", \"Topic5\", \"Topic5\", \"Topic5\", \"Topic5\", \"Topic5\", \"Topic5\", \"Topic5\", \"Topic5\", \"Topic5\", \"Topic5\", \"Topic5\", \"Topic5\", \"Topic5\", \"Topic5\", \"Topic5\", \"Topic5\", \"Topic5\", \"Topic5\", \"Topic5\", \"Topic5\", \"Topic5\", \"Topic5\", \"Topic5\", \"Topic5\", \"Topic5\", \"Topic5\", \"Topic5\", \"Topic5\", \"Topic5\", \"Topic5\", \"Topic5\", \"Topic5\", \"Topic5\", \"Topic5\", \"Topic5\", \"Topic5\", \"Topic5\", \"Topic5\", \"Topic5\", \"Topic5\", \"Topic5\", \"Topic5\", \"Topic5\", \"Topic5\", \"Topic5\", \"Topic5\", \"Topic5\", \"Topic5\", \"Topic5\", \"Topic5\", \"Topic5\", \"Topic5\", \"Topic5\", \"Topic5\", \"Topic5\", \"Topic5\", \"Topic5\", \"Topic6\", \"Topic6\", \"Topic6\", \"Topic6\", \"Topic6\", \"Topic6\", \"Topic6\", \"Topic6\", \"Topic6\", \"Topic6\", \"Topic6\", \"Topic6\", \"Topic6\", \"Topic6\", \"Topic6\", \"Topic6\", \"Topic6\", \"Topic6\", \"Topic6\", \"Topic6\", \"Topic6\", \"Topic6\", \"Topic6\", \"Topic6\", \"Topic6\", \"Topic6\", \"Topic6\", \"Topic6\", \"Topic6\", \"Topic6\", \"Topic6\", \"Topic6\", \"Topic6\", \"Topic6\", \"Topic6\", \"Topic6\", \"Topic6\", \"Topic6\", \"Topic6\", \"Topic6\", \"Topic6\", \"Topic6\", \"Topic6\", \"Topic6\", \"Topic6\", \"Topic6\", \"Topic6\", \"Topic6\", \"Topic6\", \"Topic6\", \"Topic6\", \"Topic6\", \"Topic6\", \"Topic6\", \"Topic6\", \"Topic6\", \"Topic6\", \"Topic6\", \"Topic6\", \"Topic6\", \"Topic6\", \"Topic6\", \"Topic6\", \"Topic6\", \"Topic6\", \"Topic6\", \"Topic6\", \"Topic6\", \"Topic6\", \"Topic6\", \"Topic6\", \"Topic6\", \"Topic6\", \"Topic6\", \"Topic6\", \"Topic6\", \"Topic6\", \"Topic6\", \"Topic6\", \"Topic6\", \"Topic6\", \"Topic6\", \"Topic6\", \"Topic6\", \"Topic6\", \"Topic6\", \"Topic6\", \"Topic6\", \"Topic6\", \"Topic6\", \"Topic6\", \"Topic7\", \"Topic7\", \"Topic7\", \"Topic7\", \"Topic7\", \"Topic7\", \"Topic7\", \"Topic7\", \"Topic7\", \"Topic7\", \"Topic7\", \"Topic7\", \"Topic7\", \"Topic7\", \"Topic7\", \"Topic7\", \"Topic7\", \"Topic7\", \"Topic7\", \"Topic7\", \"Topic7\", \"Topic7\", \"Topic7\", \"Topic7\", \"Topic7\", \"Topic7\", \"Topic7\", \"Topic7\", \"Topic7\", \"Topic7\", \"Topic7\", \"Topic7\", \"Topic7\", \"Topic7\", \"Topic7\", \"Topic7\", \"Topic7\", \"Topic7\", \"Topic7\", \"Topic7\", \"Topic7\", \"Topic7\", \"Topic7\", \"Topic7\", \"Topic7\", \"Topic7\", \"Topic7\", \"Topic7\", \"Topic7\", \"Topic7\", \"Topic7\", \"Topic7\", \"Topic7\", \"Topic7\", \"Topic7\", \"Topic7\", \"Topic7\", \"Topic7\", \"Topic7\", \"Topic7\", \"Topic7\", \"Topic7\", \"Topic7\", \"Topic7\", \"Topic7\", \"Topic7\", \"Topic7\", \"Topic7\", \"Topic7\", \"Topic7\", \"Topic7\", \"Topic7\", \"Topic7\", \"Topic7\", \"Topic7\", \"Topic7\", \"Topic7\", \"Topic7\", \"Topic7\", \"Topic7\", \"Topic7\", \"Topic7\", \"Topic7\", \"Topic7\", \"Topic7\", \"Topic7\", \"Topic7\", \"Topic8\", \"Topic8\", \"Topic8\", \"Topic8\", \"Topic8\", \"Topic8\", \"Topic8\", \"Topic8\", \"Topic8\", \"Topic8\", \"Topic8\", \"Topic8\", \"Topic8\", \"Topic8\", \"Topic8\", \"Topic8\", \"Topic8\", \"Topic8\", \"Topic8\", \"Topic8\", \"Topic8\", \"Topic8\", \"Topic8\", \"Topic8\", \"Topic8\", \"Topic8\", \"Topic8\", \"Topic8\", \"Topic8\", \"Topic8\", \"Topic8\", \"Topic8\", \"Topic8\", \"Topic8\", \"Topic8\", \"Topic8\", \"Topic8\", \"Topic8\", \"Topic8\", \"Topic8\", \"Topic8\", \"Topic8\", \"Topic8\", \"Topic8\", \"Topic8\", \"Topic8\", \"Topic8\", \"Topic8\", \"Topic8\", \"Topic8\", \"Topic8\", \"Topic8\", \"Topic8\", \"Topic8\", \"Topic8\", \"Topic8\", \"Topic8\", \"Topic8\", \"Topic8\", \"Topic8\", \"Topic8\", \"Topic8\", \"Topic8\", \"Topic8\", \"Topic8\", \"Topic8\", \"Topic8\", \"Topic8\", \"Topic8\", \"Topic8\", \"Topic8\", \"Topic8\", \"Topic8\", \"Topic8\", \"Topic8\", \"Topic8\", \"Topic8\", \"Topic8\", \"Topic8\", \"Topic8\", \"Topic8\", \"Topic8\", \"Topic8\", \"Topic8\", \"Topic8\", \"Topic8\", \"Topic8\", \"Topic8\", \"Topic8\", \"Topic8\", \"Topic8\", \"Topic9\", \"Topic9\", \"Topic9\", \"Topic9\", \"Topic9\", \"Topic9\", \"Topic9\", \"Topic9\", \"Topic9\", \"Topic9\", \"Topic9\", \"Topic9\", \"Topic9\", \"Topic9\", \"Topic9\", \"Topic9\", \"Topic9\", \"Topic9\", \"Topic9\", \"Topic9\", \"Topic9\", \"Topic9\", \"Topic9\", \"Topic9\", \"Topic9\", \"Topic9\", \"Topic9\", \"Topic9\", \"Topic9\", \"Topic9\", \"Topic9\", \"Topic9\", \"Topic9\", \"Topic9\", \"Topic9\", \"Topic9\", \"Topic9\", \"Topic9\", \"Topic9\", \"Topic9\", \"Topic9\", \"Topic9\", \"Topic9\", \"Topic9\", \"Topic9\", \"Topic9\", \"Topic9\", \"Topic9\", \"Topic9\", \"Topic9\", \"Topic9\", \"Topic9\", \"Topic9\", \"Topic9\", \"Topic9\", \"Topic9\", \"Topic9\", \"Topic9\", \"Topic9\", \"Topic9\", \"Topic9\", \"Topic9\", \"Topic9\", \"Topic9\", \"Topic9\", \"Topic9\", \"Topic9\", \"Topic9\", \"Topic9\", \"Topic9\", \"Topic9\", \"Topic9\", \"Topic9\", \"Topic9\", \"Topic9\", \"Topic9\", \"Topic9\", \"Topic9\", \"Topic9\", \"Topic9\", \"Topic9\", \"Topic9\", \"Topic9\", \"Topic9\", \"Topic9\", \"Topic9\", \"Topic9\", \"Topic10\", \"Topic10\", \"Topic10\", \"Topic10\", \"Topic10\", \"Topic10\", \"Topic10\", \"Topic10\", \"Topic10\", \"Topic10\", \"Topic10\", \"Topic10\", \"Topic10\", \"Topic10\", \"Topic10\", \"Topic10\", \"Topic10\", \"Topic10\", \"Topic10\", \"Topic10\", \"Topic10\", \"Topic10\", \"Topic10\", \"Topic10\", \"Topic10\", \"Topic10\", \"Topic10\", \"Topic10\", \"Topic10\", \"Topic10\", \"Topic10\", \"Topic10\", \"Topic10\", \"Topic10\", \"Topic10\", \"Topic10\", \"Topic10\", \"Topic10\", \"Topic10\", \"Topic10\", \"Topic10\", \"Topic10\", \"Topic10\", \"Topic10\", \"Topic10\", \"Topic10\", \"Topic10\", \"Topic10\", \"Topic10\", \"Topic10\", \"Topic10\", \"Topic10\", \"Topic10\", \"Topic10\", \"Topic10\", \"Topic10\", \"Topic10\", \"Topic10\", \"Topic10\", \"Topic10\", \"Topic10\", \"Topic10\", \"Topic10\", \"Topic10\", \"Topic10\", \"Topic10\", \"Topic10\", \"Topic10\", \"Topic10\", \"Topic10\", \"Topic10\", \"Topic10\", \"Topic10\", \"Topic10\", \"Topic10\", \"Topic10\", \"Topic10\", \"Topic10\", \"Topic10\", \"Topic10\", \"Topic10\", \"Topic10\"], \"logprob\": [30.0, 29.0, 28.0, 27.0, 26.0, 25.0, 24.0, 23.0, 22.0, 21.0, 20.0, 19.0, 18.0, 17.0, 16.0, 15.0, 14.0, 13.0, 12.0, 11.0, 10.0, 9.0, 8.0, 7.0, 6.0, 5.0, 4.0, 3.0, 2.0, 1.0, -10.003600120544434, -10.347999572753906, -10.009699821472168, -10.748299598693848, -10.33329963684082, -10.059499740600586, -10.01259994506836, -9.235600471496582, -10.802399635314941, -10.40060043334961, -10.318300247192383, -6.120800018310547, -10.559900283813477, -10.066399574279785, -8.421600341796875, -10.566100120544434, -10.723899841308594, -8.993300437927246, -10.593899726867676, -8.270000457763672, -10.722000122070312, -11.074899673461914, -10.617500305175781, -10.51259994506836, -9.369600296020508, -10.152400016784668, -9.939800262451172, -10.758500099182129, -10.794500350952148, -8.643699645996094, -4.108500003814697, -5.484000205993652, -7.253399848937988, -7.558899879455566, -6.378200054168701, -9.393199920654297, -8.468500137329102, -6.962200164794922, -6.126299858093262, -8.699000358581543, -6.98859977722168, -6.656599998474121, -5.458099842071533, -5.618800163269043, -6.197700023651123, -6.8190999031066895, -5.443299770355225, -6.27269983291626, -5.957499980926514, -6.625899791717529, -5.292799949645996, -6.0229997634887695, -5.388599872589111, -6.172599792480469, -6.362800121307373, -6.007599830627441, -5.744500160217285, -5.503200054168701, -5.471499919891357, -5.883299827575684, -6.346499919891357, -5.557799816131592, -5.387199878692627, -5.714799880981445, -5.291999816894531, -5.713200092315674, -5.8231000900268555, -5.475500106811523, -6.170000076293945, -5.615200042724609, -5.7982001304626465, -5.252200126647949, -5.581399917602539, -5.1774001121521, -5.498199939727783, -5.713900089263916, -5.634099960327148, -5.61870002746582, -5.694499969482422, -5.640500068664551, -5.697199821472168, -5.710000038146973, -5.725599765777588, -5.718999862670898, -10.193099975585938, -10.053799629211426, -10.044400215148926, -10.18280029296875, -10.1274995803833, -10.370400428771973, -9.74269962310791, -8.825400352478027, -10.327400207519531, -10.245200157165527, -10.61050033569336, -10.08650016784668, -8.87969970703125, -9.113300323486328, -10.519000053405762, -9.985099792480469, -10.529600143432617, -9.85669994354248, -10.588700294494629, -11.031700134277344, -10.24940013885498, -7.617199897766113, -10.461600303649902, -10.747900009155273, -10.365599632263184, -9.64900016784668, -9.385199546813965, -6.867000102996826, -10.520700454711914, -10.516799926757812, -6.072800159454346, -6.316199779510498, -6.367700099945068, -5.089300155639648, -6.267399787902832, -5.876200199127197, -5.473499774932861, -5.322500228881836, -6.740300178527832, -6.710700035095215, -6.460599899291992, -5.33519983291626, -6.237599849700928, -5.311600208282471, -6.998000144958496, -6.390500068664551, -6.472799777984619, -5.7266998291015625, -5.8796000480651855, -5.224899768829346, -6.297299861907959, -6.174499988555908, -4.977200031280518, -5.328100204467773, -5.845600128173828, -5.513899803161621, -5.861499786376953, -5.413099765777588, -5.514900207519531, -5.696899890899658, -4.658100128173828, -5.762400150299072, -5.671899795532227, -5.7006001472473145, -5.45389986038208, -5.39900016784668, -5.592700004577637, -5.299200057983398, -5.785299777984619, -5.64109992980957, -5.629499912261963, -5.6234002113342285, -5.5971999168396, -5.490200042724609, -5.685800075531006, -5.746500015258789, -5.739500045776367, -9.552399635314941, -9.897500038146973, -10.057299613952637, -10.184399604797363, -10.396599769592285, -10.282899856567383, -9.273599624633789, -10.158599853515625, -10.961099624633789, -9.645400047302246, -10.286499977111816, -10.403200149536133, -10.205900192260742, -10.659799575805664, -8.672599792480469, -9.876199722290039, -9.54319953918457, -8.593000411987305, -8.759200096130371, -6.461299896240234, -10.209099769592285, -10.474699974060059, -10.60949993133545, -10.211199760437012, -10.139200210571289, -8.490900039672852, -11.07979965209961, -10.488900184631348, -9.434599876403809, -9.729399681091309, -7.152200222015381, -8.934100151062012, -9.400899887084961, -7.053500175476074, -7.527599811553955, -5.4766998291015625, -6.358399868011475, -5.5457000732421875, -5.61460018157959, -7.2758002281188965, -4.282599925994873, -5.3078999519348145, -4.815100193023682, -5.42519998550415, -7.043700218200684, -8.007200241088867, -5.3470001220703125, -5.415900230407715, -5.262400150299072, -5.198200225830078, -6.190999984741211, -5.9131999015808105, -6.115099906921387, -6.291500091552734, -5.202600002288818, -5.097700119018555, -6.326700210571289, -5.854300022125244, -5.605599880218506, -5.812399864196777, -6.002299785614014, -5.543000221252441, -5.862299919128418, -5.809100151062012, -5.664599895477295, -5.3958001136779785, -5.451200008392334, -5.63129997253418, -6.026299953460693, -5.756899833679199, -5.562600135803223, -5.96619987487793, -5.627600193023682, -5.966400146484375, -5.7067999839782715, -5.839600086212158, -5.828100204467773, -5.634500026702881, -5.737100124359131, -5.765999794006348, -5.775199890136719, -5.8140997886657715, -9.641400337219238, -10.156000137329102, -9.840900421142578, -9.044899940490723, -10.196900367736816, -10.313599586486816, -10.120499610900879, -10.640399932861328, -9.309000015258789, -9.224100112915039, -10.559800148010254, -8.67389965057373, -11.007399559020996, -9.503499984741211, -10.548199653625488, -10.421899795532227, -9.965900421142578, -9.684399604797363, -8.239399909973145, -10.710100173950195, -10.589400291442871, -9.417200088500977, -8.633099555969238, -9.735400199890137, -5.742599964141846, -9.944499969482422, -10.128800392150879, -10.503499984741211, -10.617500305175781, -10.927300453186035, -7.412499904632568, -8.184700012207031, -7.595099925994873, -6.21560001373291, -6.901100158691406, -6.942800045013428, -5.63129997253418, -6.0619001388549805, -7.42140007019043, -6.3541998863220215, -6.609600067138672, -5.615900039672852, -7.392399787902832, -5.634099960327148, -6.633900165557861, -7.431300163269043, -5.3109002113342285, -5.383299827575684, -5.622799873352051, -5.4105000495910645, -7.070199966430664, -5.485599994659424, -6.825300216674805, -5.451099872589111, -5.368299961090088, -6.20989990234375, -6.022200107574463, -5.0416998863220215, -5.597099781036377, -5.452400207519531, -5.593200206756592, -5.284800052642822, -5.516300201416016, -5.481200218200684, -5.206200122833252, -5.354599952697754, -4.688000202178955, -5.559299945831299, -5.594200134277344, -5.929299831390381, -5.502200126647949, -5.787799835205078, -5.66510009765625, -5.611199855804443, -5.515399932861328, -5.577600002288818, -5.62939977645874, -5.668000221252441, -5.578800201416016, -9.634400367736816, -9.77340030670166, -10.125800132751465, -10.340399742126465, -9.962400436401367, -8.62600040435791, -9.70110034942627, -10.425999641418457, -7.923999786376953, -10.346099853515625, -9.323100090026855, -9.635600090026855, -10.76729965209961, -7.573200225830078, -10.390399932861328, -9.571599960327148, -10.141300201416016, -9.850000381469727, -10.669500350952148, -10.450799942016602, -9.071499824523926, -9.464799880981445, -10.21310043334961, -9.422800064086914, -10.2608003616333, -9.402899742126465, -10.583800315856934, -9.266200065612793, -9.969099998474121, -9.593700408935547, -7.623600006103516, -8.881199836730957, -6.745200157165527, -5.6367998123168945, -6.960899829864502, -5.1203999519348145, -7.1579999923706055, -6.4278998374938965, -5.912399768829346, -7.129700183868408, -5.8618998527526855, -6.258900165557861, -6.343400001525879, -7.80109977722168, -7.7108001708984375, -7.124000072479248, -5.1915998458862305, -5.610899925231934, -5.035200119018555, -6.320899963378906, -5.826300144195557, -5.532700061798096, -6.958099842071533, -5.334799766540527, -5.464200019836426, -4.991600036621094, -5.81220006942749, -6.537600040435791, -6.19950008392334, -6.070899963378906, -5.585899829864502, -5.541800022125244, -5.340700149536133, -5.649899959564209, -5.392600059509277, -5.791800022125244, -5.757599830627441, -5.6092000007629395, -4.753799915313721, -5.564199924468994, -5.801700115203857, -5.53439998626709, -5.63670015335083, -5.6280999183654785, -5.78849983215332, -5.563199996948242, -5.632999897003174, -5.6656999588012695, -5.682400226593018, -5.714200019836426, -5.756999969482422, -5.760300159454346, -10.33180046081543, -9.32610034942627, -9.979700088500977, -8.830300331115723, -10.390899658203125, -10.15939998626709, -9.873100280761719, -9.358400344848633, -10.433099746704102, -10.545900344848633, -10.560799598693848, -10.036199569702148, -8.948699951171875, -10.453300476074219, -9.845600128173828, -10.19789981842041, -10.73330020904541, -10.167400360107422, -11.051400184631348, -9.807299613952637, -10.616499900817871, -10.622699737548828, -10.159199714660645, -10.601799964904785, -10.061300277709961, -10.72920036315918, -10.208700180053711, -10.229299545288086, -8.92020034790039, -10.508299827575684, -6.7718000411987305, -9.701899528503418, -8.9128999710083, -7.732999801635742, -8.899299621582031, -6.2428998947143555, -6.4079999923706055, -6.317800045013428, -7.795300006866455, -8.050399780273438, -5.202899932861328, -7.57420015335083, -4.348700046539307, -5.231800079345703, -7.492000102996826, -8.109700202941895, -5.896399974822998, -5.6194000244140625, -6.19890022277832, -5.939000129699707, -6.000100135803223, -5.400899887084961, -6.4471001625061035, -6.831200122833252, -5.164000034332275, -5.6981000900268555, -6.508299827575684, -6.676599979400635, -5.416600227355957, -5.42710018157959, -6.254499912261963, -6.545100212097168, -5.857999801635742, -5.495999813079834, -5.684299945831299, -6.396699905395508, -6.354700088500977, -5.311600208282471, -5.747399806976318, -5.937900066375732, -5.563300132751465, -5.447000026702881, -5.9116997718811035, -5.926499843597412, -5.5569000244140625, -5.099599838256836, -5.541200160980225, -5.559700012207031, -5.230899810791016, -5.36870002746582, -5.50629997253418, -5.582600116729736, -5.6128997802734375, -5.781099796295166, -5.596700191497803, -5.682600021362305, -5.598499774932861, -5.723100185394287, -5.697800159454346, -5.698599815368652, -5.676700115203857, -10.13230037689209, -10.275300025939941, -10.209099769592285, -8.026100158691406, -10.307499885559082, -9.855600357055664, -10.183600425720215, -8.84220027923584, -10.660599708557129, -7.6234002113342285, -10.574000358581543, -8.119600296020508, -9.102700233459473, -10.195599555969238, -9.571000099182129, -11.025899887084961, -9.723299980163574, -10.572099685668945, -10.69950008392334, -10.355500221252441, -9.23639965057373, -11.050000190734863, -10.490599632263184, -8.088700294494629, -9.920700073242188, -9.936100006103516, -10.13290023803711, -9.47189998626709, -9.026900291442871, -9.884499549865723, -8.162699699401855, -9.285099983215332, -7.727799892425537, -8.365300178527832, -5.156199932098389, -6.295100212097168, -8.089699745178223, -8.215499877929688, -5.94920015335083, -7.2916998863220215, -6.059599876403809, -6.642099857330322, -6.595200061798096, -6.204899787902832, -7.3867998123168945, -5.561699867248535, -5.288300037384033, -5.802999973297119, -7.418399810791016, -7.335899829864502, -6.634500026702881, -5.453700065612793, -7.4532999992370605, -7.084000110626221, -5.3719000816345215, -6.217199802398682, -5.279300212860107, -5.818299770355225, -5.4994001388549805, -5.348400115966797, -5.918799877166748, -5.426199913024902, -4.570400238037109, -5.786099910736084, -6.411900043487549, -5.517099857330322, -5.898099899291992, -5.507599830627441, -5.4842000007629395, -6.004000186920166, -5.625100135803223, -5.783599853515625, -5.767399787902832, -5.840199947357178, -5.43310022354126, -5.666800022125244, -5.598999977111816, -5.508699893951416, -5.579400062561035, -5.578499794006348, -5.697800159454346, -5.456099987030029, -5.5706000328063965, -5.780099868774414, -5.522500038146973, -5.761899948120117, -5.7718000411987305, -9.7391996383667, -10.006600379943848, -10.34630012512207, -10.888299942016602, -9.382200241088867, -9.603599548339844, -10.272299766540527, -10.134599685668945, -9.793700218200684, -10.517399787902832, -10.653900146484375, -7.424900054931641, -11.009900093078613, -10.349300384521484, -10.114899635314941, -10.888699531555176, -10.463299751281738, -10.025199890136719, -10.473099708557129, -8.714599609375, -9.934300422668457, -10.740900039672852, -10.430299758911133, -9.80459976196289, -10.229999542236328, -9.480400085449219, -10.755800247192383, -10.935799598693848, -10.323800086975098, -8.453700065612793, -6.9004998207092285, -5.212699890136719, -7.280799865722656, -6.85830020904541, -8.373299598693848, -8.068699836730957, -6.388599872589111, -6.094799995422363, -6.876800060272217, -5.26140022277832, -7.5329999923706055, -6.097599983215332, -5.276299953460693, -6.162199974060059, -5.7032999992370605, -6.548699855804443, -7.754300117492676, -7.578499794006348, -5.241799831390381, -5.187300205230713, -6.297800064086914, -6.397500038146973, -6.492300033569336, -5.402400016784668, -6.6072001457214355, -5.745200157165527, -6.438700199127197, -6.045100212097168, -6.048999786376953, -5.346399784088135, -5.881199836730957, -6.42519998550415, -6.31279993057251, -5.821499824523926, -5.573800086975098, -5.569200038909912, -5.383399963378906, -5.82289981842041, -6.084499835968018, -5.675000190734863, -5.346799850463867, -5.164100170135498, -5.994500160217285, -4.823500156402588, -5.813600063323975, -5.791200160980225, -5.619200229644775, -5.409999847412109, -5.678599834442139, -5.7845001220703125, -5.865900039672852, -5.752299785614014, -5.867199897766113, -5.6819000244140625, -5.775300025939941, -5.766200065612793, -5.7245001792907715, -5.711299896240234, -5.698299884796143, -5.750500202178955, -5.801300048828125, -9.729599952697754, -9.661399841308594, -10.501500129699707, -9.771300315856934, -10.747200012207031, -9.55150032043457, -10.783599853515625, -10.26710033416748, -10.618000030517578, -7.0746002197265625, -10.55739974975586, -10.999699592590332, -9.882800102233887, -9.94789981842041, -9.001399993896484, -9.15470027923584, -10.083800315856934, -11.0423002243042, -9.465399742126465, -10.351400375366211, -8.909099578857422, -11.052000045776367, -10.27810001373291, -8.325300216674805, -9.592599868774414, -9.130499839782715, -6.596499919891357, -10.727700233459473, -9.816800117492676, -9.579700469970703, -8.978599548339844, -7.405099868774414, -7.311800003051758, -9.030799865722656, -6.868000030517578, -6.225299835205078, -8.935600280761719, -5.5518999099731445, -7.128799915313721, -6.762700080871582, -5.119500160217285, -6.1107001304626465, -7.5868000984191895, -6.25570011138916, -5.949999809265137, -7.63100004196167, -5.870200157165527, -6.488500118255615, -5.936200141906738, -4.991399765014648, -5.834499835968018, -5.854899883270264, -6.057499885559082, -5.934000015258789, -6.2291998863220215, -6.657100200653076, -6.010799884796143, -5.175099849700928, -5.321100234985352, -5.374199867248535, -6.490300178527832, -6.1992998123168945, -5.454500198364258, -5.2941999435424805, -6.215000152587891, -5.458700180053711, -5.779200077056885, -5.714099884033203, -5.584700107574463, -5.743599891662598, -5.589300155639648, -5.775000095367432, -5.60830020904541, -5.708000183105469, -5.5117998123168945, -5.697000026702881, -5.63070011138916, -5.316100120544434, -5.539999961853027, -5.123199939727783, -5.66949987411499, -5.725599765777588, -5.744800090789795, -5.761600017547607, -5.815899848937988, -5.817699909210205, -5.83050012588501, -9.848899841308594, -10.089699745178223, -9.578499794006348, -10.332099914550781, -7.676799774169922, -9.423600196838379, -10.086600303649902, -10.431900024414062, -9.779899597167969, -10.49839973449707, -9.98960018157959, -10.375800132751465, -10.20300006866455, -9.706100463867188, -10.520999908447266, -8.29010009765625, -10.231100082397461, -10.132200241088867, -10.216400146484375, -10.25979995727539, -10.565500259399414, -10.698200225830078, -10.339699745178223, -8.110899925231934, -10.243399620056152, -7.771599769592285, -9.160099983215332, -10.121700286865234, -10.88949966430664, -10.620400428771973, -7.518799781799316, -6.388500213623047, -5.812399864196777, -6.485599994659424, -5.609600067138672, -6.548500061035156, -7.326399803161621, -6.397900104522705, -5.565000057220459, -6.870299816131592, -6.020400047302246, -6.79040002822876, -7.8140997886657715, -5.334099769592285, -5.789100170135498, -8.097599983215332, -6.4421000480651855, -5.414599895477295, -6.33459997177124, -5.743800163269043, -5.409299850463867, -5.280399799346924, -6.447400093078613, -5.679699897766113, -4.98390007019043, -5.858399868011475, -6.257699966430664, -5.975800037384033, -5.4633002281188965, -5.481599807739258, -6.298600196838379, -5.588699817657471, -5.826900005340576, -5.5792999267578125, -6.23859977722168, -6.148900032043457, -5.773600101470947, -5.44379997253418, -5.614099979400635, -5.815700054168701, -4.916900157928467, -5.65500020980835, -5.385200023651123, -5.982699871063232, -5.595399856567383, -5.870200157165527, -5.597099781036377, -5.610199928283691, -5.516600131988525, -5.638899803161621, -5.821199893951416, -5.84499979019165], \"loglift\": [30.0, 29.0, 28.0, 27.0, 26.0, 25.0, 24.0, 23.0, 22.0, 21.0, 20.0, 19.0, 18.0, 17.0, 16.0, 15.0, 14.0, 13.0, 12.0, 11.0, 10.0, 9.0, 8.0, 7.0, 6.0, 5.0, 4.0, 3.0, 2.0, 1.0, 1.0466, 0.9322, 0.7507, 0.7059, 0.6915, 0.6826, 0.6721, 0.6584, 0.6542, 0.6466, 0.6325, 0.6269, 0.6238, 0.6188, 0.595, 0.59, 0.5847, 0.566, 0.5644, 0.5567, 0.5547, 0.5464, 0.538, 0.5348, 0.5346, 0.5305, 0.5209, 0.52, 0.5144, 0.5102, 0.4701, 0.4695, 0.4742, 0.4591, 0.4169, 0.5078, 0.4698, 0.4066, 0.3462, 0.4778, 0.38, 0.3504, 0.2572, 0.2671, 0.3053, 0.3483, 0.2386, 0.3049, 0.2759, 0.3334, 0.2154, 0.2709, 0.1744, 0.2612, 0.276, 0.2281, 0.1908, 0.1559, 0.1353, 0.1905, 0.2644, 0.1328, 0.1001, 0.1474, 0.0587, 0.1351, 0.1588, 0.0825, 0.2283, 0.0954, 0.1393, -0.0278, 0.06, -0.0867, -0.0432, 0.0581, 0.0097, -0.0121, -0.0146, -0.1336, -0.0856, -0.1206, -0.1513, -0.3182, 0.953, 0.8881, 0.8765, 0.8347, 0.7977, 0.7817, 0.7422, 0.7155, 0.7143, 0.6986, 0.6686, 0.6685, 0.6679, 0.6496, 0.6325, 0.6248, 0.6196, 0.6152, 0.5918, 0.5868, 0.5853, 0.5841, 0.56, 0.5597, 0.5583, 0.5563, 0.5385, 0.5263, 0.5238, 0.5222, 0.5198, 0.4904, 0.461, 0.4177, 0.4528, 0.4297, 0.3886, 0.3595, 0.4165, 0.4022, 0.373, 0.2814, 0.3492, 0.2778, 0.4008, 0.3442, 0.3385, 0.2573, 0.2722, 0.1759, 0.3006, 0.2798, 0.1136, 0.1592, 0.2294, 0.1767, 0.2243, 0.15, 0.165, 0.1801, -0.0795, 0.1729, 0.1401, 0.1477, 0.0544, 0.036, 0.0487, -0.0748, 0.1172, 0.0408, -0.0008, -0.0166, -0.0392, -0.1394, -0.0267, 0.0254, -0.2845, 1.0623, 0.7674, 0.7635, 0.7621, 0.7536, 0.7347, 0.6939, 0.6783, 0.6582, 0.654, 0.6394, 0.6386, 0.6323, 0.6147, 0.6131, 0.6111, 0.5768, 0.5745, 0.571, 0.5703, 0.5482, 0.546, 0.5453, 0.5437, 0.5426, 0.5425, 0.5387, 0.5333, 0.5326, 0.5326, 0.5204, 0.5281, 0.5322, 0.5015, 0.4774, 0.4121, 0.4362, 0.4079, 0.4021, 0.4528, 0.2959, 0.3359, 0.2757, 0.2853, 0.3992, 0.4685, 0.2595, 0.2432, 0.2249, 0.2026, 0.2877, 0.2547, 0.2693, 0.2865, 0.1482, 0.1267, 0.2828, 0.2104, 0.1664, 0.195, 0.216, 0.1368, 0.1924, 0.1822, 0.1474, 0.0592, 0.0553, 0.1013, 0.2094, 0.1202, 0.0117, 0.1858, -0.016, 0.1678, -0.0655, 0.047, 0.0324, -0.1995, -0.1791, -0.2578, -0.2683, -0.1321, 0.9579, 0.8956, 0.827, 0.7722, 0.733, 0.7128, 0.6374, 0.6346, 0.634, 0.6283, 0.6254, 0.6204, 0.6134, 0.6085, 0.6056, 0.5993, 0.5848, 0.5815, 0.5706, 0.5686, 0.5686, 0.5597, 0.5581, 0.5569, 0.5476, 0.543, 0.5405, 0.5401, 0.5374, 0.5277, 0.5234, 0.5073, 0.4813, 0.4437, 0.4424, 0.4373, 0.3761, 0.3889, 0.4445, 0.3863, 0.3917, 0.3217, 0.434, 0.2981, 0.3731, 0.4281, 0.2634, 0.2282, 0.2377, 0.206, 0.3845, 0.1964, 0.3545, 0.1776, 0.1386, 0.2486, 0.2135, 0.049, 0.1355, 0.1056, 0.1221, 0.066, 0.0902, 0.0818, 0.0182, 0.0462, -0.1094, 0.0845, 0.0877, 0.1565, 0.006, 0.0981, 0.0454, -0.0045, -0.0604, -0.0711, -0.04, -0.0089, -0.1438, 0.9111, 0.8235, 0.8202, 0.8116, 0.8079, 0.7949, 0.7865, 0.7259, 0.7141, 0.6929, 0.689, 0.6884, 0.6804, 0.6693, 0.6541, 0.6536, 0.6309, 0.6227, 0.6054, 0.5911, 0.5865, 0.5841, 0.5802, 0.5793, 0.5747, 0.5739, 0.5704, 0.562, 0.56, 0.5566, 0.5298, 0.5431, 0.4846, 0.449, 0.4693, 0.3861, 0.4661, 0.4308, 0.3778, 0.4412, 0.3565, 0.3711, 0.376, 0.4719, 0.4641, 0.4151, 0.2433, 0.2661, 0.1891, 0.3088, 0.2487, 0.1999, 0.3749, 0.1721, 0.1771, 0.0992, 0.1952, 0.3011, 0.2454, 0.2189, 0.1295, 0.102, 0.0601, 0.1221, 0.0624, 0.1434, 0.1313, 0.0707, -0.1752, 0.0473, 0.0841, -0.0261, -0.008, -0.0213, 0.0598, -0.0759, -0.0587, -0.1077, -0.093, -0.055, -0.0464, -0.4096, 0.7141, 0.7136, 0.6862, 0.6626, 0.6608, 0.6598, 0.646, 0.628, 0.6128, 0.6101, 0.5957, 0.5943, 0.5937, 0.5909, 0.5833, 0.5774, 0.5759, 0.5702, 0.5696, 0.5689, 0.5673, 0.5582, 0.5582, 0.5523, 0.5515, 0.5483, 0.5473, 0.5457, 0.5435, 0.5385, 0.4888, 0.5282, 0.508, 0.45, 0.495, 0.3831, 0.3898, 0.368, 0.444, 0.4558, 0.3036, 0.4256, 0.2299, 0.2765, 0.4108, 0.4472, 0.3051, 0.2843, 0.3203, 0.2967, 0.2897, 0.2279, 0.3176, 0.3486, 0.1868, 0.2395, 0.3149, 0.3254, 0.1949, 0.1895, 0.2799, 0.3095, 0.2325, 0.1839, 0.2023, 0.2856, 0.2768, 0.1234, 0.1848, 0.2141, 0.152, 0.1273, 0.2028, 0.2051, 0.1337, -0.0088, 0.1001, 0.0994, -0.0066, 0.0321, 0.0517, 0.0068, -0.0062, 0.1047, -0.0337, 0.0279, -0.1436, 0.0095, -0.054, -0.0921, -0.1698, 0.717, 0.6701, 0.6647, 0.6471, 0.6379, 0.6308, 0.6297, 0.6269, 0.6141, 0.6104, 0.6066, 0.6046, 0.6041, 0.5954, 0.5898, 0.5893, 0.5878, 0.582, 0.573, 0.5701, 0.5691, 0.5663, 0.5511, 0.5503, 0.5487, 0.5485, 0.5468, 0.5455, 0.5451, 0.5415, 0.5301, 0.5415, 0.5146, 0.5237, 0.4332, 0.4526, 0.507, 0.5034, 0.4188, 0.466, 0.3916, 0.4192, 0.4143, 0.3877, 0.4498, 0.342, 0.3182, 0.3488, 0.4495, 0.4343, 0.3737, 0.2616, 0.4336, 0.3993, 0.2349, 0.3045, 0.1757, 0.2364, 0.1912, 0.1585, 0.227, 0.1481, 0.0082, 0.1978, 0.2933, 0.1117, 0.1832, 0.104, 0.0738, 0.1775, 0.0854, 0.1189, 0.0932, 0.092, -0.0823, 0.0151, -0.036, -0.1079, -0.0711, -0.0912, -0.0159, -0.2317, -0.1357, 0.0319, -0.4317, -0.0293, -0.1305, 0.9041, 0.8127, 0.8078, 0.7288, 0.7278, 0.6576, 0.6499, 0.637, 0.6348, 0.6337, 0.6222, 0.6219, 0.6086, 0.5959, 0.5625, 0.5621, 0.555, 0.5541, 0.5468, 0.5459, 0.5387, 0.5356, 0.5332, 0.5314, 0.5246, 0.5232, 0.5202, 0.5128, 0.5078, 0.502, 0.4882, 0.4692, 0.4842, 0.4531, 0.476, 0.4645, 0.406, 0.3913, 0.4237, 0.3552, 0.4418, 0.3749, 0.3131, 0.3562, 0.3134, 0.367, 0.4379, 0.4264, 0.2665, 0.2476, 0.3246, 0.3242, 0.321, 0.2091, 0.3259, 0.2206, 0.296, 0.2448, 0.2449, 0.1409, 0.2001, 0.2749, 0.2556, 0.1699, 0.1168, 0.1107, 0.0716, 0.1512, 0.2069, 0.097, 0.0039, -0.0733, 0.1781, -0.2449, 0.0888, 0.071, -0.0449, -0.1857, -0.0372, 0.0275, 0.0694, -0.0417, 0.065, -0.175, -0.06, -0.0842, -0.1614, -0.2048, -0.2975, -0.1438, -0.1422, 1.104, 0.8668, 0.7786, 0.7478, 0.7044, 0.6986, 0.6647, 0.6552, 0.6544, 0.6345, 0.6215, 0.6176, 0.6042, 0.6001, 0.5863, 0.5855, 0.5801, 0.5743, 0.5743, 0.5708, 0.5672, 0.5641, 0.5587, 0.5586, 0.5579, 0.5543, 0.5528, 0.5446, 0.5435, 0.5385, 0.5356, 0.5196, 0.4951, 0.5302, 0.4777, 0.4477, 0.5275, 0.4222, 0.4516, 0.4098, 0.3155, 0.3579, 0.4446, 0.3539, 0.3205, 0.4462, 0.3113, 0.3577, 0.3092, 0.2329, 0.2985, 0.2971, 0.3145, 0.2993, 0.3209, 0.3601, 0.2806, 0.1756, 0.1854, 0.1889, 0.323, 0.2795, 0.1522, 0.1066, 0.2663, 0.0993, 0.1584, 0.1342, 0.0744, 0.1169, 0.0521, 0.1109, 0.0355, 0.064, -0.0245, 0.0356, -0.0241, -0.2254, -0.085, -0.5447, -0.0407, -0.0437, -0.0542, -0.145, -0.3076, -0.3108, -0.1506, 1.0662, 1.0549, 0.9463, 0.814, 0.7579, 0.7535, 0.7276, 0.7147, 0.6869, 0.6757, 0.6685, 0.6634, 0.6464, 0.6376, 0.6275, 0.6258, 0.6225, 0.6196, 0.6153, 0.61, 0.6091, 0.6043, 0.6026, 0.5987, 0.5863, 0.5662, 0.5627, 0.5574, 0.5564, 0.5564, 0.54, 0.5202, 0.4534, 0.4578, 0.4203, 0.4355, 0.4441, 0.3917, 0.3375, 0.4152, 0.3517, 0.3968, 0.4633, 0.2402, 0.2756, 0.4734, 0.3283, 0.2142, 0.3043, 0.2381, 0.1972, 0.1746, 0.3098, 0.2091, 0.1069, 0.2166, 0.2639, 0.2035, 0.0947, 0.0815, 0.2552, 0.0933, 0.139, 0.0373, 0.2339, 0.2061, 0.0747, -0.043, -0.0073, 0.0613, -0.3383, -0.0112, -0.1608, 0.1318, -0.0889, 0.0651, -0.1098, -0.1033, -0.1658, -0.204, -0.0092, -0.1859]}, \"token.table\": {\"Topic\": [1, 3, 5, 7, 9, 9, 1, 2, 3, 4, 5, 6, 7, 8, 9, 10, 9, 1, 2, 3, 4, 5, 6, 7, 8, 9, 10, 9, 1, 2, 3, 4, 5, 6, 7, 8, 9, 10, 1, 2, 3, 4, 5, 6, 7, 8, 9, 10, 1, 2, 3, 4, 5, 6, 7, 8, 9, 10, 1, 2, 7, 8, 1, 2, 3, 4, 5, 6, 7, 8, 9, 10, 1, 2, 3, 4, 6, 8, 10, 2, 3, 5, 7, 8, 9, 10, 1, 2, 3, 4, 5, 6, 7, 8, 9, 10, 1, 2, 3, 4, 5, 6, 7, 8, 9, 10, 1, 2, 3, 4, 5, 6, 7, 8, 9, 10, 1, 2, 3, 4, 5, 6, 9, 10, 1, 2, 3, 4, 5, 6, 7, 8, 9, 10, 1, 2, 3, 4, 5, 6, 7, 8, 9, 10, 1, 1, 2, 3, 4, 5, 6, 7, 8, 9, 10, 1, 2, 3, 4, 5, 6, 7, 8, 9, 10, 1, 2, 3, 4, 5, 6, 7, 8, 9, 10, 1, 2, 3, 4, 5, 6, 7, 8, 9, 10, 1, 2, 3, 6, 9, 10, 1, 2, 3, 4, 5, 6, 7, 8, 9, 10, 1, 2, 3, 4, 6, 8, 1, 2, 3, 4, 5, 6, 7, 8, 9, 10, 1, 2, 3, 4, 5, 6, 7, 8, 9, 10, 1, 2, 3, 4, 5, 6, 7, 8, 10, 1, 2, 3, 4, 5, 6, 7, 8, 9, 10, 1, 2, 3, 4, 5, 6, 7, 8, 9, 10, 2, 3, 4, 5, 6, 7, 8, 9, 10, 1, 2, 3, 4, 5, 6, 8, 10, 2, 5, 6, 8, 9, 10, 2, 3, 4, 6, 7, 8, 9, 10, 1, 2, 3, 4, 5, 6, 7, 8, 9, 10, 1, 2, 3, 4, 5, 6, 7, 8, 9, 10, 1, 2, 3, 5, 9, 10, 1, 2, 3, 9, 10, 1, 2, 4, 7, 9, 2, 5, 8, 9, 10, 3, 10, 1, 2, 3, 5, 6, 7, 8, 9, 10, 1, 9, 2, 3, 4, 5, 6, 7, 8, 9, 2, 3, 9, 10, 1, 2, 3, 4, 5, 6, 7, 8, 9, 10, 2, 3, 4, 5, 6, 8, 9, 10, 1, 2, 3, 4, 5, 6, 7, 8, 9, 10, 1, 2, 3, 4, 5, 6, 7, 8, 9, 10, 1, 2, 3, 4, 5, 6, 7, 8, 9, 10, 1, 2, 3, 4, 5, 6, 7, 8, 9, 10, 1, 2, 3, 4, 5, 6, 7, 8, 9, 1, 2, 6, 8, 9, 1, 2, 3, 4, 5, 6, 7, 8, 9, 10, 1, 2, 5, 8, 9, 10, 1, 2, 3, 4, 5, 6, 7, 8, 9, 10, 1, 2, 3, 4, 5, 6, 7, 8, 9, 10, 1, 2, 3, 4, 5, 6, 8, 9, 10, 1, 2, 3, 4, 5, 6, 7, 8, 9, 10, 2, 3, 4, 6, 8, 1, 2, 3, 4, 5, 6, 7, 8, 9, 10, 1, 2, 3, 4, 5, 6, 7, 8, 9, 10, 1, 2, 3, 5, 7, 8, 1, 2, 3, 5, 7, 8, 10, 1, 2, 4, 6, 7, 1, 2, 3, 4, 5, 6, 7, 8, 9, 10, 1, 2, 3, 4, 5, 6, 7, 8, 9, 10, 2, 5, 7, 1, 2, 3, 4, 5, 6, 7, 8, 10, 1, 2, 3, 4, 5, 6, 7, 8, 9, 10, 1, 2, 3, 4, 5, 6, 7, 8, 2, 3, 4, 5, 8, 9, 1, 2, 3, 4, 5, 6, 7, 8, 9, 10, 1, 2, 3, 4, 5, 6, 7, 9, 10, 1, 2, 3, 4, 5, 6, 7, 8, 9, 10, 1, 2, 3, 4, 5, 6, 7, 8, 9, 10, 1, 2, 3, 4, 5, 6, 7, 8, 9, 10, 5, 6, 7, 8, 10, 1, 2, 3, 4, 5, 6, 7, 8, 9, 10, 1, 3, 6, 7, 10, 1, 2, 3, 5, 6, 8, 9, 1, 2, 3, 4, 5, 6, 7, 8, 9, 10, 1, 2, 3, 4, 5, 6, 7, 8, 9, 10, 1, 5, 7, 10, 1, 2, 3, 4, 5, 6, 7, 8, 9, 10, 1, 2, 3, 4, 5, 6, 7, 8, 9, 10, 1, 2, 3, 4, 5, 6, 7, 8, 9, 10, 1, 2, 3, 4, 5, 6, 10, 1, 3, 4, 6, 8, 1, 2, 3, 4, 5, 6, 7, 8, 9, 10, 1, 5, 6, 1, 2, 3, 4, 5, 6, 7, 8, 9, 10, 1, 2, 3, 4, 5, 6, 7, 8, 9, 10, 1, 2, 3, 4, 5, 6, 7, 8, 9, 10, 1, 2, 3, 4, 5, 6, 7, 8, 9, 10, 2, 10, 4, 8, 1, 2, 3, 4, 5, 6, 7, 8, 9, 10, 1, 2, 3, 4, 5, 6, 7, 8, 9, 10, 2, 3, 4, 5, 6, 7, 8, 10, 1, 2, 3, 4, 5, 6, 8, 9, 10, 1, 2, 3, 4, 5, 6, 7, 8, 9, 10, 1, 2, 3, 4, 5, 6, 7, 8, 9, 10, 1, 2, 3, 4, 5, 6, 7, 8, 9, 10, 1, 5, 7, 9, 1, 2, 3, 4, 5, 6, 7, 8, 9, 10, 1, 2, 3, 4, 5, 6, 7, 8, 9, 10, 1, 2, 3, 4, 5, 6, 7, 8, 9, 10, 1, 2, 3, 4, 5, 6, 7, 8, 9, 10, 1, 2, 3, 4, 5, 6, 7, 8, 9, 10, 1, 2, 3, 4, 5, 6, 7, 8, 9, 10, 1, 2, 3, 4, 5, 6, 7, 8, 9, 10, 1, 2, 3, 4, 5, 6, 7, 8, 9, 10, 1, 2, 3, 4, 5, 6, 7, 8, 9, 10, 1, 2, 3, 4, 5, 6, 7, 8, 9, 10, 1, 2, 3, 4, 5, 6, 7, 8, 9, 10, 1, 2, 3, 4, 5, 6, 7, 8, 9, 10, 1, 2, 3, 4, 5, 6, 7, 8, 9, 10, 1, 2, 3, 4, 5, 6, 7, 8, 9, 10, 1, 2, 3, 4, 6, 7, 8, 9, 10, 1, 2, 3, 4, 5, 6, 7, 8, 9, 10, 1, 2, 4, 5, 6, 7, 8, 9, 10, 1, 2, 3, 4, 6, 7, 9, 1, 2, 3, 4, 5, 6, 7, 8, 10, 2, 3, 4, 5, 1, 2, 3, 4, 5, 6, 7, 8, 9, 10, 1, 2, 3, 4, 5, 6, 7, 8, 9, 10, 1, 2, 3, 4, 5, 6, 7, 8, 9, 10, 1, 2, 3, 5, 6, 8, 9, 10, 1, 2, 3, 4, 5, 6, 7, 8, 9, 10, 1, 2, 3, 4, 5, 6, 7, 8, 9, 10, 1, 2, 3, 4, 5, 6, 7, 8, 9, 10, 1, 2, 3, 4, 5, 6, 7, 8, 9, 10, 1, 2, 3, 4, 5, 6, 7, 8, 9, 10, 1, 2, 3, 4, 5, 6, 7, 8, 9, 10, 1, 2, 3, 4, 5, 6, 7, 8, 9, 10, 1, 2, 3, 4, 5, 6, 7, 8, 9, 10, 1, 2, 3, 4, 5, 6, 7, 8, 9, 10, 1, 2, 3, 4, 5, 6, 7, 8, 10, 1, 2, 3, 4, 5, 6, 7, 8, 9, 10, 1, 2, 3, 4, 5, 6, 7, 8, 9, 10, 1, 2, 3, 4, 5, 6, 7, 8, 9, 10, 1, 2, 3, 4, 5, 6, 7, 8, 9, 10, 2, 3, 4, 6, 7, 8, 9, 10, 1, 2, 3, 4, 5, 6, 7, 8, 9, 10, 1, 2, 3, 4, 5, 6, 7, 8, 9, 10, 1, 2, 3, 5, 6, 7, 8, 9, 10, 1, 2, 3, 4, 5, 6, 7, 8, 9, 10, 1, 2, 3, 4, 5, 6, 7, 8, 9, 10, 1, 2, 3, 4, 5, 6, 7, 8, 9, 10, 1, 2, 3, 4, 5, 6, 7, 8, 9, 10, 1, 2, 3, 4, 5, 6, 7, 8, 9, 10, 1, 2, 3, 4, 5, 6, 7, 8, 9, 10, 1, 2, 3, 4, 5, 6, 7, 8, 9, 10, 1, 2, 3, 4, 5, 6, 7, 8, 9, 10, 1, 2, 3, 4, 6, 8, 1, 2, 3, 4, 5, 6, 7, 8, 9, 10, 1, 2, 3, 4, 5, 6, 7, 8, 9, 10, 1, 2, 3, 4, 5, 6, 7, 8, 9, 10, 1, 2, 3, 4, 5, 6, 7, 8, 9, 10, 1, 2, 3, 4, 5, 6, 7, 8, 9, 10, 1, 2, 3, 4, 5, 6, 7, 8, 9, 10, 1, 2, 3, 4, 5, 6, 7, 8, 9, 10, 1, 2, 3, 4, 5, 6, 7, 8, 9, 10, 1, 2, 3, 4, 5, 6, 7, 8, 9, 10, 1, 2, 3, 4, 5, 6, 7, 8, 9, 10, 1, 2, 3, 4, 5, 6, 7, 8, 9, 10, 1, 2, 3, 4, 5, 6, 7, 8, 9, 10, 1, 2, 3, 4, 5, 7, 8, 9, 1, 2, 3, 4, 5, 6, 7, 8, 9, 10, 1, 2, 3, 4, 5, 6, 7, 8, 9, 10, 1, 2, 3, 4, 5, 6, 7, 8, 9, 10, 1, 2, 3, 4, 5, 6, 7, 8, 9, 10, 1, 2, 3, 4, 5, 6, 7, 8, 9, 10, 1, 2, 3, 4, 5, 6, 7, 8, 9, 10, 1, 8, 9, 10, 1, 2, 3, 4, 5, 6, 7, 8, 9, 10, 1, 2, 3, 4, 5, 6, 7, 8, 9, 10, 1, 4, 7, 1, 2, 3, 4, 5, 6, 7, 8, 9, 10, 1, 3, 4, 7, 1, 2, 3, 4, 5, 6, 7, 8, 9, 10, 1, 2, 3, 4, 5, 6, 7, 8, 9, 10, 1, 2, 3, 4, 5, 6, 7, 8, 10, 3, 1, 2, 3, 6, 9, 10, 1, 2, 3, 4, 5, 6, 7, 8, 9, 10, 1, 2, 3, 4, 5, 6, 7, 8, 9, 10, 6, 1, 2, 3, 4, 5, 6, 7, 8, 9, 10, 2, 1, 2, 3, 5, 7, 8, 1, 2, 3, 4, 5, 6, 7, 8, 9, 10, 1, 2, 3, 4, 5, 6, 7, 8, 9, 10, 1, 2, 3, 4, 5, 6, 7, 8, 9, 10, 1, 2, 3, 4, 5, 6, 7, 8, 9, 10, 1, 2, 3, 5, 6, 8, 1, 3, 10, 1, 2, 3, 4, 5, 6, 7, 8, 9, 10, 1, 2, 3, 4, 5, 6, 7, 8, 9, 10, 1, 2, 3, 4, 5, 6, 7, 8, 9, 10, 1, 2, 3, 4, 5, 6, 7, 8, 9, 10, 1, 2, 3, 6, 7, 9, 10, 1, 2, 3, 4, 5, 6, 7, 8, 9, 10, 1, 2, 3, 4, 5, 6, 7, 8, 9, 10, 1, 2, 3, 4, 5, 6, 7, 8, 9, 10, 1, 2, 3, 4, 5, 7, 8, 9, 10, 1, 2, 3, 4, 5, 6, 7, 8, 9, 10, 1, 2, 3, 4, 5, 6, 7, 8, 9, 10, 1, 2, 3, 4, 5, 6, 7, 8, 9, 10, 1, 2, 3, 4, 6, 7, 8, 9, 10, 1, 2, 3, 4, 5, 6, 7, 8, 9, 10, 1, 2, 3, 4, 6, 7, 8, 9, 1, 2, 3, 4, 5, 6, 7, 8, 9, 10, 1, 2, 3, 4, 5, 6, 7, 8, 9, 10, 1, 2, 3, 4, 5, 6, 7, 8, 9, 10, 1, 2, 3, 4, 5, 6, 7, 8, 9, 10, 3, 5, 8, 1, 2, 3, 4, 5, 6, 7, 8, 9, 10, 1, 2, 3, 4, 5, 6, 7, 8, 9, 10, 1, 2, 3, 4, 5, 6, 7, 8, 9, 10, 1, 2, 3, 4, 5, 6, 7, 8, 9, 10, 1, 2, 3, 4, 5, 6, 7, 8, 9, 10, 1, 2, 3, 4, 5, 6, 7, 8, 9, 10, 1, 2, 3, 4, 5, 6, 7, 8, 9, 10, 1, 2, 3, 4, 5, 6, 7, 8, 9, 10, 1, 2, 3, 4, 5, 6, 7, 8, 9, 10, 1, 2, 3, 4, 5, 6, 7, 8, 9, 10, 1, 2, 3, 4, 5, 6, 7, 8, 9, 10, 1, 2, 3, 4, 5, 6, 7, 8, 9, 10, 1, 2, 3, 4, 5, 6, 7, 8, 9, 10, 1, 2, 3, 4, 5, 6, 7, 8, 9, 10, 1, 2, 3, 4, 5, 6, 7, 8, 9, 10, 1, 2, 3, 4, 5, 6, 7, 8, 9, 10, 1, 2, 3, 4, 5, 6, 7, 8, 9, 10, 1, 2, 3, 4, 5, 6, 7, 8, 9, 10, 1, 2, 3, 4, 5, 6, 7, 8, 9, 1, 2, 3, 4, 5, 6, 7, 8, 9, 10, 1, 2, 3, 4, 5, 6, 7, 8, 9, 10, 1, 2, 3, 4, 5, 6, 7, 8, 9, 10, 1, 2, 3, 4, 5, 6, 7, 8, 9, 10, 1, 2, 3, 4, 5, 6, 7, 8, 9, 10, 1, 2, 3, 4, 5, 6, 7, 8, 9, 10, 1, 2, 3, 4, 5, 6, 7, 8, 9, 10, 1, 2, 3, 4, 5, 6, 7, 8, 9, 10, 1, 2, 3, 4, 5, 6, 7, 8, 9, 10, 1, 2, 3, 4, 5, 6, 7, 8, 9, 10, 1, 3, 4, 5, 9, 10, 5, 9, 1, 2, 3, 4, 5, 6, 7, 8, 9, 10, 1, 2, 3, 4, 5, 6, 7, 8, 9, 10, 1, 2, 3, 4, 5, 6, 7, 8, 9, 10, 1, 2, 3, 4, 7, 8, 9, 10, 1, 2, 3, 4, 5, 6, 7, 8, 9, 10, 1, 2, 3, 4, 5, 6, 7, 8, 9, 10, 1, 2, 3, 4, 5, 6, 7, 8, 9, 10, 1, 2, 3, 4, 5, 6, 7, 8, 9, 10, 1, 2, 3, 4, 5, 6, 7, 8, 9, 10, 1, 2, 3, 4, 5, 6, 7, 8, 9, 10, 1, 2, 3, 4, 5, 6, 7, 8, 9, 10, 1, 2, 3, 4, 5, 6, 7, 8, 9, 10, 1, 2, 4, 6, 8, 1, 2, 3, 4, 5, 6, 7, 8, 9, 10, 1, 2, 3, 4, 5, 6, 7, 8, 9, 10, 2, 3, 4, 5, 6, 8, 9, 1, 2, 3, 4, 5, 6, 7, 8, 9, 10, 1, 2, 3, 4, 5, 6, 7, 8, 9, 10, 1, 2, 3, 4, 5, 6, 7, 8, 9, 10, 1, 2, 3, 4, 5, 6, 7, 8, 9, 10, 1, 2, 3, 4, 5, 6, 7, 8, 9, 10, 1, 2, 3, 4, 5, 6, 7, 8, 9, 10, 1, 2, 3, 4, 5, 6, 7, 8, 9, 10, 1, 2, 3, 4, 5, 6, 7, 8, 9, 10, 1, 2, 3, 4, 5, 6, 7, 8, 9, 10, 1, 2, 3, 4, 5, 6, 7, 8, 9, 10, 1, 2, 3, 4, 5, 6, 7, 8, 9, 10, 1, 2, 3, 4, 5, 6, 7, 8, 9, 10, 1, 2, 3, 4, 5, 6, 7, 8, 9, 10, 1, 2, 3, 5, 6, 8, 10, 1, 2, 3, 4, 5, 6, 7, 8, 9, 10, 4, 6, 7, 8, 1, 2, 3, 4, 5, 6, 7, 8, 9, 10, 7, 1, 2, 3, 4, 5, 6, 7, 8, 9, 10, 1, 2, 3, 4, 5, 6, 7, 8, 9, 10, 1, 2, 3, 4, 5, 6, 7, 8, 9, 10, 1, 2, 3, 4, 5, 7, 8, 9, 10, 1, 2, 3, 4, 5, 6, 7, 8, 9, 10, 3, 5, 6, 7, 9, 1, 2, 3, 4, 5, 6, 7, 8, 9, 10, 1, 2, 3, 4, 5, 6, 7, 8, 9, 10, 1, 2, 3, 4, 5, 6, 7, 8, 9, 10, 1, 2, 3, 4, 5, 6, 7, 8, 9, 10, 2, 3, 4, 7, 10, 1, 2, 3, 4, 5, 6, 7, 8, 9, 10, 1, 2, 3, 4, 5, 6, 7, 8, 9, 10, 1, 2, 3, 4, 5, 6, 7, 8, 9, 10, 1, 2, 3, 4, 5, 6, 7, 8, 9, 10, 1, 2, 3, 4, 5, 6, 7, 8, 9, 10, 1, 2, 3, 4, 5, 6, 7, 8, 9, 10, 1, 2, 3, 4, 5, 6, 7, 8, 9, 10, 1, 2, 3, 4, 5, 6, 7, 10, 1, 2, 3, 4, 5, 6, 7, 8, 9, 10, 1, 2, 3, 4, 5, 6, 7, 8, 9, 10, 1, 2, 3, 4, 5, 6, 7, 8, 9, 10, 1, 2, 3, 4, 5, 6, 7, 8, 9, 10, 1, 2, 3, 4, 5, 6, 7, 8, 9, 10, 1, 2, 3, 4, 5, 6, 7, 8, 9, 10, 1, 2, 3, 4, 5, 6, 7, 8, 9, 10, 1, 2, 3, 4, 5, 6, 7, 8, 9, 10, 1, 2, 3, 4, 5, 6, 7, 8, 9, 10, 1, 2, 3, 4, 6, 7, 8, 1, 2, 3, 4, 5, 6, 7, 8, 9, 10, 1, 2, 3, 4, 5, 6, 7, 8, 9, 10, 1, 2, 3, 4, 5, 6, 7, 8, 9, 10, 1, 2, 5, 7, 8, 10, 1, 2, 3, 4, 5, 6, 7, 8, 9, 10, 5, 6, 7, 9, 2, 4, 6, 9, 1, 3, 4, 6, 7, 10, 1, 2, 3, 4, 5, 6, 7, 8, 9, 10, 1, 2, 3, 4, 5, 6, 7, 8, 9, 10, 1, 2, 3, 4, 5, 6, 7, 8, 9, 10, 1, 2, 4, 6, 7, 9, 10, 1, 2, 3, 4, 5, 6, 7, 8, 9, 10, 1, 2, 3, 4, 5, 6, 7, 8, 9, 10, 1, 2, 3, 4, 5, 6, 7, 8, 9, 10, 1, 2, 3, 4, 5, 6, 7, 8, 9, 10, 1, 2, 3, 4, 5, 6, 7, 8, 9, 10, 1, 2, 3, 4, 5, 6, 7, 8, 9, 1, 2, 3, 4, 5, 6, 7, 8, 9, 10, 2, 3, 4, 5, 8, 9, 1, 2, 3, 4, 5, 6, 7, 8, 9, 10, 1, 2, 3, 4, 5, 6, 7, 8, 9, 10, 1, 2, 3, 4, 5, 6, 7, 8, 9, 10, 1, 2, 3, 4, 5, 6, 7, 8, 9, 10, 1, 2, 3, 4, 5, 6, 7, 8, 9, 10, 1, 2, 3, 4, 5, 6, 7, 8, 9, 10, 1, 2, 3, 4, 5, 6, 7, 8, 9, 10, 1, 2, 3, 4, 5, 6, 7, 8, 9, 10, 1, 2, 3, 4, 5, 6, 7, 8, 9, 10, 1, 2, 3, 4, 5, 6, 7, 8, 9, 10, 3, 4, 1, 2, 3, 4, 5, 6, 7, 8, 9, 10, 1, 2, 3, 4, 5, 6, 7, 8, 9, 10, 1, 2, 3, 4, 5, 6, 7, 8, 9, 10, 1, 2, 3, 3, 5, 6, 9, 1, 2, 3, 4, 5, 6, 7, 8, 9, 10, 1, 2, 3, 4, 5, 6, 7, 9, 10, 1, 2, 3, 4, 5, 6, 7, 8, 9, 10, 1, 2, 3, 4, 5, 6, 7, 8, 9, 10, 1, 2, 3, 4, 5, 6, 7, 8, 9, 10, 2, 4, 6, 9, 10, 1, 2, 3, 4, 5, 6, 7, 8, 9, 10, 1, 2, 3, 4, 5, 6, 7, 8, 9, 10, 1, 2, 3, 4, 5, 6, 7, 8, 9, 10, 1, 2, 3, 4, 5, 6, 7, 8, 9, 10, 1, 2, 3, 4, 5, 7, 8, 9, 10, 1, 2, 3, 4, 5, 6, 7, 8, 9, 10, 1, 2, 3, 4, 5, 6, 7, 8, 9, 10, 1, 2, 3, 4, 5, 6, 7, 8, 9, 10, 1, 2, 3, 4, 5, 6, 7, 8, 9, 10, 1, 2, 3, 4, 5, 6, 7, 8, 9, 10, 1, 2, 3, 4, 5, 6, 7, 8, 9, 10, 1, 2, 3, 4, 5, 6, 7, 8, 9, 10, 1, 2, 3, 4, 5, 6, 7, 8, 9, 10, 1, 2, 3, 4, 5, 6, 7, 8, 9, 10, 1, 2, 3, 4, 5, 6, 7, 8, 9, 10, 1, 2, 3, 4, 5, 6, 7, 8, 9, 10, 1, 2, 3, 4, 5, 6, 7, 8, 9, 10, 1, 3, 4, 6, 8, 9, 10, 1, 2, 3, 8, 9, 1, 2, 3, 4, 5, 6, 7, 8, 9, 10, 1, 2, 3, 4, 5, 6, 7, 8, 9, 10, 1, 2, 3, 4, 5, 6, 7, 8, 9, 10, 1, 2, 3, 4, 5, 6, 7, 8, 9, 10, 1, 2, 3, 4, 5, 6, 7, 8, 9, 10, 1, 2, 3, 4, 5, 6, 7, 8, 9, 10, 1, 2, 3, 5, 6, 7, 8, 10, 1, 2, 3, 4, 5, 6, 7, 8, 9, 10, 1, 2, 3, 4, 5, 6, 7, 8, 9, 10, 1, 2, 3, 4, 5, 6, 7, 8, 9, 10, 1, 2, 3, 4, 5, 6, 7, 8, 9, 10, 1, 2, 3, 4, 5, 6, 7, 8, 9, 10, 1, 2, 3, 4, 5, 6, 7, 8, 9, 10, 1, 2, 3, 4, 5, 6, 7, 8, 9, 10, 1, 2, 3, 4, 5, 6, 7, 8, 9, 10, 1, 2, 3, 4, 5, 6, 7, 8, 9, 10, 1, 2, 3, 4, 5, 6, 7, 8, 9, 10, 1, 2, 3, 4, 5, 6, 7, 8, 9, 10, 1, 6, 7, 10, 1, 2, 3, 4, 5, 6, 7, 8, 9, 10, 1, 2, 3, 8, 9, 10, 1, 2, 3, 4, 5, 6, 7, 8, 9, 10, 1, 2, 3, 4, 5, 6, 7, 8, 9, 10, 1, 2, 3, 4, 5, 6, 7, 8, 9, 10, 1, 2, 3, 5, 6, 7, 8, 9, 10, 1, 2, 3, 4, 5, 6, 7, 8, 9, 10, 1, 2, 3, 4, 5, 6, 7, 8, 9, 10, 1, 1, 2, 3, 4, 5, 6, 7, 8, 9, 10, 1, 2, 3, 4, 5, 6, 7, 8, 9, 10, 1, 2, 3, 4, 5, 6, 7, 8, 9, 10, 1, 2, 3, 4, 5, 6, 7, 8, 9, 10, 1, 2, 3, 4, 5, 6, 7, 8, 9, 10, 1, 2, 4, 5, 6, 9, 1, 2, 3, 4, 5, 6, 7, 8, 9, 10, 1, 2, 3, 4, 5, 6, 7, 8, 9, 10, 1, 2, 3, 4, 5, 6, 7, 8, 9, 10, 1, 2, 3, 4, 5, 6, 7, 8, 9, 10, 1, 2, 3, 4, 5, 6, 7, 8, 9, 10, 1, 2, 3, 4, 5, 6, 7, 8, 9, 10, 1, 2, 3, 4, 5, 6, 7, 8, 9, 10, 1, 2, 3, 4, 5, 6, 7, 8, 9, 10, 1, 2, 3, 4, 5, 6, 7, 8, 9, 10, 1, 2, 3, 4, 5, 6, 7, 8, 9, 10, 1, 2, 3, 4, 5, 6, 7, 8, 9, 10, 1, 2, 3, 5, 6, 7, 8, 9, 1, 2, 3, 4, 5, 6, 7, 8, 9, 10, 1, 2, 3, 6, 7, 8, 1, 2, 3, 4, 5, 6, 7, 8, 9, 10, 1, 2, 3, 4, 5, 6, 7, 9, 10, 1, 2, 3, 4, 5, 6, 7, 8, 9, 10, 1, 2, 3, 4, 5, 6, 7, 8, 9, 10, 1, 2, 3, 4, 5, 6, 7, 8, 9, 10, 1, 2, 3, 4, 5, 6, 7, 8, 9, 10, 1, 2, 3, 4, 5, 6, 7, 8, 9, 10, 1, 2, 3, 4, 5, 6, 7, 8, 9, 10, 1, 3, 5, 6, 7, 8, 9, 10, 1, 2, 3, 4, 5, 6, 7, 8, 9, 10, 1, 2, 3, 4, 5, 6, 7, 8, 9, 10, 1, 2, 3, 4, 5, 6, 7, 8, 9, 10, 1, 2, 3, 4, 5, 6, 7, 8, 9, 10, 1, 2, 3, 4, 5, 6, 7, 8, 9, 10, 1, 2, 3, 4, 5, 6, 7, 8, 9, 10, 1, 2, 3, 4, 5, 6, 7, 8, 9, 10, 1, 2, 3, 4, 5, 6, 7, 8, 9, 10, 1, 2, 3, 4, 5, 6, 7, 8, 9, 10, 1, 2, 3, 4, 5, 6, 7, 8, 9, 10, 1, 2, 3, 4, 5, 6, 7, 8, 9, 10, 1, 2, 3, 4, 5, 6, 7, 8, 9, 10, 1, 2, 3, 4, 5, 6, 7, 8, 9, 10, 1, 2, 3, 4, 5, 6, 7, 8, 9, 10, 3, 1, 2, 3, 4, 5, 6, 7, 8, 9, 10, 3, 4, 1, 2, 3, 4, 5, 6, 7, 8, 9, 10, 1, 2, 3, 4, 5, 6, 7, 8, 9, 10, 1, 2, 3, 4, 5, 6, 7, 8, 9, 10, 1, 2, 3, 4, 5, 6, 7, 8, 9, 10, 1, 2, 3, 4, 5, 6, 7, 8, 9, 10, 1, 2, 3, 4, 5, 6, 7, 8, 9, 10, 3, 4, 5, 6, 7, 8, 9, 1, 2, 3, 4, 5, 6, 7, 8, 9, 10, 2, 3, 4, 5, 1, 4, 6, 7, 8, 10, 1, 2, 3, 4, 6, 7, 9, 10, 1, 2, 3, 4, 5, 6, 7, 8, 9, 10, 1, 2, 3, 4, 5, 6, 7, 8, 9, 10, 1, 2, 3, 4, 5, 6, 7, 8, 9, 10, 1, 2, 3, 4, 5, 6, 8, 1, 2, 3, 4, 5, 6, 7, 8, 9, 10, 1, 2, 3, 4, 5, 6, 7, 8, 9, 10, 1, 2, 3, 4, 5, 6, 7, 8, 9, 10, 1, 2, 3, 4, 5, 6, 7, 8, 9, 10, 1, 2, 3, 4, 5, 6, 7, 8, 9, 10, 1, 2, 3, 4, 5, 6, 7, 8, 9, 10, 1, 2, 3, 4, 5, 6, 7, 8, 9, 10, 1, 2, 3, 4, 5, 6, 7, 8, 9, 10, 1, 2, 3, 4, 5, 6, 7, 8, 9, 10, 1, 2, 3, 4, 5, 6, 7, 8, 9, 10, 1, 2, 3, 4, 5, 6, 7, 8, 9, 10, 4, 5, 6, 8, 1, 2, 3, 4, 5, 6, 7, 8, 9, 10, 1, 2, 3, 4, 5, 6, 7, 8, 9, 10, 1, 2, 3, 4, 5, 6, 7, 8, 9, 10, 1, 5, 6, 1, 2, 3, 4, 5, 6, 7, 8, 9, 10, 1, 2, 5, 6, 7, 8, 10, 1, 2, 3, 4, 5, 6, 7, 8, 9, 10, 1, 2, 3, 4, 5, 6, 7, 8, 9, 10, 1, 2, 3, 4, 5, 6, 7, 8, 9, 10, 1, 2, 3, 4, 5, 6, 7, 8, 9, 10, 1, 2, 3, 4, 5, 6, 7, 8, 9, 10, 8, 9, 1, 2, 3, 4, 5, 6, 7, 8, 9, 10, 1, 2, 3, 4, 5, 6, 7, 8, 9, 10, 1, 2, 3, 4, 5, 6, 7, 8, 9, 10, 1, 2, 3, 4, 5, 6, 7, 8, 9, 10, 1, 2, 3, 4, 5, 6, 7, 8, 9, 10, 1, 2, 3, 4, 5, 6, 7, 8, 9, 10, 4, 5, 6, 8, 10, 1, 2, 3, 4, 5, 6, 7, 8, 9, 10, 1, 2, 3, 4, 5, 6, 7, 8, 9, 10, 2, 4, 8, 10, 1, 2, 3, 5, 6, 7, 8, 9, 10, 1, 2, 3, 4, 5, 6, 7, 8, 9, 10, 1, 2, 3, 4, 5, 6, 7, 8, 9, 10, 1, 3, 4, 5, 6, 7, 8, 9, 10, 1, 3, 4, 9, 1, 3, 4, 5, 6, 9, 1, 2, 3, 4, 5, 6, 7, 8, 9, 1, 2, 3, 4, 5, 6, 7, 8, 9, 10, 1, 2, 3, 4, 5, 6, 7, 8, 9, 10, 1, 2, 3, 4, 5, 6, 7, 8, 9, 10, 1, 2, 3, 4, 5, 6, 7, 8, 9, 10, 1, 2, 3, 4, 5, 6, 7, 8, 9, 10, 1, 2, 3, 4, 5, 6, 7, 8, 9, 10, 1, 2, 3, 4, 5, 6, 7, 8, 9, 10, 1, 2, 3, 4, 5, 6, 7, 8, 9, 10, 1, 2, 3, 4, 5, 6, 9, 10, 1, 2, 3, 4, 5, 6, 7, 8, 9, 10, 1, 2, 3, 4, 5, 6, 7, 8, 9, 10, 1, 2, 3, 4, 5, 6, 7, 8, 9, 10, 1, 2, 3, 4, 5, 6, 7, 8, 9, 10, 1, 2, 3, 4, 5, 6, 7, 8, 9, 10, 1, 2, 3, 4, 5, 6, 7, 8, 9, 10, 1, 2, 4, 5, 6, 8, 10, 1, 5, 6, 7, 8, 9, 1, 2, 3, 4, 5, 6, 7, 8, 9, 10, 1, 2, 3, 4, 5, 6, 7, 8, 9, 10, 1, 2, 3, 4, 5, 6, 7, 8, 9, 10, 1, 2, 3, 4, 5, 6, 7, 8, 9, 10, 1, 2, 3, 4, 5, 6, 7, 8, 9, 10, 1, 2, 3, 4, 5, 6, 7, 8, 9, 10, 1, 2, 3, 4, 5, 6, 7, 8, 9, 10, 1, 2, 3, 4, 5, 6, 7, 8, 9, 10, 1, 2, 3, 4, 5, 6, 7, 8, 9, 10, 1, 2, 5, 6, 7, 8, 10, 1, 2, 3, 4, 5, 6, 7, 8, 9, 10, 7], \"Freq\": [0.1689036844848769, 0.1689036844848769, 0.1689036844848769, 0.1689036844848769, 0.1689036844848769, 0.22667316416854566, 0.11774691627675843, 0.11774691627675843, 0.11774691627675843, 0.11774691627675843, 0.23549383255351686, 0.11774691627675843, 0.11774691627675843, 0.11774691627675843, 0.11774691627675843, 0.11774691627675843, 0.26820673015466057, 0.09800394642042469, 0.19600789284084938, 0.09800394642042469, 0.09800394642042469, 0.09800394642042469, 0.09800394642042469, 0.09800394642042469, 0.09800394642042469, 0.09800394642042469, 0.09800394642042469, 0.2684048630657543, 0.08955574882955221, 0.08955574882955221, 0.13433362324432832, 0.044777874414776105, 0.08955574882955221, 0.08955574882955221, 0.17911149765910442, 0.08955574882955221, 0.08955574882955221, 0.08955574882955221, 0.14538473323894338, 0.07269236661947169, 0.07269236661947169, 0.07269236661947169, 0.07269236661947169, 0.14538473323894338, 0.14538473323894338, 0.07269236661947169, 0.07269236661947169, 0.07269236661947169, 0.21087089421791028, 0.10543544710895514, 0.10543544710895514, 0.10543544710895514, 0.10543544710895514, 0.10543544710895514, 0.10543544710895514, 0.10543544710895514, 0.10543544710895514, 0.10543544710895514, 0.19054616600629481, 0.19054616600629481, 0.19054616600629481, 0.19054616600629481, 0.0854687215423533, 0.0854687215423533, 0.0854687215423533, 0.0854687215423533, 0.0854687215423533, 0.0854687215423533, 0.0854687215423533, 0.1709374430847066, 0.0854687215423533, 0.0854687215423533, 0.1739897491105363, 0.1739897491105363, 0.1739897491105363, 0.1739897491105363, 0.1739897491105363, 0.1739897491105363, 0.1739897491105363, 0.15096399239953093, 0.15096399239953093, 0.15096399239953093, 0.15096399239953093, 0.15096399239953093, 0.15096399239953093, 0.15096399239953093, 0.09870296768530577, 0.19740593537061155, 0.09870296768530577, 0.049351483842652887, 0.09870296768530577, 0.049351483842652887, 0.14805445152795865, 0.09870296768530577, 0.09870296768530577, 0.09870296768530577, 0.11521828618134176, 0.11521828618134176, 0.11521828618134176, 0.11521828618134176, 0.11521828618134176, 0.11521828618134176, 0.11521828618134176, 0.23043657236268353, 0.11521828618134176, 0.11521828618134176, 0.06254901961883036, 0.06254901961883036, 0.12509803923766072, 0.12509803923766072, 0.12509803923766072, 0.06254901961883036, 0.18764705885649108, 0.06254901961883036, 0.06254901961883036, 0.06254901961883036, 0.09698160325522491, 0.19396320651044982, 0.09698160325522491, 0.2909448097656747, 0.09698160325522491, 0.09698160325522491, 0.09698160325522491, 0.09698160325522491, 0.0900135582916956, 0.0900135582916956, 0.0900135582916956, 0.0900135582916956, 0.0900135582916956, 0.0900135582916956, 0.0900135582916956, 0.0900135582916956, 0.0900135582916956, 0.2700406748750868, 0.06704285001246751, 0.13408570002493503, 0.13408570002493503, 0.06704285001246751, 0.06704285001246751, 0.20112855003740254, 0.06704285001246751, 0.06704285001246751, 0.06704285001246751, 0.06704285001246751, 0.2694689741797469, 0.13896491365462302, 0.06948245682731151, 0.06948245682731151, 0.20844737048193454, 0.06948245682731151, 0.06948245682731151, 0.06948245682731151, 0.06948245682731151, 0.06948245682731151, 0.06948245682731151, 0.1395928950905252, 0.1395928950905252, 0.1395928950905252, 0.1395928950905252, 0.1395928950905252, 0.1395928950905252, 0.1395928950905252, 0.1395928950905252, 0.1395928950905252, 0.1395928950905252, 0.1339412696441683, 0.1339412696441683, 0.1339412696441683, 0.1339412696441683, 0.1339412696441683, 0.1339412696441683, 0.1339412696441683, 0.1339412696441683, 0.1339412696441683, 0.1339412696441683, 0.10134756946844357, 0.10134756946844357, 0.10134756946844357, 0.10134756946844357, 0.10134756946844357, 0.10134756946844357, 0.10134756946844357, 0.20269513893688715, 0.10134756946844357, 0.10134756946844357, 0.3044499915341919, 0.15222499576709594, 0.15222499576709594, 0.15222499576709594, 0.15222499576709594, 0.15222499576709594, 0.10344428564467666, 0.10344428564467666, 0.10344428564467666, 0.10344428564467666, 0.10344428564467666, 0.10344428564467666, 0.10344428564467666, 0.10344428564467666, 0.2068885712893533, 0.10344428564467666, 0.16901144423848063, 0.16901144423848063, 0.16901144423848063, 0.16901144423848063, 0.16901144423848063, 0.16901144423848063, 0.07876565736192588, 0.0666478639216296, 0.1332957278432592, 0.15753131472385176, 0.07270676064177774, 0.09088345080222217, 0.09694234752237031, 0.09088345080222217, 0.11511903768281474, 0.09694234752237031, 0.09190630072277925, 0.09190630072277925, 0.045953150361389625, 0.1838126014455585, 0.045953150361389625, 0.09190630072277925, 0.09190630072277925, 0.09190630072277925, 0.09190630072277925, 0.1378594510841689, 0.12234795253001793, 0.12234795253001793, 0.12234795253001793, 0.12234795253001793, 0.12234795253001793, 0.12234795253001793, 0.12234795253001793, 0.12234795253001793, 0.12234795253001793, 0.054195405984541555, 0.054195405984541555, 0.10839081196908311, 0.10839081196908311, 0.16258621795362466, 0.054195405984541555, 0.16258621795362466, 0.10839081196908311, 0.10839081196908311, 0.10839081196908311, 0.12272078889118682, 0.12272078889118682, 0.12272078889118682, 0.12272078889118682, 0.12272078889118682, 0.12272078889118682, 0.12272078889118682, 0.12272078889118682, 0.12272078889118682, 0.12272078889118682, 0.12232961350661531, 0.12232961350661531, 0.12232961350661531, 0.12232961350661531, 0.12232961350661531, 0.12232961350661531, 0.12232961350661531, 0.12232961350661531, 0.12232961350661531, 0.14840587425498541, 0.14840587425498541, 0.14840587425498541, 0.14840587425498541, 0.14840587425498541, 0.14840587425498541, 0.14840587425498541, 0.14840587425498541, 0.1723175973165363, 0.1723175973165363, 0.1723175973165363, 0.1723175973165363, 0.1723175973165363, 0.1723175973165363, 0.08950885103884837, 0.08950885103884837, 0.17901770207769674, 0.17901770207769674, 0.08950885103884837, 0.08950885103884837, 0.17901770207769674, 0.08950885103884837, 0.08403353418588426, 0.21008383546471066, 0.12605030127882638, 0.08403353418588426, 0.12605030127882638, 0.08403353418588426, 0.08403353418588426, 0.08403353418588426, 0.08403353418588426, 0.08403353418588426, 0.08537167624332084, 0.1707433524866417, 0.08537167624332084, 0.08537167624332084, 0.08537167624332084, 0.08537167624332084, 0.08537167624332084, 0.08537167624332084, 0.08537167624332084, 0.08537167624332084, 0.1366007513374498, 0.2732015026748996, 0.1366007513374498, 0.1366007513374498, 0.1366007513374498, 0.1366007513374498, 0.16806851330037811, 0.16806851330037811, 0.16806851330037811, 0.16806851330037811, 0.16806851330037811, 0.1734315912588204, 0.1734315912588204, 0.1734315912588204, 0.1734315912588204, 0.1734315912588204, 0.15053290840244848, 0.15053290840244848, 0.15053290840244848, 0.15053290840244848, 0.15053290840244848, 0.22612731168217018, 0.22612731168217018, 0.1368673969530555, 0.273734793906111, 0.1368673969530555, 0.1368673969530555, 0.1368673969530555, 0.1368673969530555, 0.1368673969530555, 0.1368673969530555, 0.1368673969530555, 0.19158221111848198, 0.19158221111848198, 0.15157514659667568, 0.15157514659667568, 0.15157514659667568, 0.15157514659667568, 0.15157514659667568, 0.15157514659667568, 0.15157514659667568, 0.15157514659667568, 0.1676378890539218, 0.1676378890539218, 0.1676378890539218, 0.1676378890539218, 0.1307957748421383, 0.19619366226320747, 0.1307957748421383, 0.06539788742106915, 0.1307957748421383, 0.06539788742106915, 0.06539788742106915, 0.06539788742106915, 0.06539788742106915, 0.06539788742106915, 0.1512240176375076, 0.1512240176375076, 0.1512240176375076, 0.1512240176375076, 0.1512240176375076, 0.1512240176375076, 0.1512240176375076, 0.1512240176375076, 0.11988767048796925, 0.11988767048796925, 0.11988767048796925, 0.11988767048796925, 0.11988767048796925, 0.059943835243984625, 0.11988767048796925, 0.059943835243984625, 0.1798315057319539, 0.059943835243984625, 0.09847675221801634, 0.09847675221801634, 0.29543025665404904, 0.09847675221801634, 0.09847675221801634, 0.09847675221801634, 0.09847675221801634, 0.09847675221801634, 0.09847675221801634, 0.09847675221801634, 0.10285100213427177, 0.10285100213427177, 0.10285100213427177, 0.10285100213427177, 0.10285100213427177, 0.10285100213427177, 0.10285100213427177, 0.10285100213427177, 0.10285100213427177, 0.20570200426854354, 0.09829572685301152, 0.09829572685301152, 0.09829572685301152, 0.09829572685301152, 0.09829572685301152, 0.19659145370602304, 0.09829572685301152, 0.09829572685301152, 0.09829572685301152, 0.09829572685301152, 0.09212594026887666, 0.09212594026887666, 0.09212594026887666, 0.09212594026887666, 0.09212594026887666, 0.09212594026887666, 0.09212594026887666, 0.18425188053775332, 0.18425188053775332, 0.1907955564518524, 0.1907955564518524, 0.1907955564518524, 0.1907955564518524, 0.1907955564518524, 0.09963183118932568, 0.09963183118932568, 0.14944774678398853, 0.09963183118932568, 0.09963183118932568, 0.09963183118932568, 0.09963183118932568, 0.09963183118932568, 0.04981591559466284, 0.09963183118932568, 0.14745016369553368, 0.14745016369553368, 0.14745016369553368, 0.14745016369553368, 0.14745016369553368, 0.14745016369553368, 0.11527413477845234, 0.11527413477845234, 0.11527413477845234, 0.11527413477845234, 0.2305482695569047, 0.11527413477845234, 0.11527413477845234, 0.11527413477845234, 0.11527413477845234, 0.11527413477845234, 0.12281178232413317, 0.12281178232413317, 0.12281178232413317, 0.12281178232413317, 0.12281178232413317, 0.12281178232413317, 0.12281178232413317, 0.12281178232413317, 0.12281178232413317, 0.12281178232413317, 0.12258415527087353, 0.12258415527087353, 0.12258415527087353, 0.12258415527087353, 0.12258415527087353, 0.12258415527087353, 0.12258415527087353, 0.24516831054174706, 0.12258415527087353, 0.1040839682483475, 0.1040839682483475, 0.1040839682483475, 0.1040839682483475, 0.15612595237252125, 0.1040839682483475, 0.1040839682483475, 0.1040839682483475, 0.1040839682483475, 0.1040839682483475, 0.19088281050979394, 0.19088281050979394, 0.19088281050979394, 0.19088281050979394, 0.19088281050979394, 0.08649988359291637, 0.17299976718583274, 0.08649988359291637, 0.08649988359291637, 0.08649988359291637, 0.08649988359291637, 0.08649988359291637, 0.08649988359291637, 0.08649988359291637, 0.08649988359291637, 0.11979133908371792, 0.05989566954185896, 0.08984350431278844, 0.05989566954185896, 0.17968700862557688, 0.08984350431278844, 0.08984350431278844, 0.11979133908371792, 0.08984350431278844, 0.11979133908371792, 0.1692356566008688, 0.1692356566008688, 0.1692356566008688, 0.1692356566008688, 0.1692356566008688, 0.1692356566008688, 0.15093788191458601, 0.15093788191458601, 0.15093788191458601, 0.15093788191458601, 0.15093788191458601, 0.15093788191458601, 0.15093788191458601, 0.19691498978134556, 0.19691498978134556, 0.19691498978134556, 0.19691498978134556, 0.19691498978134556, 0.12760991779797493, 0.12760991779797493, 0.12760991779797493, 0.12760991779797493, 0.12760991779797493, 0.12760991779797493, 0.25521983559594985, 0.12760991779797493, 0.12760991779797493, 0.12760991779797493, 0.0785200651718852, 0.12008951143935384, 0.16627778506987456, 0.12932716616545797, 0.07390123780883313, 0.08313889253493728, 0.07390123780883313, 0.11085185671324971, 0.09237654726104141, 0.08313889253493728, 0.2265366916049543, 0.2265366916049543, 0.2265366916049543, 0.1202191119725332, 0.1202191119725332, 0.1202191119725332, 0.1202191119725332, 0.1202191119725332, 0.1202191119725332, 0.1202191119725332, 0.1202191119725332, 0.2404382239450664, 0.07452219945160367, 0.07452219945160367, 0.07452219945160367, 0.14904439890320734, 0.07452219945160367, 0.07452219945160367, 0.07452219945160367, 0.14904439890320734, 0.07452219945160367, 0.07452219945160367, 0.13439367389111267, 0.13439367389111267, 0.13439367389111267, 0.13439367389111267, 0.13439367389111267, 0.13439367389111267, 0.13439367389111267, 0.13439367389111267, 0.13716854142318974, 0.13716854142318974, 0.13716854142318974, 0.2743370828463795, 0.13716854142318974, 0.13716854142318974, 0.0711637642946311, 0.1423275285892622, 0.09488501905950812, 0.16604878335413922, 0.04744250952975406, 0.09488501905950812, 0.09488501905950812, 0.0711637642946311, 0.09488501905950812, 0.09488501905950812, 0.1156454217838144, 0.1156454217838144, 0.1156454217838144, 0.1156454217838144, 0.1156454217838144, 0.2312908435676288, 0.1156454217838144, 0.1156454217838144, 0.1156454217838144, 0.11559643699012191, 0.11559643699012191, 0.11559643699012191, 0.11559643699012191, 0.11559643699012191, 0.11559643699012191, 0.11559643699012191, 0.11559643699012191, 0.11559643699012191, 0.11559643699012191, 0.09351582515183901, 0.10390647239093223, 0.1714456794450382, 0.10910179601047885, 0.10390647239093223, 0.09871114877138562, 0.06234388343455934, 0.10910179601047885, 0.07273453067365257, 0.06753920705410596, 0.0950543273138136, 0.0950543273138136, 0.0950543273138136, 0.0950543273138136, 0.0950543273138136, 0.0950543273138136, 0.0950543273138136, 0.1901086546276272, 0.0950543273138136, 0.0950543273138136, 0.16839024875961708, 0.16839024875961708, 0.16839024875961708, 0.16839024875961708, 0.16839024875961708, 0.12209891107212385, 0.12209891107212385, 0.12209891107212385, 0.12209891107212385, 0.12209891107212385, 0.12209891107212385, 0.12209891107212385, 0.12209891107212385, 0.12209891107212385, 0.12209891107212385, 0.16729835100165485, 0.16729835100165485, 0.16729835100165485, 0.16729835100165485, 0.3345967020033097, 0.12083514590001711, 0.12083514590001711, 0.12083514590001711, 0.12083514590001711, 0.24167029180003421, 0.24167029180003421, 0.12083514590001711, 0.1109701003806552, 0.1109701003806552, 0.09784460463670673, 0.07755974757787729, 0.08113942823531778, 0.13602786498273864, 0.09187847020763926, 0.10500396595158772, 0.09426492397926625, 0.09426492397926625, 0.12297320431884651, 0.12297320431884651, 0.12297320431884651, 0.12297320431884651, 0.12297320431884651, 0.12297320431884651, 0.12297320431884651, 0.12297320431884651, 0.12297320431884651, 0.12297320431884651, 0.19711057854937344, 0.19711057854937344, 0.19711057854937344, 0.19711057854937344, 0.10006002941577366, 0.10006002941577366, 0.10006002941577366, 0.10006002941577366, 0.10006002941577366, 0.20012005883154732, 0.10006002941577366, 0.10006002941577366, 0.10006002941577366, 0.10006002941577366, 0.11976716954164489, 0.06303535239033942, 0.06933888762937336, 0.15758838097584854, 0.11976716954164489, 0.08194595810744124, 0.11976716954164489, 0.09455302858550912, 0.10716009906357701, 0.05673181715130547, 0.08517035487277587, 0.08517035487277587, 0.08517035487277587, 0.08517035487277587, 0.08517035487277587, 0.08517035487277587, 0.17034070974555174, 0.08517035487277587, 0.08517035487277587, 0.08517035487277587, 0.1480312736241451, 0.1480312736241451, 0.1480312736241451, 0.1480312736241451, 0.1480312736241451, 0.1480312736241451, 0.1480312736241451, 0.1524490594245742, 0.1524490594245742, 0.3048981188491484, 0.1524490594245742, 0.1524490594245742, 0.06609665858564959, 0.11416695573884927, 0.09213473621029941, 0.1101610976427493, 0.14621382050764908, 0.06809958763369957, 0.09213473621029941, 0.09814352335444938, 0.09013180716224943, 0.12017574288299925, 0.19722814792612361, 0.19722814792612361, 0.19722814792612361, 0.1828101758287047, 0.11425635989294045, 0.09140508791435235, 0.04570254395717618, 0.06855381593576426, 0.11425635989294045, 0.11425635989294045, 0.11425635989294045, 0.09140508791435235, 0.06855381593576426, 0.1165761012567177, 0.1554348016756236, 0.0777174008378118, 0.0777174008378118, 0.1165761012567177, 0.0777174008378118, 0.0777174008378118, 0.0777174008378118, 0.1554348016756236, 0.0777174008378118, 0.08953567868499547, 0.09593108430535228, 0.11191959835624433, 0.11511730116642274, 0.07994257025446024, 0.09593108430535228, 0.09593108430535228, 0.07994257025446024, 0.09593108430535228, 0.14069892364785003, 0.12010315894089121, 0.06005157947044561, 0.1801547384113368, 0.06005157947044561, 0.06005157947044561, 0.12010315894089121, 0.06005157947044561, 0.06005157947044561, 0.12010315894089121, 0.12010315894089121, 0.33510034023502916, 0.16755017011751458, 0.26871250312875905, 0.26871250312875905, 0.0821259212049868, 0.09556470831125737, 0.11273649183593643, 0.11646948825434492, 0.1216956832401168, 0.10079090329702925, 0.09631130759493906, 0.08884531475812207, 0.10153750258071095, 0.0843657190560319, 0.0737044604297447, 0.12284076738290783, 0.09827261390632626, 0.09827261390632626, 0.12284076738290783, 0.08598853716803548, 0.0737044604297447, 0.1596929975977802, 0.09827261390632626, 0.0737044604297447, 0.172397106165384, 0.172397106165384, 0.172397106165384, 0.172397106165384, 0.172397106165384, 0.172397106165384, 0.172397106165384, 0.172397106165384, 0.1517201821355482, 0.1517201821355482, 0.1517201821355482, 0.1517201821355482, 0.1517201821355482, 0.1517201821355482, 0.1517201821355482, 0.1517201821355482, 0.1517201821355482, 0.0910143179702802, 0.09950898764750635, 0.12620652091878853, 0.11043070580393997, 0.1419823360336371, 0.07887907557424284, 0.07281145437622416, 0.08858726949107273, 0.09829546340790261, 0.0910143179702802, 0.07778422131885089, 0.1356237705046631, 0.0751249317011124, 0.12498661203370913, 0.0664822404434623, 0.12033285520266676, 0.07578975410554702, 0.14027752733570545, 0.08443244536319712, 0.0983937158563242, 0.056319731716997, 0.10325284148116116, 0.0844795975754955, 0.08917290855191191, 0.15487926222174175, 0.12671939636324325, 0.12671939636324325, 0.07039966464624625, 0.07978628659907909, 0.10794615245757759, 0.19058167526575512, 0.19058167526575512, 0.19058167526575512, 0.19058167526575512, 0.12153529582652683, 0.09470282791677416, 0.11364339350012899, 0.07576226233341933, 0.09943796931261287, 0.10732987163901071, 0.07418388186813976, 0.08365416465981718, 0.1278488176876451, 0.10101634977789244, 0.10022817237594119, 0.11801059005554367, 0.11801059005554367, 0.1042696309394872, 0.08891208839801235, 0.09214525524884916, 0.1018447558013596, 0.1010364640886504, 0.08163746298362952, 0.09457013038697677, 0.10847797914507636, 0.13247753205327908, 0.07103867660828009, 0.11423787184304501, 0.08351844412054552, 0.09023831893484228, 0.11999776454101367, 0.10751799702874826, 0.08831835470218606, 0.08447842623687363, 0.10912818833089775, 0.10912818833089775, 0.10912818833089775, 0.10912818833089775, 0.10912818833089775, 0.2182563766617955, 0.10912818833089775, 0.10912818833089775, 0.10912818833089775, 0.10912818833089775, 0.07509883503255006, 0.07509883503255006, 0.15019767006510013, 0.07509883503255006, 0.07509883503255006, 0.07509883503255006, 0.07509883503255006, 0.07509883503255006, 0.07509883503255006, 0.15019767006510013, 0.10300211512234858, 0.06866807674823239, 0.13733615349646477, 0.13733615349646477, 0.06866807674823239, 0.06866807674823239, 0.06866807674823239, 0.06866807674823239, 0.17167019187058097, 0.10300211512234858, 0.1190043242151165, 0.10412878368822694, 0.11156655395167173, 0.0818154728978926, 0.06693993237100303, 0.08925324316133737, 0.08925324316133737, 0.1190043242151165, 0.1561931755323404, 0.06693993237100303, 0.08103478316210856, 0.060776087371581425, 0.1823282621147443, 0.10129347895263571, 0.10129347895263571, 0.10129347895263571, 0.12155217474316285, 0.10129347895263571, 0.08103478316210856, 0.08103478316210856, 0.09793791388087034, 0.09793791388087034, 0.09793791388087034, 0.10405903349842474, 0.055090076557989566, 0.14690687082130552, 0.1530279904388599, 0.07957455502820715, 0.09793791388087034, 0.06733231579309835, 0.09673167928574197, 0.09181311932206017, 0.11312687916468128, 0.10820831920099949, 0.07049935947943906, 0.13771967898309026, 0.07049935947943906, 0.12296399909204488, 0.08689455935837838, 0.10001071926152984, 0.14398235357824987, 0.07199117678912494, 0.07199117678912494, 0.17277882429389985, 0.10078764750477491, 0.08638941214694992, 0.08638941214694992, 0.10078764750477491, 0.07199117678912494, 0.08638941214694992, 0.08414447548576687, 0.09404382554291592, 0.12374187571436304, 0.0890941505143414, 0.1583896009143847, 0.0890941505143414, 0.08414447548576687, 0.0890941505143414, 0.06929545040004331, 0.11879220068578852, 0.06679424409575728, 0.10019136614363591, 0.06679424409575728, 0.07792661811171682, 0.08905899212767637, 0.122456114175555, 0.10019136614363591, 0.08905899212767637, 0.08905899212767637, 0.20038273228727183, 0.09040271791047078, 0.09040271791047078, 0.09040271791047078, 0.09040271791047078, 0.18080543582094155, 0.09040271791047078, 0.09040271791047078, 0.09040271791047078, 0.09040271791047078, 0.09040271791047078, 0.11296100691464736, 0.11296100691464736, 0.11296100691464736, 0.11296100691464736, 0.11296100691464736, 0.11296100691464736, 0.11296100691464736, 0.11296100691464736, 0.22592201382929472, 0.10270008316080273, 0.09102961916525697, 0.11320350075679392, 0.07585801597104747, 0.11086940795768477, 0.10036599036169358, 0.10503417595991188, 0.09102961916525697, 0.09453075836392069, 0.11670463995545764, 0.09675175705753551, 0.09675175705753551, 0.09675175705753551, 0.19350351411507102, 0.09675175705753551, 0.09675175705753551, 0.09675175705753551, 0.09675175705753551, 0.09675175705753551, 0.14787184392233377, 0.14787184392233377, 0.14787184392233377, 0.14787184392233377, 0.14787184392233377, 0.14787184392233377, 0.14787184392233377, 0.1231498402187275, 0.1231498402187275, 0.246299680437455, 0.1231498402187275, 0.1231498402187275, 0.1231498402187275, 0.1231498402187275, 0.1231498402187275, 0.1231498402187275, 0.16902480786939067, 0.16902480786939067, 0.16902480786939067, 0.16902480786939067, 0.09829851758325528, 0.06553234505550352, 0.09829851758325528, 0.09829851758325528, 0.09829851758325528, 0.09829851758325528, 0.06553234505550352, 0.09829851758325528, 0.16383086263875882, 0.09829851758325528, 0.09396690077108111, 0.09396690077108111, 0.09396690077108111, 0.06264460051405407, 0.09396690077108111, 0.06264460051405407, 0.18793380154216222, 0.09396690077108111, 0.06264460051405407, 0.12528920102810814, 0.08138242015498554, 0.09248002290339266, 0.12947203206474972, 0.055488013742035595, 0.14426883572929255, 0.09987842473566408, 0.11097602748407119, 0.08878082198725695, 0.09987842473566408, 0.09617922381952837, 0.1339362085490369, 0.1339362085490369, 0.1339362085490369, 0.1339362085490369, 0.1339362085490369, 0.1339362085490369, 0.1339362085490369, 0.1339362085490369, 0.08343529677235892, 0.14271827079482446, 0.08123963106782316, 0.12515294515853836, 0.10758761952225229, 0.10539195381771653, 0.08343529677235892, 0.0790439653632874, 0.101000622408645, 0.09002229388596619, 0.08599352411669162, 0.10319222894002994, 0.08599352411669162, 0.06019546688168413, 0.09459287652836078, 0.10319222894002994, 0.14618899099837573, 0.07309449549918787, 0.12039093376336826, 0.12469060996920284, 0.10615033911537822, 0.09531867185870697, 0.09965133876137547, 0.11914833982338371, 0.07148900389403023, 0.14731067469072895, 0.11048300601804671, 0.08015433769936722, 0.08015433769936722, 0.08881967150470423, 0.11342276427297769, 0.11342276427297769, 0.11342276427297769, 0.11342276427297769, 0.11342276427297769, 0.22684552854595538, 0.11342276427297769, 0.11342276427297769, 0.11342276427297769, 0.11342276427297769, 0.12250825755950104, 0.0792700490090889, 0.09368278519255961, 0.0648573128256182, 0.1297146256512364, 0.15133372992644245, 0.0792700490090889, 0.10809552137603033, 0.08647641710082427, 0.09368278519255961, 0.11349477585656395, 0.07566318390437597, 0.07566318390437597, 0.07566318390437597, 0.18915795976093994, 0.07566318390437597, 0.07566318390437597, 0.07566318390437597, 0.11349477585656395, 0.11349477585656395, 0.11222862504358758, 0.09774751213473756, 0.10136779036195007, 0.07964612099867505, 0.06878528631703755, 0.07602584277146256, 0.08688667745310005, 0.1556719637701376, 0.09774751213473756, 0.1267097379524376, 0.10701870854092224, 0.12995128894254843, 0.06879774120487858, 0.09173032160650478, 0.07644193467208732, 0.0993745150737135, 0.06115354773766985, 0.08408612813929604, 0.11466290200813097, 0.16052806281138335, 0.11089150118930706, 0.08986035441202468, 0.10706765632071026, 0.0764768973719359, 0.12809880309799263, 0.09177227684632308, 0.0783888198062343, 0.0745649749376375, 0.1529537947438718, 0.08794843197772628, 0.12505890084461632, 0.12505890084461632, 0.12505890084461632, 0.12505890084461632, 0.12505890084461632, 0.12505890084461632, 0.12505890084461632, 0.12505890084461632, 0.12505890084461632, 0.09818667803579247, 0.09205001065855545, 0.12477890333715293, 0.14932557284610104, 0.08182223169649373, 0.11046001279026653, 0.10227778962061716, 0.10023223382820481, 0.071594452734432, 0.06750334114960732, 0.11747550658265785, 0.11747550658265785, 0.11747550658265785, 0.11747550658265785, 0.11747550658265785, 0.11747550658265785, 0.2349510131653157, 0.11747550658265785, 0.11747550658265785, 0.11747550658265785, 0.07053347520008986, 0.07053347520008986, 0.1058002128001348, 0.1058002128001348, 0.1058002128001348, 0.1058002128001348, 0.1058002128001348, 0.07053347520008986, 0.17633368800022467, 0.1058002128001348, 0.10223548914845439, 0.07979355250611074, 0.10597581192217834, 0.11719678024335016, 0.07979355250611074, 0.10348226340636237, 0.09475484360100651, 0.08727419805355863, 0.1334048455961539, 0.09724839211682247, 0.17347635885280485, 0.17347635885280485, 0.17347635885280485, 0.17347635885280485, 0.17347635885280485, 0.17347635885280485, 0.17347635885280485, 0.17347635885280485, 0.1307531844750631, 0.09879129493671435, 0.0755462843633698, 0.10605536074088452, 0.1176778660275568, 0.09298004229337821, 0.11477223970588872, 0.09733848177588031, 0.06973503172003366, 0.09588566861504627, 0.06606907490273041, 0.10736224671693692, 0.1527847357125641, 0.05781044053988911, 0.10323292953551627, 0.11562088107977822, 0.13626746698688147, 0.09910361235409562, 0.09084497799125432, 0.07432770926557172, 0.11506620149640089, 0.11506620149640089, 0.11506620149640089, 0.23013240299280177, 0.11506620149640089, 0.11506620149640089, 0.11506620149640089, 0.11506620149640089, 0.11506620149640089, 0.09891062316697936, 0.07065044511927097, 0.07065044511927097, 0.09891062316697936, 0.07065044511927097, 0.11304071219083356, 0.18369115731010452, 0.11304071219083356, 0.11304071219083356, 0.05652035609541678, 0.12710334708239152, 0.12710334708239152, 0.12710334708239152, 0.12710334708239152, 0.12710334708239152, 0.12710334708239152, 0.12710334708239152, 0.12710334708239152, 0.12710334708239152, 0.12710334708239152, 0.10509216823248156, 0.10509216823248156, 0.10509216823248156, 0.10509216823248156, 0.10509216823248156, 0.10509216823248156, 0.21018433646496312, 0.10509216823248156, 0.10509216823248156, 0.10509216823248156, 0.10678597564869687, 0.10571811589220989, 0.09290379881436628, 0.0918359390578793, 0.1089216951616708, 0.1260074512654623, 0.0715466036846269, 0.10571811589220989, 0.10037881710977506, 0.09076807930139233, 0.07563332226295877, 0.07563332226295877, 0.11997009738262426, 0.17604307768102473, 0.14605055333536868, 0.10692986940625206, 0.06911320827477267, 0.08084941345350766, 0.08476148184641931, 0.06650516267949823, 0.1190205032634561, 0.1190205032634561, 0.09471349907584888, 0.08968446372668876, 0.10560974233236246, 0.08549360093572199, 0.0888462911684954, 0.08381725581933529, 0.11231512279790928, 0.10225705209958905, 0.10474053387089458, 0.08252284486797755, 0.07617493372428696, 0.14600195630488336, 0.08569680043982283, 0.14282800073303806, 0.08252284486797755, 0.12378426730196633, 0.0666530670087511, 0.09204471158351342, 0.098306514576849, 0.11690504436165827, 0.07173718631283575, 0.098306514576849, 0.10627731305605298, 0.13816050697286886, 0.10627731305605298, 0.07705105196563841, 0.09564958175044767, 0.0876787832712437, 0.16930009367887627, 0.16930009367887627, 0.16930009367887627, 0.16930009367887627, 0.16930009367887627, 0.16930009367887627, 0.11285315986907478, 0.11285315986907478, 0.08689693309918758, 0.1060819702769303, 0.08802546469787832, 0.10043931228347655, 0.12413847585598226, 0.09253959109264132, 0.1060819702769303, 0.07109749071751711, 0.11302553732040431, 0.10780897405946258, 0.13563064478448517, 0.09911470195789301, 0.05912105029067303, 0.1095478284797765, 0.11476439174071823, 0.09042042985632345, 0.06607646797192868, 0.10433126521883475, 0.14196079042378376, 0.0693672044116216, 0.09195187561540538, 0.11937611921999998, 0.08872549401486485, 0.0854991124143243, 0.10001782961675673, 0.11614973761945943, 0.10969697441837835, 0.07904634921324323, 0.19296886255266918, 0.09648443127633459, 0.14472664691450188, 0.048242215638167295, 0.09648443127633459, 0.048242215638167295, 0.09648443127633459, 0.048242215638167295, 0.09648443127633459, 0.09648443127633459, 0.11533469239263247, 0.09840482928912678, 0.09523047995721946, 0.09099801418134304, 0.10475352795294142, 0.08888178129340484, 0.11850904172453978, 0.12062527461247799, 0.07512626752180647, 0.09205613062531215, 0.08288319270228414, 0.08823049545727021, 0.0802095413247911, 0.12566161474217274, 0.072188587192312, 0.10694605509972148, 0.144377174384624, 0.10427240372222844, 0.10694605509972148, 0.08823049545727021, 0.08922505038203503, 0.05948336692135668, 0.07435420865169586, 0.11896673384271336, 0.11896673384271336, 0.08922505038203503, 0.17845010076407006, 0.1040958921123742, 0.07435420865169586, 0.07435420865169586, 0.0933174556071352, 0.0933174556071352, 0.1866349112142704, 0.12442327414284693, 0.0933174556071352, 0.0933174556071352, 0.0933174556071352, 0.0933174556071352, 0.0933174556071352, 0.062211637071423465, 0.08425700696922861, 0.10110840836307433, 0.10110840836307433, 0.10110840836307433, 0.13481121115076578, 0.11795980975692005, 0.08425700696922861, 0.1516626125446115, 0.10110840836307433, 0.050554204181537166, 0.10408839068930319, 0.05204419534465159, 0.10408839068930319, 0.15613258603395477, 0.05204419534465159, 0.10408839068930319, 0.10408839068930319, 0.10408839068930319, 0.10408839068930319, 0.10408839068930319, 0.10520376481245342, 0.08766980401037784, 0.10520376481245342, 0.12273772561452898, 0.07013584320830227, 0.12273772561452898, 0.17533960802075568, 0.07013584320830227, 0.05260188240622671, 0.08766980401037784, 0.09823198100088171, 0.11591373758104041, 0.07269166594065246, 0.11394909796102277, 0.10019662062089935, 0.10412589986093461, 0.09037342252081117, 0.12966621492116384, 0.07858558480070536, 0.09823198100088171, 0.13708766446097603, 0.13708766446097603, 0.13708766446097603, 0.13708766446097603, 0.13708766446097603, 0.13708766446097603, 0.13708766446097603, 0.13708766446097603, 0.16578092341495804, 0.11052061560997202, 0.12894071821163403, 0.09210051300831001, 0.09210051300831001, 0.07368041040664801, 0.11052061560997202, 0.07368041040664801, 0.07368041040664801, 0.07368041040664801, 0.09094507010497434, 0.07048242933135511, 0.12277584464171534, 0.11140771087859355, 0.1091340841259692, 0.11595496438384227, 0.07048242933135511, 0.08412418984710125, 0.14096485866271022, 0.08412418984710125, 0.10389246995151799, 0.15435452678511244, 0.09201904481420166, 0.12763932022615068, 0.08905068852987257, 0.08608233224554349, 0.08608233224554349, 0.09795575738285982, 0.07420890710822714, 0.09201904481420166, 0.08621167325095776, 0.08621167325095776, 0.07543521409458803, 0.09159990282914261, 0.10776459156369719, 0.07543521409458803, 0.1185410507200669, 0.08082344367277289, 0.18319980565828523, 0.09159990282914261, 0.13416618728953608, 0.13416618728953608, 0.13416618728953608, 0.13416618728953608, 0.13416618728953608, 0.13416618728953608, 0.13416618728953608, 0.13416618728953608, 0.13416618728953608, 0.13416618728953608, 0.08239317058434606, 0.11351947947176567, 0.07690029254538965, 0.08788604862330246, 0.1354909916275913, 0.11351947947176567, 0.09154796731594006, 0.1281671542423161, 0.09337892666225886, 0.07873125189170845, 0.1959131920007243, 0.1959131920007243, 0.1959131920007243, 0.1959131920007243, 0.07968313109212229, 0.08692705210049703, 0.16661018319261933, 0.08692705210049703, 0.09417097310887179, 0.11590273613399606, 0.07243921008374753, 0.1521223411758698, 0.07243921008374753, 0.07968313109212229, 0.07758638934640565, 0.07758638934640565, 0.07758638934640565, 0.1551727786928113, 0.1551727786928113, 0.1551727786928113, 0.07758638934640565, 0.07758638934640565, 0.07758638934640565, 0.07758638934640565, 0.2285594221279063, 0.2285594221279063, 0.2285594221279063, 0.07007662129841868, 0.1012217863199381, 0.07007662129841868, 0.1012217863199381, 0.10900807757531795, 0.09343549506455824, 0.09343549506455824, 0.1012217863199381, 0.15572582510759708, 0.1012217863199381, 0.19127224746811605, 0.19127224746811605, 0.19127224746811605, 0.19127224746811605, 0.10896282320173906, 0.09567467403079527, 0.09656055064219152, 0.10010405708777653, 0.10010405708777653, 0.13288149170943786, 0.13908262798921164, 0.07795714180287021, 0.06909837568890768, 0.07972889502566272, 0.07627437929419899, 0.10169917239226531, 0.07627437929419899, 0.15254875858839798, 0.07627437929419899, 0.07627437929419899, 0.10169917239226531, 0.1779735516864643, 0.10169917239226531, 0.07627437929419899, 0.22372547606870966, 0.11186273803435483, 0.11186273803435483, 0.11186273803435483, 0.11186273803435483, 0.11186273803435483, 0.11186273803435483, 0.11186273803435483, 0.11186273803435483, 0.2689481729233974, 0.17277551492377263, 0.17277551492377263, 0.17277551492377263, 0.17277551492377263, 0.17277551492377263, 0.17277551492377263, 0.09591328639880681, 0.07606915817836402, 0.1005435829835768, 0.12766389155151528, 0.10451240862766535, 0.121049182144701, 0.10980417615311676, 0.121049182144701, 0.0780535710004083, 0.06482415218677977, 0.10365570898605156, 0.20731141797210312, 0.10365570898605156, 0.10365570898605156, 0.10365570898605156, 0.20731141797210312, 0.10365570898605156, 0.10365570898605156, 0.10365570898605156, 0.10365570898605156, 0.2693826601028218, 0.12139987874827612, 0.09989475737001006, 0.12972444186244364, 0.10058847096285736, 0.09434504862723173, 0.11030046126271945, 0.07353364084181296, 0.08532677192021693, 0.1054444661127884, 0.0790833495845913, 0.26872375752919836, 0.16853174205347318, 0.16853174205347318, 0.16853174205347318, 0.16853174205347318, 0.16853174205347318, 0.16853174205347318, 0.12068337891825898, 0.151279165122888, 0.10113607106530154, 0.10538548581594445, 0.08923770976350136, 0.09263724156401569, 0.08583817796298701, 0.10538548581594445, 0.07733934846170118, 0.0705402848606725, 0.18122567317465568, 0.08237530598847985, 0.06590024479078388, 0.09885036718617582, 0.08237530598847985, 0.06590024479078388, 0.13180048958156776, 0.11532542838387179, 0.08237530598847985, 0.08237530598847985, 0.08083495681047842, 0.10104369601309802, 0.07073058720916861, 0.11114806561440782, 0.09093932641178822, 0.11114806561440782, 0.07073058720916861, 0.08083495681047842, 0.10104369601309802, 0.17177428322226662, 0.08715792390339655, 0.10265266593066705, 0.07747371013635249, 0.09684213767044061, 0.12202109346475516, 0.1433263637522521, 0.08328423839657892, 0.09877898042384942, 0.10458950868407586, 0.08134739564317012, 0.1910742591243675, 0.1910742591243675, 0.1910742591243675, 0.1910742591243675, 0.1910742591243675, 0.1910742591243675, 0.19092995230809567, 0.19092995230809567, 0.19092995230809567, 0.10690625893081272, 0.05345312946540636, 0.10690625893081272, 0.10690625893081272, 0.05345312946540636, 0.10690625893081272, 0.05345312946540636, 0.16035938839621908, 0.10690625893081272, 0.10690625893081272, 0.11363967252994747, 0.11363967252994747, 0.11363967252994747, 0.22727934505989494, 0.11363967252994747, 0.11363967252994747, 0.11363967252994747, 0.11363967252994747, 0.11363967252994747, 0.11363967252994747, 0.094559727070698, 0.07163615687174091, 0.1332432517814381, 0.07736704942148018, 0.1031560658953069, 0.11318512785735063, 0.09599245020813281, 0.10888695844504617, 0.11175240471991581, 0.09026155765839354, 0.08722890221666689, 0.08722890221666689, 0.10467468266000027, 0.10467468266000027, 0.08722890221666689, 0.08722890221666689, 0.08722890221666689, 0.06978312177333351, 0.17445780443333378, 0.10467468266000027, 0.14780403217020488, 0.14780403217020488, 0.14780403217020488, 0.14780403217020488, 0.14780403217020488, 0.14780403217020488, 0.14780403217020488, 0.11251546322282369, 0.06924028506019919, 0.10386042759029879, 0.11251546322282369, 0.11251546322282369, 0.15579064138544818, 0.08655035632524899, 0.08655035632524899, 0.08655035632524899, 0.07789532069272409, 0.09923532489891397, 0.10846651791276643, 0.13154450044739757, 0.10962041703949799, 0.0900041318850615, 0.0819268379979406, 0.07846514061774593, 0.1119282152929611, 0.10038922402564553, 0.0900041318850615, 0.08806140502785209, 0.08806140502785209, 0.08806140502785209, 0.12580200718264584, 0.10064160574611668, 0.150962408619175, 0.08806140502785209, 0.10064160574611668, 0.08806140502785209, 0.0754812043095875, 0.14734813914281472, 0.14734813914281472, 0.14734813914281472, 0.14734813914281472, 0.14734813914281472, 0.14734813914281472, 0.14734813914281472, 0.14734813914281472, 0.14734813914281472, 0.14685965617679514, 0.07476491587182298, 0.12549825164198858, 0.14685965617679514, 0.11214737380773447, 0.058743862470718056, 0.07476491587182298, 0.08811579370607708, 0.104136847107182, 0.06675438917127051, 0.10695808304498933, 0.10695808304498933, 0.08690344247405382, 0.07353368209343016, 0.08690344247405382, 0.09358832266436566, 0.09358832266436566, 0.10695808304498933, 0.16712200475779582, 0.07353368209343016, 0.10269608479800256, 0.12040230631489955, 0.11686106201152016, 0.08853110758448497, 0.10694557796205784, 0.11969405745422368, 0.08853110758448497, 0.10977857340476137, 0.0842816144204297, 0.06161765087880154, 0.12102276982315628, 0.12102276982315628, 0.24204553964631256, 0.12102276982315628, 0.12102276982315628, 0.12102276982315628, 0.12102276982315628, 0.12102276982315628, 0.12102276982315628, 0.09252057167961956, 0.13522237399329012, 0.07181666752753686, 0.09769654771764023, 0.0912265776701144, 0.10028453573665057, 0.1526912931216099, 0.13457537698853755, 0.054347748399217084, 0.0705226735180317, 0.14767438537219457, 0.14767438537219457, 0.14767438537219457, 0.14767438537219457, 0.14767438537219457, 0.14767438537219457, 0.14767438537219457, 0.14767438537219457, 0.1113033035319936, 0.11547717741444335, 0.08904264282559488, 0.08626006023729504, 0.07373843858994576, 0.08626006023729504, 0.11686846870859327, 0.1182597600027432, 0.08626006023729504, 0.11686846870859327, 0.05336849661807431, 0.10673699323614862, 0.10673699323614862, 0.05336849661807431, 0.16010548985422293, 0.10673699323614862, 0.10673699323614862, 0.05336849661807431, 0.10673699323614862, 0.10673699323614862, 0.1036307211688769, 0.0924876328711482, 0.09137332404137533, 0.0958305593604668, 0.11365950063683272, 0.07465869159478228, 0.08580177989251098, 0.10585933882842263, 0.1326027507429715, 0.10585933882842263, 0.13546969198135678, 0.13245925438177106, 0.10084965958612116, 0.09332356558715689, 0.0963340031867426, 0.09783922198653544, 0.0767661587894355, 0.08128181518881407, 0.10837575358508542, 0.07827137758922836, 0.22722982193112484, 0.22722982193112484, 0.22722982193112484, 0.09822299675288669, 0.14558051304445707, 0.1052389250923786, 0.07366724756466501, 0.08945308632852181, 0.09822299675288669, 0.10699290717725157, 0.08243715798902991, 0.11751679968648944, 0.08243715798902991, 0.08154792876046846, 0.16309585752093692, 0.08154792876046846, 0.08154792876046846, 0.08154792876046846, 0.08154792876046846, 0.16309585752093692, 0.08154792876046846, 0.08154792876046846, 0.08154792876046846, 0.10520637976705065, 0.0751474141193219, 0.1427800868267116, 0.11067164624845588, 0.11067164624845588, 0.09427584680424018, 0.08402847215160539, 0.08197899722107843, 0.10179058821617237, 0.09427584680424018, 0.11342205885597813, 0.1458283613862576, 0.06481260506055893, 0.17823466391653706, 0.12962521012111786, 0.04860945379541919, 0.06481260506055893, 0.09721890759083839, 0.08101575632569866, 0.06481260506055893, 0.08646654192906732, 0.08646654192906732, 0.08646654192906732, 0.08646654192906732, 0.08646654192906732, 0.08646654192906732, 0.17293308385813463, 0.08646654192906732, 0.08646654192906732, 0.08646654192906732, 0.10887394377395297, 0.10314373620690281, 0.09741352863985266, 0.0916833210728025, 0.09741352863985266, 0.0916833210728025, 0.08595311350575234, 0.08595311350575234, 0.08595311350575234, 0.14898539674330405, 0.10561973053323644, 0.09430333083324682, 0.12448039669988581, 0.15842959579985466, 0.10561973053323644, 0.05658199849994809, 0.12070826346655593, 0.06789839819993772, 0.07544266466659746, 0.09053119759991696, 0.11012010301991267, 0.11012010301991267, 0.06538381116807314, 0.11356135623928493, 0.08947258370367904, 0.16173890131049673, 0.10323759658116811, 0.08603133048430676, 0.09635509014242358, 0.06538381116807314, 0.08959906953442315, 0.16608608011258924, 0.08741372637504696, 0.07648701057816609, 0.06993098110003758, 0.09615509901255166, 0.11145250112818489, 0.09396975585317549, 0.07867235373754228, 0.1267499032438181, 0.1122760333833093, 0.09932110645446592, 0.15761827763426112, 0.09932110645446592, 0.10363941543074705, 0.08204787054934141, 0.11011687889516873, 0.06909294362049803, 0.07988871606120085, 0.0885253340137631, 0.10095667889967913, 0.20191335779935826, 0.06730445259978608, 0.10095667889967913, 0.13460890519957217, 0.10095667889967913, 0.10095667889967913, 0.10095667889967913, 0.03365222629989304, 0.06730445259978608, 0.09665264066551067, 0.11958716556919116, 0.08682355856393331, 0.10320536206656224, 0.10320536206656224, 0.07699447646235595, 0.10811990311735092, 0.14088351012260877, 0.0884617389141962, 0.07863265681261886, 0.10299571451446267, 0.10299571451446267, 0.09012125020015484, 0.09655848235730875, 0.09012125020015484, 0.10943294667161658, 0.154493571771694, 0.09655848235730875, 0.08368401804300092, 0.077246785885847, 0.09919909403073313, 0.12248931610751394, 0.114725908748587, 0.10696250138966007, 0.13025272346644087, 0.0793592752245865, 0.09402348912478183, 0.07590887195395231, 0.07590887195395231, 0.10092429566605023, 0.11285804165368193, 0.09843729188682257, 0.08527052036055968, 0.11285804165368193, 0.0896594442026473, 0.10533417221010313, 0.1065881504506996, 0.07649267267638442, 0.1084691178115943, 0.1047071830898049, 0.10386613646440139, 0.10386613646440139, 0.10386613646440139, 0.20773227292880278, 0.10386613646440139, 0.10386613646440139, 0.10386613646440139, 0.10386613646440139, 0.10386613646440139, 0.10386613646440139, 0.0876169599946932, 0.09292707878225037, 0.08230684120713604, 0.15133838544537917, 0.0743416630258003, 0.11151249453870044, 0.09558213817602895, 0.09292707878225037, 0.10089225696358611, 0.10885743514492185, 0.08970444506305017, 0.08970444506305017, 0.13455666759457524, 0.08970444506305017, 0.17940889012610034, 0.08970444506305017, 0.08970444506305017, 0.08970444506305017, 0.08970444506305017, 0.08970444506305017, 0.08667444206282522, 0.17334888412565044, 0.08667444206282522, 0.08667444206282522, 0.08667444206282522, 0.08667444206282522, 0.08667444206282522, 0.08667444206282522, 0.17334888412565044, 0.10020188442415498, 0.0876766488711356, 0.10020188442415498, 0.15656544441274214, 0.11272711997717436, 0.0876766488711356, 0.07515141331811623, 0.09393926664764529, 0.11272711997717436, 0.08141403109462592, 0.052540804560742886, 0.10508160912148577, 0.052540804560742886, 0.10508160912148577, 0.10508160912148577, 0.21016321824297154, 0.052540804560742886, 0.10508160912148577, 0.10508160912148577, 0.10508160912148577, 0.10849608483023775, 0.0981631243702151, 0.10849608483023775, 0.10332960460022643, 0.10160744452355598, 0.0981631243702151, 0.0809415236035107, 0.12743984567361258, 0.0895523239868629, 0.08610800383352202, 0.08719481847682106, 0.11625975796909474, 0.08719481847682106, 0.05812987898454737, 0.08719481847682106, 0.17438963695364212, 0.11625975796909474, 0.08719481847682106, 0.08719481847682106, 0.11625975796909474, 0.08937095354077033, 0.12827360390557624, 0.0946280684549333, 0.09988518336909626, 0.12827360390557624, 0.07044533984978367, 0.0672910709012859, 0.09673091442059849, 0.108296567231757, 0.11775937407725033, 0.16667777553599683, 0.08566678966095927, 0.15271036417823172, 0.08752911117532794, 0.08566678966095927, 0.08101098587503756, 0.08473562890377492, 0.095909557989987, 0.07635518208911586, 0.08380446814659058, 0.11883857489925957, 0.12241805004682763, 0.08662329857114703, 0.09736172401385121, 0.0780325582169837, 0.11382730969266429, 0.11955446992877318, 0.11096372957460984, 0.09306635383676955, 0.060135182479143394, 0.08156610032773778, 0.08844516903007711, 0.12382323664210795, 0.1483913391504627, 0.12087506434110538, 0.09335878953174806, 0.08353154852840616, 0.07370430752506425, 0.09041061723074549, 0.09630696183275063, 0.08580555745662086, 0.08800569995550857, 0.08800569995550857, 0.10120655494883485, 0.11440740994216114, 0.10120655494883485, 0.07920512995995771, 0.13640883493103828, 0.13640883493103828, 0.07040455996440685, 0.10747263218705035, 0.10181617786141611, 0.09615972353578188, 0.06787745190761074, 0.1187855408383188, 0.08484681488451343, 0.1583807211177584, 0.0791903605588792, 0.0791903605588792, 0.10181617786141611, 0.16822846607098585, 0.16822846607098585, 0.16822846607098585, 0.16822846607098585, 0.16822846607098585, 0.16822846607098585, 0.26808828590842204, 0.26808828590842204, 0.08403209988472309, 0.10924172985014001, 0.13445135981555692, 0.07562888989625077, 0.16806419976944617, 0.09243530987319538, 0.09243530987319538, 0.09243530987319538, 0.06722567990777846, 0.07562888989625077, 0.13674005898633057, 0.09116003932422037, 0.12195734990672726, 0.07637733024461707, 0.08869625447761982, 0.08376868478441872, 0.09731950144072175, 0.08869625447761982, 0.13181248929312944, 0.08130489993781817, 0.08178619647619831, 0.08178619647619831, 0.08178619647619831, 0.08178619647619831, 0.16357239295239662, 0.16357239295239662, 0.08178619647619831, 0.08178619647619831, 0.08178619647619831, 0.16357239295239662, 0.12453160132552205, 0.12453160132552205, 0.12453160132552205, 0.12453160132552205, 0.2490632026510441, 0.12453160132552205, 0.12453160132552205, 0.12453160132552205, 0.09138144573024116, 0.10083469873681784, 0.12289228908549675, 0.07877710838813894, 0.09453253006576673, 0.08823036139471561, 0.13234554209207341, 0.07562602405261339, 0.1481009637697012, 0.06932385538156227, 0.10514099370445117, 0.07736790102780369, 0.1527520097215611, 0.07835979719482682, 0.09720582436826616, 0.08728686269803493, 0.08827875886505805, 0.1348978787151449, 0.10018151286933555, 0.07835979719482682, 0.0774656980533039, 0.11415997607855312, 0.07338855605049843, 0.13454568609258047, 0.15900853810941326, 0.10192855007013671, 0.10600569207294218, 0.0774656980533039, 0.08154284005610937, 0.07338855605049843, 0.08236942161229259, 0.12176349281817166, 0.09311325921389597, 0.10385709681549934, 0.10385709681549934, 0.06088174640908583, 0.09311325921389597, 0.15041372642244732, 0.06804430481015475, 0.11818221361763719, 0.1241402050414797, 0.11909897844081048, 0.07120732573445282, 0.11027683188963933, 0.07813901231037301, 0.09641345873779895, 0.09515315208763164, 0.0838103922361259, 0.11846882511572682, 0.10334514531371915, 0.11508671167414572, 0.11976028372182677, 0.12735483829930846, 0.08354010035229867, 0.09230304794170063, 0.07711393878673724, 0.08996626191786011, 0.11333412215626533, 0.09580822697746141, 0.08529268987017906, 0.11136297760211324, 0.11136297760211324, 0.11136297760211324, 0.11136297760211324, 0.11136297760211324, 0.22272595520422647, 0.11136297760211324, 0.11136297760211324, 0.11136297760211324, 0.11136297760211324, 0.1515305508734156, 0.0757652754367078, 0.10417725372547323, 0.08523593486629628, 0.1610012103030041, 0.06629461600711933, 0.08523593486629628, 0.08523593486629628, 0.11364791315506172, 0.06629461600711933, 0.1913077180467855, 0.1913077180467855, 0.1913077180467855, 0.1913077180467855, 0.1913077180467855, 0.10061567392607886, 0.10061567392607886, 0.10061567392607886, 0.2012313478521577, 0.10061567392607886, 0.05030783696303943, 0.10061567392607886, 0.05030783696303943, 0.10061567392607886, 0.10061567392607886, 0.059570414241588154, 0.059570414241588154, 0.059570414241588154, 0.17871124272476446, 0.11914082848317631, 0.11914082848317631, 0.11914082848317631, 0.11914082848317631, 0.11914082848317631, 0.059570414241588154, 0.1515786255686913, 0.1515786255686913, 0.1515786255686913, 0.1515786255686913, 0.1515786255686913, 0.1515786255686913, 0.1515786255686913, 0.09190106265425937, 0.09190106265425937, 0.09190106265425937, 0.09190106265425937, 0.27570318796277815, 0.09190106265425937, 0.09190106265425937, 0.09190106265425937, 0.09190106265425937, 0.09190106265425937, 0.11289056431016398, 0.08114009309793035, 0.06350094242446723, 0.14111320538770497, 0.07761226296323773, 0.08114009309793035, 0.07761226296323773, 0.09172358350200822, 0.1305297149836271, 0.1446410355223976, 0.08597590510852862, 0.09725143364735205, 0.11416472645558719, 0.10570808005146962, 0.11134584432088132, 0.10852696218617547, 0.1508101942067633, 0.0902042283105874, 0.07751925870441105, 0.06060596589617591, 0.11226032847199827, 0.1481836335830377, 0.08756305620815864, 0.08531784963871868, 0.12124115474975812, 0.08756305620815864, 0.06511099051375899, 0.08980826277759861, 0.09205346934703858, 0.11226032847199827, 0.16367087663367744, 0.11690776902405531, 0.0701446614144332, 0.11690776902405531, 0.09352621521924424, 0.09352621521924424, 0.0701446614144332, 0.09352621521924424, 0.09352621521924424, 0.09352621521924424, 0.1473352361220363, 0.10031335225330132, 0.09717855999538565, 0.07836980644789165, 0.10344814451121698, 0.09717855999538565, 0.08777418322163866, 0.10344814451121698, 0.10031335225330132, 0.08777418322163866, 0.08214730630680137, 0.12322095946020205, 0.08214730630680137, 0.08214730630680137, 0.08214730630680137, 0.12322095946020205, 0.12322095946020205, 0.08214730630680137, 0.16429461261360273, 0.04107365315340068, 0.1062766016754248, 0.1046903837399707, 0.09993172993360838, 0.12213878102996581, 0.08724198644997558, 0.10151794786906249, 0.09041442232088377, 0.1459320500617773, 0.05869006361180175, 0.08406955057906737, 0.1082206862985317, 0.07153570789224976, 0.12106042874073036, 0.09721519277664711, 0.08437545033444845, 0.13206592226261496, 0.1100549352188458, 0.1082206862985317, 0.08254120141413435, 0.08070695249382025, 0.08670369637546985, 0.08670369637546985, 0.1734073927509397, 0.08670369637546985, 0.08670369637546985, 0.08670369637546985, 0.08670369637546985, 0.08670369637546985, 0.08670369637546985, 0.08670369637546985, 0.10406476575904296, 0.07212409508052482, 0.12364130585232827, 0.0958220120355544, 0.11333786369796758, 0.11024683105165937, 0.12467165006776434, 0.0958220120355544, 0.06285099714160021, 0.09788270046642655, 0.07565829641148912, 0.11234110679281718, 0.09629237725098615, 0.09170702595332014, 0.07336562076265611, 0.1352678632811472, 0.07795097206032213, 0.09629237725098615, 0.1238044850369822, 0.11921913373931618, 0.08978734944637452, 0.1335299043048647, 0.08978734944637452, 0.08288063025819187, 0.15425006186941265, 0.06906719188182656, 0.10360078782273983, 0.07827615079940344, 0.11971646592849937, 0.08288063025819187, 0.1479307031808495, 0.1479307031808495, 0.1479307031808495, 0.1479307031808495, 0.1479307031808495, 0.1479307031808495, 0.1479307031808495, 0.15771153001002117, 0.11018202781522027, 0.08641727671781982, 0.0993798682254928, 0.11450289165111127, 0.10586116397932928, 0.11018202781522027, 0.07129425329220135, 0.08641727671781982, 0.05833166178452838, 0.190782699106193, 0.190782699106193, 0.190782699106193, 0.190782699106193, 0.08769322427925712, 0.13153983641888567, 0.08769322427925712, 0.08769322427925712, 0.08769322427925712, 0.13153983641888567, 0.17538644855851424, 0.04384661213962856, 0.08769322427925712, 0.08769322427925712, 0.26784345134383963, 0.07636066566366691, 0.07636066566366691, 0.07636066566366691, 0.15272133132733381, 0.15272133132733381, 0.15272133132733381, 0.07636066566366691, 0.07636066566366691, 0.15272133132733381, 0.07636066566366691, 0.0992979075548656, 0.08575728379738393, 0.08575728379738393, 0.08801405442363087, 0.13540623757481673, 0.10155467818111255, 0.09252759567612477, 0.11960884319108811, 0.08801405442363087, 0.10155467818111255, 0.10781359476538274, 0.10781359476538274, 0.05390679738269137, 0.10781359476538274, 0.21562718953076548, 0.10781359476538274, 0.10781359476538274, 0.05390679738269137, 0.05390679738269137, 0.10781359476538274, 0.21134675766090716, 0.10567337883045358, 0.10567337883045358, 0.10567337883045358, 0.10567337883045358, 0.10567337883045358, 0.10567337883045358, 0.10567337883045358, 0.10567337883045358, 0.08242099085364998, 0.12088411991868665, 0.15934724898372332, 0.10439992174795665, 0.10439992174795665, 0.09341045630080332, 0.07692625813007332, 0.08791572357722666, 0.06593679268291999, 0.09890518902437999, 0.1904965878336905, 0.1904965878336905, 0.1904965878336905, 0.1904965878336905, 0.1904965878336905, 0.07130433646320233, 0.1128985327334037, 0.1128985327334037, 0.08318839254040272, 0.08318839254040272, 0.08318839254040272, 0.1069565046948035, 0.08913042057900292, 0.16043475704220525, 0.1010144766562033, 0.12847165944661823, 0.11040533233693754, 0.07828741747528299, 0.06624319940216253, 0.11040533233693754, 0.08430952651184322, 0.11241270201579096, 0.13650113816203188, 0.1023758536215239, 0.07226530843872275, 0.10103270194328383, 0.08266311977177768, 0.08266311977177768, 0.11021749302903691, 0.08266311977177768, 0.11021749302903691, 0.16532623954355535, 0.08266311977177768, 0.10103270194328383, 0.08266311977177768, 0.126089599198335, 0.10807679931285857, 0.126089599198335, 0.05403839965642929, 0.09006399942738215, 0.09006399942738215, 0.07205119954190572, 0.07205119954190572, 0.10807679931285857, 0.1801279988547643, 0.16855661085798945, 0.16855661085798945, 0.16855661085798945, 0.16855661085798945, 0.16855661085798945, 0.11228443164853077, 0.11012511565528979, 0.11012511565528979, 0.0820540077431571, 0.07125742777695222, 0.12308101161473566, 0.05614221582426539, 0.1468334875403864, 0.090691271716121, 0.09932853568908491, 0.1061430426441011, 0.08105468711004084, 0.06175595208384064, 0.11000278964934113, 0.11772228365982121, 0.13316127168078137, 0.06947544609432071, 0.10421316914148107, 0.10807291614672111, 0.1061430426441011, 0.08662390372978133, 0.08662390372978133, 0.08662390372978133, 0.08662390372978133, 0.08662390372978133, 0.08662390372978133, 0.17324780745956267, 0.17324780745956267, 0.08662390372978133, 0.08662390372978133, 0.08174793815492806, 0.08174793815492806, 0.08174793815492806, 0.08174793815492806, 0.08174793815492806, 0.08174793815492806, 0.08174793815492806, 0.16349587630985613, 0.08174793815492806, 0.08174793815492806, 0.12945694513988895, 0.1079802169139166, 0.07874800349523199, 0.10201445907336872, 0.09724185280093042, 0.1318432482761081, 0.09187267074443733, 0.1282637935717794, 0.07218566987062933, 0.060254154189533574, 0.1713975374488421, 0.13711802995907368, 0.06855901497953684, 0.10283852246930526, 0.06855901497953684, 0.10283852246930526, 0.06855901497953684, 0.06855901497953684, 0.06855901497953684, 0.10283852246930526, 0.13657293953815247, 0.06828646976907624, 0.07547451921845268, 0.0952416552042379, 0.09703866756658201, 0.10422671701595845, 0.11500879119002312, 0.11141476646533491, 0.09883567992892613, 0.09883567992892613, 0.13666057657265485, 0.13666057657265485, 0.13666057657265485, 0.13666057657265485, 0.13666057657265485, 0.13666057657265485, 0.13666057657265485, 0.13666057657265485, 0.12166243951198658, 0.11016677593605083, 0.10154502825409903, 0.08621747681951804, 0.08142761699621148, 0.09483922450146985, 0.08046964503155017, 0.09771314039545378, 0.10346097218342165, 0.12070446754732526, 0.14077986977270962, 0.08342510801345755, 0.09037720034791234, 0.07299696951177535, 0.1268756851038, 0.07821103876261645, 0.09037720034791234, 0.11644754660211783, 0.09037720034791234, 0.10949545426766304, 0.1348144874550174, 0.0674072437275087, 0.0674072437275087, 0.10111086559126305, 0.0674072437275087, 0.16851810931877176, 0.1348144874550174, 0.1348144874550174, 0.0674072437275087, 0.0674072437275087, 0.10189689115838292, 0.06738342802409193, 0.11833187360328339, 0.0805314139800123, 0.10025339291389287, 0.11833187360328339, 0.13476685604818386, 0.07560091924654216, 0.0805314139800123, 0.12326236833675354, 0.09581265206832412, 0.1469127331714303, 0.08942514193043584, 0.12349186266583997, 0.07381122826004229, 0.08445707848985608, 0.09723209876563263, 0.09013486527909009, 0.09368348202236136, 0.10432933225217515, 0.08320311166952246, 0.1289648230877598, 0.11024412296211726, 0.09360350062821277, 0.08320311166952246, 0.09776365621168889, 0.09776365621168889, 0.10608396737864115, 0.06864256712735603, 0.1289648230877598, 0.1614556762185029, 0.10274452122995639, 0.11742230997709302, 0.10274452122995639, 0.09540562685638808, 0.08072783810925145, 0.09540562685638808, 0.07338894373568314, 0.08806673248281977, 0.08072783810925145, 0.0839901628079219, 0.06999180233993492, 0.1170771966413457, 0.09544336682718399, 0.10689657084644606, 0.09544336682718399, 0.09162563215409662, 0.1005336797246338, 0.09035305392973418, 0.15016423047476948, 0.1105883873116502, 0.08918418331584693, 0.11823274588157993, 0.10854989169300228, 0.06625110760605772, 0.12027124150022787, 0.09122267893449487, 0.0988670375044246, 0.116703874167594, 0.08052057693659323, 0.16960417944377706, 0.16960417944377706, 0.16960417944377706, 0.16960417944377706, 0.16960417944377706, 0.16960417944377706, 0.16960417944377706, 0.10391736251986877, 0.09206713696935742, 0.09935958346197979, 0.13673337173666944, 0.09844802765040199, 0.12032536712826909, 0.10847514157775774, 0.10482891833144656, 0.05013556963677879, 0.08568624628831284, 0.10150270928765698, 0.09476580380396293, 0.11542564728729134, 0.10374834444888832, 0.12081517167424657, 0.09925707412642563, 0.07814810361085095, 0.0817411198688211, 0.1235099338677242, 0.08084286580432856, 0.06908283151121758, 0.09384837488316351, 0.10948977069702409, 0.08211732802276807, 0.12382771685972964, 0.13295186441781498, 0.07299318046468273, 0.12513116651088468, 0.11731046860395439, 0.07168973081352768, 0.14733535424582206, 0.2946707084916441, 0.14733535424582206, 0.14733535424582206, 0.14733535424582206, 0.14733535424582206, 0.0873479603414234, 0.11355234844385043, 0.07861316430728106, 0.1048175524097081, 0.06987836827313873, 0.09608275637556575, 0.11355234844385043, 0.1484915325804198, 0.09608275637556575, 0.07861316430728106, 0.19010474254613036, 0.19010474254613036, 0.19010474254613036, 0.19010474254613036, 0.17341281735915046, 0.17341281735915046, 0.17341281735915046, 0.17341281735915046, 0.14864561014433986, 0.14864561014433986, 0.14864561014433986, 0.14864561014433986, 0.14864561014433986, 0.14864561014433986, 0.1052340735388548, 0.10272850035935827, 0.07516719538489629, 0.09020063446187555, 0.0927062076413721, 0.07767276856439284, 0.11525636625684098, 0.06263932948741358, 0.12277308579533061, 0.15033439076979258, 0.12048311654561666, 0.10598051918364429, 0.12048311654561666, 0.09147792182167191, 0.08813116858429368, 0.11602077889577901, 0.06358831151018657, 0.10040259712134722, 0.11378961007086019, 0.08032207769707778, 0.13115047403269225, 0.08023323117294114, 0.1265216337727149, 0.12960752727936645, 0.09103385844622168, 0.10183448571950221, 0.0709755506529864, 0.1049203792261538, 0.08331912467959272, 0.08023323117294114, 0.13433500974586657, 0.26867001949173314, 0.13433500974586657, 0.13433500974586657, 0.13433500974586657, 0.13433500974586657, 0.13433500974586657, 0.1102761506671759, 0.10484000239485032, 0.12037185460149481, 0.1040634097845181, 0.11260592849817257, 0.06756355709890355, 0.08309540930554804, 0.10872296544651144, 0.10484000239485032, 0.08387200191588026, 0.06921168764435362, 0.06921168764435362, 0.20763506293306083, 0.06921168764435362, 0.06921168764435362, 0.06921168764435362, 0.06921168764435362, 0.06921168764435362, 0.13842337528870724, 0.06921168764435362, 0.05969449983101888, 0.08954174974652832, 0.05969449983101888, 0.08954174974652832, 0.20893074940856607, 0.17908349949305663, 0.05969449983101888, 0.08954174974652832, 0.08954174974652832, 0.08954174974652832, 0.09340373260152156, 0.09340373260152156, 0.12453831013536207, 0.09340373260152156, 0.062269155067681034, 0.09340373260152156, 0.062269155067681034, 0.09340373260152156, 0.1556728876692026, 0.12453831013536207, 0.09410396160351304, 0.09220287147010874, 0.11026322773744962, 0.06843924480255494, 0.08364796586978937, 0.08745014613659798, 0.09980723200372595, 0.11406540800425823, 0.14923557547223784, 0.09980723200372595, 0.15179716139846403, 0.15179716139846403, 0.15179716139846403, 0.15179716139846403, 0.15179716139846403, 0.15179716139846403, 0.15179716139846403, 0.15179716139846403, 0.15179716139846403, 0.10883844451954017, 0.10883844451954017, 0.12029512289001808, 0.08019674859334538, 0.10883844451954017, 0.06874007022286747, 0.1546651580014518, 0.1031101053343012, 0.06874007022286747, 0.08019674859334538, 0.16854265970301754, 0.16854265970301754, 0.16854265970301754, 0.16854265970301754, 0.16854265970301754, 0.16854265970301754, 0.09464261614609513, 0.06309507743073009, 0.09464261614609513, 0.12619015486146018, 0.06309507743073009, 0.09464261614609513, 0.09464261614609513, 0.09464261614609513, 0.15773769357682524, 0.09464261614609513, 0.19572985522834443, 0.09477445621582994, 0.07417131356021474, 0.07623162782577625, 0.05768879943572257, 0.0906538276847069, 0.15452356991711402, 0.06799037076353018, 0.07623162782577625, 0.1112569703403221, 0.14268861495632346, 0.07134430747816173, 0.07134430747816173, 0.14268861495632346, 0.07134430747816173, 0.14268861495632346, 0.07134430747816173, 0.07134430747816173, 0.14268861495632346, 0.07134430747816173, 0.08443246879223265, 0.10665153952703073, 0.0666572122043942, 0.08221056171875285, 0.08887628293919227, 0.137758238555748, 0.10887344660051053, 0.0977639112331115, 0.1333144244087884, 0.0955420041596317, 0.10490830428685266, 0.12364193005236207, 0.09366812882754702, 0.08617467852134326, 0.07493450306203762, 0.08242795336824138, 0.08617467852134326, 0.08617467852134326, 0.157362456430279, 0.10865502943995455, 0.10578587069350398, 0.18512527371363197, 0.13223233836687998, 0.06170842457121065, 0.10578587069350398, 0.08815489224458666, 0.09697038146904531, 0.07933940302012799, 0.07052391379566932, 0.07052391379566932, 0.12042530128514366, 0.06568652797371471, 0.18063795192771548, 0.11495142395400076, 0.09305591462942919, 0.10126673062614353, 0.08484509863271485, 0.06021265064257183, 0.11495142395400076, 0.06294958930814328, 0.13502476600842214, 0.07851983675489767, 0.08365664850521808, 0.11521134925718629, 0.11374368875709474, 0.11594517950723206, 0.1284202937580102, 0.09246261150576734, 0.08365664850521808, 0.05430343850338717, 0.12618111657865982, 0.12160933699247649, 0.09417865947537653, 0.09326430355813986, 0.11520884557181983, 0.058518778703146576, 0.0868638121374832, 0.1051509304822165, 0.09783608314432318, 0.10149350681326985, 0.057659253327021535, 0.10589343639866455, 0.08371680050365626, 0.08815212768265793, 0.1275156563962976, 0.11310084306454224, 0.0864888799905323, 0.125852408704172, 0.13416864716480012, 0.07761822563252899, 0.2693405038269152, 0.2693405038269152, 0.11798745549440189, 0.08800703647533255, 0.12185589665815276, 0.06769772036564042, 0.09574391880283431, 0.11121768345783783, 0.08317148502064395, 0.11702034520346416, 0.10154658054846064, 0.0947768085118966, 0.22785525283415087, 0.11392762641707543, 0.11392762641707543, 0.11392762641707543, 0.11392762641707543, 0.11392762641707543, 0.11392762641707543, 0.11392762641707543, 0.11392762641707543, 0.11392762641707543, 0.1935770437234128, 0.0967885218617064, 0.1451827827925596, 0.0967885218617064, 0.0967885218617064, 0.0967885218617064, 0.0483942609308532, 0.0967885218617064, 0.0967885218617064, 0.0483942609308532, 0.19138733962015345, 0.19138733962015345, 0.19138733962015345, 0.19008447673921533, 0.19008447673921533, 0.19008447673921533, 0.19008447673921533, 0.07674484096979128, 0.11344889534664798, 0.10343869869841434, 0.08008157318586916, 0.1634998785878162, 0.10677543091449222, 0.06339791210547975, 0.08675503761802493, 0.0900917698341028, 0.12012235977880374, 0.10355144319395247, 0.10355144319395247, 0.20710288638790494, 0.10355144319395247, 0.10355144319395247, 0.10355144319395247, 0.10355144319395247, 0.10355144319395247, 0.10355144319395247, 0.14707360456096388, 0.11108750982796207, 0.09544138168317869, 0.06884296383704692, 0.07666602790943862, 0.07666602790943862, 0.09700599449765702, 0.1439443789320072, 0.06414912539361191, 0.12047518671483211, 0.08338252270011876, 0.14439412467581542, 0.09355112302940154, 0.09558484309525808, 0.09355112302940154, 0.08744996283183186, 0.09558484309525808, 0.13219180428067606, 0.06711276217326631, 0.10982088355625397, 0.07895590746191355, 0.07716145501959733, 0.13458393317371628, 0.10048933676970816, 0.09151707455812708, 0.08254481234654598, 0.11305050386592168, 0.08972262211581085, 0.13996729050066492, 0.09151707455812708, 0.16844454151816582, 0.16844454151816582, 0.16844454151816582, 0.16844454151816582, 0.16844454151816582, 0.12291809767893715, 0.13520990744683087, 0.10294390680610986, 0.11369924035301686, 0.08604266837525601, 0.10140743058512315, 0.09065209703821615, 0.07836028727032243, 0.07375085860736229, 0.09372504948018957, 0.07490567340451404, 0.0948805196457178, 0.12983650056782434, 0.0815639554849153, 0.12151364796732278, 0.13150107108792466, 0.10153880172611904, 0.08988680808541685, 0.08988680808541685, 0.0815639554849153, 0.07554558212740779, 0.12215881365282961, 0.12483773500486535, 0.10662106981102233, 0.10608528554061519, 0.1028705799181723, 0.08894018888758647, 0.07286666077537204, 0.10876420689265093, 0.09108332596921506, 0.13036241833777734, 0.10428993467022188, 0.18250738567288827, 0.10428993467022188, 0.10428993467022188, 0.10428993467022188, 0.05214496733511094, 0.0782174510026664, 0.0782174510026664, 0.0782174510026664, 0.15097548336531938, 0.15097548336531938, 0.15097548336531938, 0.15097548336531938, 0.15097548336531938, 0.15097548336531938, 0.15097548336531938, 0.15097548336531938, 0.15097548336531938, 0.08119013256272274, 0.09278872292882599, 0.16238026512544548, 0.10438731329492924, 0.09278872292882599, 0.10438731329492924, 0.10438731329492924, 0.06959154219661949, 0.09278872292882599, 0.06959154219661949, 0.1016357550637642, 0.2032715101275284, 0.1016357550637642, 0.06775717004250946, 0.1016357550637642, 0.1016357550637642, 0.1016357550637642, 0.1016357550637642, 0.06775717004250946, 0.13551434008501892, 0.0797821506681622, 0.10827577590679155, 0.0797821506681622, 0.09117960076361394, 0.07408342562043632, 0.09117960076361394, 0.11397450095451743, 0.1595643013363244, 0.11397450095451743, 0.09117960076361394, 0.12382034644986044, 0.06191017322493022, 0.12382034644986044, 0.12382034644986044, 0.06191017322493022, 0.12382034644986044, 0.06191017322493022, 0.12382034644986044, 0.18573051967479065, 0.06191017322493022, 0.08889172259250762, 0.10292725773869303, 0.09824874602329789, 0.11813242081372723, 0.08772209466365882, 0.08655246673481004, 0.11813242081372723, 0.07134730365977585, 0.1333375838887614, 0.09357023430790275, 0.09810071305517588, 0.06540047537011726, 0.1308009507402345, 0.07848057044414071, 0.11772085566621107, 0.15042109335126969, 0.09810071305517588, 0.09810071305517588, 0.09810071305517588, 0.06540047537011726, 0.11466255908570576, 0.07960649006587216, 0.13584226745185524, 0.1066288766019939, 0.09494352026204936, 0.10297720274576122, 0.10735921137324042, 0.09421318549080282, 0.08179749437961176, 0.08252782915085828, 0.11088466732792379, 0.11815579305434502, 0.1127024487595291, 0.09997797873829195, 0.10724910446471318, 0.07634682012742294, 0.07634682012742294, 0.1363336073703981, 0.06544013153779109, 0.09452463444347602, 0.08930358521659278, 0.08930358521659278, 0.08930358521659278, 0.07654593018565095, 0.11481889527847643, 0.06378827515470913, 0.11481889527847643, 0.11481889527847643, 0.1020612402475346, 0.1530918603713019, 0.1124306782314306, 0.13919988733415217, 0.11778452005197493, 0.08030762730816472, 0.06692302275680394, 0.07495378548762041, 0.14990757097524082, 0.06424610184653178, 0.10707683641088629, 0.0883383900389812, 0.11736242130651767, 0.07754302836323489, 0.115266663783187, 0.10059636111987229, 0.07963878588656556, 0.13622423901649372, 0.115266663783187, 0.08383030093322691, 0.07754302836323489, 0.0922133310265496, 0.1169849990510109, 0.0985136834113776, 0.0738852625585332, 0.0800423677717443, 0.10774934123119424, 0.07080670995192764, 0.0861994729849554, 0.08312092037834985, 0.16932039336330523, 0.11390644644440534, 0.1372339024976138, 0.2744678049952276, 0.1372339024976138, 0.1372339024976138, 0.1372339024976138, 0.1372339024976138, 0.1372339024976138, 0.1731441922785185, 0.1731441922785185, 0.1731441922785185, 0.1731441922785185, 0.1731441922785185, 0.12715422158030598, 0.15761825383392095, 0.11788255959007533, 0.07947138848769124, 0.08741852733646036, 0.08476948105353732, 0.08212043477061427, 0.11523351330715229, 0.08609400419499884, 0.06357711079015299, 0.07587040475119426, 0.17291394571202412, 0.125274389240344, 0.09175025690842097, 0.0882214008734817, 0.07234154871625499, 0.1464475254499796, 0.09175025690842097, 0.06704826466384609, 0.06704826466384609, 0.10001238793066808, 0.09092035266424371, 0.06819026449818279, 0.11819645846351683, 0.15001858189600212, 0.08637433503103152, 0.09092035266424371, 0.10910442319709246, 0.08637433503103152, 0.0954663702974559, 0.07439960358322477, 0.1264793260914821, 0.08431955072765475, 0.1289593128775896, 0.07191961679711728, 0.08927952429986973, 0.0967194846581922, 0.13639927323591208, 0.11159940537483716, 0.08183956394154725, 0.15720393046897108, 0.09585605516400675, 0.08051908633776567, 0.08818757075088621, 0.09969029737056702, 0.08051908633776567, 0.09585605516400675, 0.1150272661968081, 0.10352453957712729, 0.08818757075088621, 0.13341291116386217, 0.13341291116386217, 0.06670645558193108, 0.06670645558193108, 0.20011936674579323, 0.06670645558193108, 0.06670645558193108, 0.06670645558193108, 0.06670645558193108, 0.13341291116386217, 0.13376948866788246, 0.2675389773357649, 0.13376948866788246, 0.13376948866788246, 0.13376948866788246, 0.13376948866788246, 0.13376948866788246, 0.13376948866788246, 0.10165056429688753, 0.07986830051898305, 0.08228855204986132, 0.10649106735864407, 0.10649106735864407, 0.08228855204986132, 0.11133157042040062, 0.08954930664249615, 0.07986830051898305, 0.1597366010379661, 0.12012011111896478, 0.12012011111896478, 0.12012011111896478, 0.12012011111896478, 0.12012011111896478, 0.12012011111896478, 0.24024022223792957, 0.12012011111896478, 0.12012011111896478, 0.12012011111896478, 0.0867213171759035, 0.0867213171759035, 0.0867213171759035, 0.173442634351807, 0.2601639515277105, 0.0867213171759035, 0.0867213171759035, 0.0867213171759035, 0.0867213171759035, 0.0867213171759035, 0.05541731345379308, 0.05541731345379308, 0.11083462690758616, 0.05541731345379308, 0.05541731345379308, 0.22166925381517233, 0.05541731345379308, 0.05541731345379308, 0.16625194036137925, 0.11083462690758616, 0.1132778576161827, 0.1132778576161827, 0.1132778576161827, 0.1132778576161827, 0.1132778576161827, 0.1132778576161827, 0.1132778576161827, 0.1132778576161827, 0.1132778576161827, 0.1132778576161827, 0.07028573595228571, 0.10542860392842857, 0.07731430954751428, 0.12651432471411428, 0.08434288314274285, 0.0984000303332, 0.10542860392842857, 0.15462861909502856, 0.08434288314274285, 0.0984000303332, 0.08578491682342536, 0.07730069428044922, 0.09992528772838559, 0.08955568239808143, 0.10463874469670566, 0.09898259633472158, 0.10935220166502574, 0.12254988117632194, 0.10181067051571362, 0.10935220166502574, 0.08561033231006555, 0.08561033231006555, 0.10463485060119124, 0.08561033231006555, 0.06658581401893987, 0.09512259145562839, 0.09512259145562839, 0.09512259145562839, 0.13317162803787974, 0.15219614632900544, 0.09954717219475816, 0.07692281487776767, 0.10803130618862959, 0.09558790966428482, 0.10633447938985531, 0.08653816673748863, 0.11764665804835055, 0.10576887045693055, 0.0899318203350372, 0.11312178658495245, 0.08872481589466834, 0.0991630295293352, 0.06262928180800117, 0.10177258293800191, 0.10177258293800191, 0.08089615566866819, 0.10699168975533535, 0.1148203499813355, 0.0991630295293352, 0.14613499088533607, 0.08774510320361369, 0.09192344145140481, 0.09610177969919594, 0.1504201769204806, 0.0752100884602403, 0.11281513269036045, 0.08774510320361369, 0.0752100884602403, 0.12535014743373385, 0.09610177969919594, 0.19013338864588114, 0.19013338864588114, 0.19013338864588114, 0.19013338864588114, 0.1031085291055428, 0.1031085291055428, 0.2062170582110856, 0.1031085291055428, 0.1031085291055428, 0.1031085291055428, 0.1031085291055428, 0.1031085291055428, 0.0515542645527714, 0.1031085291055428, 0.1691218110758229, 0.1691218110758229, 0.1691218110758229, 0.1691218110758229, 0.1691218110758229, 0.1691218110758229, 0.11723464024307721, 0.10258031021269257, 0.0879259801823079, 0.07327165015192326, 0.07327165015192326, 0.0879259801823079, 0.0879259801823079, 0.10258031021269257, 0.0879259801823079, 0.1758519603646158, 0.10308529606894604, 0.10308529606894604, 0.15462794410341904, 0.10308529606894604, 0.10308529606894604, 0.10308529606894604, 0.10308529606894604, 0.10308529606894604, 0.10308529606894604, 0.05154264803447302, 0.13148234507166284, 0.07888940704299771, 0.10518587605733028, 0.18407528310032797, 0.07888940704299771, 0.10518587605733028, 0.07888940704299771, 0.10518587605733028, 0.07888940704299771, 0.10518587605733028, 0.12299329106270085, 0.12299329106270085, 0.2459865821254017, 0.12299329106270085, 0.12299329106270085, 0.12299329106270085, 0.12299329106270085, 0.12299329106270085, 0.12299329106270085, 0.08144186194672089, 0.09695459755562011, 0.09695459755562011, 0.15900553999121697, 0.08144186194672089, 0.07368549414227128, 0.12798006877341855, 0.08144186194672089, 0.11634551706674413, 0.08144186194672089, 0.12336612967012434, 0.07476735131522687, 0.07476735131522687, 0.15701143776197643, 0.09345918914403359, 0.11215102697284031, 0.07850571888098822, 0.11962776210436299, 0.07850571888098822, 0.08972082157827224, 0.22801180660093356, 0.15334022840529082, 0.11117166559383586, 0.08050361991277769, 0.09583764275330676, 0.08817063133304223, 0.09967114846343904, 0.09583764275330676, 0.0920041370431745, 0.10733815988370358, 0.07667011420264541, 0.1320085821443691, 0.10645853398739444, 0.07948903871058785, 0.11071687534689022, 0.07594042091100803, 0.09226406278907517, 0.10007102194815078, 0.15755863030134376, 0.0801987622705038, 0.06458484395235263, 0.09063514186358912, 0.12084685581811883, 0.07552928488632427, 0.07552928488632427, 0.1132939273294864, 0.09063514186358912, 0.06797635639769184, 0.18127028372717824, 0.1132939273294864, 0.06797635639769184, 0.08545276964688767, 0.08545276964688767, 0.08545276964688767, 0.17090553929377533, 0.17090553929377533, 0.08545276964688767, 0.08545276964688767, 0.08545276964688767, 0.08545276964688767, 0.08545276964688767, 0.12291016300428828, 0.06828342389127127, 0.08194010866952553, 0.08194010866952553, 0.08194010866952553, 0.06828342389127127, 0.1775369021173053, 0.10925347822603403, 0.09559679344777977, 0.09559679344777977, 0.169548996880041, 0.169548996880041, 0.169548996880041, 0.169548996880041, 0.169548996880041, 0.169548996880041, 0.09032946995264471, 0.09032946995264471, 0.09032946995264471, 0.09032946995264471, 0.09032946995264471, 0.09032946995264471, 0.09032946995264471, 0.09032946995264471, 0.27098840985793415, 0.09032946995264471, 0.09115135753735587, 0.15549349226960707, 0.07804462638819358, 0.11676905932890033, 0.11855634084924065, 0.08400223145599463, 0.11557753831534012, 0.08281071044243442, 0.07208702132039255, 0.08578951297633494, 0.13673887904452872, 0.09793460255891921, 0.08315202104059179, 0.09793460255891921, 0.09239113448954643, 0.06652161683247343, 0.09978242524871014, 0.07576073028142807, 0.12195629752620128, 0.129347588285365, 0.12005093276412257, 0.054068740710559025, 0.07972848206472262, 0.14021215811382254, 0.09622403007811352, 0.12646586810266347, 0.1063046427529635, 0.07331354672618172, 0.11455241675965895, 0.08889267540549534, 0.10414707335648428, 0.06943138223765619, 0.06943138223765619, 0.10414707335648428, 0.06943138223765619, 0.06943138223765619, 0.17357845559414048, 0.13886276447531237, 0.10414707335648428, 0.10414707335648428, 0.08424964226764002, 0.10439629585338002, 0.09890175396636003, 0.06593450264424001, 0.14468960302486003, 0.11355386566508002, 0.09707024000402002, 0.12637446340146002, 0.06959753056892001, 0.09523872604168002, 0.10795031643145457, 0.11502902570564831, 0.05839935151209838, 0.1044109617943577, 0.08582934994959913, 0.09290805922379287, 0.11148967106855144, 0.10795031643145457, 0.0840596726310507, 0.1336106375504069, 0.0635790020027347, 0.0635790020027347, 0.0635790020027347, 0.0635790020027347, 0.0635790020027347, 0.1271580040054694, 0.0635790020027347, 0.1271580040054694, 0.0635790020027347, 0.19073700600820412, 0.08073275003467575, 0.12109912505201363, 0.08073275003467575, 0.12109912505201363, 0.08073275003467575, 0.08073275003467575, 0.08073275003467575, 0.12109912505201363, 0.08073275003467575, 0.1614655000693515, 0.12380021733738342, 0.06190010866869171, 0.06190010866869171, 0.06190010866869171, 0.18570032600607514, 0.06190010866869171, 0.12380021733738342, 0.12380021733738342, 0.12380021733738342, 0.06190010866869171, 0.10353697158113197, 0.13311896346145538, 0.11832796752129368, 0.07395497970080855, 0.08874597564097027, 0.05916398376064684, 0.1627009553417788, 0.11832796752129368, 0.08874597564097027, 0.05916398376064684, 0.1370861519857345, 0.1370861519857345, 0.1370861519857345, 0.1370861519857345, 0.1370861519857345, 0.1370861519857345, 0.1370861519857345, 0.1370861519857345, 0.09198591530566953, 0.08066457188343328, 0.11462860215014203, 0.06934322846119703, 0.0863252435945514, 0.0863252435945514, 0.12028927386126016, 0.08207973981121282, 0.13444095313905546, 0.13444095313905546, 0.1378219502003269, 0.1378219502003269, 0.1378219502003269, 0.1378219502003269, 0.1378219502003269, 0.1378219502003269, 0.12592867582590958, 0.13834417907635138, 0.12060774586143454, 0.09755038268204265, 0.08336123611010916, 0.08336123611010916, 0.11883410253994285, 0.08336123611010916, 0.07804030614563412, 0.06917208953817569, 0.10531950606075492, 0.10531950606075492, 0.21063901212150984, 0.10531950606075492, 0.10531950606075492, 0.10531950606075492, 0.10531950606075492, 0.10531950606075492, 0.10531950606075492, 0.11594961657554996, 0.11485575226823345, 0.08532141597068771, 0.10938643073165091, 0.09079073750727025, 0.12251280241944902, 0.0831336873560547, 0.07766436581947214, 0.09188460181458677, 0.10829256642433441, 0.19161368915098748, 0.04790342228774687, 0.09580684457549374, 0.09580684457549374, 0.09580684457549374, 0.04790342228774687, 0.09580684457549374, 0.04790342228774687, 0.1437102668632406, 0.09580684457549374, 0.101837409154696, 0.09335095839180466, 0.09844282884953946, 0.09844282884953946, 0.07637805686602199, 0.10692927961243079, 0.07468076671344373, 0.11032385991758732, 0.11711302052790039, 0.1222048909856352, 0.12686341907006865, 0.09021398689427104, 0.09021398689427104, 0.10149073525605493, 0.09867154816560895, 0.09585236107516298, 0.14941691579363642, 0.09585236107516298, 0.0761180514420412, 0.07329886435159523, 0.10201291981410453, 0.10433139526442509, 0.11128682161538676, 0.09389825573798258, 0.10201291981410453, 0.10664987071474565, 0.08810206711218119, 0.11708301024118815, 0.07419121441025783, 0.0985352066386237, 0.1276971102759103, 0.08391524389559821, 0.08209099946308519, 0.10215768822072825, 0.09486071049067624, 0.14593955460104036, 0.08026675503057219, 0.07844251059805919, 0.10763042151826727, 0.09486071049067624, 0.1344228701615101, 0.1344228701615101, 0.1344228701615101, 0.1344228701615101, 0.1344228701615101, 0.1344228701615101, 0.1344228701615101, 0.1344228701615101, 0.08370158914304267, 0.09565895902062019, 0.09565895902062019, 0.09565895902062019, 0.08370158914304267, 0.1554458084085078, 0.09565895902062019, 0.08370158914304267, 0.09565895902062019, 0.10761632889819771, 0.10313396168909728, 0.06919113885471083, 0.07702409797033848, 0.10966142761878697, 0.12141086629222843, 0.08094057752815229, 0.10052297531722139, 0.12141086629222843, 0.1292438254078561, 0.08616255027190405, 0.07040372417261495, 0.1016942682493327, 0.09778295023974298, 0.07822636019179438, 0.13689613033564016, 0.10560558625892241, 0.08604899621097382, 0.16036403839317848, 0.08604899621097382, 0.07431504218220467, 0.0896911344610392, 0.13396903628357754, 0.07947315711737651, 0.0896911344610392, 0.10217977343662694, 0.0999091118047019, 0.13964569036339014, 0.0896911344610392, 0.0999091118047019, 0.07493183385352642, 0.10915239482084402, 0.05457619741042201, 0.06822024676302751, 0.08186429611563302, 0.20466074028908254, 0.08186429611563302, 0.10915239482084402, 0.09550834546823853, 0.10915239482084402, 0.06822024676302751, 0.10401661203151753, 0.10401661203151753, 0.10401661203151753, 0.20803322406303507, 0.10401661203151753, 0.10401661203151753, 0.10401661203151753, 0.10401661203151753, 0.10401661203151753, 0.10401661203151753, 0.08558116176333819, 0.10114137299303604, 0.0933612673781871, 0.16338221791182744, 0.13226179545243175, 0.08558116176333819, 0.12448168983758282, 0.0933612673781871, 0.04668063368909355, 0.07780105614848926, 0.1383109589443544, 0.0691554794721772, 0.0691554794721772, 0.0691554794721772, 0.1383109589443544, 0.0691554794721772, 0.0691554794721772, 0.20746643841653162, 0.0691554794721772, 0.0691554794721772, 0.08872220195975722, 0.08872220195975722, 0.08872220195975722, 0.22180550489939305, 0.08872220195975722, 0.08872220195975722, 0.08872220195975722, 0.04436110097987861, 0.08872220195975722, 0.08872220195975722, 0.12574733856154333, 0.1729025905221221, 0.06680327361081989, 0.08252169093101282, 0.10216971258125396, 0.08252169093101282, 0.10216971258125396, 0.09824010825120573, 0.08252169093101282, 0.09038089959110927, 0.1118585227570508, 0.0559292613785254, 0.0559292613785254, 0.1118585227570508, 0.16778778413557618, 0.1118585227570508, 0.1118585227570508, 0.1118585227570508, 0.1118585227570508, 0.1118585227570508, 0.11357920382917211, 0.11357920382917211, 0.22715840765834422, 0.11357920382917211, 0.11357920382917211, 0.11357920382917211, 0.11357920382917211, 0.11357920382917211, 0.11357920382917211, 0.11357920382917211, 0.08619304825755254, 0.16035915954893495, 0.07617060078574411, 0.11826488016733953, 0.10423345370680773, 0.09821998522372266, 0.07416611129138242, 0.09821998522372266, 0.0942110062349993, 0.09220651674063761, 0.094471757997113, 0.07557740639769041, 0.11021705099663184, 0.1054934630967762, 0.11808969749639127, 0.06298117199807535, 0.08502458219740171, 0.1243878146961988, 0.12911140259605444, 0.09289722869716113, 0.2687057290065423, 0.10251510607753339, 0.06744414873521934, 0.09711957417871583, 0.10521287202694216, 0.07283968063403688, 0.09981734012812461, 0.11600393582457726, 0.07823521253285443, 0.1402838293692562, 0.1213994677233948, 0.22818316597302607, 0.22818316597302607, 0.08095562772354875, 0.11057354030533488, 0.0928027927562632, 0.10267543028352524, 0.08490468273445356, 0.10662448529443005, 0.13229334286531136, 0.10267543028352524, 0.08293015522900116, 0.10070090277807284, 0.17928967815782199, 0.07968430140347645, 0.11952645210521466, 0.07968430140347645, 0.07968430140347645, 0.07968430140347645, 0.11952645210521466, 0.11952645210521466, 0.09960537675434555, 0.07968430140347645, 0.0849399195620086, 0.0849399195620086, 0.0849399195620086, 0.0849399195620086, 0.0849399195620086, 0.0849399195620086, 0.0849399195620086, 0.1698798391240172, 0.1698798391240172, 0.1698798391240172, 0.08985824483480197, 0.07137676185459448, 0.10324138768253843, 0.13255684344424687, 0.09431929245071412, 0.1134380679474805, 0.11471265298059825, 0.09431929245071412, 0.06691571423868231, 0.12108557814618705, 0.11030563102390732, 0.09157448613305513, 0.12591491843295083, 0.10302129689968703, 0.06868086459979135, 0.07180272208160006, 0.11134625018451022, 0.09365572445426094, 0.10094005857848123, 0.12487429927234792, 0.13611592752636884, 0.07067557775407612, 0.08376364770853467, 0.10208694564477662, 0.10470455963566834, 0.07460199874041369, 0.09030768268576393, 0.125645471562802, 0.10601336663111419, 0.10601336663111419, 0.16884542197047156, 0.16884542197047156, 0.16884542197047156, 0.16884542197047156, 0.16884542197047156, 0.16884542197047156, 0.16884542197047156, 0.0888451789508122, 0.08118611179988011, 0.11948144755454054, 0.10109968639230353, 0.10263149982248995, 0.08271792523006653, 0.14552227586770963, 0.07505885807913444, 0.11335419383379487, 0.09037699238099861, 0.15136370668522567, 0.15136370668522567, 0.15136370668522567, 0.15136370668522567, 0.17396609878524863, 0.17396609878524863, 0.17396609878524863, 0.17396609878524863, 0.17396609878524863, 0.17396609878524863, 0.15177556065959183, 0.15177556065959183, 0.15177556065959183, 0.15177556065959183, 0.15177556065959183, 0.15177556065959183, 0.15177556065959183, 0.15177556065959183, 0.09285123792452044, 0.12024996386946088, 0.08980693504174926, 0.10502844945560508, 0.1278607210763888, 0.11416135810391856, 0.08980693504174926, 0.08371832927620694, 0.10502844945560508, 0.0715411177451223, 0.13088702129464083, 0.08026090928444955, 0.12594788841559776, 0.12594788841559776, 0.06297394420779888, 0.1345913709539231, 0.07038264352636346, 0.09631309114133947, 0.11483483943775091, 0.059269594548516595, 0.1688489895238141, 0.08442449476190705, 0.08442449476190705, 0.08442449476190705, 0.08442449476190705, 0.08442449476190705, 0.08442449476190705, 0.08442449476190705, 0.08442449476190705, 0.08442449476190705, 0.13497681804451295, 0.13497681804451295, 0.13497681804451295, 0.2699536360890259, 0.13497681804451295, 0.13497681804451295, 0.13497681804451295, 0.12460746236128846, 0.09345559677096635, 0.09345559677096635, 0.09345559677096635, 0.09345559677096635, 0.1869111935419327, 0.06230373118064423, 0.06230373118064423, 0.09345559677096635, 0.12460746236128846, 0.06583860746002988, 0.10258573720516284, 0.0949300851749268, 0.15005077979262627, 0.08421217233259637, 0.11636591085958771, 0.07502538989631313, 0.08727443314469079, 0.11636591085958771, 0.10564799801725726, 0.07185107063324468, 0.07185107063324468, 0.21555321189973403, 0.14370214126648936, 0.07185107063324468, 0.07185107063324468, 0.07185107063324468, 0.07185107063324468, 0.07185107063324468, 0.07185107063324468, 0.12601868460965612, 0.11971775037917333, 0.09241370204708117, 0.10816603762328818, 0.08611276781659837, 0.09346385775216164, 0.10186510339280537, 0.08296230070135696, 0.09241370204708117, 0.0976644805724835, 0.1133079311189883, 0.1133079311189883, 0.2266158622379766, 0.1133079311189883, 0.1133079311189883, 0.1133079311189883, 0.1133079311189883, 0.1133079311189883, 0.1133079311189883, 0.1133079311189883, 0.08641632570863096, 0.0906317562310032, 0.13278606145472563, 0.08430861044744484, 0.08220089518625871, 0.11592433936523665, 0.07587774940270035, 0.10538576305930604, 0.09273947149218932, 0.13278606145472563, 0.09950597235221623, 0.09165023769283075, 0.15362325556131629, 0.06459159608828072, 0.11347172285779045, 0.0951416753192243, 0.07768448718725653, 0.08292164362684686, 0.10212455057201139, 0.116963160484184, 0.11840899954329263, 0.1630916408803842, 0.12511139574385638, 0.10947247127587433, 0.07819462233991023, 0.08042875440676481, 0.06702396200563734, 0.09830181094160144, 0.06478982993878277, 0.09830181094160144, 0.08075415841801402, 0.10228860066281777, 0.07604349917696321, 0.12113123762702104, 0.09892384406206718, 0.12516894554792174, 0.11036401650461916, 0.07267874257621262, 0.09421318482101636, 0.11776648102627045, 0.1362859496508978, 0.05451437986035911, 0.19080032951125692, 0.05451437986035911, 0.1362859496508978, 0.05451437986035911, 0.10902875972071822, 0.08177156979053868, 0.10902875972071822, 0.05451437986035911, 0.11147386373770049, 0.10973208461679893, 0.10711941593544656, 0.10102318901229107, 0.0992814098913895, 0.12192453846310991, 0.09841052033093872, 0.07925095000102145, 0.09231429340778322, 0.07925095000102145, 0.16890148621779913, 0.16890148621779913, 0.16890148621779913, 0.16890148621779913, 0.0749720059262228, 0.0749720059262228, 0.1312010103708899, 0.09371500740777851, 0.1124580088893342, 0.0749720059262228, 0.09371500740777851, 0.1686870133340013, 0.1124580088893342, 0.09371500740777851, 0.10472261551913484, 0.06545163469945928, 0.13090326939891855, 0.10472261551913484, 0.091632288579243, 0.10472261551913484, 0.17017425021859411, 0.07854196163935113, 0.06545163469945928, 0.091632288579243, 0.09622967216884964, 0.09622967216884964, 0.09622967216884964, 0.09622967216884964, 0.06415311477923309, 0.1924593443376993, 0.09622967216884964, 0.06415311477923309, 0.09622967216884964, 0.09622967216884964, 0.1971818304740089, 0.1971818304740089, 0.1971818304740089, 0.10267511520083596, 0.06910825061594728, 0.13229293689338478, 0.11123137480090561, 0.0710827720621172, 0.09082798652381642, 0.13558380597033465, 0.07503181495445704, 0.09543520323154624, 0.11583859150863544, 0.15093697423889485, 0.15093697423889485, 0.15093697423889485, 0.15093697423889485, 0.15093697423889485, 0.15093697423889485, 0.15093697423889485, 0.11370646401702186, 0.0852798480127664, 0.08054207867872382, 0.11844423335106444, 0.08054207867872382, 0.05211546267446836, 0.14213308002127734, 0.08054207867872382, 0.15160861868936248, 0.09475538668085155, 0.08116439938865272, 0.10821919918487029, 0.07947347440138912, 0.07101884946507113, 0.09638272427402511, 0.09130994931223431, 0.1014554992358159, 0.11329197414666109, 0.13527399898108786, 0.12174659908297908, 0.08994150282361915, 0.10436608346514298, 0.10521458820876202, 0.12897272103009538, 0.07806243641295246, 0.10776010243961917, 0.10860860718323821, 0.08654748384914296, 0.11030561667047631, 0.07975944590019056, 0.11040144912982547, 0.1076754874229162, 0.09540865974182448, 0.09881611187546108, 0.11926082467728061, 0.11040144912982547, 0.08654928419436936, 0.09472716931509717, 0.10290505443582498, 0.07360096608655031, 0.06839075255485802, 0.06839075255485802, 0.13678150510971604, 0.13678150510971604, 0.06839075255485802, 0.06839075255485802, 0.06839075255485802, 0.13678150510971604, 0.20517225766457406, 0.06839075255485802, 0.2683467178102372, 0.2683467178102372, 0.16670066517328527, 0.0946520725983908, 0.13703359764244638, 0.0911202788447195, 0.08382123842046549, 0.12573185763069822, 0.09959658385353061, 0.0769931038300343, 0.0567441529756522, 0.06781044007048893, 0.09185448467915305, 0.08266903621123775, 0.08266903621123775, 0.10103993314706836, 0.1928944178262214, 0.09185448467915305, 0.08266903621123775, 0.07348358774332245, 0.09185448467915305, 0.10103993314706836, 0.08774760253783231, 0.0999347695569757, 0.11455936997994774, 0.09018503594166098, 0.11699680338377642, 0.10237220296080436, 0.08774760253783231, 0.14137113742206317, 0.07799786892251762, 0.08043530232634628, 0.09464181629803156, 0.11492220550475261, 0.08788168656245787, 0.16900324338934208, 0.06760129735573683, 0.09464181629803156, 0.08788168656245787, 0.10140194603360525, 0.08788168656245787, 0.09464181629803156, 0.08949735104509404, 0.08949735104509404, 0.08949735104509404, 0.08949735104509404, 0.08949735104509404, 0.17899470209018808, 0.08949735104509404, 0.08949735104509404, 0.17899470209018808, 0.08949735104509404, 0.14512236670013315, 0.12730032166678346, 0.10947827663343378, 0.08147220586674142, 0.12984632810011915, 0.08656421873341276, 0.08911022516674842, 0.06874217370006307, 0.07892619943340574, 0.08147220586674142, 0.1906143468598784, 0.1906143468598784, 0.1906143468598784, 0.1906143468598784, 0.1906143468598784, 0.09548989267096641, 0.11474505621367156, 0.13439318227765643, 0.10688580578807763, 0.1104224684795949, 0.09902655536248368, 0.06405289096859064, 0.09156026745816943, 0.07819954173465973, 0.10570691822423854, 0.10988272951431231, 0.08241204713573423, 0.10072583538811962, 0.09156894126192693, 0.08241204713573423, 0.1556672001452758, 0.08241204713573423, 0.10072583538811962, 0.10072583538811962, 0.09156894126192693, 0.2267346167095938, 0.2267346167095938, 0.2267346167095938, 0.2267346167095938, 0.15055553082675094, 0.15055553082675094, 0.15055553082675094, 0.15055553082675094, 0.15055553082675094, 0.15055553082675094, 0.15055553082675094, 0.15055553082675094, 0.15055553082675094, 0.11918042527662355, 0.07945361685108236, 0.07945361685108236, 0.11918042527662355, 0.07945361685108236, 0.07945361685108236, 0.1986340421277059, 0.07945361685108236, 0.11918042527662355, 0.07945361685108236, 0.16466608186212464, 0.09879964911727479, 0.07684417153565817, 0.11526625730348726, 0.11526625730348726, 0.07135530214025401, 0.08233304093106232, 0.09331077972187064, 0.10428851851267895, 0.07684417153565817, 0.13705370072141262, 0.13705370072141262, 0.13705370072141262, 0.13705370072141262, 0.13705370072141262, 0.13705370072141262, 0.13705370072141262, 0.13705370072141262, 0.13705370072141262, 0.22743061038292564, 0.22743061038292564, 0.22743061038292564, 0.22743061038292564, 0.17423453806939315, 0.17423453806939315, 0.17423453806939315, 0.17423453806939315, 0.17423453806939315, 0.17423453806939315, 0.11330708237503904, 0.2266141647500781, 0.11330708237503904, 0.11330708237503904, 0.11330708237503904, 0.11330708237503904, 0.11330708237503904, 0.11330708237503904, 0.11330708237503904, 0.1079306147239551, 0.0834515062298622, 0.1079306147239551, 0.11238136172288109, 0.09569106047690865, 0.12239554247046455, 0.09457837372717715, 0.08790225322878817, 0.11015598822341809, 0.07677538573147322, 0.09237657742630538, 0.09237657742630538, 0.09237657742630538, 0.18475315485261076, 0.09237657742630538, 0.18475315485261076, 0.09237657742630538, 0.09237657742630538, 0.09237657742630538, 0.09237657742630538, 0.08099041007900841, 0.07563075058848578, 0.10778870753162148, 0.09468731766589954, 0.14709287712878732, 0.13518252270540373, 0.07384419742497825, 0.08039489235783923, 0.11791250879149753, 0.0869455872907002, 0.08065305052951378, 0.15510202024906497, 0.09616325255442028, 0.12408161619925198, 0.10857141417434547, 0.07444896971955119, 0.06824488890958859, 0.07755101012453249, 0.11787753538928938, 0.09616325255442028, 0.0908521452880113, 0.08063127894311004, 0.12265039613881526, 0.06813910896600847, 0.10902257434561356, 0.12378604795491539, 0.09766605618461215, 0.07722432349480961, 0.13173561066761638, 0.09653040436851201, 0.11122270596983476, 0.07926215827735351, 0.10866586215443626, 0.086932689723549, 0.10227375261594002, 0.107387440246737, 0.09204637735434601, 0.08309742400045125, 0.1355127222161205, 0.09332479926204526, 0.08297465158778103, 0.15409578152016476, 0.10668169489857561, 0.09087699935804588, 0.09877934712831075, 0.1185352165539729, 0.07507230381751617, 0.08692582547291346, 0.09877934712831075, 0.09087699935804588, 0.11528709732573396, 0.10087621016001722, 0.10087621016001722, 0.08646532299430046, 0.05764354866286698, 0.08646532299430046, 0.17293064598860092, 0.07205443582858372, 0.11528709732573396, 0.10087621016001722, 0.1679417968450932, 0.1679417968450932, 0.1679417968450932, 0.1679417968450932, 0.1679417968450932, 0.1679417968450932, 0.1679417968450932, 0.1679417968450932, 0.11816855158357077, 0.07734668830924632, 0.05371297799253217, 0.08379224566835018, 0.07734668830924632, 0.0816437265486489, 0.11172299422446691, 0.12676262806237593, 0.12891114718207722, 0.13965374278058365, 0.10503748662559324, 0.10503748662559324, 0.10503748662559324, 0.2100749732511865, 0.10503748662559324, 0.10503748662559324, 0.10503748662559324, 0.10503748662559324, 0.10503748662559324, 0.2100749732511865, 0.13576356302115541, 0.09399015901464605, 0.08354680801301871, 0.1122660232674939, 0.10878490626695145, 0.11052546476722268, 0.08441708726315432, 0.08093597026261189, 0.10965518551708707, 0.08093597026261189, 0.104419232769456, 0.08883427265461183, 0.09195126467758066, 0.07324931253976764, 0.11844569687281577, 0.09195126467758066, 0.09974374473500275, 0.104419232769456, 0.14026464103359762, 0.08571728063164298, 0.11889843137989464, 0.05944921568994732, 0.05944921568994732, 0.11889843137989464, 0.05944921568994732, 0.11889843137989464, 0.05944921568994732, 0.17834764706984196, 0.11889843137989464, 0.11889843137989464, 0.08078061958289841, 0.12861124959908826, 0.11160480337110965, 0.11904512359585029, 0.1562467247195535, 0.07121449357966045, 0.10841609470336366, 0.08184352247214707, 0.06271127046567114, 0.07865481380440109, 0.13299203787703343, 0.13299203787703343, 0.13299203787703343, 0.13299203787703343, 0.13299203787703343, 0.13299203787703343, 0.26598407575406685, 0.16922170049796242, 0.16922170049796242, 0.16922170049796242, 0.16922170049796242, 0.16922170049796242, 0.16922170049796242, 0.11915565786075454, 0.10072273841268202, 0.06319858096482009, 0.10138105696439889, 0.09743114565409763, 0.09940610130924826, 0.12508052482620644, 0.08492309317147699, 0.11388910944701953, 0.09413955289551326, 0.12280354703114243, 0.08501784025232938, 0.13539878262408012, 0.06612498686292285, 0.11493152478555638, 0.1023362891926187, 0.06769939131204006, 0.09918748029438428, 0.10548509809085312, 0.1023362891926187, 0.21124587780087734, 0.10562293890043867, 0.10562293890043867, 0.10562293890043867, 0.10562293890043867, 0.10562293890043867, 0.10562293890043867, 0.10562293890043867, 0.10562293890043867, 0.10562293890043867, 0.1287776230372515, 0.09443692356065109, 0.08585174869150099, 0.09443692356065109, 0.15453314764470177, 0.08585174869150099, 0.07726657382235089, 0.12019244816810137, 0.09443692356065109, 0.06868139895320079, 0.11582730435218179, 0.09266184348174544, 0.18532368696349089, 0.06949638261130908, 0.09266184348174544, 0.11582730435218179, 0.09266184348174544, 0.09266184348174544, 0.09266184348174544, 0.06949638261130908, 0.0834236140790239, 0.11357672760156266, 0.06834705731775452, 0.10654100111297028, 0.08442871786310853, 0.11056141624930878, 0.10453079354480103, 0.08945423678353165, 0.0954848594880394, 0.14473494490818606, 0.08195427568890874, 0.0637422144247068, 0.10927236758521165, 0.1274844288494136, 0.08195427568890874, 0.08195427568890874, 0.18212061264201942, 0.08195427568890874, 0.10016633695311068, 0.08195427568890874, 0.11368399363013755, 0.10736821620624103, 0.08842088393455143, 0.10105243878234449, 0.050526219391172245, 0.10105243878234449, 0.15789443559741326, 0.09473666135844797, 0.08842088393455143, 0.09473666135844797, 0.10485090556549771, 0.10485090556549771, 0.10485090556549771, 0.10485090556549771, 0.10485090556549771, 0.10485090556549771, 0.10485090556549771, 0.20970181113099542, 0.10485090556549771, 0.10485090556549771, 0.15131807634411923, 0.15131807634411923, 0.15131807634411923, 0.15131807634411923, 0.15131807634411923, 0.15131807634411923, 0.15131807634411923, 0.073637385028092, 0.073637385028092, 0.073637385028092, 0.073637385028092, 0.22091215508427603, 0.147274770056184, 0.073637385028092, 0.073637385028092, 0.073637385028092, 0.073637385028092, 0.2681356237192965], \"Term\": [\"-1\", \"-1\", \"-1\", \"-1\", \"-1\", \"12.99\", \"2.50\", \"2.50\", \"2.50\", \"2.50\", \"2.50\", \"2.50\", \"2.50\", \"2.50\", \"2.50\", \"2.50\", \"20.00\", \"4:30\", \"4:30\", \"4:30\", \"4:30\", \"4:30\", \"4:30\", \"4:30\", \"4:30\", \"4:30\", \"4:30\", \"ATM\", \"Alex\", \"Alex\", \"Alex\", \"Alex\", \"Alex\", \"Alex\", \"Alex\", \"Alex\", \"Alex\", \"Alex\", \"Angeles\", \"Angeles\", \"Angeles\", \"Angeles\", \"Angeles\", \"Angeles\", \"Angeles\", \"Angeles\", \"Angeles\", \"Angeles\", \"Animal\", \"Animal\", \"Animal\", \"Animal\", \"Animal\", \"Animal\", \"Animal\", \"Animal\", \"Animal\", \"Animal\", \"Arena\", \"Arena\", \"Arena\", \"Arena\", \"BEST\", \"BEST\", \"BEST\", \"BEST\", \"BEST\", \"BEST\", \"BEST\", \"BEST\", \"BEST\", \"BEST\", \"BMW\", \"BMW\", \"BMW\", \"BMW\", \"BMW\", \"BMW\", \"BMW\", \"Bangkok\", \"Bangkok\", \"Bangkok\", \"Bangkok\", \"Bangkok\", \"Bangkok\", \"Bangkok\", \"Beer\", \"Beer\", \"Beer\", \"Beer\", \"Beer\", \"Beer\", \"Beer\", \"Beer\", \"Beer\", \"Beer\", \"Bella\", \"Bella\", \"Bella\", \"Bella\", \"Bella\", \"Bella\", \"Bella\", \"Bella\", \"Bella\", \"Bella\", \"Bob\", \"Bob\", \"Bob\", \"Bob\", \"Bob\", \"Bob\", \"Bob\", \"Bob\", \"Bob\", \"Bob\", \"Bobbie\", \"Bobbie\", \"Bobbie\", \"Bobbie\", \"Bobbie\", \"Bobbie\", \"Bobbie\", \"Bobbie\", \"Brooklyn\", \"Brooklyn\", \"Brooklyn\", \"Brooklyn\", \"Brooklyn\", \"Brooklyn\", \"Brooklyn\", \"Brooklyn\", \"Brooklyn\", \"Brooklyn\", \"Cali\", \"Cali\", \"Cali\", \"Cali\", \"Cali\", \"Cali\", \"Cali\", \"Cali\", \"Cali\", \"Cali\", \"Calvin\", \"Charlie\", \"Charlie\", \"Charlie\", \"Charlie\", \"Charlie\", \"Charlie\", \"Charlie\", \"Charlie\", \"Charlie\", \"Charlie\", \"Christine\", \"Christine\", \"Christine\", \"Christine\", \"Christine\", \"Christine\", \"Christine\", \"Christine\", \"Christine\", \"Christine\", \"Class\", \"Class\", \"Class\", \"Class\", \"Class\", \"Class\", \"Class\", \"Class\", \"Class\", \"Class\", \"Craig\", \"Craig\", \"Craig\", \"Craig\", \"Craig\", \"Craig\", \"Craig\", \"Craig\", \"Craig\", \"Craig\", \"DR\", \"DR\", \"DR\", \"DR\", \"DR\", \"DR\", \"Daniel\", \"Daniel\", \"Daniel\", \"Daniel\", \"Daniel\", \"Daniel\", \"Daniel\", \"Daniel\", \"Daniel\", \"Daniel\", \"De\", \"De\", \"De\", \"De\", \"De\", \"De\", \"Dr.\", \"Dr.\", \"Dr.\", \"Dr.\", \"Dr.\", \"Dr.\", \"Dr.\", \"Dr.\", \"Dr.\", \"Dr.\", \"Dragon\", \"Dragon\", \"Dragon\", \"Dragon\", \"Dragon\", \"Dragon\", \"Dragon\", \"Dragon\", \"Dragon\", \"Dragon\", \"Fountain\", \"Fountain\", \"Fountain\", \"Fountain\", \"Fountain\", \"Fountain\", \"Fountain\", \"Fountain\", \"Fountain\", \"Frank\", \"Frank\", \"Frank\", \"Frank\", \"Frank\", \"Frank\", \"Frank\", \"Frank\", \"Frank\", \"Frank\", \"Fri\", \"Fri\", \"Fri\", \"Fri\", \"Fri\", \"Fri\", \"Fri\", \"Fri\", \"Fri\", \"Fri\", \"Friendly\", \"Friendly\", \"Friendly\", \"Friendly\", \"Friendly\", \"Friendly\", \"Friendly\", \"Friendly\", \"Friendly\", \"Guys\", \"Guys\", \"Guys\", \"Guys\", \"Guys\", \"Guys\", \"Guys\", \"Guys\", \"Holly\", \"Holly\", \"Holly\", \"Holly\", \"Holly\", \"Holly\", \"Ian\", \"Ian\", \"Ian\", \"Ian\", \"Ian\", \"Ian\", \"Ian\", \"Ian\", \"Italy\", \"Italy\", \"Italy\", \"Italy\", \"Italy\", \"Italy\", \"Italy\", \"Italy\", \"Italy\", \"Italy\", \"Jamie\", \"Jamie\", \"Jamie\", \"Jamie\", \"Jamie\", \"Jamie\", \"Jamie\", \"Jamie\", \"Jamie\", \"Jamie\", \"Je\", \"Je\", \"Je\", \"Je\", \"Je\", \"Je\", \"Jon\", \"Jon\", \"Jon\", \"Jon\", \"Jon\", \"Judy\", \"Judy\", \"Judy\", \"Judy\", \"Judy\", \"Jungle\", \"Jungle\", \"Jungle\", \"Jungle\", \"Jungle\", \"Lakes\", \"Lakes\", \"Lakewood\", \"Lakewood\", \"Lakewood\", \"Lakewood\", \"Lakewood\", \"Lakewood\", \"Lakewood\", \"Lakewood\", \"Lakewood\", \"Lemonade\", \"Lemonade\", \"Leo\", \"Leo\", \"Leo\", \"Leo\", \"Leo\", \"Leo\", \"Leo\", \"Leo\", \"M.\", \"M.\", \"M.\", \"M.\", \"Mall\", \"Mall\", \"Mall\", \"Mall\", \"Mall\", \"Mall\", \"Mall\", \"Mall\", \"Mall\", \"Mall\", \"Margherita\", \"Margherita\", \"Margherita\", \"Margherita\", \"Margherita\", \"Margherita\", \"Margherita\", \"Margherita\", \"Maria\", \"Maria\", \"Maria\", \"Maria\", \"Maria\", \"Maria\", \"Maria\", \"Maria\", \"Maria\", \"Maria\", \"Michelle\", \"Michelle\", \"Michelle\", \"Michelle\", \"Michelle\", \"Michelle\", \"Michelle\", \"Michelle\", \"Michelle\", \"Michelle\", \"Mongolian\", \"Mongolian\", \"Mongolian\", \"Mongolian\", \"Mongolian\", \"Mongolian\", \"Mongolian\", \"Mongolian\", \"Mongolian\", \"Mongolian\", \"Mont\", \"Mont\", \"Mont\", \"Mont\", \"Mont\", \"Mont\", \"Mont\", \"Mont\", \"Mont\", \"Mont\", \"Nancy\", \"Nancy\", \"Nancy\", \"Nancy\", \"Nancy\", \"Nancy\", \"Nancy\", \"Nancy\", \"Nancy\", \"O\", \"O\", \"O\", \"O\", \"O\", \"Ohio\", \"Ohio\", \"Ohio\", \"Ohio\", \"Ohio\", \"Ohio\", \"Ohio\", \"Ohio\", \"Ohio\", \"Ohio\", \"P.S.\", \"P.S.\", \"P.S.\", \"P.S.\", \"P.S.\", \"P.S.\", \"Pastor\", \"Pastor\", \"Pastor\", \"Pastor\", \"Pastor\", \"Pastor\", \"Pastor\", \"Pastor\", \"Pastor\", \"Pastor\", \"Patty\", \"Patty\", \"Patty\", \"Patty\", \"Patty\", \"Patty\", \"Patty\", \"Patty\", \"Patty\", \"Patty\", \"Photography\", \"Photography\", \"Photography\", \"Photography\", \"Photography\", \"Photography\", \"Photography\", \"Photography\", \"Photography\", \"Picasso\", \"Picasso\", \"Picasso\", \"Picasso\", \"Picasso\", \"Picasso\", \"Picasso\", \"Picasso\", \"Picasso\", \"Picasso\", \"President\", \"President\", \"President\", \"President\", \"President\", \"Prime\", \"Prime\", \"Prime\", \"Prime\", \"Prime\", \"Prime\", \"Prime\", \"Prime\", \"Prime\", \"Prime\", \"Road\", \"Road\", \"Road\", \"Road\", \"Road\", \"Road\", \"Road\", \"Road\", \"Road\", \"Road\", \"Roberto\", \"Roberto\", \"Roberto\", \"Roberto\", \"Roberto\", \"Roberto\", \"Roti\", \"Roti\", \"Roti\", \"Roti\", \"Roti\", \"Roti\", \"Roti\", \"Sally\", \"Sally\", \"Sally\", \"Sally\", \"Sally\", \"Sara\", \"Sara\", \"Sara\", \"Sara\", \"Sara\", \"Sara\", \"Sara\", \"Sara\", \"Sara\", \"Sara\", \"Saturday\", \"Saturday\", \"Saturday\", \"Saturday\", \"Saturday\", \"Saturday\", \"Saturday\", \"Saturday\", \"Saturday\", \"Saturday\", \"Seattle\", \"Seattle\", \"Seattle\", \"Secret\", \"Secret\", \"Secret\", \"Secret\", \"Secret\", \"Secret\", \"Secret\", \"Secret\", \"Secret\", \"Serrano\", \"Serrano\", \"Serrano\", \"Serrano\", \"Serrano\", \"Serrano\", \"Serrano\", \"Serrano\", \"Serrano\", \"Serrano\", \"Shawn\", \"Shawn\", \"Shawn\", \"Shawn\", \"Shawn\", \"Shawn\", \"Shawn\", \"Shawn\", \"Siam\", \"Siam\", \"Siam\", \"Siam\", \"Siam\", \"Siam\", \"Steak\", \"Steak\", \"Steak\", \"Steak\", \"Steak\", \"Steak\", \"Steak\", \"Steak\", \"Steak\", \"Steak\", \"Store\", \"Store\", \"Store\", \"Store\", \"Store\", \"Store\", \"Store\", \"Store\", \"Store\", \"Subway\", \"Subway\", \"Subway\", \"Subway\", \"Subway\", \"Subway\", \"Subway\", \"Subway\", \"Subway\", \"Subway\", \"Sunday\", \"Sunday\", \"Sunday\", \"Sunday\", \"Sunday\", \"Sunday\", \"Sunday\", \"Sunday\", \"Sunday\", \"Sunday\", \"TV\", \"TV\", \"TV\", \"TV\", \"TV\", \"TV\", \"TV\", \"TV\", \"TV\", \"TV\", \"Toni\", \"Toni\", \"Toni\", \"Toni\", \"Toni\", \"USA\", \"USA\", \"USA\", \"USA\", \"USA\", \"USA\", \"USA\", \"USA\", \"USA\", \"USA\", \"V\", \"V\", \"V\", \"V\", \"V\", \"Vanessa\", \"Vanessa\", \"Vanessa\", \"Vanessa\", \"Vanessa\", \"Vanessa\", \"Vanessa\", \"Vegas\", \"Vegas\", \"Vegas\", \"Vegas\", \"Vegas\", \"Vegas\", \"Vegas\", \"Vegas\", \"Vegas\", \"Vegas\", \"Veggie\", \"Veggie\", \"Veggie\", \"Veggie\", \"Veggie\", \"Veggie\", \"Veggie\", \"Veggie\", \"Veggie\", \"Veggie\", \"Wellington\", \"Wellington\", \"Wellington\", \"Wellington\", \"Westgate\", \"Westgate\", \"Westgate\", \"Westgate\", \"Westgate\", \"Westgate\", \"Westgate\", \"Westgate\", \"Westgate\", \"Westgate\", \"Yelp\", \"Yelp\", \"Yelp\", \"Yelp\", \"Yelp\", \"Yelp\", \"Yelp\", \"Yelp\", \"Yelp\", \"Yelp\", \"a.m.\", \"a.m.\", \"a.m.\", \"a.m.\", \"a.m.\", \"a.m.\", \"a.m.\", \"a.m.\", \"a.m.\", \"a.m.\", \"abordable\", \"abordable\", \"abordable\", \"abordable\", \"abordable\", \"abordable\", \"abordable\", \"acrobatic\", \"acrobatic\", \"acrobatic\", \"acrobatic\", \"acrobatic\", \"actually\", \"actually\", \"actually\", \"actually\", \"actually\", \"actually\", \"actually\", \"actually\", \"actually\", \"actually\", \"advanced\", \"advanced\", \"advanced\", \"advertise\", \"advertise\", \"advertise\", \"advertise\", \"advertise\", \"advertise\", \"advertise\", \"advertise\", \"advertise\", \"advertise\", \"aged\", \"aged\", \"aged\", \"aged\", \"aged\", \"aged\", \"aged\", \"aged\", \"aged\", \"aged\", \"ago\", \"ago\", \"ago\", \"ago\", \"ago\", \"ago\", \"ago\", \"ago\", \"ago\", \"ago\", \"aid\", \"aid\", \"aid\", \"aid\", \"aid\", \"aid\", \"aid\", \"aid\", \"aid\", \"aid\", \"aim\\u00e9\", \"aim\\u00e9\", \"aloo\", \"aloo\", \"amazing\", \"amazing\", \"amazing\", \"amazing\", \"amazing\", \"amazing\", \"amazing\", \"amazing\", \"amazing\", \"amazing\", \"ambience\", \"ambience\", \"ambience\", \"ambience\", \"ambience\", \"ambience\", \"ambience\", \"ambience\", \"ambience\", \"ambience\", \"appal\", \"appal\", \"appal\", \"appal\", \"appal\", \"appal\", \"appal\", \"appal\", \"apron\", \"apron\", \"apron\", \"apron\", \"apron\", \"apron\", \"apron\", \"apron\", \"apron\", \"area\", \"area\", \"area\", \"area\", \"area\", \"area\", \"area\", \"area\", \"area\", \"area\", \"ask\", \"ask\", \"ask\", \"ask\", \"ask\", \"ask\", \"ask\", \"ask\", \"ask\", \"ask\", \"average\", \"average\", \"average\", \"average\", \"average\", \"average\", \"average\", \"average\", \"average\", \"average\", \"avons\", \"avons\", \"avons\", \"avons\", \"away\", \"away\", \"away\", \"away\", \"away\", \"away\", \"away\", \"away\", \"away\", \"away\", \"bad\", \"bad\", \"bad\", \"bad\", \"bad\", \"bad\", \"bad\", \"bad\", \"bad\", \"bad\", \"bar\", \"bar\", \"bar\", \"bar\", \"bar\", \"bar\", \"bar\", \"bar\", \"bar\", \"bar\", \"barbeque\", \"barbeque\", \"barbeque\", \"barbeque\", \"barbeque\", \"barbeque\", \"barbeque\", \"barbeque\", \"barbeque\", \"barbeque\", \"barrier\", \"barrier\", \"barrier\", \"barrier\", \"barrier\", \"barrier\", \"barrier\", \"barrier\", \"barrier\", \"barrier\", \"bath\", \"bath\", \"bath\", \"bath\", \"bath\", \"bath\", \"bath\", \"bath\", \"bath\", \"bath\", \"beat\", \"beat\", \"beat\", \"beat\", \"beat\", \"beat\", \"beat\", \"beat\", \"beat\", \"beat\", \"beautifully\", \"beautifully\", \"beautifully\", \"beautifully\", \"beautifully\", \"beautifully\", \"beautifully\", \"beautifully\", \"beautifully\", \"beautifully\", \"bed\", \"bed\", \"bed\", \"bed\", \"bed\", \"bed\", \"bed\", \"bed\", \"bed\", \"bed\", \"beer\", \"beer\", \"beer\", \"beer\", \"beer\", \"beer\", \"beer\", \"beer\", \"beer\", \"beer\", \"belly\", \"belly\", \"belly\", \"belly\", \"belly\", \"belly\", \"belly\", \"belly\", \"belly\", \"belly\", \"better\", \"better\", \"better\", \"better\", \"better\", \"better\", \"better\", \"better\", \"better\", \"better\", \"bike\", \"bike\", \"bike\", \"bike\", \"bike\", \"bike\", \"bike\", \"bike\", \"bike\", \"bike\", \"bikini\", \"bikini\", \"bikini\", \"bikini\", \"bikini\", \"bikini\", \"bikini\", \"bikini\", \"bikini\", \"bikini\", \"bison\", \"bison\", \"bison\", \"bison\", \"bison\", \"bison\", \"bison\", \"bison\", \"bison\", \"bit\", \"bit\", \"bit\", \"bit\", \"bit\", \"bit\", \"bit\", \"bit\", \"bit\", \"bit\", \"bi\\u00e8res\", \"bi\\u00e8res\", \"bi\\u00e8res\", \"bi\\u00e8res\", \"bi\\u00e8res\", \"bi\\u00e8res\", \"bi\\u00e8res\", \"bi\\u00e8res\", \"bi\\u00e8res\", \"blizzard\", \"blizzard\", \"blizzard\", \"blizzard\", \"blizzard\", \"blizzard\", \"blizzard\", \"bonne\", \"bonne\", \"bonne\", \"bonne\", \"bonne\", \"bonne\", \"bonne\", \"bonne\", \"bonne\", \"boom\", \"boom\", \"boom\", \"boom\", \"boot\", \"boot\", \"boot\", \"boot\", \"boot\", \"boot\", \"boot\", \"boot\", \"boot\", \"boot\", \"bouncer\", \"bouncer\", \"bouncer\", \"bouncer\", \"bouncer\", \"bouncer\", \"bouncer\", \"bouncer\", \"bouncer\", \"bouncer\", \"bowl\", \"bowl\", \"bowl\", \"bowl\", \"bowl\", \"bowl\", \"bowl\", \"bowl\", \"bowl\", \"bowl\", \"brain\", \"brain\", \"brain\", \"brain\", \"brain\", \"brain\", \"brain\", \"brain\", \"bread\", \"bread\", \"bread\", \"bread\", \"bread\", \"bread\", \"bread\", \"bread\", \"bread\", \"bread\", \"break\", \"break\", \"break\", \"break\", \"break\", \"break\", \"break\", \"break\", \"break\", \"break\", \"breakfast\", \"breakfast\", \"breakfast\", \"breakfast\", \"breakfast\", \"breakfast\", \"breakfast\", \"breakfast\", \"breakfast\", \"breakfast\", \"brim\", \"brim\", \"brim\", \"brim\", \"brim\", \"brim\", \"brim\", \"brim\", \"brim\", \"brim\", \"broth\", \"broth\", \"broth\", \"broth\", \"broth\", \"broth\", \"broth\", \"broth\", \"broth\", \"broth\", \"brownie\", \"brownie\", \"brownie\", \"brownie\", \"brownie\", \"brownie\", \"brownie\", \"brownie\", \"brownie\", \"brownie\", \"buffet\", \"buffet\", \"buffet\", \"buffet\", \"buffet\", \"buffet\", \"buffet\", \"buffet\", \"buffet\", \"buffet\", \"building\", \"building\", \"building\", \"building\", \"building\", \"building\", \"building\", \"building\", \"building\", \"building\", \"busy\", \"busy\", \"busy\", \"busy\", \"busy\", \"busy\", \"busy\", \"busy\", \"busy\", \"busy\", \"butcher\", \"butcher\", \"butcher\", \"butcher\", \"butcher\", \"butcher\", \"butcher\", \"butcher\", \"butcher\", \"buy\", \"buy\", \"buy\", \"buy\", \"buy\", \"buy\", \"buy\", \"buy\", \"buy\", \"buy\", \"bypass\", \"bypass\", \"bypass\", \"bypass\", \"bypass\", \"bypass\", \"bypass\", \"bypass\", \"bypass\", \"bypass\", \"c\", \"c\", \"c\", \"c\", \"c\", \"c\", \"c\", \"c\", \"c\", \"c\", \"call\", \"call\", \"call\", \"call\", \"call\", \"call\", \"call\", \"call\", \"call\", \"call\", \"cancellation\", \"cancellation\", \"cancellation\", \"cancellation\", \"cancellation\", \"cancellation\", \"cancellation\", \"cancellation\", \"car\", \"car\", \"car\", \"car\", \"car\", \"car\", \"car\", \"car\", \"car\", \"car\", \"card\", \"card\", \"card\", \"card\", \"card\", \"card\", \"card\", \"card\", \"card\", \"card\", \"carpaccio\", \"carpaccio\", \"carpaccio\", \"carpaccio\", \"carpaccio\", \"carpaccio\", \"carpaccio\", \"carpaccio\", \"carpaccio\", \"cat\", \"cat\", \"cat\", \"cat\", \"cat\", \"cat\", \"cat\", \"cat\", \"cat\", \"cat\", \"catfish\", \"catfish\", \"catfish\", \"catfish\", \"catfish\", \"catfish\", \"catfish\", \"catfish\", \"catfish\", \"catfish\", \"chalkboard\", \"chalkboard\", \"chalkboard\", \"chalkboard\", \"chalkboard\", \"chalkboard\", \"chalkboard\", \"chalkboard\", \"chalkboard\", \"chalkboard\", \"check\", \"check\", \"check\", \"check\", \"check\", \"check\", \"check\", \"check\", \"check\", \"check\", \"cheese\", \"cheese\", \"cheese\", \"cheese\", \"cheese\", \"cheese\", \"cheese\", \"cheese\", \"cheese\", \"cheese\", \"chicken\", \"chicken\", \"chicken\", \"chicken\", \"chicken\", \"chicken\", \"chicken\", \"chicken\", \"chicken\", \"chicken\", \"chocolate\", \"chocolate\", \"chocolate\", \"chocolate\", \"chocolate\", \"chocolate\", \"chocolate\", \"chocolate\", \"chocolate\", \"chocolate\", \"choose\", \"choose\", \"choose\", \"choose\", \"choose\", \"choose\", \"choose\", \"choose\", \"choose\", \"choose\", \"ciabatta\", \"ciabatta\", \"ciabatta\", \"ciabatta\", \"ciabatta\", \"ciabatta\", \"clean\", \"clean\", \"clean\", \"clean\", \"clean\", \"clean\", \"clean\", \"clean\", \"clean\", \"clean\", \"close\", \"close\", \"close\", \"close\", \"close\", \"close\", \"close\", \"close\", \"close\", \"close\", \"coffee\", \"coffee\", \"coffee\", \"coffee\", \"coffee\", \"coffee\", \"coffee\", \"coffee\", \"coffee\", \"coffee\", \"colour\", \"colour\", \"colour\", \"colour\", \"colour\", \"colour\", \"colour\", \"colour\", \"colour\", \"colour\", \"come\", \"come\", \"come\", \"come\", \"come\", \"come\", \"come\", \"come\", \"come\", \"come\", \"company\", \"company\", \"company\", \"company\", \"company\", \"company\", \"company\", \"company\", \"company\", \"company\", \"compliment\", \"compliment\", \"compliment\", \"compliment\", \"compliment\", \"compliment\", \"compliment\", \"compliment\", \"compliment\", \"compliment\", \"confident\", \"confident\", \"confident\", \"confident\", \"confident\", \"confident\", \"confident\", \"confident\", \"confident\", \"confident\", \"consistently\", \"consistently\", \"consistently\", \"consistently\", \"consistently\", \"consistently\", \"consistently\", \"consistently\", \"consistently\", \"consistently\", \"consultation\", \"consultation\", \"consultation\", \"consultation\", \"consultation\", \"consultation\", \"consultation\", \"consultation\", \"consultation\", \"consultation\", \"contract\", \"contract\", \"contract\", \"contract\", \"contract\", \"contract\", \"contract\", \"contract\", \"contract\", \"contract\", \"cook\", \"cook\", \"cook\", \"cook\", \"cook\", \"cook\", \"cook\", \"cook\", \"cook\", \"cook\", \"costly\", \"costly\", \"costly\", \"costly\", \"costly\", \"costly\", \"costly\", \"costly\", \"count\", \"count\", \"count\", \"count\", \"count\", \"count\", \"count\", \"count\", \"count\", \"count\", \"couple\", \"couple\", \"couple\", \"couple\", \"couple\", \"couple\", \"couple\", \"couple\", \"couple\", \"couple\", \"course\", \"course\", \"course\", \"course\", \"course\", \"course\", \"course\", \"course\", \"course\", \"course\", \"cover\", \"cover\", \"cover\", \"cover\", \"cover\", \"cover\", \"cover\", \"cover\", \"cover\", \"cover\", \"cowboy\", \"cowboy\", \"cowboy\", \"cowboy\", \"cowboy\", \"cowboy\", \"cowboy\", \"cowboy\", \"cowboy\", \"cowboy\", \"cream\", \"cream\", \"cream\", \"cream\", \"cream\", \"cream\", \"cream\", \"cream\", \"cream\", \"cream\", \"crime\", \"crime\", \"crime\", \"crime\", \"crowd\", \"crowd\", \"crowd\", \"crowd\", \"crowd\", \"crowd\", \"crowd\", \"crowd\", \"crowd\", \"crowd\", \"crush\", \"crush\", \"crush\", \"crush\", \"crush\", \"crush\", \"crush\", \"crush\", \"crush\", \"crush\", \"cuban\", \"cuban\", \"cuban\", \"curry\", \"curry\", \"curry\", \"curry\", \"curry\", \"curry\", \"curry\", \"curry\", \"curry\", \"curry\", \"curtesy\", \"curtesy\", \"curtesy\", \"curtesy\", \"customer\", \"customer\", \"customer\", \"customer\", \"customer\", \"customer\", \"customer\", \"customer\", \"customer\", \"customer\", \"dad\", \"dad\", \"dad\", \"dad\", \"dad\", \"dad\", \"dad\", \"dad\", \"dad\", \"dad\", \"dank\", \"dank\", \"dank\", \"dank\", \"dank\", \"dank\", \"dank\", \"dank\", \"dank\", \"dart\", \"dated\", \"dated\", \"dated\", \"dated\", \"dated\", \"dated\", \"day\", \"day\", \"day\", \"day\", \"day\", \"day\", \"day\", \"day\", \"day\", \"day\", \"defeat\", \"defeat\", \"defeat\", \"defeat\", \"defeat\", \"defeat\", \"defeat\", \"defeat\", \"defeat\", \"defeat\", \"definetly\", \"definitely\", \"definitely\", \"definitely\", \"definitely\", \"definitely\", \"definitely\", \"definitely\", \"definitely\", \"definitely\", \"definitely\", \"definition\", \"delicacy\", \"delicacy\", \"delicacy\", \"delicacy\", \"delicacy\", \"delicacy\", \"delicious\", \"delicious\", \"delicious\", \"delicious\", \"delicious\", \"delicious\", \"delicious\", \"delicious\", \"delicious\", \"delicious\", \"dentist\", \"dentist\", \"dentist\", \"dentist\", \"dentist\", \"dentist\", \"dentist\", \"dentist\", \"dentist\", \"dentist\", \"despite\", \"despite\", \"despite\", \"despite\", \"despite\", \"despite\", \"despite\", \"despite\", \"despite\", \"despite\", \"dessert\", \"dessert\", \"dessert\", \"dessert\", \"dessert\", \"dessert\", \"dessert\", \"dessert\", \"dessert\", \"dessert\", \"devil\", \"devil\", \"devil\", \"devil\", \"devil\", \"devil\", \"diabetes\", \"diabetes\", \"diabetes\", \"diamond\", \"diamond\", \"diamond\", \"diamond\", \"diamond\", \"diamond\", \"diamond\", \"diamond\", \"diamond\", \"diamond\", \"diarrhea\", \"diarrhea\", \"diarrhea\", \"diarrhea\", \"diarrhea\", \"diarrhea\", \"diarrhea\", \"diarrhea\", \"diarrhea\", \"diarrhea\", \"different\", \"different\", \"different\", \"different\", \"different\", \"different\", \"different\", \"different\", \"different\", \"different\", \"dim\", \"dim\", \"dim\", \"dim\", \"dim\", \"dim\", \"dim\", \"dim\", \"dim\", \"dim\", \"din\", \"din\", \"din\", \"din\", \"din\", \"din\", \"din\", \"dine\", \"dine\", \"dine\", \"dine\", \"dine\", \"dine\", \"dine\", \"dine\", \"dine\", \"dine\", \"dish\", \"dish\", \"dish\", \"dish\", \"dish\", \"dish\", \"dish\", \"dish\", \"dish\", \"dish\", \"display\", \"display\", \"display\", \"display\", \"display\", \"display\", \"display\", \"display\", \"display\", \"display\", \"distant\", \"distant\", \"distant\", \"distant\", \"distant\", \"distant\", \"distant\", \"distant\", \"distant\", \"dog\", \"dog\", \"dog\", \"dog\", \"dog\", \"dog\", \"dog\", \"dog\", \"dog\", \"dog\", \"downtown\", \"downtown\", \"downtown\", \"downtown\", \"downtown\", \"downtown\", \"downtown\", \"downtown\", \"downtown\", \"downtown\", \"drink\", \"drink\", \"drink\", \"drink\", \"drink\", \"drink\", \"drink\", \"drink\", \"drink\", \"drink\", \"dulce\", \"dulce\", \"dulce\", \"dulce\", \"dulce\", \"dulce\", \"dulce\", \"dulce\", \"dulce\", \"eat\", \"eat\", \"eat\", \"eat\", \"eat\", \"eat\", \"eat\", \"eat\", \"eat\", \"eat\", \"effectively\", \"effectively\", \"effectively\", \"effectively\", \"effectively\", \"effectively\", \"effectively\", \"effectively\", \"end\", \"end\", \"end\", \"end\", \"end\", \"end\", \"end\", \"end\", \"end\", \"end\", \"engage\", \"engage\", \"engage\", \"engage\", \"engage\", \"engage\", \"engage\", \"engage\", \"engage\", \"engage\", \"enjoy\", \"enjoy\", \"enjoy\", \"enjoy\", \"enjoy\", \"enjoy\", \"enjoy\", \"enjoy\", \"enjoy\", \"enjoy\", \"excellent\", \"excellent\", \"excellent\", \"excellent\", \"excellent\", \"excellent\", \"excellent\", \"excellent\", \"excellent\", \"excellent\", \"excite\", \"excite\", \"excite\", \"expect\", \"expect\", \"expect\", \"expect\", \"expect\", \"expect\", \"expect\", \"expect\", \"expect\", \"expect\", \"expense\", \"expense\", \"expense\", \"expense\", \"expense\", \"expense\", \"expense\", \"expense\", \"expense\", \"expense\", \"experience\", \"experience\", \"experience\", \"experience\", \"experience\", \"experience\", \"experience\", \"experience\", \"experience\", \"experience\", \"eyebrow\", \"eyebrow\", \"eyebrow\", \"eyebrow\", \"eyebrow\", \"eyebrow\", \"eyebrow\", \"eyebrow\", \"eyebrow\", \"eyebrow\", \"eyelash\", \"eyelash\", \"eyelash\", \"eyelash\", \"eyelash\", \"eyelash\", \"eyelash\", \"eyelash\", \"eyelash\", \"eyelash\", \"fall\", \"fall\", \"fall\", \"fall\", \"fall\", \"fall\", \"fall\", \"fall\", \"fall\", \"fall\", \"family\", \"family\", \"family\", \"family\", \"family\", \"family\", \"family\", \"family\", \"family\", \"family\", \"fan\", \"fan\", \"fan\", \"fan\", \"fan\", \"fan\", \"fan\", \"fan\", \"fan\", \"fan\", \"far\", \"far\", \"far\", \"far\", \"far\", \"far\", \"far\", \"far\", \"far\", \"far\", \"fast\", \"fast\", \"fast\", \"fast\", \"fast\", \"fast\", \"fast\", \"fast\", \"fast\", \"fast\", \"fav\", \"fav\", \"fav\", \"fav\", \"fav\", \"fav\", \"fav\", \"fav\", \"fav\", \"fav\", \"favorite\", \"favorite\", \"favorite\", \"favorite\", \"favorite\", \"favorite\", \"favorite\", \"favorite\", \"favorite\", \"favorite\", \"fee\", \"fee\", \"fee\", \"fee\", \"fee\", \"fee\", \"fee\", \"fee\", \"fee\", \"fee\", \"feel\", \"feel\", \"feel\", \"feel\", \"feel\", \"feel\", \"feel\", \"feel\", \"feel\", \"feel\", \"find\", \"find\", \"find\", \"find\", \"find\", \"find\", \"find\", \"find\", \"find\", \"find\", \"fingernail\", \"fingernail\", \"fingernail\", \"fingernail\", \"fingernail\", \"fingernail\", \"fingernail\", \"fingernail\", \"fingernail\", \"fingernail\", \"fish\", \"fish\", \"fish\", \"fish\", \"fish\", \"fish\", \"fish\", \"fish\", \"fish\", \"fish\", \"flour\", \"flour\", \"flour\", \"flour\", \"flour\", \"flour\", \"flour\", \"flour\", \"flour\", \"flour\", \"flush\", \"flush\", \"flush\", \"flush\", \"flush\", \"flush\", \"flush\", \"flush\", \"flush\", \"follow\", \"follow\", \"follow\", \"follow\", \"follow\", \"follow\", \"follow\", \"follow\", \"follow\", \"follow\", \"franchise\", \"franchise\", \"franchise\", \"franchise\", \"franchise\", \"franchise\", \"franchise\", \"franchise\", \"franchise\", \"franchise\", \"free\", \"free\", \"free\", \"free\", \"free\", \"free\", \"free\", \"free\", \"free\", \"free\", \"frequently\", \"frequently\", \"frequently\", \"frequently\", \"frequently\", \"frequently\", \"frequently\", \"frequently\", \"frequently\", \"frequently\", \"fresh\", \"fresh\", \"fresh\", \"fresh\", \"fresh\", \"fresh\", \"fresh\", \"fresh\", \"fresh\", \"fresh\", \"friend\", \"friend\", \"friend\", \"friend\", \"friend\", \"friend\", \"friend\", \"friend\", \"friend\", \"friend\", \"friendly\", \"friendly\", \"friendly\", \"friendly\", \"friendly\", \"friendly\", \"friendly\", \"friendly\", \"friendly\", \"friendly\", \"fry\", \"fry\", \"fry\", \"fry\", \"fry\", \"fry\", \"fry\", \"fry\", \"fry\", \"fry\", \"fun\", \"fun\", \"fun\", \"fun\", \"fun\", \"fun\", \"fun\", \"fun\", \"fun\", \"fun\", \"future\", \"future\", \"future\", \"future\", \"future\", \"future\", \"future\", \"future\", \"future\", \"future\", \"garment\", \"garment\", \"garment\", \"garment\", \"garment\", \"garment\", \"gaucho\", \"gaucho\", \"gem\", \"gem\", \"gem\", \"gem\", \"gem\", \"gem\", \"gem\", \"gem\", \"gem\", \"gem\", \"get\", \"get\", \"get\", \"get\", \"get\", \"get\", \"get\", \"get\", \"get\", \"get\", \"gf\", \"gf\", \"gf\", \"gf\", \"gf\", \"gf\", \"gf\", \"gf\", \"gf\", \"gf\", \"ghetto\", \"ghetto\", \"ghetto\", \"ghetto\", \"ghetto\", \"ghetto\", \"ghetto\", \"ghetto\", \"girl\", \"girl\", \"girl\", \"girl\", \"girl\", \"girl\", \"girl\", \"girl\", \"girl\", \"girl\", \"give\", \"give\", \"give\", \"give\", \"give\", \"give\", \"give\", \"give\", \"give\", \"give\", \"glad\", \"glad\", \"glad\", \"glad\", \"glad\", \"glad\", \"glad\", \"glad\", \"glad\", \"glad\", \"glass\", \"glass\", \"glass\", \"glass\", \"glass\", \"glass\", \"glass\", \"glass\", \"glass\", \"glass\", \"go\", \"go\", \"go\", \"go\", \"go\", \"go\", \"go\", \"go\", \"go\", \"go\", \"good\", \"good\", \"good\", \"good\", \"good\", \"good\", \"good\", \"good\", \"good\", \"good\", \"gps\", \"gps\", \"gps\", \"gps\", \"gps\", \"gps\", \"gps\", \"gps\", \"gps\", \"gps\", \"greasy\", \"greasy\", \"greasy\", \"greasy\", \"greasy\", \"greasy\", \"greasy\", \"greasy\", \"greasy\", \"greasy\", \"griddle\", \"griddle\", \"griddle\", \"griddle\", \"griddle\", \"groom\", \"groom\", \"groom\", \"groom\", \"groom\", \"groom\", \"groom\", \"groom\", \"groom\", \"groom\", \"grooming\", \"grooming\", \"grooming\", \"grooming\", \"grooming\", \"grooming\", \"grooming\", \"grooming\", \"grooming\", \"grooming\", \"grouper\", \"grouper\", \"grouper\", \"grouper\", \"grouper\", \"grouper\", \"grouper\", \"gumbo\", \"gumbo\", \"gumbo\", \"gumbo\", \"gumbo\", \"gumbo\", \"gumbo\", \"gumbo\", \"gumbo\", \"gumbo\", \"happen\", \"happen\", \"happen\", \"happen\", \"happen\", \"happen\", \"happen\", \"happen\", \"happen\", \"happen\", \"happy\", \"happy\", \"happy\", \"happy\", \"happy\", \"happy\", \"happy\", \"happy\", \"happy\", \"happy\", \"hard\", \"hard\", \"hard\", \"hard\", \"hard\", \"hard\", \"hard\", \"hard\", \"hard\", \"hard\", \"hardly\", \"hardly\", \"hardly\", \"hardly\", \"hardly\", \"hardly\", \"hardly\", \"hardly\", \"hardly\", \"hardly\", \"hear\", \"hear\", \"hear\", \"hear\", \"hear\", \"hear\", \"hear\", \"hear\", \"hear\", \"hear\", \"heavenly\", \"heavenly\", \"heavenly\", \"heavenly\", \"heavenly\", \"heavenly\", \"heavenly\", \"heavenly\", \"heavenly\", \"heavenly\", \"help\", \"help\", \"help\", \"help\", \"help\", \"help\", \"help\", \"help\", \"help\", \"help\", \"highly\", \"highly\", \"highly\", \"highly\", \"highly\", \"highly\", \"highly\", \"highly\", \"highly\", \"highly\", \"hiking\", \"hiking\", \"hiking\", \"hiking\", \"hiking\", \"hiking\", \"hiking\", \"hiking\", \"hiking\", \"hiking\", \"hour\", \"hour\", \"hour\", \"hour\", \"hour\", \"hour\", \"hour\", \"hour\", \"hour\", \"hour\", \"house\", \"house\", \"house\", \"house\", \"house\", \"house\", \"house\", \"house\", \"house\", \"house\", \"husband\", \"husband\", \"husband\", \"husband\", \"husband\", \"husband\", \"husband\", \"husband\", \"husband\", \"husband\", \"hut\", \"hut\", \"hut\", \"hut\", \"hut\", \"hut\", \"hut\", \"ice\", \"ice\", \"ice\", \"ice\", \"ice\", \"ice\", \"ice\", \"ice\", \"ice\", \"ice\", \"ihop\", \"ihop\", \"ihop\", \"ihop\", \"incident\", \"incident\", \"incident\", \"incident\", \"incident\", \"incident\", \"incident\", \"incident\", \"incident\", \"incident\", \"infest\", \"ink\", \"ink\", \"ink\", \"ink\", \"ink\", \"ink\", \"ink\", \"ink\", \"ink\", \"ink\", \"inside\", \"inside\", \"inside\", \"inside\", \"inside\", \"inside\", \"inside\", \"inside\", \"inside\", \"inside\", \"inspection\", \"inspection\", \"inspection\", \"inspection\", \"inspection\", \"inspection\", \"inspection\", \"inspection\", \"inspection\", \"inspection\", \"instrument\", \"instrument\", \"instrument\", \"instrument\", \"instrument\", \"instrument\", \"instrument\", \"instrument\", \"instrument\", \"interesting\", \"interesting\", \"interesting\", \"interesting\", \"interesting\", \"interesting\", \"interesting\", \"interesting\", \"interesting\", \"interesting\", \"it-\", \"it-\", \"it-\", \"it-\", \"it-\", \"italian\", \"italian\", \"italian\", \"italian\", \"italian\", \"italian\", \"italian\", \"italian\", \"italian\", \"italian\", \"job\", \"job\", \"job\", \"job\", \"job\", \"job\", \"job\", \"job\", \"job\", \"job\", \"juicy\", \"juicy\", \"juicy\", \"juicy\", \"juicy\", \"juicy\", \"juicy\", \"juicy\", \"juicy\", \"juicy\", \"jump\", \"jump\", \"jump\", \"jump\", \"jump\", \"jump\", \"jump\", \"jump\", \"jump\", \"jump\", \"juste\", \"juste\", \"juste\", \"juste\", \"juste\", \"kid\", \"kid\", \"kid\", \"kid\", \"kid\", \"kid\", \"kid\", \"kid\", \"kid\", \"kid\", \"kind\", \"kind\", \"kind\", \"kind\", \"kind\", \"kind\", \"kind\", \"kind\", \"kind\", \"kind\", \"kiosk\", \"kiosk\", \"kiosk\", \"kiosk\", \"kiosk\", \"kiosk\", \"kiosk\", \"kiosk\", \"kiosk\", \"kiosk\", \"kit\", \"kit\", \"kit\", \"kit\", \"kit\", \"kit\", \"kit\", \"kit\", \"kit\", \"kit\", \"know\", \"know\", \"know\", \"know\", \"know\", \"know\", \"know\", \"know\", \"know\", \"know\", \"laptop\", \"laptop\", \"laptop\", \"laptop\", \"laptop\", \"laptop\", \"laptop\", \"laptop\", \"laptop\", \"laptop\", \"large\", \"large\", \"large\", \"large\", \"large\", \"large\", \"large\", \"large\", \"large\", \"large\", \"las\", \"las\", \"las\", \"las\", \"las\", \"las\", \"las\", \"las\", \"leave\", \"leave\", \"leave\", \"leave\", \"leave\", \"leave\", \"leave\", \"leave\", \"leave\", \"leave\", \"let\", \"let\", \"let\", \"let\", \"let\", \"let\", \"let\", \"let\", \"let\", \"let\", \"library\", \"library\", \"library\", \"library\", \"library\", \"library\", \"library\", \"library\", \"library\", \"library\", \"line\", \"line\", \"line\", \"line\", \"line\", \"line\", \"line\", \"line\", \"line\", \"line\", \"little\", \"little\", \"little\", \"little\", \"little\", \"little\", \"little\", \"little\", \"little\", \"little\", \"live\", \"live\", \"live\", \"live\", \"live\", \"live\", \"live\", \"live\", \"live\", \"live\", \"lobster\", \"lobster\", \"lobster\", \"lobster\", \"lobster\", \"lobster\", \"lobster\", \"lobster\", \"lobster\", \"lobster\", \"long\", \"long\", \"long\", \"long\", \"long\", \"long\", \"long\", \"long\", \"long\", \"long\", \"look\", \"look\", \"look\", \"look\", \"look\", \"look\", \"look\", \"look\", \"look\", \"look\", \"lord\", \"lord\", \"lord\", \"lord\", \"lord\", \"lord\", \"lord\", \"lot\", \"lot\", \"lot\", \"lot\", \"lot\", \"lot\", \"lot\", \"lot\", \"lot\", \"lot\", \"love\", \"love\", \"love\", \"love\", \"love\", \"love\", \"love\", \"love\", \"love\", \"love\", \"lunch\", \"lunch\", \"lunch\", \"lunch\", \"lunch\", \"lunch\", \"lunch\", \"lunch\", \"lunch\", \"lunch\", \"malgr\\u00e9\", \"malgr\\u00e9\", \"malgr\\u00e9\", \"malgr\\u00e9\", \"malgr\\u00e9\", \"malgr\\u00e9\", \"mall\", \"mall\", \"mall\", \"mall\", \"mall\", \"mall\", \"mall\", \"mall\", \"mall\", \"mall\", \"marriage\", \"marriage\", \"marriage\", \"marriage\", \"mart\", \"mart\", \"mart\", \"mart\", \"martial\", \"martial\", \"martial\", \"martial\", \"martial\", \"martial\", \"maybe\", \"maybe\", \"maybe\", \"maybe\", \"maybe\", \"maybe\", \"maybe\", \"maybe\", \"maybe\", \"maybe\", \"meal\", \"meal\", \"meal\", \"meal\", \"meal\", \"meal\", \"meal\", \"meal\", \"meal\", \"meal\", \"meat\", \"meat\", \"meat\", \"meat\", \"meat\", \"meat\", \"meat\", \"meat\", \"meat\", \"meat\", \"medallion\", \"medallion\", \"medallion\", \"medallion\", \"medallion\", \"medallion\", \"medallion\", \"menu\", \"menu\", \"menu\", \"menu\", \"menu\", \"menu\", \"menu\", \"menu\", \"menu\", \"menu\", \"mere\", \"mere\", \"mere\", \"mere\", \"mere\", \"mere\", \"mere\", \"mere\", \"mere\", \"mere\", \"milkshake\", \"milkshake\", \"milkshake\", \"milkshake\", \"milkshake\", \"milkshake\", \"milkshake\", \"milkshake\", \"milkshake\", \"milkshake\", \"minor\", \"minor\", \"minor\", \"minor\", \"minor\", \"minor\", \"minor\", \"minor\", \"minor\", \"minor\", \"minute\", \"minute\", \"minute\", \"minute\", \"minute\", \"minute\", \"minute\", \"minute\", \"minute\", \"minute\", \"mission\", \"mission\", \"mission\", \"mission\", \"mission\", \"mission\", \"mission\", \"mission\", \"mission\", \"mix\", \"mix\", \"mix\", \"mix\", \"mix\", \"mix\", \"mix\", \"mix\", \"mix\", \"mix\", \"mixer\", \"mixer\", \"mixer\", \"mixer\", \"mixer\", \"mixer\", \"mocha\", \"mocha\", \"mocha\", \"mocha\", \"mocha\", \"mocha\", \"mocha\", \"mocha\", \"mocha\", \"mocha\", \"money\", \"money\", \"money\", \"money\", \"money\", \"money\", \"money\", \"money\", \"money\", \"money\", \"mongolian\", \"mongolian\", \"mongolian\", \"mongolian\", \"mongolian\", \"mongolian\", \"mongolian\", \"mongolian\", \"mongolian\", \"mongolian\", \"month\", \"month\", \"month\", \"month\", \"month\", \"month\", \"month\", \"month\", \"month\", \"month\", \"morning\", \"morning\", \"morning\", \"morning\", \"morning\", \"morning\", \"morning\", \"morning\", \"morning\", \"morning\", \"multiple\", \"multiple\", \"multiple\", \"multiple\", \"multiple\", \"multiple\", \"multiple\", \"multiple\", \"multiple\", \"multiple\", \"nail\", \"nail\", \"nail\", \"nail\", \"nail\", \"nail\", \"nail\", \"nail\", \"nail\", \"nail\", \"need\", \"need\", \"need\", \"need\", \"need\", \"need\", \"need\", \"need\", \"need\", \"need\", \"new\", \"new\", \"new\", \"new\", \"new\", \"new\", \"new\", \"new\", \"new\", \"new\", \"nice\", \"nice\", \"nice\", \"nice\", \"nice\", \"nice\", \"nice\", \"nice\", \"nice\", \"nice\", \"nickel\", \"nickel\", \"night\", \"night\", \"night\", \"night\", \"night\", \"night\", \"night\", \"night\", \"night\", \"night\", \"nite\", \"nite\", \"nite\", \"nite\", \"nite\", \"nite\", \"nite\", \"nite\", \"nite\", \"nite\", \"nom\", \"nom\", \"nom\", \"nom\", \"nom\", \"nom\", \"nom\", \"nom\", \"nom\", \"nom\", \"nonexistent\", \"nonexistent\", \"nonexistent\", \"nosh\", \"nosh\", \"nosh\", \"nosh\", \"not\", \"not\", \"not\", \"not\", \"not\", \"not\", \"not\", \"not\", \"not\", \"not\", \"obsessed\", \"obsessed\", \"obsessed\", \"obsessed\", \"obsessed\", \"obsessed\", \"obsessed\", \"obsessed\", \"obsessed\", \"offer\", \"offer\", \"offer\", \"offer\", \"offer\", \"offer\", \"offer\", \"offer\", \"offer\", \"offer\", \"ok\", \"ok\", \"ok\", \"ok\", \"ok\", \"ok\", \"ok\", \"ok\", \"ok\", \"ok\", \"old\", \"old\", \"old\", \"old\", \"old\", \"old\", \"old\", \"old\", \"old\", \"old\", \"ole\", \"ole\", \"ole\", \"ole\", \"ole\", \"open\", \"open\", \"open\", \"open\", \"open\", \"open\", \"open\", \"open\", \"open\", \"open\", \"option\", \"option\", \"option\", \"option\", \"option\", \"option\", \"option\", \"option\", \"option\", \"option\", \"order\", \"order\", \"order\", \"order\", \"order\", \"order\", \"order\", \"order\", \"order\", \"order\", \"pan\", \"pan\", \"pan\", \"pan\", \"pan\", \"pan\", \"pan\", \"pan\", \"pan\", \"pan\", \"panang\", \"panang\", \"panang\", \"panang\", \"panang\", \"panang\", \"panang\", \"panang\", \"panang\", \"par\", \"par\", \"par\", \"par\", \"par\", \"par\", \"par\", \"par\", \"par\", \"par\", \"pas\", \"pas\", \"pas\", \"pas\", \"pas\", \"pas\", \"pas\", \"pas\", \"pas\", \"pas\", \"pasta\", \"pasta\", \"pasta\", \"pasta\", \"pasta\", \"pasta\", \"pasta\", \"pasta\", \"pasta\", \"pasta\", \"pastor\", \"pastor\", \"pastor\", \"pastor\", \"pastor\", \"pastor\", \"pastor\", \"pastor\", \"pastor\", \"pastor\", \"pay\", \"pay\", \"pay\", \"pay\", \"pay\", \"pay\", \"pay\", \"pay\", \"pay\", \"pay\", \"pedicure\", \"pedicure\", \"pedicure\", \"pedicure\", \"pedicure\", \"pedicure\", \"pedicure\", \"pedicure\", \"pedicure\", \"pedicure\", \"people\", \"people\", \"people\", \"people\", \"people\", \"people\", \"people\", \"people\", \"people\", \"people\", \"perfect\", \"perfect\", \"perfect\", \"perfect\", \"perfect\", \"perfect\", \"perfect\", \"perfect\", \"perfect\", \"perfect\", \"pho\", \"pho\", \"pho\", \"pho\", \"pho\", \"pho\", \"pho\", \"pho\", \"pho\", \"pho\", \"phone\", \"phone\", \"phone\", \"phone\", \"phone\", \"phone\", \"phone\", \"phone\", \"phone\", \"phone\", \"pick\", \"pick\", \"pick\", \"pick\", \"pick\", \"pick\", \"pick\", \"pick\", \"pick\", \"pick\", \"piece\", \"piece\", \"piece\", \"piece\", \"piece\", \"piece\", \"piece\", \"piece\", \"piece\", \"piece\", \"pierogi\", \"pierogi\", \"pierogi\", \"pierogi\", \"pierogi\", \"pierogi\", \"pierogi\", \"pierogie\", \"pierogie\", \"pierogie\", \"pierogie\", \"pierogie\", \"pizza\", \"pizza\", \"pizza\", \"pizza\", \"pizza\", \"pizza\", \"pizza\", \"pizza\", \"pizza\", \"pizza\", \"place\", \"place\", \"place\", \"place\", \"place\", \"place\", \"place\", \"place\", \"place\", \"place\", \"plan\", \"plan\", \"plan\", \"plan\", \"plan\", \"plan\", \"plan\", \"plan\", \"plan\", \"plan\", \"plate\", \"plate\", \"plate\", \"plate\", \"plate\", \"plate\", \"plate\", \"plate\", \"plate\", \"plate\", \"play\", \"play\", \"play\", \"play\", \"play\", \"play\", \"play\", \"play\", \"play\", \"play\", \"playing\", \"playing\", \"playing\", \"playing\", \"playing\", \"playing\", \"playing\", \"playing\", \"playing\", \"playing\", \"plut\\u00f4t\", \"plut\\u00f4t\", \"plut\\u00f4t\", \"plut\\u00f4t\", \"plut\\u00f4t\", \"plut\\u00f4t\", \"plut\\u00f4t\", \"plut\\u00f4t\", \"point\", \"point\", \"point\", \"point\", \"point\", \"point\", \"point\", \"point\", \"point\", \"point\", \"poison\", \"poison\", \"poison\", \"poison\", \"poison\", \"poison\", \"poison\", \"poison\", \"poison\", \"poison\", \"poisoning\", \"poisoning\", \"poisoning\", \"poisoning\", \"poisoning\", \"poisoning\", \"poisoning\", \"poisoning\", \"poisoning\", \"poisoning\", \"poker\", \"poker\", \"poker\", \"poker\", \"poker\", \"poker\", \"poker\", \"poker\", \"poker\", \"poker\", \"powerful\", \"powerful\", \"powerful\", \"powerful\", \"powerful\", \"powerful\", \"powerful\", \"powerful\", \"powerful\", \"powerful\", \"prepare\", \"prepare\", \"prepare\", \"prepare\", \"prepare\", \"prepare\", \"prepare\", \"prepare\", \"prepare\", \"prepare\", \"pretty\", \"pretty\", \"pretty\", \"pretty\", \"pretty\", \"pretty\", \"pretty\", \"pretty\", \"pretty\", \"pretty\", \"previous\", \"previous\", \"previous\", \"previous\", \"previous\", \"previous\", \"previous\", \"previous\", \"previous\", \"previous\", \"price\", \"price\", \"price\", \"price\", \"price\", \"price\", \"price\", \"price\", \"price\", \"price\", \"problem\", \"problem\", \"problem\", \"problem\", \"problem\", \"problem\", \"problem\", \"problem\", \"problem\", \"problem\", \"product\", \"product\", \"product\", \"product\", \"product\", \"product\", \"product\", \"product\", \"product\", \"product\", \"proficient\", \"proficient\", \"proficient\", \"proficient\", \"proud\", \"proud\", \"proud\", \"proud\", \"proud\", \"proud\", \"proud\", \"proud\", \"proud\", \"proud\", \"puck\", \"puck\", \"puck\", \"puck\", \"puck\", \"puck\", \"push\", \"push\", \"push\", \"push\", \"push\", \"push\", \"push\", \"push\", \"push\", \"push\", \"pushy\", \"pushy\", \"pushy\", \"pushy\", \"pushy\", \"pushy\", \"pushy\", \"pushy\", \"pushy\", \"pushy\", \"raise\", \"raise\", \"raise\", \"raise\", \"raise\", \"raise\", \"raise\", \"raise\", \"raise\", \"raise\", \"rapide\", \"rapide\", \"rapide\", \"rapide\", \"rapide\", \"rapide\", \"rapide\", \"rapide\", \"rapide\", \"read\", \"read\", \"read\", \"read\", \"read\", \"read\", \"read\", \"read\", \"read\", \"read\", \"real\", \"real\", \"real\", \"real\", \"real\", \"real\", \"real\", \"real\", \"real\", \"real\", \"realistic\", \"reasonable\", \"reasonable\", \"reasonable\", \"reasonable\", \"reasonable\", \"reasonable\", \"reasonable\", \"reasonable\", \"reasonable\", \"reasonable\", \"recommend\", \"recommend\", \"recommend\", \"recommend\", \"recommend\", \"recommend\", \"recommend\", \"recommend\", \"recommend\", \"recommend\", \"refill\", \"refill\", \"refill\", \"refill\", \"refill\", \"refill\", \"refill\", \"refill\", \"refill\", \"refill\", \"remake\", \"remake\", \"remake\", \"remake\", \"remake\", \"remake\", \"remake\", \"remake\", \"remake\", \"remake\", \"rental\", \"rental\", \"rental\", \"rental\", \"rental\", \"rental\", \"rental\", \"rental\", \"rental\", \"rental\", \"reptile\", \"reptile\", \"reptile\", \"reptile\", \"reptile\", \"reptile\", \"resource\", \"resource\", \"resource\", \"resource\", \"resource\", \"resource\", \"resource\", \"resource\", \"resource\", \"resource\", \"restaurant\", \"restaurant\", \"restaurant\", \"restaurant\", \"restaurant\", \"restaurant\", \"restaurant\", \"restaurant\", \"restaurant\", \"restaurant\", \"return\", \"return\", \"return\", \"return\", \"return\", \"return\", \"return\", \"return\", \"return\", \"return\", \"right\", \"right\", \"right\", \"right\", \"right\", \"right\", \"right\", \"right\", \"right\", \"right\", \"risk\", \"risk\", \"risk\", \"risk\", \"risk\", \"risk\", \"risk\", \"risk\", \"risk\", \"risk\", \"roll\", \"roll\", \"roll\", \"roll\", \"roll\", \"roll\", \"roll\", \"roll\", \"roll\", \"roll\", \"room\", \"room\", \"room\", \"room\", \"room\", \"room\", \"room\", \"room\", \"room\", \"room\", \"rotation\", \"rotation\", \"rotation\", \"rotation\", \"rotation\", \"rotation\", \"rotation\", \"rotation\", \"rotation\", \"rotation\", \"rub\", \"rub\", \"rub\", \"rub\", \"rub\", \"rub\", \"rub\", \"rub\", \"rub\", \"rub\", \"rum\", \"rum\", \"rum\", \"rum\", \"rum\", \"rum\", \"rum\", \"rum\", \"rum\", \"rum\", \"safe\", \"safe\", \"safe\", \"safe\", \"safe\", \"safe\", \"safe\", \"safe\", \"safe\", \"safe\", \"sage\", \"sage\", \"sage\", \"sage\", \"sage\", \"sage\", \"sage\", \"sage\", \"salad\", \"salad\", \"salad\", \"salad\", \"salad\", \"salad\", \"salad\", \"salad\", \"salad\", \"salad\", \"sammie\", \"sammie\", \"sammie\", \"sammie\", \"sammie\", \"sammie\", \"sandwich\", \"sandwich\", \"sandwich\", \"sandwich\", \"sandwich\", \"sandwich\", \"sandwich\", \"sandwich\", \"sandwich\", \"sandwich\", \"satisfactory\", \"satisfactory\", \"satisfactory\", \"satisfactory\", \"satisfactory\", \"satisfactory\", \"satisfactory\", \"satisfactory\", \"satisfactory\", \"sauce\", \"sauce\", \"sauce\", \"sauce\", \"sauce\", \"sauce\", \"sauce\", \"sauce\", \"sauce\", \"sauce\", \"scorpion\", \"scorpion\", \"scorpion\", \"scorpion\", \"scorpion\", \"scorpion\", \"scorpion\", \"scorpion\", \"scorpion\", \"scorpion\", \"seat\", \"seat\", \"seat\", \"seat\", \"seat\", \"seat\", \"seat\", \"seat\", \"seat\", \"seat\", \"second\", \"second\", \"second\", \"second\", \"second\", \"second\", \"second\", \"second\", \"second\", \"second\", \"server\", \"server\", \"server\", \"server\", \"server\", \"server\", \"server\", \"server\", \"server\", \"server\", \"shop\", \"shop\", \"shop\", \"shop\", \"shop\", \"shop\", \"shop\", \"shop\", \"shop\", \"shop\", \"shoyu\", \"shoyu\", \"shoyu\", \"shoyu\", \"shoyu\", \"shoyu\", \"shoyu\", \"shoyu\", \"sister\", \"sister\", \"sister\", \"sister\", \"sister\", \"sister\", \"sister\", \"sister\", \"sister\", \"sister\", \"sit\", \"sit\", \"sit\", \"sit\", \"sit\", \"sit\", \"sit\", \"sit\", \"sit\", \"sit\", \"slow\", \"slow\", \"slow\", \"slow\", \"slow\", \"slow\", \"slow\", \"slow\", \"slow\", \"slow\", \"small\", \"small\", \"small\", \"small\", \"small\", \"small\", \"small\", \"small\", \"small\", \"small\", \"smoothie\", \"smoothie\", \"smoothie\", \"smoothie\", \"smoothie\", \"smoothie\", \"smoothie\", \"smoothie\", \"smoothie\", \"smoothie\", \"sole\", \"sole\", \"sole\", \"sole\", \"sole\", \"sole\", \"sole\", \"sole\", \"sole\", \"sole\", \"solid\", \"solid\", \"solid\", \"solid\", \"solid\", \"solid\", \"solid\", \"solid\", \"solid\", \"solid\", \"solo\", \"solo\", \"solo\", \"solo\", \"solo\", \"solo\", \"solo\", \"solo\", \"solo\", \"solo\", \"somebody\", \"somebody\", \"somebody\", \"somebody\", \"somebody\", \"somebody\", \"somebody\", \"somebody\", \"somebody\", \"somebody\", \"soon\", \"soon\", \"soon\", \"soon\", \"soon\", \"soon\", \"soon\", \"soon\", \"soon\", \"soon\", \"sooooo\", \"sooooo\", \"sooooo\", \"sooooo\", \"sooooo\", \"sooooo\", \"sooooo\", \"sooooo\", \"sooooo\", \"sooooo\", \"soothing\", \"soothing\", \"soothing\", \"soothing\", \"soothing\", \"soothing\", \"soothing\", \"soothing\", \"soothing\", \"soothing\", \"soup\", \"soup\", \"soup\", \"soup\", \"soup\", \"soup\", \"soup\", \"soup\", \"soup\", \"soup\", \"special\", \"special\", \"special\", \"special\", \"special\", \"special\", \"special\", \"special\", \"special\", \"special\", \"speechless\", \"spend\", \"spend\", \"spend\", \"spend\", \"spend\", \"spend\", \"spend\", \"spend\", \"spend\", \"spend\", \"spendy\", \"spendy\", \"spot\", \"spot\", \"spot\", \"spot\", \"spot\", \"spot\", \"spot\", \"spot\", \"spot\", \"spot\", \"spray\", \"spray\", \"spray\", \"spray\", \"spray\", \"spray\", \"spray\", \"spray\", \"spray\", \"spray\", \"stadium\", \"stadium\", \"stadium\", \"stadium\", \"stadium\", \"stadium\", \"stadium\", \"stadium\", \"stadium\", \"stadium\", \"staff\", \"staff\", \"staff\", \"staff\", \"staff\", \"staff\", \"staff\", \"staff\", \"staff\", \"staff\", \"star\", \"star\", \"star\", \"star\", \"star\", \"star\", \"star\", \"star\", \"star\", \"star\", \"start\", \"start\", \"start\", \"start\", \"start\", \"start\", \"start\", \"start\", \"start\", \"start\", \"stat\", \"stat\", \"stat\", \"stat\", \"stat\", \"stat\", \"stat\", \"stay\", \"stay\", \"stay\", \"stay\", \"stay\", \"stay\", \"stay\", \"stay\", \"stay\", \"stay\", \"stench\", \"stench\", \"stench\", \"stench\", \"stingy\", \"stingy\", \"stingy\", \"stingy\", \"stingy\", \"stingy\", \"stocked\", \"stocked\", \"stocked\", \"stocked\", \"stocked\", \"stocked\", \"stocked\", \"stocked\", \"stop\", \"stop\", \"stop\", \"stop\", \"stop\", \"stop\", \"stop\", \"stop\", \"stop\", \"stop\", \"store\", \"store\", \"store\", \"store\", \"store\", \"store\", \"store\", \"store\", \"store\", \"store\", \"strap\", \"strap\", \"strap\", \"strap\", \"strap\", \"strap\", \"strap\", \"strap\", \"strap\", \"strap\", \"stubborn\", \"stubborn\", \"stubborn\", \"stubborn\", \"stubborn\", \"stubborn\", \"stubborn\", \"study\", \"study\", \"study\", \"study\", \"study\", \"study\", \"study\", \"study\", \"study\", \"study\", \"super\", \"super\", \"super\", \"super\", \"super\", \"super\", \"super\", \"super\", \"super\", \"super\", \"supermarket\", \"supermarket\", \"supermarket\", \"supermarket\", \"supermarket\", \"supermarket\", \"supermarket\", \"supermarket\", \"supermarket\", \"supermarket\", \"sure\", \"sure\", \"sure\", \"sure\", \"sure\", \"sure\", \"sure\", \"sure\", \"sure\", \"sure\", \"survey\", \"survey\", \"survey\", \"survey\", \"survey\", \"survey\", \"survey\", \"survey\", \"survey\", \"survey\", \"sushi\", \"sushi\", \"sushi\", \"sushi\", \"sushi\", \"sushi\", \"sushi\", \"sushi\", \"sushi\", \"sushi\", \"table\", \"table\", \"table\", \"table\", \"table\", \"table\", \"table\", \"table\", \"table\", \"table\", \"taco\", \"taco\", \"taco\", \"taco\", \"taco\", \"taco\", \"taco\", \"taco\", \"taco\", \"taco\", \"take\", \"take\", \"take\", \"take\", \"take\", \"take\", \"take\", \"take\", \"take\", \"take\", \"tan\", \"tan\", \"tan\", \"tan\", \"tan\", \"tan\", \"tan\", \"tan\", \"tan\", \"tan\", \"taste\", \"taste\", \"taste\", \"taste\", \"taste\", \"taste\", \"taste\", \"taste\", \"taste\", \"taste\", \"tastey\", \"tastey\", \"tastey\", \"tastey\", \"teacher\", \"teacher\", \"teacher\", \"teacher\", \"teacher\", \"teacher\", \"teacher\", \"teacher\", \"teacher\", \"teacher\", \"technician\", \"technician\", \"technician\", \"technician\", \"technician\", \"technician\", \"technician\", \"technician\", \"technician\", \"technician\", \"technique\", \"technique\", \"technique\", \"technique\", \"technique\", \"technique\", \"technique\", \"technique\", \"technique\", \"technique\", \"teenage\", \"teenage\", \"teenage\", \"tell\", \"tell\", \"tell\", \"tell\", \"tell\", \"tell\", \"tell\", \"tell\", \"tell\", \"tell\", \"termite\", \"termite\", \"termite\", \"termite\", \"termite\", \"termite\", \"termite\", \"terrible\", \"terrible\", \"terrible\", \"terrible\", \"terrible\", \"terrible\", \"terrible\", \"terrible\", \"terrible\", \"terrible\", \"thank\", \"thank\", \"thank\", \"thank\", \"thank\", \"thank\", \"thank\", \"thank\", \"thank\", \"thank\", \"thing\", \"thing\", \"thing\", \"thing\", \"thing\", \"thing\", \"thing\", \"thing\", \"thing\", \"thing\", \"think\", \"think\", \"think\", \"think\", \"think\", \"think\", \"think\", \"think\", \"think\", \"think\", \"tiger\", \"tiger\", \"tiger\", \"tiger\", \"tiger\", \"tiger\", \"tiger\", \"tiger\", \"tiger\", \"tiger\", \"tikki\", \"tikki\", \"time\", \"time\", \"time\", \"time\", \"time\", \"time\", \"time\", \"time\", \"time\", \"time\", \"to\", \"to\", \"to\", \"to\", \"to\", \"to\", \"to\", \"to\", \"to\", \"to\", \"today\", \"today\", \"today\", \"today\", \"today\", \"today\", \"today\", \"today\", \"today\", \"today\", \"ton\", \"ton\", \"ton\", \"ton\", \"ton\", \"ton\", \"ton\", \"ton\", \"ton\", \"ton\", \"tournament\", \"tournament\", \"tournament\", \"tournament\", \"tournament\", \"tournament\", \"tournament\", \"tournament\", \"tournament\", \"tournament\", \"town\", \"town\", \"town\", \"town\", \"town\", \"town\", \"town\", \"town\", \"town\", \"town\", \"trunk\", \"trunk\", \"trunk\", \"trunk\", \"trunk\", \"try\", \"try\", \"try\", \"try\", \"try\", \"try\", \"try\", \"try\", \"try\", \"try\", \"typical\", \"typical\", \"typical\", \"typical\", \"typical\", \"typical\", \"typical\", \"typical\", \"typical\", \"typical\", \"unbeatable\", \"unbeatable\", \"unbeatable\", \"unbeatable\", \"uncooked\", \"uncooked\", \"uncooked\", \"uncooked\", \"uncooked\", \"uncooked\", \"uncooked\", \"uncooked\", \"uncooked\", \"unfriendly\", \"unfriendly\", \"unfriendly\", \"unfriendly\", \"unfriendly\", \"unfriendly\", \"unfriendly\", \"unfriendly\", \"unfriendly\", \"unfriendly\", \"unique\", \"unique\", \"unique\", \"unique\", \"unique\", \"unique\", \"unique\", \"unique\", \"unique\", \"unique\", \"upsetting\", \"upsetting\", \"upsetting\", \"upsetting\", \"upsetting\", \"upsetting\", \"upsetting\", \"upsetting\", \"upsetting\", \"v\", \"v\", \"v\", \"v\", \"vape\", \"vape\", \"vape\", \"vape\", \"vape\", \"vape\", \"village\", \"village\", \"village\", \"village\", \"village\", \"village\", \"village\", \"village\", \"village\", \"visit\", \"visit\", \"visit\", \"visit\", \"visit\", \"visit\", \"visit\", \"visit\", \"visit\", \"visit\", \"visual\", \"visual\", \"visual\", \"visual\", \"visual\", \"visual\", \"visual\", \"visual\", \"visual\", \"visual\", \"wait\", \"wait\", \"wait\", \"wait\", \"wait\", \"wait\", \"wait\", \"wait\", \"wait\", \"wait\", \"waiter\", \"waiter\", \"waiter\", \"waiter\", \"waiter\", \"waiter\", \"waiter\", \"waiter\", \"waiter\", \"waiter\", \"walk\", \"walk\", \"walk\", \"walk\", \"walk\", \"walk\", \"walk\", \"walk\", \"walk\", \"walk\", \"want\", \"want\", \"want\", \"want\", \"want\", \"want\", \"want\", \"want\", \"want\", \"want\", \"warm\", \"warm\", \"warm\", \"warm\", \"warm\", \"warm\", \"warm\", \"warm\", \"warm\", \"warm\", \"warranty\", \"warranty\", \"warranty\", \"warranty\", \"warranty\", \"warranty\", \"warranty\", \"warranty\", \"warranty\", \"warranty\", \"washing\", \"washing\", \"washing\", \"washing\", \"washing\", \"washing\", \"washing\", \"washing\", \"water\", \"water\", \"water\", \"water\", \"water\", \"water\", \"water\", \"water\", \"water\", \"water\", \"watering\", \"watering\", \"watering\", \"watering\", \"watering\", \"watering\", \"watering\", \"watering\", \"watering\", \"watering\", \"way\", \"way\", \"way\", \"way\", \"way\", \"way\", \"way\", \"way\", \"way\", \"way\", \"week\", \"week\", \"week\", \"week\", \"week\", \"week\", \"week\", \"week\", \"week\", \"week\", \"weigh\", \"weigh\", \"weigh\", \"weigh\", \"weigh\", \"weigh\", \"weigh\", \"weigh\", \"weigh\", \"weigh\", \"well\", \"well\", \"well\", \"well\", \"well\", \"well\", \"well\", \"well\", \"well\", \"well\", \"wheelchair\", \"wheelchair\", \"wheelchair\", \"wheelchair\", \"wheelchair\", \"wheelchair\", \"wheelchair\", \"wolf\", \"wolf\", \"wolf\", \"wolf\", \"wolf\", \"wolf\", \"work\", \"work\", \"work\", \"work\", \"work\", \"work\", \"work\", \"work\", \"work\", \"work\", \"worth\", \"worth\", \"worth\", \"worth\", \"worth\", \"worth\", \"worth\", \"worth\", \"worth\", \"worth\", \"worthwhile\", \"worthwhile\", \"worthwhile\", \"worthwhile\", \"worthwhile\", \"worthwhile\", \"worthwhile\", \"worthwhile\", \"worthwhile\", \"worthwhile\", \"wrap\", \"wrap\", \"wrap\", \"wrap\", \"wrap\", \"wrap\", \"wrap\", \"wrap\", \"wrap\", \"wrap\", \"y\", \"y\", \"y\", \"y\", \"y\", \"y\", \"y\", \"y\", \"y\", \"y\", \"year\", \"year\", \"year\", \"year\", \"year\", \"year\", \"year\", \"year\", \"year\", \"year\", \"yelp\", \"yelp\", \"yelp\", \"yelp\", \"yelp\", \"yelp\", \"yelp\", \"yelp\", \"yelp\", \"yelp\", \"young\", \"young\", \"young\", \"young\", \"young\", \"young\", \"young\", \"young\", \"young\", \"young\", \"yr\", \"yr\", \"yr\", \"yr\", \"yr\", \"yr\", \"yr\", \"yr\", \"yr\", \"yr\", \"zombie\", \"zombie\", \"zombie\", \"zombie\", \"zombie\", \"zombie\", \"zombie\", \"zoo\", \"zoo\", \"zoo\", \"zoo\", \"zoo\", \"zoo\", \"zoo\", \"zoo\", \"zoo\", \"zoo\", \"zoom\"]}, \"R\": 30, \"lambda.step\": 0.01, \"plot.opts\": {\"xlab\": \"PC1\", \"ylab\": \"PC2\"}, \"topic.order\": [5, 1, 3, 6, 4, 7, 9, 10, 8, 2]};\n",
       "\n",
       "function LDAvis_load_lib(url, callback){\n",
       "  var s = document.createElement('script');\n",
       "  s.src = url;\n",
       "  s.async = true;\n",
       "  s.onreadystatechange = s.onload = callback;\n",
       "  s.onerror = function(){console.warn(\"failed to load library \" + url);};\n",
       "  document.getElementsByTagName(\"head\")[0].appendChild(s);\n",
       "}\n",
       "\n",
       "if(typeof(LDAvis) !== \"undefined\"){\n",
       "   // already loaded: just create the visualization\n",
       "   !function(LDAvis){\n",
       "       new LDAvis(\"#\" + \"ldavis_el1542412527168660801730049033\", ldavis_el1542412527168660801730049033_data);\n",
       "   }(LDAvis);\n",
       "}else if(typeof define === \"function\" && define.amd){\n",
       "   // require.js is available: use it to load d3/LDAvis\n",
       "   require.config({paths: {d3: \"https://cdnjs.cloudflare.com/ajax/libs/d3/3.5.5/d3.min\"}});\n",
       "   require([\"d3\"], function(d3){\n",
       "      window.d3 = d3;\n",
       "      LDAvis_load_lib(\"https://cdn.rawgit.com/bmabey/pyLDAvis/files/ldavis.v1.0.0.js\", function(){\n",
       "        new LDAvis(\"#\" + \"ldavis_el1542412527168660801730049033\", ldavis_el1542412527168660801730049033_data);\n",
       "      });\n",
       "    });\n",
       "}else{\n",
       "    // require.js not available: dynamically load d3 & LDAvis\n",
       "    LDAvis_load_lib(\"https://cdnjs.cloudflare.com/ajax/libs/d3/3.5.5/d3.min.js\", function(){\n",
       "         LDAvis_load_lib(\"https://cdn.rawgit.com/bmabey/pyLDAvis/files/ldavis.v1.0.0.js\", function(){\n",
       "                 new LDAvis(\"#\" + \"ldavis_el1542412527168660801730049033\", ldavis_el1542412527168660801730049033_data);\n",
       "            })\n",
       "         });\n",
       "}\n",
       "</script>"
      ],
      "text/plain": [
       "PreparedData(topic_coordinates=              x         y  topics  cluster       Freq\n",
       "topic                                                \n",
       "4     -0.004063  0.001560       1        1  10.417083\n",
       "0      0.002745  0.003966       2        1  10.236128\n",
       "2     -0.005166 -0.003602       3        1  10.187053\n",
       "5     -0.000531  0.001038       4        1  10.166580\n",
       "3      0.000729 -0.001718       5        1   9.982843\n",
       "6     -0.002596  0.000409       6        1   9.982380\n",
       "8      0.000369  0.003665       7        1   9.880726\n",
       "9      0.001219  0.001915       8        1   9.842485\n",
       "7      0.002912 -0.005249       9        1   9.798765\n",
       "1      0.004382 -0.001983      10        1   9.505958, topic_info=           Term         Freq        Total Category  logprob  loglift\n",
       "29         time  4247.000000  4247.000000  Default  30.0000  30.0000\n",
       "121         eat  1545.000000  1545.000000  Default  29.0000  29.0000\n",
       "77         nice  1803.000000  1803.000000  Default  28.0000  28.0000\n",
       "357         ask  1504.000000  1504.000000  Default  27.0000  27.0000\n",
       "31         wait  1679.000000  1679.000000  Default  26.0000  26.0000\n",
       "..          ...          ...          ...      ...      ...      ...\n",
       "86   restaurant   143.905113  1678.526839  Topic10  -5.6102  -0.1033\n",
       "18         look   158.025584  1962.231345  Topic10  -5.5166  -0.1658\n",
       "77         nice   139.823515  1803.700083  Topic10  -5.6389  -0.2040\n",
       "115         bad   116.529154  1237.177104  Topic10  -5.8212  -0.0092\n",
       "298  definitely   113.782547  1441.517090  Topic10  -5.8450  -0.1859\n",
       "\n",
       "[872 rows x 6 columns], token_table=      Topic      Freq  Term\n",
       "term                       \n",
       "6869      1  0.168904    -1\n",
       "6869      3  0.168904    -1\n",
       "6869      5  0.168904    -1\n",
       "6869      7  0.168904    -1\n",
       "6869      9  0.168904    -1\n",
       "...     ...       ...   ...\n",
       "4530      7  0.073637   zoo\n",
       "4530      8  0.073637   zoo\n",
       "4530      9  0.073637   zoo\n",
       "4530     10  0.073637   zoo\n",
       "4259      7  0.268136  zoom\n",
       "\n",
       "[4755 rows x 3 columns], R=30, lambda_step=0.01, plot_opts={'xlab': 'PC1', 'ylab': 'PC2'}, topic_order=[5, 1, 3, 6, 4, 7, 9, 10, 8, 2])"
      ]
     },
     "execution_count": 46,
     "metadata": {},
     "output_type": "execute_result"
    }
   ],
   "source": [
    "#cheating topics label visualization\n",
    "pyLDAvis.gensim.prepare(lda, corpus, id2word)"
   ]
  },
  {
   "cell_type": "code",
   "execution_count": 47,
   "metadata": {},
   "outputs": [
    {
     "name": "stderr",
     "output_type": "stream",
     "text": [
      "C:\\Users\\lomopa\\anaconda3\\envs\\U4-S1-NLP\\lib\\site-packages\\ipykernel\\ipkernel.py:287: DeprecationWarning: `should_run_async` will not call `transform_cell` automatically in the future. Please pass the result to `transformed_cell` argument and any exception that happen during thetransform in `preprocessing_exc_tuple` in IPython 7.17 and above.\n",
      "  and should_run_async(code)\n"
     ]
    },
    {
     "data": {
      "image/png": "[encoded data removed]",
      "text/plain": [
       "<Figure size 432x288 with 1 Axes>"
      ]
     },
     "metadata": {
      "needs_background": "light"
     },
     "output_type": "display_data"
    }
   ],
   "source": [
    "yelp['stars'].plot(kind='hist');"
   ]
  },
  {
   "cell_type": "markdown",
   "metadata": {},
   "source": [
    "The reviews of food in the las vegas area are overall very positive through yelp. As you can see from the LDAvis there is a large variety of options as well besides the most popular reviews focusing on food. People have high recommendations of places and little use of negative words, long wait times, and words such as best, love, and amazing standing out in every document. However, most people when reviewing leave very similar phrases in regards to positive reviews and usually add more details only on the extreme positive and negative reviews. Besides reviews of the experiences, it is also shown that location/delivery are important aspects as well."
   ]
  },
  {
   "cell_type": "markdown",
   "metadata": {},
   "source": [
    "## Stretch Goals\n",
    "\n",
    "Complete one of more of these to push your score towards a three: \n",
    "* Create more visualizations of the LDA results and provide written analysis\n",
    "* Incorporate RandomizedSearchCV into docoument classification pipeline\n",
    "* Incorporate named entity recognition into your analysis\n",
    "* Compare vectorization methods in the classification section\n",
    "* Analyze more (or all) of the yelp dataset - this one is v. hard. \n",
    "* Use a generator object on the reviews file - this would help you with the analyzing the whole dataset.\n",
    "* Incorporate any of the other yelp dataset entities in your analysis (business, users, etc.)"
   ]
  },
  {
   "cell_type": "markdown",
   "metadata": {},
   "source": []
  }
 ],
 "metadata": {
  "kernel_info": {
   "name": "u4-s1-nlp"
  },
  "kernelspec": {
   "display_name": "U4-S1-NLP (Python3)",
   "language": "python",
   "name": "u4-s1-nlp"
  },
  "language_info": {
   "codemirror_mode": {
    "name": "ipython",
    "version": 3
   },
   "file_extension": ".py",
   "mimetype": "text/x-python",
   "name": "python",
   "nbconvert_exporter": "python",
   "pygments_lexer": "ipython3",
   "version": "3.7.0"
  },
  "nteract": {
   "version": "0.22.4"
  },
  "toc-autonumbering": false
 },
 "nbformat": 4,
 "nbformat_minor": 4
}
