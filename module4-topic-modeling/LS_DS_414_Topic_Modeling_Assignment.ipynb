{
 "cells": [
  {
   "cell_type": "markdown",
   "metadata": {},
   "source": [
    "<img align=\"left\" src=\"https://lever-client-logos.s3.amazonaws.com/864372b1-534c-480e-acd5-9711f850815c-1524247202159.png\" width=200>\n",
    "<br></br>\n",
    "<br></br>\n",
    "\n",
    "# Topic Modeling\n",
    "## *Data Science Unit 4 Sprint 1 Assignment 4*\n",
    "\n",
    "Analyze a corpus of Amazon reviews from Unit 4 Sprint 1 Module 1's lecture using topic modeling: \n",
    "\n",
    "- Fit a Gensim LDA topic model on Amazon Reviews\n",
    "- Select appropriate number of topics\n",
    "- Create some dope visualization of the topics\n",
    "- Write a few bullets on your findings in markdown at the end\n",
    "- **Note**: You don't *have* to use generators for this assignment"
   ]
  },
  {
   "cell_type": "code",
   "execution_count": 3,
   "metadata": {},
   "outputs": [
    {
     "name": "stdout",
     "output_type": "stream",
     "text": [
      "Requirement already satisfied: plotly in c:\\users\\lomopa\\anaconda3\\lib\\site-packages (4.9.0)\n",
      "Requirement already satisfied: six in c:\\users\\lomopa\\anaconda3\\lib\\site-packages (from plotly) (1.14.0)\n",
      "Requirement already satisfied: retrying>=1.3.3 in c:\\users\\lomopa\\anaconda3\\lib\\site-packages (from plotly) (1.3.3)\n"
     ]
    }
   ],
   "source": [
    "!pip install plotly"
   ]
  },
  {
   "cell_type": "code",
   "execution_count": 58,
   "metadata": {},
   "outputs": [
    {
     "name": "stderr",
     "output_type": "stream",
     "text": [
      "C:\\Users\\lomopa\\anaconda3\\envs\\U4-S1-NLP\\lib\\site-packages\\ipykernel\\ipkernel.py:287: DeprecationWarning: `should_run_async` will not call `transform_cell` automatically in the future. Please pass the result to `transformed_cell` argument and any exception that happen during thetransform in `preprocessing_exc_tuple` in IPython 7.17 and above.\n",
      "  and should_run_async(code)\n"
     ]
    }
   ],
   "source": [
    "#Start Here\n",
    "import pandas as pd\n",
    "import numpy as np\n",
    "import gensim\n",
    "import os\n",
    "import re\n",
    "\n",
    "from gensim.utils import simple_preprocess\n",
    "from gensim.parsing.preprocessing import STOPWORDS\n",
    "from gensim import corpora\n",
    "from gensim.models.ldamulticore import LdaMulticore\n",
    "\n",
    "\n",
    "from ast import literal_eval\n",
    "import spacy\n",
    "from spacy.tokenizer import Tokenizer\n",
    "\n",
    "import tqdm\n",
    "from tqdm import tqdm\n",
    "\n",
    "import pyLDAvis.gensim\n",
    "import seaborn as sns\n",
    "import matplotlib.pyplot as plt"
   ]
  },
  {
   "cell_type": "code",
   "execution_count": 51,
   "metadata": {},
   "outputs": [
    {
     "name": "stderr",
     "output_type": "stream",
     "text": [
      "C:\\Users\\lomopa\\anaconda3\\envs\\U4-S1-NLP\\lib\\site-packages\\ipykernel\\ipkernel.py:287: DeprecationWarning: `should_run_async` will not call `transform_cell` automatically in the future. Please pass the result to `transformed_cell` argument and any exception that happen during thetransform in `preprocessing_exc_tuple` in IPython 7.17 and above.\n",
      "  and should_run_async(code)\n"
     ]
    },
    {
     "name": "stdout",
     "output_type": "stream",
     "text": [
      "(28332, 24) \n",
      "\n"
     ]
    },
    {
     "data": {
      "text/html": [
       "<div>\n",
       "<style scoped>\n",
       "    .dataframe tbody tr th:only-of-type {\n",
       "        vertical-align: middle;\n",
       "    }\n",
       "\n",
       "    .dataframe tbody tr th {\n",
       "        vertical-align: top;\n",
       "    }\n",
       "\n",
       "    .dataframe thead th {\n",
       "        text-align: right;\n",
       "    }\n",
       "</style>\n",
       "<table border=\"1\" class=\"dataframe\">\n",
       "  <thead>\n",
       "    <tr style=\"text-align: right;\">\n",
       "      <th></th>\n",
       "      <th>id</th>\n",
       "      <th>dateAdded</th>\n",
       "      <th>dateUpdated</th>\n",
       "      <th>name</th>\n",
       "      <th>asins</th>\n",
       "      <th>brand</th>\n",
       "      <th>categories</th>\n",
       "      <th>primaryCategories</th>\n",
       "      <th>imageURLs</th>\n",
       "      <th>keys</th>\n",
       "      <th>...</th>\n",
       "      <th>reviews.didPurchase</th>\n",
       "      <th>reviews.doRecommend</th>\n",
       "      <th>reviews.id</th>\n",
       "      <th>reviews.numHelpful</th>\n",
       "      <th>reviews.rating</th>\n",
       "      <th>reviews.sourceURLs</th>\n",
       "      <th>reviews.text</th>\n",
       "      <th>reviews.title</th>\n",
       "      <th>reviews.username</th>\n",
       "      <th>sourceURLs</th>\n",
       "    </tr>\n",
       "  </thead>\n",
       "  <tbody>\n",
       "    <tr>\n",
       "      <th>0</th>\n",
       "      <td>AVpgNzjwLJeJML43Kpxn</td>\n",
       "      <td>2015-10-30T08:59:32Z</td>\n",
       "      <td>2019-04-25T09:08:16Z</td>\n",
       "      <td>AmazonBasics AAA Performance Alkaline Batterie...</td>\n",
       "      <td>B00QWO9P0O,B00LH3DMUO</td>\n",
       "      <td>Amazonbasics</td>\n",
       "      <td>AA,AAA,Health,Electronics,Health &amp; Household,C...</td>\n",
       "      <td>Health &amp; Beauty</td>\n",
       "      <td>https://images-na.ssl-images-amazon.com/images...</td>\n",
       "      <td>amazonbasics/hl002619,amazonbasicsaaaperforman...</td>\n",
       "      <td>...</td>\n",
       "      <td>NaN</td>\n",
       "      <td>NaN</td>\n",
       "      <td>NaN</td>\n",
       "      <td>NaN</td>\n",
       "      <td>3</td>\n",
       "      <td>https://www.amazon.com/product-reviews/B00QWO9...</td>\n",
       "      <td>I order 3 of them and one of the item is bad q...</td>\n",
       "      <td>... 3 of them and one of the item is bad quali...</td>\n",
       "      <td>Byger yang</td>\n",
       "      <td>https://www.barcodable.com/upc/841710106442,ht...</td>\n",
       "    </tr>\n",
       "    <tr>\n",
       "      <th>1</th>\n",
       "      <td>AVpgNzjwLJeJML43Kpxn</td>\n",
       "      <td>2015-10-30T08:59:32Z</td>\n",
       "      <td>2019-04-25T09:08:16Z</td>\n",
       "      <td>AmazonBasics AAA Performance Alkaline Batterie...</td>\n",
       "      <td>B00QWO9P0O,B00LH3DMUO</td>\n",
       "      <td>Amazonbasics</td>\n",
       "      <td>AA,AAA,Health,Electronics,Health &amp; Household,C...</td>\n",
       "      <td>Health &amp; Beauty</td>\n",
       "      <td>https://images-na.ssl-images-amazon.com/images...</td>\n",
       "      <td>amazonbasics/hl002619,amazonbasicsaaaperforman...</td>\n",
       "      <td>...</td>\n",
       "      <td>NaN</td>\n",
       "      <td>NaN</td>\n",
       "      <td>NaN</td>\n",
       "      <td>NaN</td>\n",
       "      <td>4</td>\n",
       "      <td>https://www.amazon.com/product-reviews/B00QWO9...</td>\n",
       "      <td>Bulk is always the less expensive way to go fo...</td>\n",
       "      <td>... always the less expensive way to go for pr...</td>\n",
       "      <td>ByMG</td>\n",
       "      <td>https://www.barcodable.com/upc/841710106442,ht...</td>\n",
       "    </tr>\n",
       "  </tbody>\n",
       "</table>\n",
       "<p>2 rows × 24 columns</p>\n",
       "</div>"
      ],
      "text/plain": [
       "                     id             dateAdded           dateUpdated  \\\n",
       "0  AVpgNzjwLJeJML43Kpxn  2015-10-30T08:59:32Z  2019-04-25T09:08:16Z   \n",
       "1  AVpgNzjwLJeJML43Kpxn  2015-10-30T08:59:32Z  2019-04-25T09:08:16Z   \n",
       "\n",
       "                                                name                  asins  \\\n",
       "0  AmazonBasics AAA Performance Alkaline Batterie...  B00QWO9P0O,B00LH3DMUO   \n",
       "1  AmazonBasics AAA Performance Alkaline Batterie...  B00QWO9P0O,B00LH3DMUO   \n",
       "\n",
       "          brand                                         categories  \\\n",
       "0  Amazonbasics  AA,AAA,Health,Electronics,Health & Household,C...   \n",
       "1  Amazonbasics  AA,AAA,Health,Electronics,Health & Household,C...   \n",
       "\n",
       "  primaryCategories                                          imageURLs  \\\n",
       "0   Health & Beauty  https://images-na.ssl-images-amazon.com/images...   \n",
       "1   Health & Beauty  https://images-na.ssl-images-amazon.com/images...   \n",
       "\n",
       "                                                keys  ... reviews.didPurchase  \\\n",
       "0  amazonbasics/hl002619,amazonbasicsaaaperforman...  ...                 NaN   \n",
       "1  amazonbasics/hl002619,amazonbasicsaaaperforman...  ...                 NaN   \n",
       "\n",
       "  reviews.doRecommend reviews.id reviews.numHelpful reviews.rating  \\\n",
       "0                 NaN        NaN                NaN              3   \n",
       "1                 NaN        NaN                NaN              4   \n",
       "\n",
       "                                  reviews.sourceURLs  \\\n",
       "0  https://www.amazon.com/product-reviews/B00QWO9...   \n",
       "1  https://www.amazon.com/product-reviews/B00QWO9...   \n",
       "\n",
       "                                        reviews.text  \\\n",
       "0  I order 3 of them and one of the item is bad q...   \n",
       "1  Bulk is always the less expensive way to go fo...   \n",
       "\n",
       "                                       reviews.title  reviews.username  \\\n",
       "0  ... 3 of them and one of the item is bad quali...        Byger yang   \n",
       "1  ... always the less expensive way to go for pr...              ByMG   \n",
       "\n",
       "                                          sourceURLs  \n",
       "0  https://www.barcodable.com/upc/841710106442,ht...  \n",
       "1  https://www.barcodable.com/upc/841710106442,ht...  \n",
       "\n",
       "[2 rows x 24 columns]"
      ]
     },
     "execution_count": 51,
     "metadata": {},
     "output_type": "execute_result"
    }
   ],
   "source": [
    "df = pd.read_csv('./data/Datafiniti_Amazon_Consumer_Reviews_of_Amazon_Products_May19.csv')\n",
    "print(df.shape, \"\\n\")\n",
    "df.head(2)"
   ]
  },
  {
   "cell_type": "code",
   "execution_count": 53,
   "metadata": {},
   "outputs": [
    {
     "name": "stderr",
     "output_type": "stream",
     "text": [
      "C:\\Users\\lomopa\\anaconda3\\envs\\U4-S1-NLP\\lib\\site-packages\\ipykernel\\ipkernel.py:287: DeprecationWarning: `should_run_async` will not call `transform_cell` automatically in the future. Please pass the result to `transformed_cell` argument and any exception that happen during thetransform in `preprocessing_exc_tuple` in IPython 7.17 and above.\n",
      "  and should_run_async(code)\n"
     ]
    },
    {
     "data": {
      "text/plain": [
       "'I order 3 of them and one of the item is bad quality. Is missing backup spring so I have to put a pcs of aluminum to make the battery work.'"
      ]
     },
     "execution_count": 53,
     "metadata": {},
     "output_type": "execute_result"
    }
   ],
   "source": [
    "df['reviews.text'][0]"
   ]
  },
  {
   "cell_type": "code",
   "execution_count": 59,
   "metadata": {},
   "outputs": [
    {
     "name": "stderr",
     "output_type": "stream",
     "text": [
      "C:\\Users\\lomopa\\anaconda3\\envs\\U4-S1-NLP\\lib\\site-packages\\ipykernel\\ipkernel.py:287: DeprecationWarning: `should_run_async` will not call `transform_cell` automatically in the future. Please pass the result to `transformed_cell` argument and any exception that happen during thetransform in `preprocessing_exc_tuple` in IPython 7.17 and above.\n",
      "  and should_run_async(code)\n"
     ]
    }
   ],
   "source": [
    "nlp = spacy.load('en_core_web_lg')\n",
    "tokenizer = Tokenizer(nlp.vocab)"
   ]
  },
  {
   "cell_type": "code",
   "execution_count": 60,
   "metadata": {},
   "outputs": [
    {
     "name": "stderr",
     "output_type": "stream",
     "text": [
      "C:\\Users\\lomopa\\anaconda3\\envs\\U4-S1-NLP\\lib\\site-packages\\ipykernel\\ipkernel.py:287: DeprecationWarning: `should_run_async` will not call `transform_cell` automatically in the future. Please pass the result to `transformed_cell` argument and any exception that happen during thetransform in `preprocessing_exc_tuple` in IPython 7.17 and above.\n",
      "  and should_run_async(code)\n"
     ]
    }
   ],
   "source": [
    "# df['Description'] = df['Description'].astype(str)\n",
    "df['reviews.text'] = df['reviews.text'].str.strip()\n",
    "df['reviews.text'] = df['reviews.text'].replace({\",\":\"\", \"'\":\"\", \"''\":\"\", \".\":\"\"})"
   ]
  },
  {
   "cell_type": "code",
   "execution_count": 61,
   "metadata": {},
   "outputs": [
    {
     "name": "stderr",
     "output_type": "stream",
     "text": [
      "C:\\Users\\lomopa\\anaconda3\\envs\\U4-S1-NLP\\lib\\site-packages\\ipykernel\\ipkernel.py:287: DeprecationWarning: `should_run_async` will not call `transform_cell` automatically in the future. Please pass the result to `transformed_cell` argument and any exception that happen during thetransform in `preprocessing_exc_tuple` in IPython 7.17 and above.\n",
      "  and should_run_async(code)\n"
     ]
    },
    {
     "data": {
      "text/plain": [
       "0        I order 3 of them and one of the item is bad q...\n",
       "1        Bulk is always the less expensive way to go fo...\n",
       "2        Well they are not Duracell but for the price i...\n",
       "3        Seem to work as well as name brand batteries a...\n",
       "4        These batteries are very long lasting the pric...\n",
       "                               ...                        \n",
       "28327    I got 2 of these for my 8 yr old twins. My 11 ...\n",
       "28328    I bought this for my niece for a Christmas gif...\n",
       "28329    Very nice for light internet browsing, keeping...\n",
       "28330    This Tablet does absolutely everything I want!...\n",
       "28331    At ninety dollars, the expectionations are low...\n",
       "Name: reviews.text, Length: 28332, dtype: object"
      ]
     },
     "execution_count": 61,
     "metadata": {},
     "output_type": "execute_result"
    }
   ],
   "source": [
    "df['reviews.text']"
   ]
  },
  {
   "cell_type": "code",
   "execution_count": 62,
   "metadata": {},
   "outputs": [
    {
     "name": "stderr",
     "output_type": "stream",
     "text": [
      "C:\\Users\\lomopa\\anaconda3\\envs\\U4-S1-NLP\\lib\\site-packages\\ipykernel\\ipkernel.py:287: DeprecationWarning: `should_run_async` will not call `transform_cell` automatically in the future. Please pass the result to `transformed_cell` argument and any exception that happen during thetransform in `preprocessing_exc_tuple` in IPython 7.17 and above.\n",
      "  and should_run_async(code)\n"
     ]
    }
   ],
   "source": [
    "def get_lemmas(text):\n",
    "    lemmas = []\n",
    "    # these are repeated words\n",
    "    STOP_WORDS = nlp.Defaults.stop_words.union(['english', 'amazon',\n",
    "                                               ])\n",
    "    \n",
    "    doc = nlp(text)\n",
    "    \n",
    "    for token in doc:\n",
    "        if ((token.is_stop == False) and (token.is_punct == False)) and (token.pos != 'PRON') \\\n",
    "                and (token.is_space == False) and (token.is_digit == False) and (token.text.lower() not in STOP_WORDS):\n",
    "                      lemmas.append(token.lemma_.lower())\n",
    "    return lemmas"
   ]
  },
  {
   "cell_type": "code",
   "execution_count": 63,
   "metadata": {},
   "outputs": [
    {
     "name": "stderr",
     "output_type": "stream",
     "text": [
      "C:\\Users\\lomopa\\anaconda3\\envs\\U4-S1-NLP\\lib\\site-packages\\ipykernel\\ipkernel.py:287: DeprecationWarning: `should_run_async` will not call `transform_cell` automatically in the future. Please pass the result to `transformed_cell` argument and any exception that happen during thetransform in `preprocessing_exc_tuple` in IPython 7.17 and above.\n",
      "  and should_run_async(code)\n"
     ]
    }
   ],
   "source": [
    "df['reviews.text'] = df['reviews.text'].apply(get_lemmas)"
   ]
  },
  {
   "cell_type": "code",
   "execution_count": 66,
   "metadata": {},
   "outputs": [
    {
     "name": "stderr",
     "output_type": "stream",
     "text": [
      "C:\\Users\\lomopa\\anaconda3\\envs\\U4-S1-NLP\\lib\\site-packages\\ipykernel\\ipkernel.py:287: DeprecationWarning: `should_run_async` will not call `transform_cell` automatically in the future. Please pass the result to `transformed_cell` argument and any exception that happen during thetransform in `preprocessing_exc_tuple` in IPython 7.17 and above.\n",
      "  and should_run_async(code)\n"
     ]
    },
    {
     "data": {
      "text/plain": [
       "['lot',\n",
       " 'battery',\n",
       " 'christmas',\n",
       " 'amazonbasics',\n",
       " 'cell',\n",
       " 'good',\n",
       " 'notice',\n",
       " 'difference',\n",
       " 'brand',\n",
       " 'battery',\n",
       " 'amazon',\n",
       " 'basic',\n",
       " 'brand',\n",
       " 'lot',\n",
       " 'easy',\n",
       " 'purchase',\n",
       " 'arrive',\n",
       " 'house',\n",
       " 'hand',\n",
       " 'buy']"
      ]
     },
     "execution_count": 66,
     "metadata": {},
     "output_type": "execute_result"
    }
   ],
   "source": [
    "df['reviews.text'][5]"
   ]
  },
  {
   "cell_type": "code",
   "execution_count": 75,
   "metadata": {},
   "outputs": [
    {
     "name": "stderr",
     "output_type": "stream",
     "text": [
      "C:\\Users\\lomopa\\anaconda3\\envs\\U4-S1-NLP\\lib\\site-packages\\ipykernel\\ipkernel.py:287: DeprecationWarning: `should_run_async` will not call `transform_cell` automatically in the future. Please pass the result to `transformed_cell` argument and any exception that happen during thetransform in `preprocessing_exc_tuple` in IPython 7.17 and above.\n",
      "  and should_run_async(code)\n"
     ]
    },
    {
     "data": {
      "text/plain": [
       "0    [item, bad, quality, miss, backup, spring, pc,...\n",
       "1                      [expensive, way, product, like]\n",
       "2                             [duracell, price, happy]\n",
       "3                  [work, brand, battery, well, price]\n",
       "4                           [long, last, price, great]\n",
       "Name: reviews.text, dtype: object"
      ]
     },
     "execution_count": 75,
     "metadata": {},
     "output_type": "execute_result"
    }
   ],
   "source": [
    "df['reviews.text'].head()"
   ]
  },
  {
   "cell_type": "code",
   "execution_count": 76,
   "metadata": {},
   "outputs": [
    {
     "name": "stderr",
     "output_type": "stream",
     "text": [
      "C:\\Users\\lomopa\\anaconda3\\envs\\U4-S1-NLP\\lib\\site-packages\\ipykernel\\ipkernel.py:287: DeprecationWarning: `should_run_async` will not call `transform_cell` automatically in the future. Please pass the result to `transformed_cell` argument and any exception that happen during thetransform in `preprocessing_exc_tuple` in IPython 7.17 and above.\n",
      "  and should_run_async(code)\n"
     ]
    }
   ],
   "source": [
    "# Dict representation of all our keywords\n",
    "id2word = corpora.Dictionary(df['reviews.text'])"
   ]
  },
  {
   "cell_type": "code",
   "execution_count": 77,
   "metadata": {},
   "outputs": [
    {
     "name": "stderr",
     "output_type": "stream",
     "text": [
      "C:\\Users\\lomopa\\anaconda3\\envs\\U4-S1-NLP\\lib\\site-packages\\ipykernel\\ipkernel.py:287: DeprecationWarning: `should_run_async` will not call `transform_cell` automatically in the future. Please pass the result to `transformed_cell` argument and any exception that happen during thetransform in `preprocessing_exc_tuple` in IPython 7.17 and above.\n",
      "  and should_run_async(code)\n"
     ]
    },
    {
     "data": {
      "text/plain": [
       "199"
      ]
     },
     "execution_count": 77,
     "metadata": {},
     "output_type": "execute_result"
    }
   ],
   "source": [
    "id2word.token2id['batteries']"
   ]
  },
  {
   "cell_type": "code",
   "execution_count": 78,
   "metadata": {},
   "outputs": [
    {
     "name": "stderr",
     "output_type": "stream",
     "text": [
      "C:\\Users\\lomopa\\anaconda3\\envs\\U4-S1-NLP\\lib\\site-packages\\ipykernel\\ipkernel.py:287: DeprecationWarning: `should_run_async` will not call `transform_cell` automatically in the future. Please pass the result to `transformed_cell` argument and any exception that happen during thetransform in `preprocessing_exc_tuple` in IPython 7.17 and above.\n",
      "  and should_run_async(code)\n"
     ]
    },
    {
     "data": {
      "text/plain": [
       "8550"
      ]
     },
     "execution_count": 78,
     "metadata": {},
     "output_type": "execute_result"
    }
   ],
   "source": [
    "len(id2word.keys())"
   ]
  },
  {
   "cell_type": "code",
   "execution_count": 79,
   "metadata": {},
   "outputs": [
    {
     "name": "stderr",
     "output_type": "stream",
     "text": [
      "C:\\Users\\lomopa\\anaconda3\\envs\\U4-S1-NLP\\lib\\site-packages\\ipykernel\\ipkernel.py:287: DeprecationWarning: `should_run_async` will not call `transform_cell` automatically in the future. Please pass the result to `transformed_cell` argument and any exception that happen during thetransform in `preprocessing_exc_tuple` in IPython 7.17 and above.\n",
      "  and should_run_async(code)\n"
     ]
    }
   ],
   "source": [
    "id2word.filter_extremes(no_below=15, no_above=0.85)"
   ]
  },
  {
   "cell_type": "code",
   "execution_count": 80,
   "metadata": {},
   "outputs": [
    {
     "name": "stderr",
     "output_type": "stream",
     "text": [
      "C:\\Users\\lomopa\\anaconda3\\envs\\U4-S1-NLP\\lib\\site-packages\\ipykernel\\ipkernel.py:287: DeprecationWarning: `should_run_async` will not call `transform_cell` automatically in the future. Please pass the result to `transformed_cell` argument and any exception that happen during thetransform in `preprocessing_exc_tuple` in IPython 7.17 and above.\n",
      "  and should_run_async(code)\n"
     ]
    },
    {
     "data": {
      "text/plain": [
       "1501"
      ]
     },
     "execution_count": 80,
     "metadata": {},
     "output_type": "execute_result"
    }
   ],
   "source": [
    "len(id2word.keys())"
   ]
  },
  {
   "cell_type": "code",
   "execution_count": 81,
   "metadata": {},
   "outputs": [
    {
     "name": "stderr",
     "output_type": "stream",
     "text": [
      "C:\\Users\\lomopa\\anaconda3\\envs\\U4-S1-NLP\\lib\\site-packages\\ipykernel\\ipkernel.py:287: DeprecationWarning: `should_run_async` will not call `transform_cell` automatically in the future. Please pass the result to `transformed_cell` argument and any exception that happen during thetransform in `preprocessing_exc_tuple` in IPython 7.17 and above.\n",
      "  and should_run_async(code)\n"
     ]
    }
   ],
   "source": [
    "corpus = [id2word.doc2bow(text) for text in df['reviews.text']]"
   ]
  },
  {
   "cell_type": "code",
   "execution_count": 83,
   "metadata": {},
   "outputs": [
    {
     "name": "stderr",
     "output_type": "stream",
     "text": [
      "C:\\Users\\lomopa\\anaconda3\\envs\\U4-S1-NLP\\lib\\site-packages\\ipykernel\\ipkernel.py:287: DeprecationWarning: `should_run_async` will not call `transform_cell` automatically in the future. Please pass the result to `transformed_cell` argument and any exception that happen during thetransform in `preprocessing_exc_tuple` in IPython 7.17 and above.\n",
      "  and should_run_async(code)\n"
     ]
    },
    {
     "data": {
      "text/plain": [
       "[(38, 1), (46, 1), (179, 1), (195, 1), (295, 1), (681, 1)]"
      ]
     },
     "execution_count": 83,
     "metadata": {},
     "output_type": "execute_result"
    }
   ],
   "source": [
    "corpus[900]"
   ]
  },
  {
   "cell_type": "code",
   "execution_count": 85,
   "metadata": {},
   "outputs": [
    {
     "name": "stderr",
     "output_type": "stream",
     "text": [
      "C:\\Users\\lomopa\\anaconda3\\envs\\U4-S1-NLP\\lib\\site-packages\\ipykernel\\ipkernel.py:287: DeprecationWarning: `should_run_async` will not call `transform_cell` automatically in the future. Please pass the result to `transformed_cell` argument and any exception that happen during thetransform in `preprocessing_exc_tuple` in IPython 7.17 and above.\n",
      "  and should_run_async(code)\n"
     ]
    },
    {
     "data": {
      "text/plain": [
       "'comment'"
      ]
     },
     "execution_count": 85,
     "metadata": {},
     "output_type": "execute_result"
    }
   ],
   "source": [
    "id2word[78]"
   ]
  },
  {
   "cell_type": "code",
   "execution_count": 86,
   "metadata": {},
   "outputs": [
    {
     "name": "stderr",
     "output_type": "stream",
     "text": [
      "C:\\Users\\lomopa\\anaconda3\\envs\\U4-S1-NLP\\lib\\site-packages\\ipykernel\\ipkernel.py:287: DeprecationWarning: `should_run_async` will not call `transform_cell` automatically in the future. Please pass the result to `transformed_cell` argument and any exception that happen during thetransform in `preprocessing_exc_tuple` in IPython 7.17 and above.\n",
      "  and should_run_async(code)\n"
     ]
    }
   ],
   "source": [
    "lda = LdaMulticore(corpus=corpus,\n",
    "                   id2word=id2word,\n",
    "                   num_topics=20,\n",
    "                   passes=50, \n",
    "                   workers=12\n",
    "                  )"
   ]
  },
  {
   "cell_type": "code",
   "execution_count": 87,
   "metadata": {},
   "outputs": [
    {
     "name": "stderr",
     "output_type": "stream",
     "text": [
      "C:\\Users\\lomopa\\anaconda3\\envs\\U4-S1-NLP\\lib\\site-packages\\ipykernel\\ipkernel.py:287: DeprecationWarning: `should_run_async` will not call `transform_cell` automatically in the future. Please pass the result to `transformed_cell` argument and any exception that happen during thetransform in `preprocessing_exc_tuple` in IPython 7.17 and above.\n",
      "  and should_run_async(code)\n"
     ]
    },
    {
     "data": {
      "text/plain": [
       "[(0,\n",
       "  '0.106*\"battery\" + 0.022*\"amazon\" + 0.017*\"buy\" + 0.016*\"use\" + 0.015*\"work\" + 0.013*\"brand\" + 0.013*\"remote\" + 0.011*\"box\" + 0.011*\"aa\" + 0.011*\"toy\"'),\n",
       " (1,\n",
       "  '0.064*\"ipad\" + 0.055*\"tablet\" + 0.035*\"app\" + 0.027*\"need\" + 0.024*\"amazon\" + 0.020*\"trip\" + 0.018*\"little\" + 0.018*\"android\" + 0.014*\"device\" + 0.012*\"mini\"'),\n",
       " (2,\n",
       "  '0.099*\"read\" + 0.080*\"book\" + 0.048*\"kindle\" + 0.044*\"light\" + 0.039*\"reader\" + 0.028*\"easy\" + 0.021*\"e\" + 0.018*\"like\" + 0.015*\"size\" + 0.013*\"love\"'),\n",
       " (3,\n",
       "  '0.037*\"app\" + 0.030*\"device\" + 0.024*\"screen\" + 0.020*\"wifi\" + 0.018*\"home\" + 0.018*\"tablet\" + 0.015*\"thing\" + 0.015*\"work\" + 0.014*\"button\" + 0.014*\"download\"'),\n",
       " (4,\n",
       "  '0.119*\"kindle\" + 0.091*\"fire\" + 0.038*\"screen\" + 0.031*\"hd\" + 0.030*\"new\" + 0.025*\"well\" + 0.022*\"great\" + 0.019*\"model\" + 0.019*\"version\" + 0.018*\"like\"'),\n",
       " (5,\n",
       "  '0.048*\"app\" + 0.040*\"google\" + 0.038*\"amazon\" + 0.035*\"play\" + 0.031*\"good\" + 0.030*\"store\" + 0.028*\"tablet\" + 0.025*\"expect\" + 0.017*\"price\" + 0.017*\"video\"'),\n",
       " (6,\n",
       "  '0.112*\"kid\" + 0.041*\"tablet\" + 0.038*\"child\" + 0.034*\"great\" + 0.027*\"love\" + 0.027*\"app\" + 0.026*\"time\" + 0.026*\"case\" + 0.024*\"control\" + 0.022*\"set\"'),\n",
       " (7,\n",
       "  '0.159*\"good\" + 0.072*\"price\" + 0.059*\"tablet\" + 0.047*\"quality\" + 0.031*\"money\" + 0.021*\"pretty\" + 0.021*\"look\" + 0.018*\"nice\" + 0.015*\"size\" + 0.015*\"great\"'),\n",
       " (8,\n",
       "  '0.195*\"love\" + 0.117*\"gift\" + 0.082*\"christmas\" + 0.036*\"tablet\" + 0.025*\"great\" + 0.024*\"get\" + 0.022*\"absolutely\" + 0.021*\"present\" + 0.021*\"grandson\" + 0.020*\"wife\"'),\n",
       " (9,\n",
       "  '0.108*\"charge\" + 0.042*\"problem\" + 0.032*\"time\" + 0.030*\"buy\" + 0.029*\"break\" + 0.028*\"work\" + 0.028*\"issue\" + 0.024*\"charger\" + 0.016*\"day\" + 0.016*\"plug\"'),\n",
       " (10,\n",
       "  '0.179*\"great\" + 0.104*\"price\" + 0.095*\"product\" + 0.084*\"recommend\" + 0.082*\"work\" + 0.045*\"good\" + 0.028*\"tablet\" + 0.022*\"highly\" + 0.022*\"value\" + 0.020*\"deal\"'),\n",
       " (11,\n",
       "  '0.192*\"old\" + 0.154*\"year\" + 0.067*\"love\" + 0.038*\"son\" + 0.036*\"tablet\" + 0.031*\"use\" + 0.028*\"daughter\" + 0.021*\"kindle\" + 0.017*\"easy\" + 0.017*\"yr\"'),\n",
       " (12,\n",
       "  '0.088*\"tablet\" + 0.054*\"nice\" + 0.030*\"great\" + 0.026*\"storage\" + 0.025*\"fast\" + 0.019*\"screen\" + 0.016*\"$\" + 0.016*\"amazon\" + 0.016*\"like\" + 0.015*\"light\"'),\n",
       " (13,\n",
       "  '0.155*\"buy\" + 0.036*\"good\" + 0.029*\"thank\" + 0.028*\"need\" + 0.024*\"product\" + 0.022*\"color\" + 0.021*\"find\" + 0.018*\"go\" + 0.017*\"case\" + 0.017*\"best\"'),\n",
       " (14,\n",
       "  '0.116*\"game\" + 0.091*\"play\" + 0.078*\"love\" + 0.063*\"watch\" + 0.054*\"movie\" + 0.036*\"book\" + 0.033*\"granddaughter\" + 0.033*\"user\" + 0.029*\"read\" + 0.027*\"video\"'),\n",
       " (15,\n",
       "  '0.038*\"fast\" + 0.028*\"good\" + 0.025*\"work\" + 0.024*\"purchase\" + 0.024*\"pleased\" + 0.021*\"keyboard\" + 0.019*\"month\" + 0.019*\"day\" + 0.018*\"fire\" + 0.017*\"tablet\"'),\n",
       " (16,\n",
       "  '0.193*\"battery\" + 0.121*\"long\" + 0.074*\"brand\" + 0.065*\"life\" + 0.045*\"good\" + 0.039*\"price\" + 0.027*\"time\" + 0.024*\"cheap\" + 0.023*\"last\" + 0.023*\"work\"'),\n",
       " (17,\n",
       "  '0.153*\"use\" + 0.121*\"easy\" + 0.048*\"tablet\" + 0.032*\"great\" + 0.025*\"read\" + 0.023*\"book\" + 0.020*\"fire\" + 0.019*\"internet\" + 0.017*\"love\" + 0.016*\"email\"'),\n",
       " (18,\n",
       "  '0.075*\"tablet\" + 0.058*\"great\" + 0.049*\"price\" + 0.043*\"amazon\" + 0.035*\"black\" + 0.031*\"friday\" + 0.029*\"app\" + 0.026*\"prime\" + 0.024*\"love\" + 0.020*\"especially\"'),\n",
       " (19,\n",
       "  '0.046*\"tablet\" + 0.045*\"amazon\" + 0.039*\"card\" + 0.033*\"memory\" + 0.026*\"account\" + 0.023*\"sd\" + 0.022*\"use\" + 0.019*\"gb\" + 0.017*\"kid\" + 0.016*\"alexa\"')]"
      ]
     },
     "execution_count": 87,
     "metadata": {},
     "output_type": "execute_result"
    }
   ],
   "source": [
    "lda.print_topics()"
   ]
  },
  {
   "cell_type": "code",
   "execution_count": 88,
   "metadata": {},
   "outputs": [
    {
     "name": "stderr",
     "output_type": "stream",
     "text": [
      "C:\\Users\\lomopa\\anaconda3\\envs\\U4-S1-NLP\\lib\\site-packages\\ipykernel\\ipkernel.py:287: DeprecationWarning: `should_run_async` will not call `transform_cell` automatically in the future. Please pass the result to `transformed_cell` argument and any exception that happen during thetransform in `preprocessing_exc_tuple` in IPython 7.17 and above.\n",
      "  and should_run_async(code)\n"
     ]
    }
   ],
   "source": [
    "words = [re.findall(r'\"[^\"]*\"', t[1]) for t in lda.print_topics(20)]"
   ]
  },
  {
   "cell_type": "code",
   "execution_count": 89,
   "metadata": {},
   "outputs": [
    {
     "name": "stderr",
     "output_type": "stream",
     "text": [
      "C:\\Users\\lomopa\\anaconda3\\envs\\U4-S1-NLP\\lib\\site-packages\\ipykernel\\ipkernel.py:287: DeprecationWarning: `should_run_async` will not call `transform_cell` automatically in the future. Please pass the result to `transformed_cell` argument and any exception that happen during thetransform in `preprocessing_exc_tuple` in IPython 7.17 and above.\n",
      "  and should_run_async(code)\n"
     ]
    }
   ],
   "source": [
    "topic_labels = [', '.join(t[0:5]) for t in words]"
   ]
  },
  {
   "cell_type": "code",
   "execution_count": 93,
   "metadata": {},
   "outputs": [
    {
     "name": "stdout",
     "output_type": "stream",
     "text": [
      "------ Topic 0 ------\n",
      "\"battery\", \"amazon\", \"buy\", \"use\", \"work\"\n",
      "\n",
      "------ Topic 1 ------\n",
      "\"ipad\", \"tablet\", \"app\", \"need\", \"amazon\"\n",
      "\n",
      "------ Topic 2 ------\n",
      "\"read\", \"book\", \"kindle\", \"light\", \"reader\"\n",
      "\n",
      "------ Topic 3 ------\n",
      "\"app\", \"device\", \"screen\", \"wifi\", \"home\"\n",
      "\n",
      "------ Topic 4 ------\n",
      "\"kindle\", \"fire\", \"screen\", \"hd\", \"new\"\n",
      "\n",
      "------ Topic 5 ------\n",
      "\"app\", \"google\", \"amazon\", \"play\", \"good\"\n",
      "\n",
      "------ Topic 6 ------\n",
      "\"kid\", \"tablet\", \"child\", \"great\", \"love\"\n",
      "\n",
      "------ Topic 7 ------\n",
      "\"good\", \"price\", \"tablet\", \"quality\", \"money\"\n",
      "\n",
      "------ Topic 8 ------\n",
      "\"love\", \"gift\", \"christmas\", \"tablet\", \"great\"\n",
      "\n",
      "------ Topic 9 ------\n",
      "\"charge\", \"problem\", \"time\", \"buy\", \"break\"\n",
      "\n",
      "------ Topic 10 ------\n",
      "\"great\", \"price\", \"product\", \"recommend\", \"work\"\n",
      "\n",
      "------ Topic 11 ------\n",
      "\"old\", \"year\", \"love\", \"son\", \"tablet\"\n",
      "\n",
      "------ Topic 12 ------\n",
      "\"tablet\", \"nice\", \"great\", \"storage\", \"fast\"\n",
      "\n",
      "------ Topic 13 ------\n",
      "\"buy\", \"good\", \"thank\", \"need\", \"product\"\n",
      "\n",
      "------ Topic 14 ------\n",
      "\"game\", \"play\", \"love\", \"watch\", \"movie\"\n",
      "\n",
      "------ Topic 15 ------\n",
      "\"fast\", \"good\", \"work\", \"purchase\", \"pleased\"\n",
      "\n",
      "------ Topic 16 ------\n",
      "\"battery\", \"long\", \"brand\", \"life\", \"good\"\n",
      "\n",
      "------ Topic 17 ------\n",
      "\"use\", \"easy\", \"tablet\", \"great\", \"read\"\n",
      "\n",
      "------ Topic 18 ------\n",
      "\"tablet\", \"great\", \"price\", \"amazon\", \"black\"\n",
      "\n",
      "------ Topic 19 ------\n",
      "\"tablet\", \"amazon\", \"card\", \"memory\", \"account\"\n",
      "\n"
     ]
    },
    {
     "name": "stderr",
     "output_type": "stream",
     "text": [
      "C:\\Users\\lomopa\\anaconda3\\envs\\U4-S1-NLP\\lib\\site-packages\\ipykernel\\ipkernel.py:287: DeprecationWarning: `should_run_async` will not call `transform_cell` automatically in the future. Please pass the result to `transformed_cell` argument and any exception that happen during thetransform in `preprocessing_exc_tuple` in IPython 7.17 and above.\n",
      "  and should_run_async(code)\n"
     ]
    }
   ],
   "source": [
    "for id, t in enumerate(topic_labels): \n",
    "    print(f\"------ Topic {id} ------\")\n",
    "    print(t, end=\"\\n\\n\")"
   ]
  },
  {
   "cell_type": "code",
   "execution_count": 94,
   "metadata": {},
   "outputs": [
    {
     "name": "stderr",
     "output_type": "stream",
     "text": [
      "C:\\Users\\lomopa\\anaconda3\\envs\\U4-S1-NLP\\lib\\site-packages\\ipykernel\\ipkernel.py:287: DeprecationWarning: `should_run_async` will not call `transform_cell` automatically in the future. Please pass the result to `transformed_cell` argument and any exception that happen during thetransform in `preprocessing_exc_tuple` in IPython 7.17 and above.\n",
      "  and should_run_async(code)\n"
     ]
    }
   ],
   "source": [
    "pyLDAvis.enable_notebook()"
   ]
  },
  {
   "cell_type": "code",
   "execution_count": 95,
   "metadata": {},
   "outputs": [
    {
     "name": "stderr",
     "output_type": "stream",
     "text": [
      "C:\\Users\\lomopa\\anaconda3\\envs\\U4-S1-NLP\\lib\\site-packages\\ipykernel\\ipkernel.py:287: DeprecationWarning: `should_run_async` will not call `transform_cell` automatically in the future. Please pass the result to `transformed_cell` argument and any exception that happen during thetransform in `preprocessing_exc_tuple` in IPython 7.17 and above.\n",
      "  and should_run_async(code)\n"
     ]
    },
    {
     "data": {
      "text/html": [
       "\n",
       "<link rel=\"stylesheet\" type=\"text/css\" href=\"https://cdn.rawgit.com/bmabey/pyLDAvis/files/ldavis.v1.0.0.css\">\n",
       "\n",
       "\n",
       "<div id=\"ldavis_el1064816658045061207795539395\"></div>\n",
       "<script type=\"text/javascript\">\n",
       "\n",
       "var ldavis_el1064816658045061207795539395_data = {\"mdsDat\": {\"x\": [-0.19110631185082697, 0.15947645974740762, -0.27643355173659473, 0.13467556122315347, 0.17583083363732754, -0.17647851540402962, -0.014236334769023648, -0.025962333258953148, -0.15878291337174052, 0.2201798034262004, -0.07117951724937797, -0.07652977432733431, 0.2575595767710516, -0.006939761804821892, -0.03861565305881726, -0.030793584992107596, 0.19834525186874782, -0.07067475719529429, 0.012133824143958865, -0.02046830179892566], \"y\": [0.12996676099266272, -0.008648784204270815, 0.1778178621375304, 0.009382836712916577, -0.10859855358329705, 0.0199615395114548, -0.056082929822758205, -0.0919978815904253, -0.10260068725046834, 0.12402611474842519, -0.11977574640483907, 0.13034136035341293, 0.0006700551514132993, -0.07739212011312584, -0.19799013560797357, -0.13463985108622376, 0.19198522792856465, 0.06139558651732507, 0.19064658742094845, -0.13846724181127198], \"topics\": [1, 2, 3, 4, 5, 6, 7, 8, 9, 10, 11, 12, 13, 14, 15, 16, 17, 18, 19, 20], \"cluster\": [1, 1, 1, 1, 1, 1, 1, 1, 1, 1, 1, 1, 1, 1, 1, 1, 1, 1, 1, 1], \"Freq\": [15.3751373162404, 7.541355573897734, 6.759451246073199, 5.521235448605615, 5.500759393873228, 5.145628768628982, 5.138542827042698, 4.75466646931829, 4.604614106982926, 4.524178728493144, 4.015865075900183, 3.9753961723182534, 3.862188507387037, 3.6380228257183753, 3.5354867139469426, 3.4049045247099627, 3.396134117464617, 3.1212459529411865, 3.1061864131475048, 3.0789998173097017]}, \"tinfo\": {\"Term\": [\"battery\", \"love\", \"old\", \"year\", \"long\", \"good\", \"kid\", \"great\", \"price\", \"buy\", \"use\", \"kindle\", \"easy\", \"read\", \"tablet\", \"brand\", \"product\", \"game\", \"book\", \"gift\", \"work\", \"play\", \"recommend\", \"charge\", \"life\", \"fire\", \"app\", \"christmas\", \"amazon\", \"watch\", \"remote\", \"aa\", \"pack\", \"aaa\", \"amazonbasics\", \"alkaline\", \"leak\", \"basics\", \"flashlight\", \"rechargeable\", \"candle\", \"batteries\", \"clock\", \"costco\", \"cardboard\", \"batch\", \"result\", \"rayovac\", \"longevity\", \"duracells\", \"supply\", \"fresh\", \"acid\", \"shrink\", \"kirkland\", \"drawer\", \"discharge\", \"packaging\", \"detector\", \"voltage\", \"dead\", \"test\", \"toy\", \"package\", \"box\", \"mouse\", \"drain\", \"power\", \"battery\", \"week\", \"wrap\", \"controller\", \"duracell\", \"save\", \"month\", \"energizer\", \"amazon\", \"brand\", \"work\", \"buy\", \"try\", \"use\", \"come\", \"order\", \"go\", \"need\", \"like\", \"time\", \"purchase\", \"day\", \"store\", \"price\", \"device\", \"parental\", \"proof\", \"clumsy\", \"safety\", \"engage\", \"quiet\", \"selling\", \"beating\", \"kid\", \"limit\", \"child\", \"rubber\", \"profile\", \"adult\", \"goal\", \"freetime\", \"loaded\", \"protect\", \"activity\", \"tool\", \"edition\", \"protective\", \"educational\", \"bumper\", \"skype\", \"unlock\", \"control\", \"restriction\", \"preloade\", \"abc\", \"learning\", \"safe\", \"young\", \"case\", \"parent\", \"drop\", \"durable\", \"content\", \"set\", \"age\", \"kids\", \"warranty\", \"fun\", \"free\", \"app\", \"time\", \"tablet\", \"friendly\", \"great\", \"love\", \"come\", \"game\", \"lot\", \"use\", \"easy\", \"daughter\", \"perfect\", \"year\", \"like\", \"lasting\", \"name\", \"period\", \"pricing\", \"rock\", \"national\", \"track\", \"life\", \"span\", \"long\", \"bunny\", \"steal\", \"fraction\", \"win\", \"effective\", \"exclusively\", \"brand\", \"slip\", \"target\", \"report\", \"rid\", \"prove\", \"feedback\", \"competitor\", \"generic\", \"last\", \"duracel\", \"major\", \"quantity\", \"door\", \"cheap\", \"battery\", \"expensive\", \"compare\", \"duracell\", \"comparable\", \"cost\", \"short\", \"energizer\", \"buck\", \"time\", \"price\", \"good\", \"longer\", \"big\", \"work\", \"difference\", \"well\", \"buy\", \"far\", \"great\", \"like\", \"lot\", \"amazon\", \"quality\", \"store\", \"beat\", \"voyage\", \"word\", \"reader\", \"girlfriend\", \"strain\", \"beach\", \"living\", \"paper\", \"desk\", \"copy\", \"bezel\", \"oasis\", \"lighting\", \"string\", \"pandora\", \"leather\", \"e\", \"purse\", \"outside\", \"paperwhite\", \"library\", \"eye\", \"determine\", \"avid\", \"dark\", \"situation\", \"ereader\", \"vacation\", \"white\", \"weight\", \"page\", \"light\", \"read\", \"book\", \"carry\", \"convenient\", \"night\", \"lightweight\", \"travel\", \"kindle\", \"small\", \"easy\", \"size\", \"hold\", \"like\", \"fit\", \"screen\", \"make\", \"perfect\", \"device\", \"enjoy\", \"love\", \"download\", \"able\", \"time\", \"use\", \"purchase\", \"need\", \"facebook\", \"email\", \"challenge\", \"personal\", \"viewing\", \"surf\", \"crystal\", \"social\", \"browse\", \"news\", \"ebooks\", \"check\", \"concerned\", \"surfing\", \"entertainment\", \"web\", \"easy\", \"datum\", \"capable\", \"setup\", \"bank\", \"sized\", \"internet\", \"flawlessly\", \"mail\", \"website\", \"ease\", \"maneuver\", \"couch\", \"occasional\", \"use\", \"everyday\", \"computer\", \"navigate\", \"daily\", \"graphic\", \"primarily\", \"reading\", \"picture\", \"read\", \"book\", \"tablet\", \"size\", \"simple\", \"fire\", \"set\", \"great\", \"netflix\", \"travel\", \"want\", \"love\", \"perfect\", \"clear\", \"purchase\", \"download\", \"kindle\", \"game\", \"screen\", \"watch\", \"amazon\", \"highly\", \"charm\", \"recommend\", \"promise\", \"product\", \"pass\", \"friend\", \"intend\", \"mistake\", \"tablets\", \"family\", \"value\", \"definitely\", \"deal\", \"alternative\", \"exactly\", \"breeze\", \"vibrant\", \"higher\", \"fair\", \"great\", \"point\", \"market\", \"staff\", \"price\", \"work\", \"equal\", \"advertise\", \"forward\", \"unbeatable\", \"member\", \"awesome\", \"fine\", \"right\", \"function\", \"reasonable\", \"far\", \"good\", \"excellent\", \"look\", \"purchase\", \"overall\", \"tablet\", \"need\", \"beat\", \"buy\", \"happy\", \"want\", \"amazon\", \"like\", \"enjoyable\", \"stereo\", \"gen\", \"desire\", \"sibling\", \"adjustment\", \"original\", \"upgrade\", \"generation\", \"hdx\", \"bag\", \"touchscreen\", \"model\", \"readable\", \"enable\", \"arm\", \"file\", \"hd\", \"interface\", \"position\", \"versatility\", \"familiar\", \"version\", \"slim\", \"pocket\", \"visual\", \"aspect\", \"thought\", \"hang\", \"glare\", \"early\", \"previous\", \"fire\", \"kindle\", \"own\", \"3rd\", \"hd8\", \"new\", \"inch\", \"small\", \"well\", \"screen\", \"better\", \"replacement\", \"big\", \"feel\", \"large\", \"update\", \"faster\", \"replace\", \"display\", \"like\", \"device\", \"great\", \"think\", \"get\", \"feature\", \"size\", \"amazon\", \"want\", \"work\", \"swipe\", \"command\", \"mobile\", \"randomly\", \"board\", \"act\", \"attractive\", \"respond\", \"menu\", \"instruction\", \"press\", \"kinda\", \"connect\", \"article\", \"sunlight\", \"difficult\", \"morning\", \"push\", \"wifi\", \"chrome\", \"left\", \"unable\", \"button\", \"secure\", \"delete\", \"alright\", \"event\", \"audio\", \"shut\", \"sort\", \"home\", \"magazine\", \"speaker\", \"automatically\", \"close\", \"view\", \"figure\", \"complaint\", \"bluetooth\", \"device\", \"change\", \"freeze\", \"instal\", \"slow\", \"app\", \"portable\", \"screen\", \"able\", \"thing\", \"download\", \"start\", \"little\", \"open\", \"load\", \"work\", \"tablet\", \"try\", \"amazon\", \"like\", \"internet\", \"bad\", \"item\", \"come\", \"wish\", \"beginner\", \"fingertip\", \"watching\", \"student\", \"task\", \"tend\", \"resolution\", \"incredible\", \"entry\", \"backup\", \"pain\", \"affordable\", \"decent\", \"chromecast\", \"material\", \"money\", \"quality\", \"pretty\", \"complain\", \"entire\", \"graphic\", \"brightness\", \"sound\", \"job\", \"wi\", \"weigh\", \"occasionally\", \"navigation\", \"tie\", \"fi\", \"good\", \"high\", \"camera\", \"worth\", \"beat\", \"performance\", \"look\", \"low\", \"price\", \"picture\", \"nice\", \"laptop\", \"tablet\", \"excellent\", \"size\", \"feature\", \"far\", \"one\", \"basic\", \"lot\", \"great\", \"expensive\", \"screen\", \"old\", \"seven\", \"grandaughter\", \"teenage\", \"god\", \"broken\", \"4th\", \"year\", \"yr\", \"entertaining\", \"homework\", \"4yr\", \"son\", \"costly\", \"crack\", \"self\", \"step\", \"tube\", \"guide\", \"sister\", \"brother\", \"daughter\", \"1/2\", \"grandson\", \"appropriate\", \"grand\", \"shape\", \"spot\", \"till\", \"learn\", \"worry\", \"program\", \"love\", \"fact\", \"durable\", \"ago\", \"age\", \"use\", \"tablet\", \"kindle\", \"get\", \"easy\", \"christmas\", \"enjoy\", \"replace\", \"buy\", \"purchase\", \"want\", \"perfect\", \"navigate\", \"like\", \"good\", \"app\", \"game\", \"fire\", \"great\", \"silk\", \"textbook\", \"grip\", \"google\", \"browsing\", \"upload\", \"appstore\", \"overpriced\", \"compete\", \"smart\", \"lack\", \"browser\", \"powered\", \"fault\", \"streaming\", \"personally\", \"g\", \"expect\", \"produce\", \"youtube\", \"network\", \"college\", \"ad\", \"load\", \"downside\", \"penny\", \"world\", \"rear\", \"single\", \"pro\", \"ebook\", \"budget\", \"stuff\", \"ability\", \"store\", \"available\", \"play\", \"app\", \"video\", \"web\", \"amazon\", \"lock\", \"slow\", \"pay\", \"good\", \"install\", \"want\", \"basic\", \"tablet\", \"access\", \"like\", \"work\", \"price\", \"$\", \"game\", \"thing\", \"lot\", \"run\", \"cheap\", \"use\", \"great\", \"thank\", \"best\", \"employee\", \"sleeve\", \"n\", \"refuse\", \"hooked\", \"skill\", \"info\", \"advertising\", \"anytime\", \"suck\", \"complicated\", \"i.\", \"necessary\", \"story\", \"backpack\", \"glad\", \"functional\", \"encourage\", \"class\", \"grandkid\", \"extended\", \"shop\", \"hassle\", \"color\", \"ahead\", \"refund\", \"compact\", \"side\", \"exchange\", \"buy\", \"2nd\", \"help\", \"surprised\", \"find\", \"order\", \"return\", \"know\", \"sale\", \"samsung\", \"go\", \"need\", \"case\", \"ok\", \"ad\", \"product\", \"good\", \"believe\", \"store\", \"pay\", \"purchase\", \"like\", \"amazon\", \"different\", \"kindle\", \"happy\", \"decide\", \"love\", \"look\", \"time\", \"want\", \"cartoon\", \"kiddo\", \"playing\", \"granddaughter\", \"buying\", \"song\", \"advanced\", \"busy\", \"xmas\", \"sensitive\", \"user\", \"girl\", \"watch\", \"movie\", \"favorite\", \"game\", \"friendly\", \"play\", \"teen\", \"aunt\", \"grade\", \"show\", \"vibrant\", \"pic\", \"live\", \"-pron-\", \"helpful\", \"rugged\", \"listen\", \"net\", \"video\", \"music\", \"addition\", \"able\", \"love\", \"book\", \"read\", \"toddler\", \"son\", \"daughter\", \"experience\", \"mom\", \"tablet\", \"enjoy\", \"learn\", \"tv\", \"time\", \"great\", \"like\", \"phone\", \"lot\", \"sd\", \"squad\", \"credit\", \"answer\", \"card\", \"dot\", \"bc\", \"echo\", \"prize\", \"geek\", \"memory\", \"directly\", \"slot\", \"reach\", \"account\", \"opportunity\", \"internal\", \"afraid\", \"micro\", \"kindles\", \"cable\", \"link\", \"thousand\", \"gb\", \"winner\", \"speak\", \"alexa\", \"audible\", \"hardware\", \"portability\", \"tap\", \"ask\", \"support\", \"question\", \"voice\", \"add\", \"music\", \"amazon\", \"prime\", \"storage\", \"tablet\", \"plenty\", \"space\", \"impressed\", \"use\", \"kid\", \"great\", \"feature\", \"free\", \"purchase\", \"give\", \"like\", \"buy\", \"set\", \"time\", \"processing\", \"sufficient\", \"smooth\", \"filter\", \"snappy\", \"shade\", \"blue\", \"solid\", \"spec\", \"explore\", \"platform\", \"speed\", \"operating\", \"powerful\", \"automatic\", \"unbelievable\", \"improvement\", \"clarity\", \"term\", \"noticeable\", \"superb\", \"processor\", \"nexus\", \"storage\", \"benefit\", \"response\", \"speedy\", \"system\", \"nice\", \"invest\", \"galaxy\", \"strong\", \"responsive\", \"display\", \"fast\", \"$\", \"bright\", \"hand\", \"inch\", \"tablet\", \"huge\", \"extra\", \"design\", \"android\", \"dollar\", \"light\", \"screen\", \"great\", \"color\", \"size\", \"clear\", \"like\", \"little\", \"amazon\", \"fire\", \"run\", \"need\", \"use\", \"make\", \"hd\", \"well\", \"expectation\", \"player\", \"extensive\", \"offline\", \"trip\", \"separately\", \"road\", \"mini\", \"exceed\", \"advantage\", \"occupy\", \"compatible\", \"business\", \"underground\", \"ride\", \"interactive\", \"limited\", \"hesitant\", \"head\", \"numerous\", \"bang\", \"entertain\", \"ipad\", \"mile\", \"drawback\", \"intuitive\", \"oh\", \"apple\", \"membership\", \"select\", \"imagine\", \"meet\", \"android\", \"car\", \"little\", \"keep\", \"app\", \"need\", \"option\", \"tablet\", \"phone\", \"netflix\", \"amazon\", \"movie\", \"device\", \"prime\", \"return\", \"store\", \"thing\", \"want\", \"buy\", \"hour\", \"good\", \"perfect\", \"use\", \"purchase\", \"go\", \"gift\", \"present\", \"law\", \"recipient\", \"lap\", \"teenager\", \"niece\", \"birthday\", \"christmas\", \"nephew\", \"mother\", \"thoroughly\", \"absolutely\", \"def\", \"grandchild\", \"pricey\", \"direction\", \"follow\", \"husband\", \"excited\", \"father\", \"physical\", \"mom\", \"wife\", \"sister\", \"yrs\", \"baby\", \"grandson\", \"green\", \"truly\", \"love\", \"receive\", \"person\", \"happy\", \"enjoy\", \"get\", \"daughter\", \"perfect\", \"tablet\", \"purchase\", \"give\", \"great\", \"buy\", \"item\", \"day\", \"use\", \"want\", \"man\", \"curious\", \"wonderfully\", \"delivery\", \"hear\", \"key\", \"shipping\", \"describe\", \"pleased\", \"tear\", \"keyboard\", \"letter\", \"immediately\", \"pair\", \"worried\", \"wrong\", \"indestructible\", \"customer\", \"piece\", \"explain\", \"associate\", \"boy\", \"boot\", \"introduce\", \"jump\", \"instantly\", \"awhile\", \"frustrating\", \"careful\", \"register\", \"stand\", \"service\", \"fast\", \"local\", \"previously\", \"review\", \"decide\", \"month\", \"plan\", \"say\", \"die\", \"day\", \"item\", \"damage\", \"purchase\", \"fit\", \"replace\", \"work\", \"good\", \"fire\", \"screen\", \"amazon\", \"tablet\", \"time\", \"store\", \"nice\", \"try\", \"plug\", \"port\", \"cord\", \"usb\", \"charge\", \"charger\", \"knowledgeable\", \"grandma\", \"quit\", \"grandmother\", \"glitch\", \"cute\", \"call\", \"ipod\", \"stay\", \"aware\", \"anymore\", \"attention\", \"fully\", \"outdoor\", \"technical\", \"format\", \"fix\", \"education\", \"break\", \"reboot\", \"r\", \"junk\", \"advertise\", \"october\", \"loose\", \"problem\", \"minute\", \"school\", \"issue\", \"range\", \"stop\", \"time\", \"sit\", \"day\", \"longer\", \"turn\", \"will\", \"work\", \"buy\", \"take\", \"come\", \"game\", \"hour\", \"new\", \"thing\", \"long\", \"friday\", \"forever\", \"expansion\", \"black\", \"manage\", \"savvy\", \"durability\", \"it\\u201a\\u00e4\\u00f4s\", \"1st\", \"inexpensive\", \"especially\", \"tech\", \"casual\", \"amazing\", \"direct\", \"staff\", \"dad\", \"usual\", \"unwanted\", \"brainer\", \"forget\", \"lol\", \"quick\", \"prime\", \"discount\", \"can\\u201a\\u00e4\\u00f4t\", \"lag\", \"confusing\", \"face\", \"mirror\", \"netflix\", \"sale\", \"member\", \"fantastic\", \"plenty\", \"$\", \"cool\", \"download\", \"tablet\", \"price\", \"amazon\", \"great\", \"beat\", \"app\", \"picture\", \"not\", \"deal\", \"love\", \"thing\", \"video\", \"get\", \"feature\", \"awesome\", \"quality\", \"buy\"], \"Freq\": [8010.0, 4884.0, 2436.0, 2179.0, 2521.0, 5108.0, 2492.0, 6174.0, 4091.0, 3855.0, 4621.0, 3055.0, 2853.0, 2179.0, 6932.0, 1907.0, 1762.0, 2013.0, 1973.0, 1081.0, 3239.0, 1612.0, 1286.0, 926.0, 1268.0, 2266.0, 2443.0, 880.0, 3569.0, 864.0, 539.2859863909771, 472.53836529660924, 446.39580670697376, 336.99793475128115, 264.61634950514235, 208.92488529903275, 196.85780482556652, 185.71819439979828, 173.6538702975639, 144.87633810264185, 129.0973834677051, 97.53950352092984, 94.75432723223781, 82.68725653313763, 79.90476330793196, 64.12355079443293, 59.47860587350602, 53.91468482899635, 52.981281741093525, 50.200367076008234, 49.246066393446675, 45.55690785872404, 39.99186276211626, 39.991437577192194, 37.20547689562301, 34.421818077263424, 31.63567656992193, 208.80204106625865, 30.71019804931077, 29.777557361961446, 178.73874966095815, 215.03360995958022, 463.580588865099, 333.7433054345889, 478.62826452810486, 173.05296182028144, 112.33215619879019, 341.8749133483558, 4436.517198983689, 344.14663241299814, 128.31636274684146, 173.46987763065275, 349.7761199051087, 176.2283014794098, 294.25203194359045, 197.08333854827734, 909.4002944358772, 543.9272463758955, 649.4405115729196, 706.6055005616221, 262.5281539378398, 658.3784655900389, 343.38669499974856, 236.59017283006, 283.59498197072304, 364.62303008902643, 401.91610729696487, 373.7745344560541, 335.85280911992515, 263.1683358179936, 263.3136024465334, 281.7431501237374, 249.36071442962043, 411.12845357881906, 51.65595237907819, 21.18759861808241, 18.60110944075287, 17.85917212793586, 18.55221427064444, 17.108394251943956, 12.656586995681032, 2310.6384749105305, 223.65370661478417, 781.2264919011683, 35.52481310947123, 127.85061377346885, 168.22799714752082, 17.416592632550685, 81.36561898040647, 27.13995603623916, 92.63598505506812, 43.40852195628446, 107.42840465090995, 115.4550798828408, 98.60956893388476, 190.10043258083144, 65.47950090519261, 18.224533331142936, 19.93827937913498, 496.83738755165604, 24.717409206083072, 27.445669806289818, 12.291209012663156, 131.2763415922033, 80.17046497071605, 171.2273068257847, 533.5730533823775, 136.5591821623907, 195.48199596929294, 197.34934919956459, 159.96678810294586, 459.62356423242534, 199.38894958479693, 96.94708281076579, 178.7330600228288, 130.32109093461247, 266.1711007618857, 553.2050484778946, 543.1085500243678, 836.778443076415, 163.35128552943294, 693.0975448496058, 562.2201216850905, 264.9253867851441, 270.531914699863, 216.23896711151025, 299.1800952643204, 221.0591259729761, 163.60415248393215, 163.67606595878217, 181.26274594493225, 183.13589060704513, 100.69732567895745, 67.39430860024346, 62.67735573974348, 24.254858383638773, 21.979523311752473, 20.50288328398573, 13.673584298883696, 1191.6414206960276, 27.567629846965794, 2225.0873019532214, 20.781641888892267, 31.73854749628552, 77.21132719104466, 54.93360709294271, 20.84415475382899, 18.24355941228876, 1363.1712045351533, 22.046859733375328, 10.261562516723385, 18.178629397564997, 30.764994762282974, 17.504889180258466, 14.851959860106918, 14.306589633690301, 37.05627273060978, 418.1345126072121, 12.326517465456417, 68.00316822011077, 43.39580560299618, 28.356116998962502, 445.0301318418301, 3567.421222885674, 232.22988527014277, 158.9464071458335, 221.30056954756316, 46.775354857773046, 156.69569477311114, 78.6447120548002, 121.75879186724015, 59.761598443215156, 503.4714078711505, 721.3866098158272, 831.7576998234518, 117.97807739376364, 175.28016899136347, 416.27054420041554, 93.40733943022222, 183.14690221932864, 342.5905933508599, 158.6344336799867, 402.32816639948066, 185.21273378771775, 131.92531098004847, 180.39144599952138, 124.78337891577999, 95.45989278911458, 84.00531860063526, 104.0452120781519, 66.8522852165844, 586.413560543405, 25.805396483007215, 22.949714343729422, 27.170126179547374, 13.878815020614141, 75.26051512216291, 12.918018469847242, 12.870511634272694, 11.491252334610142, 65.09112673264173, 47.802148573389516, 9.111129072164038, 9.095150720717264, 8.643453632610496, 311.01888381318895, 85.36481425928606, 74.04922463337624, 96.22827506833346, 146.69161724156075, 141.7243497583498, 15.813278377552951, 54.34632815158294, 62.355398497629636, 15.244340607360362, 67.19255767584217, 19.01858709912781, 75.8568624033551, 153.00694547935552, 152.61424781119908, 670.0591466578956, 1485.3685261917478, 1209.2832800119093, 180.44167224626412, 104.33198527160667, 102.12207458106941, 81.64752437335679, 143.25575834448367, 727.8453175450733, 199.69428967586356, 427.87540452625, 221.83686429595232, 138.5630282299939, 278.33953016248194, 95.97497313840694, 196.5555584423973, 122.04752899140038, 145.0683592401577, 155.64475903657987, 132.4282257918829, 201.24594388364497, 118.0527252653288, 108.19847078752036, 125.42423753896216, 118.48549297799433, 112.95563027631012, 105.78585116123614, 106.03521424432078, 234.52402881537805, 28.091781705702406, 48.13433298373172, 23.567547003366563, 128.38774506508963, 17.191931008130425, 43.5890412600761, 83.97405818572186, 36.239467652224214, 15.65983906225183, 155.90490595957317, 7.391191080363153, 33.070699796901394, 70.32833903650787, 182.57392507496309, 1815.0687280270038, 24.691722325244587, 9.737787424603852, 73.71625517914573, 10.228709067669683, 17.991783090735684, 290.0477869082421, 16.671228271015853, 33.988861461054526, 18.029601102371103, 96.38397514640525, 21.936630608015783, 8.190810614281578, 10.072312207585844, 2291.958453268787, 63.20732756657184, 105.07144855873925, 133.107105600542, 66.86216763802116, 52.6272645346362, 35.87844368410465, 128.37880680278067, 118.15393828541646, 380.92493221704194, 347.96473326157263, 722.4328829977283, 200.90076186580683, 79.25021453122405, 300.99770376445144, 169.05374724691157, 482.53663681318017, 91.6900026330041, 90.0357526870835, 167.25041435938098, 253.37713202695667, 134.22852880487812, 85.15049576511446, 140.53049330887015, 107.80717928642443, 137.38053217291255, 117.72318118400162, 113.09444819393212, 98.95305414146317, 96.61167702902846, 314.2524934422941, 11.443622293709227, 1179.862556900123, 26.30460437465683, 1331.425906491459, 38.2876577245762, 161.85570569118678, 26.127246064952466, 6.977783366136124, 9.940400379283513, 144.21871751624317, 302.7485738048392, 236.3473603167679, 280.244474262638, 48.85011412827395, 61.53474327741673, 11.351707914977567, 5.490347888555084, 7.744542874797802, 10.230731463800579, 2512.282491653165, 84.87195385867338, 41.8914681418152, 4.9794568880977295, 1459.3188010859164, 1149.8360155465366, 9.357779574963399, 31.444367587344914, 13.816630386244755, 4.685419525870401, 56.22490673336564, 115.03914403523451, 112.15120459250033, 123.80013030086481, 45.41477087968327, 35.29520975555121, 170.2252200537786, 626.2637650970341, 92.20521521768431, 136.9400722319459, 219.52547845668087, 65.82707737731785, 389.5831341949868, 158.3834239713655, 68.33874948788495, 141.79479226648817, 73.44197004540857, 84.70726820549996, 91.1564989148306, 76.72577789360187, 31.858107255348653, 29.234892924915187, 23.581475606554868, 20.96438634320545, 19.643380875054955, 11.81393874071619, 134.47873232850134, 253.9652865903431, 83.2264511275061, 43.19010856770422, 46.50510267477091, 18.362720815449272, 272.0191488563903, 19.084853157848585, 24.789541371080432, 10.809932444460278, 22.066352879025548, 436.6061498753479, 45.41098275822328, 13.472912343754594, 13.107714610637846, 16.611413867807894, 262.2834086268886, 21.002956298971498, 29.415152832523066, 15.299816502698498, 23.026490628149908, 11.094558595126644, 18.86132087630533, 36.71626873043348, 42.11073781269498, 123.55324600178467, 1279.5248021052485, 1668.1437464066084, 67.63849186895938, 39.49613450990607, 115.7697524873592, 416.0478505797611, 87.64252976073277, 241.81574072393101, 349.45800286261493, 539.4381534635978, 132.63542360655515, 90.86298223234378, 206.62364675350148, 108.28352889541279, 111.55456952108435, 81.27168251814247, 66.40066644516145, 136.1334608517127, 87.8956403995627, 257.31449287211444, 179.51262982341115, 302.77415929687294, 118.1626642954325, 148.28825957565607, 117.80328782607243, 102.18839133916569, 125.69473932289448, 100.94584226363256, 90.66694088522495, 43.64854286166931, 32.528212955962324, 23.372320460766304, 18.293448008487264, 15.252628399967366, 15.251727646549806, 14.229445061519007, 38.1879852166868, 65.8450143703608, 80.75760382120568, 47.043941937147835, 21.77594510318384, 161.00059331071216, 19.28957247245913, 29.426145137710847, 65.20500186322239, 24.281705091023404, 28.699575667937417, 256.49861572818486, 20.190501204442334, 16.67324500261412, 26.281273396150436, 177.21801174410396, 17.626932796767772, 18.044057195659768, 12.715017106297147, 19.58733495287457, 55.479911797353026, 52.776297391885265, 27.00055220403409, 230.84977702434796, 79.53795951253012, 153.61557598911344, 34.343007415321864, 76.15369592560963, 87.02470756238851, 96.60375466811422, 123.89209154373367, 66.87557300524824, 384.64816363995135, 124.99988525018314, 52.696716734242614, 80.0543451244397, 128.38300627068807, 476.82626286394714, 73.32436898780526, 308.7007462922878, 151.31250063353718, 199.25064587866126, 176.09538281022705, 101.18079713963219, 160.58174901687187, 94.20093749618684, 92.78989215426726, 198.96770048969844, 228.8770907679426, 106.06494816393841, 166.7084561314144, 139.1688574148954, 95.70673121604877, 85.40208793786658, 88.10492854174073, 90.01994239812245, 83.41114480011206, 113.3096128130197, 15.149802389238804, 17.39319214604618, 24.943446455970758, 41.182967685730425, 29.637991911341462, 154.7306056343171, 14.203606151306468, 21.98327064010016, 19.154315573089654, 11.031369356230055, 111.87089455358341, 128.0641444206101, 13.53024175727138, 31.10278336796018, 392.2092900777708, 585.3845688214261, 264.82082991296375, 52.48407256562424, 17.748426650848945, 54.70040848967535, 31.449044325444795, 153.83833849840474, 120.66558565214609, 20.53375660754062, 9.829604119587863, 7.906976599892717, 10.393276374696415, 9.41454645387584, 16.34740285196258, 1996.6389434680689, 146.23449611345825, 166.56017356131338, 157.27871252752308, 166.74929864535542, 121.58134120550449, 263.53114484258685, 164.86497958117022, 902.7117302639049, 131.5308404648923, 222.292439001748, 68.37939070896915, 744.7889128733265, 115.51219642087422, 194.3938545622128, 165.27016063665508, 151.47866585343357, 89.1599425541042, 90.13333020650018, 118.9411775137139, 192.5859138365124, 84.70511126930377, 113.95940828967359, 2367.0267948180094, 25.712916444328386, 18.821078729326334, 17.674610832179468, 16.903354950812503, 13.068379080015458, 26.45636297103768, 1899.8015654861363, 204.64429242600684, 18.556794947605223, 32.76113683966183, 18.873634354278206, 470.41102114256034, 8.404463553209368, 31.799219056380323, 12.586341637542494, 30.207151478075836, 20.685092114463945, 7.374848729359555, 49.980465480346, 25.52355167954805, 349.4365491395736, 20.64040847251942, 186.89368114991885, 51.16975328359933, 57.3723524367189, 17.37124468250244, 10.644220320170211, 12.819374768417303, 179.81905495407736, 57.64306581946775, 43.067406199169405, 828.3693758516843, 65.03167398131073, 79.98909745417771, 46.929803146324524, 73.21113888831137, 381.07247559995744, 447.71674701514684, 261.76993570729854, 151.82493734850968, 213.41252528970026, 115.55702909435972, 98.57780887800965, 83.66417744506592, 187.03122945658433, 113.97275009113156, 94.4947950771601, 83.5498798182073, 55.020018690993766, 102.93278430443786, 99.63137184453782, 80.27232777885129, 71.21923669776154, 72.21783096160925, 67.65690697280466, 50.473035148133754, 20.302160529589088, 17.73550548268617, 440.448287950912, 61.2458566165783, 20.674845663471736, 20.51393085330169, 18.342262563702654, 16.798382867196587, 38.18912072679109, 66.2736389667957, 63.52857476200435, 11.839512035518215, 11.956856282341171, 39.09831110464668, 13.677567390381794, 32.47718619913154, 276.2083441512242, 15.344051764717564, 101.66440953103137, 21.796545454958128, 29.093622341655458, 110.97445078444322, 178.221615417311, 32.03401562983742, 13.503490652497458, 35.0940214943495, 16.990656024396916, 25.42472126898875, 44.111618015015374, 54.75754068044053, 38.74807183798623, 80.71165201688399, 75.64583525699004, 330.8342732134847, 116.26600781634822, 388.0849594915718, 522.7053450744096, 184.52626942351648, 87.28339958869299, 412.19398582171897, 54.00508331902091, 88.23886031431189, 100.65483567965704, 339.32730736629975, 46.86049638332242, 146.07311871627502, 80.40067259396136, 305.6889585694276, 84.74210975036448, 173.493706993836, 183.7730768016601, 186.08951480767197, 79.82435095494777, 124.06168829269858, 93.99947265706763, 87.75141328059165, 77.94566863147178, 81.7933375567886, 96.49356796611163, 96.4995317452098, 310.38133531612294, 181.33943360017145, 32.18628769654812, 22.67710860779674, 14.614360320913542, 14.613964804642828, 17.220077112111266, 12.217328275912843, 37.616033624075335, 25.800630751544812, 21.218164075484836, 14.6100841961209, 16.957746206946485, 19.737611465763294, 29.30890809073122, 13.094314211112426, 24.715174887292044, 136.75259376757933, 41.03575828205049, 18.486151230903435, 31.667810092700588, 105.68716380058856, 9.979967918481902, 54.31576169592716, 22.40757374653182, 239.1564620146143, 20.424573946414128, 16.403486385086747, 45.27550315957003, 9.332584232953053, 32.13781736711661, 1683.364477604947, 41.09672844199288, 151.74654735432782, 46.25852662785906, 232.9929588507267, 160.71765498845306, 104.89068248548784, 164.9785858908761, 117.11189768807391, 72.01054805064399, 198.23928532322319, 308.7832777287217, 183.9973635936245, 76.59206700401057, 74.67412394408923, 260.3054473880016, 393.9746417997809, 50.69589569592846, 132.73202555828794, 87.47909083512354, 156.1473570717764, 160.06934190286955, 159.51923816092796, 68.27863342841914, 131.8904275884601, 86.3256086995684, 63.061073766533525, 132.6977356876103, 81.89706482522, 87.97272546810127, 76.30467199268087, 36.16535151657942, 25.490289052978135, 124.97189300720775, 346.69513771480126, 16.043577019119972, 15.647820855121816, 11.94485453130106, 77.06652824808317, 35.10789183206963, 17.561772157761677, 346.53304918967484, 46.32921491939398, 662.0092141273033, 570.5769470535122, 130.0205420043865, 1218.6229379366662, 247.88008402654802, 957.4358613416777, 19.627574647526348, 8.067682818692061, 10.296207912618748, 147.53942021925616, 6.607082680931247, 17.678593700739935, 49.54002910641111, 12.282973954462447, 50.398575803545235, 12.162343026687571, 83.93442549860083, 13.772404125276376, 284.28335574691556, 134.21757804768967, 26.248414326856214, 175.43523449052432, 826.4736757538813, 381.2342931845541, 306.89486214070877, 58.02614516159993, 119.07325154855806, 117.90095787955721, 53.64410290210255, 59.686703013279086, 260.43428421429655, 89.77904072259707, 72.05639786430396, 59.89102746316957, 98.16825133198957, 106.71849960173701, 81.64580407555506, 59.09721207172549, 63.64477535389725, 233.2217737414468, 47.35835362971483, 45.403912641625354, 38.52345978789592, 385.0647562956382, 37.58584802738729, 27.656679083224624, 156.53691582731616, 16.808046792196773, 52.270576678973704, 326.81343199870605, 22.782036456202587, 55.409121288065265, 27.60191236536085, 261.90493561138925, 21.5979675269559, 31.275306705860356, 14.70053999730751, 62.4681950520166, 24.47549136839099, 85.9010789057782, 51.977620994076396, 22.194073647271775, 192.20418489056652, 14.206583750777451, 20.11918057163741, 161.99299458768576, 25.863714339836612, 13.780750547941539, 25.843220763527878, 91.87659963258916, 110.63184146156344, 63.51824973013929, 56.9309190817331, 33.28898733547697, 157.83884652637096, 139.5726566861045, 443.0015420102446, 126.47155116188249, 105.76306174120461, 455.87175771277, 58.20925476154607, 66.7834516254256, 52.42604662442296, 220.78593582111324, 165.44538856956237, 159.7990509714248, 77.72630441134585, 72.0877747709578, 85.05499787272635, 63.35808945935946, 79.44634014652446, 76.73624796780179, 63.89714383152232, 66.5697087820331, 37.211575171929105, 23.515368404083777, 38.58980729905442, 17.98439055279355, 17.105563658342962, 16.230922916802463, 72.42461239281711, 67.71659399446898, 30.45878346602262, 23.600547906358386, 27.717802920441834, 138.0756899896836, 48.07455768864581, 46.91310197809608, 13.037309671196025, 22.365896890751003, 51.426963794975805, 40.80954044606506, 35.8885328352506, 16.86463342042604, 10.138846615037503, 58.124269027383605, 16.433466413483757, 255.49763648583323, 25.66699256229744, 20.671396135121032, 15.535854087611693, 103.04073002789153, 522.037420585336, 14.452994662223206, 35.91957217575438, 58.00819852613115, 46.46614896043488, 112.00936878234877, 239.57348833987515, 157.626770464116, 66.98817866452626, 129.5020262812373, 71.9305047506976, 847.255808013874, 55.18890489284774, 80.85577833240465, 56.07407675893063, 89.96715759639949, 61.91268684003719, 140.16340367380423, 181.25534592848177, 290.017500727184, 83.3097966912497, 122.68832239814087, 73.90085331661209, 152.5501098882104, 103.6981257284904, 154.73171926305412, 122.86083010721737, 76.53094857155173, 96.80657401065908, 112.92668580758337, 74.44913258688673, 74.10511510263554, 76.48389284144405, 70.8084625382484, 31.299739727926344, 21.426719356672265, 21.42401362610096, 185.84680572939916, 15.656168804733166, 61.39177120389025, 113.78050749233213, 34.15274862568698, 29.91373465423729, 39.23549164347846, 19.959416819945602, 29.42562735292752, 33.43043112154073, 44.159159349521865, 13.196469231986109, 71.23934904943624, 13.228120868209215, 14.930925864693217, 30.3324994924657, 17.418965259444107, 96.28326220058354, 590.7603294837841, 8.236346135663304, 20.76421148565856, 19.68889138367331, 22.52874393710405, 105.03582871933857, 18.929223974720784, 9.016440186990831, 19.2495175368294, 51.30228805776298, 162.89137024578503, 68.88053642906304, 171.97864212996367, 100.7423927654699, 323.50590934292285, 251.05120672922192, 81.57104053796877, 513.0568732119432, 80.00975174411731, 68.97815052973783, 224.3838725519682, 107.72650244115883, 128.27311907427315, 83.33658817952461, 63.82279003258149, 101.33761885780535, 89.1924991195272, 93.77537464865378, 110.1974881572649, 64.02971564833695, 95.9130489917266, 71.14130203187004, 79.19705418055169, 69.61890649154272, 64.48848200733151, 1081.009047636932, 195.43699058759188, 96.24768344428854, 31.394972952148738, 19.528757853664786, 9.366362400192212, 174.73910783209053, 170.19643223153162, 762.2823382345459, 143.41691506948752, 169.91235847835247, 24.073983243717997, 204.24813038812155, 10.630930607850445, 66.42581618266402, 14.450380332285784, 23.162013572270432, 16.987739332944432, 89.13263511646292, 46.77931462039448, 33.33445381458494, 12.744679111030292, 144.64259305008295, 187.05647806342037, 49.9511793450259, 10.58453350689115, 24.408551896722006, 194.1474232160431, 10.251870179229, 11.006420035774513, 1807.7781423315193, 72.81844718319387, 35.56956776377574, 184.95543424802995, 184.8825979242532, 225.2631456408639, 142.00222881497956, 131.02687259905625, 329.4848606883464, 158.15050986941586, 66.19076488524948, 236.38174777835295, 164.05279108978408, 68.34078365820902, 72.65751466083435, 107.74777381589128, 76.9390279105119, 16.942763877417647, 13.569709129393488, 11.158775219911076, 38.81330719452495, 70.17688591404763, 55.217004416038144, 70.1063972222268, 82.23946073530875, 200.8746594053209, 12.707443963838783, 175.3513716005413, 23.052881789924637, 45.5662722932712, 69.36711918796624, 18.925632367037416, 128.15968055334116, 17.006015989487594, 67.84955265662568, 35.47307897710371, 22.614412918558312, 22.853856996348085, 71.63966318295837, 18.388579730449422, 12.118088336942678, 15.919936726592187, 9.355806277383369, 26.918747222133252, 25.50584223056247, 19.10047503902798, 18.818504397700767, 45.677759671906635, 132.6311923499712, 323.93447000933844, 44.46739160611945, 34.73154682861309, 140.67261787334093, 96.492558366867, 161.65548465703506, 46.312253142557395, 100.75423117753157, 68.60114894893218, 160.4490097005079, 122.34823277631644, 40.683995800345286, 207.0957130734387, 64.62089515657021, 96.83746165513121, 215.8201193344712, 238.10659434915524, 155.51521399819012, 129.73344119999436, 130.92655021157995, 142.09110655984423, 105.07400298877361, 87.05545515804035, 73.36020317628906, 65.04805774018755, 132.87838872808803, 132.30407228747902, 82.01849343493933, 67.45404650596073, 913.9674521418636, 201.98411434210024, 28.70000088025637, 28.196350400806892, 25.69871368104528, 23.166437093998688, 27.616645053698036, 14.121763761266102, 56.94805239868128, 19.617369227555393, 79.51497611292172, 32.766117441833124, 43.40157760878679, 20.898588165614967, 72.79552115015858, 11.436520427020588, 9.722795830995796, 28.798415069388092, 61.82950913141101, 18.625283191551823, 245.60273317155892, 23.495075479175387, 20.672378497570808, 30.64417379870493, 62.66629632106712, 12.747776249202369, 48.20415370427072, 356.8160511387748, 75.57613371427499, 117.25428017888744, 233.54151921042572, 34.365220648250684, 63.38755278016943, 270.95887906235237, 35.994964991406405, 133.1528536940938, 83.02513879949677, 84.68950326311996, 74.95666025137248, 240.5941661744845, 256.98435645854664, 84.74681642627577, 103.07633375976827, 125.65689857554814, 72.01048247048251, 77.6008223064596, 70.57456498932795, 63.84987317055981, 264.3724479413926, 22.84992870972823, 20.67583832101251, 296.5691797836496, 25.274556324656935, 44.44136760171844, 36.614811321575765, 28.131861014805, 34.050106394881134, 113.52884915262649, 167.26925740508284, 76.61930450318796, 15.630847151885236, 161.5637381836096, 10.817166661805222, 7.785319765086392, 51.353767871006426, 14.821784847378359, 7.975460969977387, 16.60878695158618, 17.261972802006117, 28.331638982061346, 70.7121184248666, 218.0793460870271, 18.835519616654665, 4.132965786584103, 18.169718332640112, 8.962794814624639, 14.05397178101828, 8.818997466932169, 112.189816299737, 129.04074715259378, 70.82224166676467, 40.76186939895342, 54.82672137976001, 114.38620537262803, 36.28700578796985, 152.55579009944879, 629.8959866011993, 408.2525779329446, 364.8725862011217, 488.11337356745196, 88.58237631216824, 241.4696949172473, 78.81621032929372, 70.36474282065107, 86.26782300417408, 201.43737144318385, 104.90283650131526, 88.04898520983582, 105.38520213848952, 73.72785886769354, 62.77634322095165, 65.20459789537622, 64.23644900317571], \"Total\": [8010.0, 4884.0, 2436.0, 2179.0, 2521.0, 5108.0, 2492.0, 6174.0, 4091.0, 3855.0, 4621.0, 3055.0, 2853.0, 2179.0, 6932.0, 1907.0, 1762.0, 2013.0, 1973.0, 1081.0, 3239.0, 1612.0, 1286.0, 926.0, 1268.0, 2266.0, 2443.0, 880.0, 3569.0, 864.0, 540.1009110137951, 473.35324316997315, 447.25387975536637, 337.8128012362948, 265.4313047143079, 209.73974572834118, 197.67266573243685, 186.53305467866167, 174.4687307491239, 145.69131991562676, 129.91224365646062, 98.35436317108596, 95.56918818568799, 83.50211650148711, 80.71962570552614, 64.93840991716067, 60.29346434736811, 54.72954295583809, 53.79684188279701, 51.015228593604135, 50.06093249300219, 46.371766515196676, 40.80672072536224, 40.80630545391801, 38.020335202581556, 35.23667756598662, 32.45053692938674, 214.2530415661625, 31.52505624926549, 30.59241589141173, 185.81847589418538, 227.8895039375272, 503.168860811771, 360.01696594193476, 529.3182362231186, 190.45923021140473, 126.8133275573612, 441.1390411956281, 8010.746141136518, 451.9346139214482, 151.42347282234957, 220.57189503679882, 571.8217663552163, 239.30112999191488, 558.7329539408494, 319.58720096416505, 3569.1679492187936, 1907.8436466660035, 3239.602041525227, 3855.7120861730014, 606.0302922307517, 4621.348863100949, 1089.7196307757742, 508.57409208329614, 836.7791135613005, 1702.3397748034542, 2510.365464896588, 2401.435428941841, 1829.5638908212557, 779.2753738941744, 1115.2258947875016, 4091.044661933236, 1331.4449175783748, 412.07527335095915, 52.52212712722044, 22.053723734353007, 19.467239857039427, 18.72531313375122, 19.478102617430523, 17.97462504768103, 13.523878436434817, 2492.9969103797584, 243.8861411664641, 859.9269710273044, 39.130616122260584, 141.58361940416924, 188.74890766652248, 19.677440114120238, 93.8250434201454, 31.453674711602886, 108.0782801471384, 51.265680007976854, 129.8464071648387, 139.71002344289076, 120.96393325270533, 238.704717836881, 82.6646448640739, 23.027477218476406, 25.432556830177, 641.2568812883032, 32.750278605898174, 37.02767308486284, 16.605955859177506, 177.88302811575704, 111.77320650118959, 246.1937783451003, 815.8121559401377, 194.71157413500697, 294.2219241455633, 308.15623635297874, 246.94397765714493, 895.82119852848, 335.51393646426817, 141.08968180960696, 318.6394411374669, 232.1484054955111, 640.8307565720281, 2443.8544176692603, 2401.435428941841, 6932.031249047612, 415.71837573433606, 6174.533703039016, 4884.263175981031, 1089.7196307757742, 2013.395087887756, 1237.7457398618162, 4621.348863100949, 2853.3871231314583, 783.4172068125335, 922.8179104551311, 2179.3050346497766, 2510.365464896588, 101.54000775681256, 68.226344858103, 63.567666125072385, 25.089783779740678, 22.810169646888355, 21.333532087734266, 14.506693797242175, 1268.2433028843393, 29.939699922319328, 2521.686391631563, 25.904471097108186, 40.431576844010955, 99.20041960160175, 73.04819075918275, 28.54217121922041, 25.429417515912814, 1907.8436466660035, 31.12352994915653, 14.85572749696088, 26.424672584451585, 46.187716171283625, 26.605238539886948, 22.65766433097936, 22.718235749903652, 59.28105711256221, 674.4678180518447, 20.393276864592885, 117.2375258217183, 76.48138776694844, 50.11828577039783, 865.145233558033, 8010.746141136518, 466.47249795548584, 378.2399954077622, 571.8217663552163, 89.03951469150745, 413.1389427399742, 172.3182307698136, 319.58720096416505, 124.21633338918662, 2401.435428941841, 4091.044661933236, 5108.508774863889, 328.7084620661487, 754.8058206156505, 3239.602041525227, 269.5355209568256, 1009.4295026792287, 3855.7120861730014, 940.4325339976364, 6174.533703039016, 2510.365464896588, 1237.7457398618162, 3569.1679492187936, 1085.0511842622711, 1115.2258947875016, 453.0336471720683, 105.12078333159623, 67.70867373543577, 601.920781820665, 26.661746523308384, 23.806065859227456, 28.53099207126056, 14.735164334705619, 79.96841724043048, 13.77445111308581, 13.774426994541258, 12.361593421045567, 70.44364459301018, 52.110414530469704, 9.967477973641232, 9.951499952203928, 9.499803112348767, 347.5402497203347, 96.18447573353575, 86.79710775107174, 114.40304006618004, 174.42622887786618, 173.13633310342135, 19.377359211639348, 66.78864382971167, 79.95719904326461, 19.916518789932706, 88.79873827346293, 25.279986376942425, 101.43654609887882, 208.74375418786045, 209.48579984696264, 951.3605897300005, 2179.6581946026436, 1973.91668367924, 259.454652639682, 167.58601804825048, 180.1184352822519, 145.0295716803969, 307.6300863082225, 3055.8617096256285, 625.2073513791606, 2853.3871231314583, 983.5135310614302, 496.6491685217251, 2510.365464896588, 251.70300826383337, 1792.008807672679, 508.4678997106761, 922.8179104551311, 1331.4449175783748, 773.5927109103328, 4884.263175981031, 887.6034826685091, 606.3414303901693, 2401.435428941841, 4621.348863100949, 1829.5638908212557, 1702.3397748034542, 111.72428654406124, 256.7331491738416, 30.946405380526887, 53.433818342652756, 26.243449520991835, 145.69620182598328, 19.567006286642027, 49.83230472609084, 104.3415980396986, 48.686781564988685, 21.60058420847371, 218.32755125498474, 11.027397143562183, 50.41516881739149, 107.47809874115288, 279.63858991317727, 2853.3871231314583, 38.99501375476138, 15.384294856263375, 120.13180288462691, 16.696122935280037, 30.605295479825653, 496.57118779546204, 29.238824599109552, 60.018260853427094, 32.22586878674164, 173.306529628478, 39.99688765077984, 15.466230946394866, 19.40360290206375, 4621.348863100949, 125.10444058845621, 224.8440615801853, 293.0738500557068, 136.8744591363456, 108.15196731507008, 76.0838858112212, 409.6181261807604, 379.78997493558825, 2179.6581946026436, 1973.91668367924, 6932.031249047612, 983.5135310614302, 234.5696865942604, 2266.678235278865, 895.82119852848, 6174.533703039016, 303.42247220851976, 307.6300863082225, 1217.9429936037193, 4884.263175981031, 922.8179104551311, 294.9602085999351, 1829.5638908212557, 887.6034826685091, 3055.8617096256285, 2013.395087887756, 1792.008807672679, 864.8130308126374, 3569.1679492187936, 319.48226955671373, 12.298307568245924, 1286.9301745211535, 30.021706420971157, 1762.9485606917674, 51.95364992977171, 225.5449163976546, 38.005655470211416, 11.328507982877209, 16.29084875844914, 240.67319596472203, 548.9299626634897, 431.1069428439803, 540.3138676686278, 99.18425480363275, 126.80865763169024, 23.881187041096066, 12.914197891530252, 18.29246826563355, 24.762519377731646, 6174.533703039016, 209.20092518946038, 111.38183131123229, 13.579734959853948, 4091.044661933236, 3239.602041525227, 27.06820124792625, 99.4928600517247, 45.01402402141309, 15.40208478098352, 196.91514845153114, 417.0683274469844, 440.6145011197723, 510.18866279405506, 166.03343400047368, 122.37472393922671, 940.4325339976364, 5108.508774863889, 425.60656191243237, 857.226167329085, 1829.5638908212557, 337.04872719409036, 6932.031249047612, 1702.3397748034542, 453.0336471720683, 3855.7120861730014, 741.3125541573874, 1217.9429936037193, 3569.1679492187936, 2510.365464896588, 32.72037574083837, 30.095613982059533, 24.441716906257327, 21.82456421652744, 20.503531943034854, 12.674674665116179, 145.8713302714088, 280.5163110080584, 95.07216625672265, 49.63898883018448, 54.69005749468339, 22.00385677513213, 328.7698917028749, 23.418635792708287, 30.60643621547618, 13.503488800213638, 28.44955153268134, 565.4520038840449, 60.44260671389824, 18.115125331283547, 17.664840115102184, 22.50575102721895, 357.60341011343434, 28.97744775490832, 40.98803806337385, 21.684688436430108, 32.684856122409805, 15.911670653414967, 27.285164509059122, 53.172404620050706, 61.5527087078814, 192.20717200613177, 2266.678235278865, 3055.8617096256285, 103.30272553430066, 58.97418816911712, 201.87203481652514, 1043.0629179728219, 166.69410550847144, 625.2073513791606, 1009.4295026792287, 1792.008807672679, 305.1942893807335, 209.4644386008977, 754.8058206156505, 306.6062154913729, 343.94402616289307, 214.0832145946871, 156.12946258047555, 577.0165338455398, 269.26073227749197, 2510.365464896588, 1331.4449175783748, 6174.533703039016, 713.7285699783225, 1354.5601700800134, 772.064639804531, 983.5135310614302, 3569.1679492187936, 1217.9429936037193, 3239.602041525227, 44.50217328363069, 33.38232750899176, 24.22592682277879, 19.147050894639538, 16.106274797515162, 16.105330604331527, 15.091365498545258, 40.99027243838248, 72.73042218066519, 92.64240312159204, 54.339445803393524, 26.136460111622984, 193.74269497372535, 23.594466861188604, 36.01557237900383, 80.15024461151881, 30.106293035567745, 35.60224421744858, 322.47598622113503, 25.970479994648915, 21.48821394791862, 34.13084848738655, 230.2076572738487, 22.98221048329022, 23.963312979501826, 17.048847128485722, 26.374744944103718, 74.9877330469237, 71.6433404642117, 37.00122721424741, 317.04782971236494, 112.39819795906797, 255.0917834902802, 49.34123925519617, 127.19013878933556, 151.094910459725, 185.50694908862053, 260.50881879389556, 119.23915345931985, 1331.4449175783748, 315.5774317146854, 92.99009276003622, 172.0492739099174, 346.1773641906917, 2443.8544176692603, 164.95565865562986, 1792.008807672679, 606.3414303901693, 1019.0902920029689, 887.6034826685091, 330.6735429513955, 865.9708371710169, 298.78372782001026, 340.9182984219297, 3239.602041525227, 6932.031249047612, 606.0302922307517, 3569.1679492187936, 2510.365464896588, 496.57118779546204, 322.62742057955114, 552.8649787793646, 1089.7196307757742, 300.52018630031796, 114.507618632707, 16.007930093876205, 19.776567556176143, 30.10676515826241, 51.548421354930966, 41.01384047934986, 220.06598486061978, 22.31307531129425, 34.80858426920155, 31.399154596292803, 18.377342130541088, 190.14082111441073, 227.48466214911844, 24.03797032254319, 57.014439251888994, 722.3327689003439, 1085.0511842622711, 495.830217471296, 99.3842088852864, 33.77514507183657, 108.15196731507008, 62.541761121857135, 307.04787958218935, 243.23045088176008, 42.8312414475703, 21.015997109894528, 17.226451896278615, 22.757008452351478, 21.207927537788706, 37.698571676178304, 5108.508774863889, 354.72410107958956, 434.7337893909923, 423.2336448090386, 453.0336471720683, 344.73172629089515, 857.226167329085, 500.04053916990944, 4091.044661933236, 379.78997493558825, 887.7896432907656, 192.87314088552105, 6932.031249047612, 425.60656191243237, 983.5135310614302, 772.064639804531, 940.4325339976364, 372.13441043562904, 387.38947337922247, 1237.7457398618162, 6174.533703039016, 466.47249795548584, 1792.008807672679, 2436.4272443394198, 26.57792411483884, 19.686089562144513, 18.53961726441423, 17.768392358356113, 13.933382568709792, 30.236454181029124, 2179.3050346497766, 240.8755179787481, 21.9078530543453, 42.34395855156371, 27.65853167853118, 720.4602382944299, 13.17456192854499, 50.64239240777789, 22.343492511274285, 59.182279004032175, 40.9512012850727, 14.776415377640907, 100.75750231622052, 53.91889911879282, 783.4172068125335, 46.93844769924644, 438.696032646061, 129.15110596173542, 147.27360833040203, 44.65822183231925, 29.057826662204057, 36.02635031864895, 507.4594613804823, 173.22461151350961, 133.1770806037306, 4884.263175981031, 227.7342323257354, 308.15623635297874, 164.4820848329591, 335.51393646426817, 4621.348863100949, 6932.031249047612, 3055.8617096256285, 1354.5601700800134, 2853.3871231314583, 880.0107057612503, 773.5927109103328, 577.0165338455398, 3855.7120861730014, 1829.5638908212557, 1217.9429936037193, 922.8179104551311, 293.0738500557068, 2510.365464896588, 5108.508774863889, 2443.8544176692603, 2013.395087887756, 2266.678235278865, 6174.533703039016, 51.37935403795934, 21.178807221279925, 18.596106094013983, 489.51378126656095, 73.0980011759422, 25.311752842080917, 25.71531207352522, 23.00613268481464, 21.419729353120356, 50.72872223129959, 88.46830547372737, 86.41184485331388, 16.282581956376745, 16.684676970526294, 58.72601906727547, 21.296453371296934, 50.688559801947456, 476.4899462072768, 26.4868466617317, 186.84296697980756, 40.45853425981523, 55.498712124577324, 212.13544308159885, 340.9182984219297, 61.445214641382904, 26.56776883432806, 69.36290723699854, 33.753518863916405, 50.58508763338282, 88.07350327850102, 109.78450799987704, 80.19856388561752, 184.01373060737873, 172.93471205948146, 1115.2258947875016, 320.98857832236325, 1612.1179995860266, 2443.8544176692603, 704.6588245641573, 279.63858991317727, 3569.1679492187936, 144.0667361089057, 346.1773641906917, 472.56353732481875, 5108.508774863889, 123.45596744611345, 1217.9429936037193, 387.38947337922247, 6932.031249047612, 462.0036339672696, 2510.365464896588, 3239.602041525227, 4091.044661933236, 435.5389634756043, 2013.395087887756, 1019.0902920029689, 1237.7457398618162, 547.3850972769421, 865.145233558033, 4621.348863100949, 6174.533703039016, 311.4140463167641, 182.19358340264998, 33.04044380848328, 23.531307370512824, 15.468395880656193, 15.468000944499849, 18.8025572375736, 13.454906331297437, 42.61145498066568, 30.970534523603945, 26.748250351752805, 18.525480100244618, 21.643445240174767, 25.480387464182726, 38.775849301705136, 17.47910671991865, 33.26352206060391, 190.39528408866735, 58.827474280565596, 26.549029449118695, 47.42693731189802, 158.87080789483872, 15.162926149700397, 83.78764968634243, 34.944675895231086, 374.2084981650857, 32.78863417100424, 28.050596156680733, 77.82424055969955, 16.556548212194556, 58.62638002791187, 3855.7120861730014, 78.06501780895869, 358.39094593140953, 93.99140637050927, 814.4124196571662, 508.57409208329614, 294.69824118888477, 587.7274261088453, 361.49294764531464, 183.46650058134549, 836.7791135613005, 1702.3397748034542, 815.8121559401377, 218.77115158120972, 212.13544308159885, 1762.9485606917674, 5108.508774863889, 125.02019499322518, 1115.2258947875016, 472.56353732481875, 1829.5638908212557, 2510.365464896588, 3569.1679492187936, 323.2848845710201, 3055.8617096256285, 741.3125541573874, 275.25346828171956, 4884.263175981031, 857.226167329085, 2401.435428941841, 1217.9429936037193, 37.03608069826144, 26.352786359353736, 130.61260930715628, 365.2245063434332, 16.906073307440668, 16.511672768269158, 12.807350869135258, 86.1190057160118, 39.89188788959893, 20.845410056501144, 427.93389750218665, 60.206192604254056, 864.8130308126374, 776.6455476344839, 213.9042316996781, 2013.395087887756, 415.71837573433606, 1612.1179995860266, 34.20781353636657, 14.688537034281486, 19.344366402299677, 281.1242201390062, 12.914197891530252, 35.03462514691327, 100.25509849812391, 24.94959066387542, 102.57525259169967, 25.815457082093065, 180.30214029808033, 29.747128885937894, 704.6588245641573, 407.6255698014671, 63.38564776235224, 606.3414303901693, 4884.263175981031, 1973.91668367924, 2179.6581946026436, 198.8712925945792, 720.4602382944299, 783.4172068125335, 206.06569655135573, 263.56436373891904, 6932.031249047612, 773.5927109103328, 507.4594613804823, 313.3139343388682, 2401.435428941841, 6174.533703039016, 2510.365464896588, 359.74895024298274, 1237.7457398618162, 234.0785020858935, 48.235989162903465, 46.258790921768274, 39.38382288003853, 393.67522743519305, 38.440733223405466, 28.51161802596782, 162.04908650250644, 17.662924660022153, 58.4765438332949, 372.68285207315745, 27.050047795458266, 66.35087422494443, 33.30436483086769, 316.7939476153579, 26.242522709583554, 38.29664903490878, 18.32335963432762, 79.43070986701116, 31.878730600551904, 114.34862514048334, 71.62884421326478, 33.10024389513832, 296.2334367785984, 21.975492858402166, 31.78484017132326, 259.03091282283896, 41.77341450317944, 22.283773119727968, 42.04075572155177, 159.77738713869908, 207.61082129329304, 113.92393200864637, 101.63421618106983, 56.315599259133386, 371.0460208934654, 407.6255698014671, 3569.1679492187936, 503.8748855059431, 400.09952632529996, 6932.031249047612, 156.73489667445958, 207.49009704348558, 132.34216248564996, 4621.348863100949, 2492.9969103797584, 6174.533703039016, 772.064639804531, 640.8307565720281, 1829.5638908212557, 362.5281345803354, 2510.365464896588, 3855.7120861730014, 895.82119852848, 2401.435428941841, 38.07184289798629, 24.520105578086635, 40.392042543856405, 18.844397393883295, 17.965571411648856, 17.090935224408934, 82.35281638713379, 77.40221314404282, 35.62625063033679, 28.402047000445332, 33.86084738834994, 178.85147324137284, 62.852942579745196, 64.60756740684062, 18.151628759142184, 31.298496896879257, 73.84969998185237, 60.51643401464386, 54.42808090508077, 25.666971554656055, 15.465866789166707, 89.23933159011362, 25.729872167260964, 400.09952632529996, 40.42920345516942, 33.47177624051707, 26.085833741246066, 173.05877572251566, 887.7896432907656, 25.614387813133714, 67.38666670606278, 116.915814817548, 92.39020117552263, 269.26073227749197, 736.2058520554829, 435.5389634756043, 150.24796262003713, 358.2740244744204, 166.69410550847144, 6932.031249047612, 129.11401936102936, 247.305733287144, 144.81315637383167, 348.91359019779856, 174.5870046146898, 951.3605897300005, 1792.008807672679, 6174.533703039016, 374.2084981650857, 983.5135310614302, 294.9602085999351, 2510.365464896588, 865.9708371710169, 3569.1679492187936, 2266.678235278865, 547.3850972769421, 1702.3397748034542, 4621.348863100949, 508.4678997106761, 565.4520038840449, 1009.4295026792287, 71.6709114998492, 32.16270362446637, 22.289171055369465, 22.286447475615308, 194.1661775818125, 16.524361875589044, 67.91673886507668, 128.37818178547397, 39.12815705434188, 34.81909841678478, 47.98536793746005, 24.727428392412072, 36.5788097283975, 42.39167338940179, 59.578557426971436, 18.615327477878804, 103.18535667771046, 19.57647272607539, 23.043430384153556, 46.971714327895334, 27.189475857117046, 150.83129158331062, 942.4553863442585, 13.22305068248856, 34.090160673729905, 32.55801224767357, 37.77243364482488, 178.13776416772177, 32.4810837227979, 15.542023326819674, 33.19753628466921, 95.05674160754012, 348.91359019779856, 157.9276722510518, 865.9708371710169, 392.40233716486824, 2443.8544176692603, 1702.3397748034542, 333.0502655313888, 6932.031249047612, 359.74895024298274, 303.42247220851976, 3569.1679492187936, 776.6455476344839, 1331.4449175783748, 503.8748855059431, 294.69824118888477, 1115.2258947875016, 1019.0902920029689, 1217.9429936037193, 3855.7120861730014, 448.23636541368757, 5108.508774863889, 922.8179104551311, 4621.348863100949, 1829.5638908212557, 836.7791135613005, 1081.8720274217471, 196.29852269902918, 97.11605562564324, 32.25624363765383, 20.397245386261407, 10.227639815535127, 191.65431167780062, 186.97661681923987, 880.0107057612503, 165.84830285240082, 201.10015229000183, 28.72094263560031, 245.98799943185375, 14.988260045716654, 93.89048559947928, 22.0840375409987, 38.5674201371364, 29.144104370739136, 153.89492440231544, 82.39936916784768, 60.44773562045844, 23.195503348807584, 263.56436373891904, 347.21149021684374, 100.75750231622052, 22.62153580693819, 55.03984786457374, 438.696032646061, 26.77839180848366, 28.864039443032972, 4884.263175981031, 195.47577229324133, 95.45631373657794, 741.3125541573874, 773.5927109103328, 1354.5601700800134, 783.4172068125335, 922.8179104551311, 6932.031249047612, 1829.5638908212557, 362.5281345803354, 6174.533703039016, 3855.7120861730014, 552.8649787793646, 779.2753738941744, 4621.348863100949, 1217.9429936037193, 17.802575670623746, 14.425525537615375, 12.014582744382249, 42.33910046712797, 76.6312011186037, 64.03513797262318, 82.24894340177089, 98.48124453685533, 245.62782277047958, 17.166832199026558, 250.07833785396667, 33.422838674053324, 67.39233217714208, 104.01818060476909, 28.787222691341636, 197.43116714514412, 26.61071034641224, 106.54375908392947, 55.753051788419754, 35.89682035080032, 36.91676308769373, 116.82625676563936, 30.613878705164886, 20.202474664657313, 26.704947522445202, 16.362682865918902, 47.20850145345468, 45.29698169811077, 34.49756183535473, 34.12772704795776, 84.17452246494294, 256.18571519469566, 736.2058520554829, 89.61967405358982, 69.16007325284465, 433.4591032378622, 275.25346828171956, 558.7329539408494, 103.52723276054469, 322.9056705658921, 198.1179192355894, 779.2753738941744, 552.8649787793646, 94.15418731948438, 1829.5638908212557, 251.70300826383337, 577.0165338455398, 3239.602041525227, 5108.508774863889, 2266.678235278865, 1792.008807672679, 3569.1679492187936, 6932.031249047612, 2401.435428941841, 1115.2258947875016, 887.7896432907656, 606.0302922307517, 133.73253489747174, 133.16173592116093, 82.87246599969524, 68.30876386602561, 926.8891576268129, 207.44009909415934, 29.553971819219175, 29.05335810552695, 26.552682428575032, 24.020405088940464, 28.93937995052044, 14.975736240201384, 68.58064824538266, 23.781010154366363, 100.16731283400215, 41.366410507571295, 55.16398029670485, 26.568675465756584, 94.78707603445122, 15.298102206071192, 13.066035172909267, 39.933467378339, 86.27260778437436, 26.389105769673755, 350.02337206833346, 34.348342391018306, 31.419692565506335, 47.431971789034435, 99.4928600517247, 20.76038770021451, 80.00232291567303, 637.8941741785134, 129.26055075519892, 211.11665035735834, 559.6602463935131, 61.88889198329141, 166.51121644053154, 2401.435428941841, 69.79466336492082, 779.2753738941744, 328.7084620661487, 359.10813306233996, 281.4481262435936, 3239.602041525227, 3855.7120861730014, 549.9810285733553, 1089.7196307757742, 2013.395087887756, 448.23636541368757, 1043.0629179728219, 1019.0902920029689, 2521.686391631563, 265.24686742244035, 23.711389434522403, 21.53670054873548, 318.05200135647556, 29.629711813878934, 52.24303819022179, 44.88375654019714, 34.48795568584974, 42.26606337583415, 172.7777129528002, 269.9613624497719, 124.68847693932932, 25.53370576164314, 277.0839735679383, 18.76762660528113, 13.579734959853948, 90.73651866828794, 26.445981012839347, 14.609335745651329, 30.678797201245594, 33.50785737646147, 57.72069068224266, 156.50817750769346, 503.8748855059431, 45.370481063794784, 10.500072006163439, 46.59954413548924, 23.197615559682525, 37.57482236231834, 23.66535197936426, 303.42247220851976, 361.49294764531464, 196.91514845153114, 112.28890210827899, 156.73489667445958, 435.5389634756043, 103.0163546601257, 887.6034826685091, 6932.031249047612, 4091.044661933236, 3569.1679492187936, 6174.533703039016, 453.0336471720683, 2443.8544176692603, 379.78997493558825, 314.09327645070726, 540.3138676686278, 4884.263175981031, 1019.0902920029689, 704.6588245641573, 1354.5601700800134, 772.064639804531, 417.0683274469844, 1085.0511842622711, 3855.7120861730014], \"Category\": [\"Default\", \"Default\", \"Default\", \"Default\", \"Default\", \"Default\", \"Default\", \"Default\", \"Default\", \"Default\", \"Default\", \"Default\", \"Default\", \"Default\", \"Default\", \"Default\", \"Default\", \"Default\", \"Default\", \"Default\", \"Default\", \"Default\", \"Default\", \"Default\", \"Default\", \"Default\", \"Default\", \"Default\", \"Default\", \"Default\", \"Topic1\", \"Topic1\", \"Topic1\", \"Topic1\", \"Topic1\", \"Topic1\", \"Topic1\", \"Topic1\", \"Topic1\", \"Topic1\", \"Topic1\", \"Topic1\", \"Topic1\", \"Topic1\", \"Topic1\", \"Topic1\", \"Topic1\", \"Topic1\", \"Topic1\", \"Topic1\", \"Topic1\", \"Topic1\", \"Topic1\", \"Topic1\", \"Topic1\", \"Topic1\", \"Topic1\", \"Topic1\", \"Topic1\", \"Topic1\", \"Topic1\", \"Topic1\", \"Topic1\", \"Topic1\", \"Topic1\", \"Topic1\", \"Topic1\", \"Topic1\", \"Topic1\", \"Topic1\", \"Topic1\", \"Topic1\", \"Topic1\", \"Topic1\", \"Topic1\", \"Topic1\", \"Topic1\", \"Topic1\", \"Topic1\", \"Topic1\", \"Topic1\", \"Topic1\", \"Topic1\", \"Topic1\", \"Topic1\", \"Topic1\", \"Topic1\", \"Topic1\", \"Topic1\", \"Topic1\", \"Topic1\", \"Topic1\", \"Topic1\", \"Topic2\", \"Topic2\", \"Topic2\", \"Topic2\", \"Topic2\", \"Topic2\", \"Topic2\", \"Topic2\", \"Topic2\", \"Topic2\", \"Topic2\", \"Topic2\", \"Topic2\", \"Topic2\", \"Topic2\", \"Topic2\", \"Topic2\", \"Topic2\", \"Topic2\", \"Topic2\", \"Topic2\", \"Topic2\", \"Topic2\", \"Topic2\", \"Topic2\", \"Topic2\", \"Topic2\", \"Topic2\", \"Topic2\", \"Topic2\", \"Topic2\", \"Topic2\", \"Topic2\", \"Topic2\", \"Topic2\", \"Topic2\", \"Topic2\", \"Topic2\", \"Topic2\", \"Topic2\", \"Topic2\", \"Topic2\", \"Topic2\", \"Topic2\", \"Topic2\", \"Topic2\", \"Topic2\", \"Topic2\", \"Topic2\", \"Topic2\", \"Topic2\", \"Topic2\", \"Topic2\", \"Topic2\", \"Topic2\", \"Topic2\", \"Topic2\", \"Topic2\", \"Topic2\", \"Topic3\", \"Topic3\", \"Topic3\", \"Topic3\", \"Topic3\", \"Topic3\", \"Topic3\", \"Topic3\", \"Topic3\", \"Topic3\", \"Topic3\", \"Topic3\", \"Topic3\", \"Topic3\", \"Topic3\", \"Topic3\", \"Topic3\", \"Topic3\", \"Topic3\", \"Topic3\", \"Topic3\", \"Topic3\", \"Topic3\", \"Topic3\", \"Topic3\", \"Topic3\", \"Topic3\", \"Topic3\", \"Topic3\", \"Topic3\", \"Topic3\", \"Topic3\", \"Topic3\", \"Topic3\", \"Topic3\", \"Topic3\", \"Topic3\", \"Topic3\", \"Topic3\", \"Topic3\", \"Topic3\", \"Topic3\", \"Topic3\", \"Topic3\", \"Topic3\", \"Topic3\", \"Topic3\", \"Topic3\", \"Topic3\", \"Topic3\", \"Topic3\", \"Topic3\", \"Topic3\", \"Topic3\", \"Topic3\", \"Topic3\", \"Topic3\", \"Topic4\", \"Topic4\", \"Topic4\", \"Topic4\", \"Topic4\", \"Topic4\", \"Topic4\", \"Topic4\", \"Topic4\", \"Topic4\", \"Topic4\", \"Topic4\", \"Topic4\", \"Topic4\", \"Topic4\", \"Topic4\", \"Topic4\", \"Topic4\", \"Topic4\", \"Topic4\", \"Topic4\", \"Topic4\", \"Topic4\", \"Topic4\", \"Topic4\", \"Topic4\", \"Topic4\", \"Topic4\", \"Topic4\", \"Topic4\", \"Topic4\", \"Topic4\", \"Topic4\", \"Topic4\", \"Topic4\", \"Topic4\", \"Topic4\", \"Topic4\", \"Topic4\", \"Topic4\", \"Topic4\", \"Topic4\", \"Topic4\", \"Topic4\", \"Topic4\", \"Topic4\", \"Topic4\", \"Topic4\", \"Topic4\", \"Topic4\", \"Topic4\", \"Topic4\", \"Topic4\", \"Topic4\", \"Topic4\", \"Topic4\", \"Topic4\", \"Topic4\", \"Topic5\", \"Topic5\", \"Topic5\", \"Topic5\", \"Topic5\", \"Topic5\", \"Topic5\", \"Topic5\", \"Topic5\", \"Topic5\", \"Topic5\", \"Topic5\", \"Topic5\", \"Topic5\", \"Topic5\", \"Topic5\", \"Topic5\", \"Topic5\", \"Topic5\", \"Topic5\", \"Topic5\", \"Topic5\", \"Topic5\", \"Topic5\", \"Topic5\", \"Topic5\", \"Topic5\", \"Topic5\", \"Topic5\", \"Topic5\", \"Topic5\", \"Topic5\", \"Topic5\", \"Topic5\", \"Topic5\", \"Topic5\", \"Topic5\", \"Topic5\", \"Topic5\", \"Topic5\", \"Topic5\", \"Topic5\", \"Topic5\", \"Topic5\", \"Topic5\", \"Topic5\", \"Topic5\", \"Topic5\", \"Topic5\", \"Topic5\", \"Topic5\", \"Topic5\", \"Topic5\", \"Topic5\", \"Topic5\", \"Topic5\", \"Topic5\", \"Topic5\", \"Topic5\", \"Topic5\", \"Topic6\", \"Topic6\", \"Topic6\", \"Topic6\", \"Topic6\", \"Topic6\", \"Topic6\", \"Topic6\", \"Topic6\", \"Topic6\", \"Topic6\", \"Topic6\", \"Topic6\", \"Topic6\", \"Topic6\", \"Topic6\", \"Topic6\", \"Topic6\", \"Topic6\", \"Topic6\", \"Topic6\", \"Topic6\", \"Topic6\", \"Topic6\", \"Topic6\", \"Topic6\", \"Topic6\", \"Topic6\", \"Topic6\", \"Topic6\", \"Topic6\", \"Topic6\", \"Topic6\", \"Topic6\", \"Topic6\", \"Topic6\", \"Topic6\", \"Topic6\", \"Topic6\", \"Topic6\", \"Topic6\", \"Topic6\", \"Topic6\", \"Topic6\", \"Topic6\", \"Topic6\", \"Topic6\", \"Topic6\", \"Topic6\", \"Topic6\", \"Topic7\", \"Topic7\", \"Topic7\", \"Topic7\", \"Topic7\", \"Topic7\", \"Topic7\", \"Topic7\", \"Topic7\", \"Topic7\", \"Topic7\", \"Topic7\", \"Topic7\", \"Topic7\", \"Topic7\", \"Topic7\", \"Topic7\", \"Topic7\", \"Topic7\", \"Topic7\", \"Topic7\", \"Topic7\", \"Topic7\", \"Topic7\", \"Topic7\", \"Topic7\", \"Topic7\", \"Topic7\", \"Topic7\", \"Topic7\", \"Topic7\", \"Topic7\", \"Topic7\", \"Topic7\", \"Topic7\", \"Topic7\", \"Topic7\", \"Topic7\", \"Topic7\", \"Topic7\", \"Topic7\", \"Topic7\", \"Topic7\", \"Topic7\", \"Topic7\", \"Topic7\", \"Topic7\", \"Topic7\", \"Topic7\", \"Topic7\", \"Topic7\", \"Topic7\", \"Topic7\", \"Topic7\", \"Topic7\", \"Topic7\", \"Topic7\", \"Topic7\", \"Topic7\", \"Topic7\", \"Topic7\", \"Topic8\", \"Topic8\", \"Topic8\", \"Topic8\", \"Topic8\", \"Topic8\", \"Topic8\", \"Topic8\", \"Topic8\", \"Topic8\", \"Topic8\", \"Topic8\", \"Topic8\", \"Topic8\", \"Topic8\", \"Topic8\", \"Topic8\", \"Topic8\", \"Topic8\", \"Topic8\", \"Topic8\", \"Topic8\", \"Topic8\", \"Topic8\", \"Topic8\", \"Topic8\", \"Topic8\", \"Topic8\", \"Topic8\", \"Topic8\", \"Topic8\", \"Topic8\", \"Topic8\", \"Topic8\", \"Topic8\", \"Topic8\", \"Topic8\", \"Topic8\", \"Topic8\", \"Topic8\", \"Topic8\", \"Topic8\", \"Topic8\", \"Topic8\", \"Topic8\", \"Topic8\", \"Topic8\", \"Topic8\", \"Topic8\", \"Topic8\", \"Topic8\", \"Topic8\", \"Topic8\", \"Topic8\", \"Topic8\", \"Topic8\", \"Topic8\", \"Topic8\", \"Topic8\", \"Topic8\", \"Topic8\", \"Topic8\", \"Topic8\", \"Topic8\", \"Topic9\", \"Topic9\", \"Topic9\", \"Topic9\", \"Topic9\", \"Topic9\", \"Topic9\", \"Topic9\", \"Topic9\", \"Topic9\", \"Topic9\", \"Topic9\", \"Topic9\", \"Topic9\", \"Topic9\", \"Topic9\", \"Topic9\", \"Topic9\", \"Topic9\", \"Topic9\", \"Topic9\", \"Topic9\", \"Topic9\", \"Topic9\", \"Topic9\", \"Topic9\", \"Topic9\", \"Topic9\", \"Topic9\", \"Topic9\", \"Topic9\", \"Topic9\", \"Topic9\", \"Topic9\", \"Topic9\", \"Topic9\", \"Topic9\", \"Topic9\", \"Topic9\", \"Topic9\", \"Topic9\", \"Topic9\", \"Topic9\", \"Topic9\", \"Topic9\", \"Topic9\", \"Topic9\", \"Topic9\", \"Topic9\", \"Topic9\", \"Topic9\", \"Topic9\", \"Topic9\", \"Topic10\", \"Topic10\", \"Topic10\", \"Topic10\", \"Topic10\", \"Topic10\", \"Topic10\", \"Topic10\", \"Topic10\", \"Topic10\", \"Topic10\", \"Topic10\", \"Topic10\", \"Topic10\", \"Topic10\", \"Topic10\", \"Topic10\", \"Topic10\", \"Topic10\", \"Topic10\", \"Topic10\", \"Topic10\", \"Topic10\", \"Topic10\", \"Topic10\", \"Topic10\", \"Topic10\", \"Topic10\", \"Topic10\", \"Topic10\", \"Topic10\", \"Topic10\", \"Topic10\", \"Topic10\", \"Topic10\", \"Topic10\", \"Topic10\", \"Topic10\", \"Topic10\", \"Topic10\", \"Topic10\", \"Topic10\", \"Topic10\", \"Topic10\", \"Topic10\", \"Topic10\", \"Topic10\", \"Topic10\", \"Topic10\", \"Topic10\", \"Topic10\", \"Topic10\", \"Topic10\", \"Topic10\", \"Topic10\", \"Topic10\", \"Topic11\", \"Topic11\", \"Topic11\", \"Topic11\", \"Topic11\", \"Topic11\", \"Topic11\", \"Topic11\", \"Topic11\", \"Topic11\", \"Topic11\", \"Topic11\", \"Topic11\", \"Topic11\", \"Topic11\", \"Topic11\", \"Topic11\", \"Topic11\", \"Topic11\", \"Topic11\", \"Topic11\", \"Topic11\", \"Topic11\", \"Topic11\", \"Topic11\", \"Topic11\", \"Topic11\", \"Topic11\", \"Topic11\", \"Topic11\", \"Topic11\", \"Topic11\", \"Topic11\", \"Topic11\", \"Topic11\", \"Topic11\", \"Topic11\", \"Topic11\", \"Topic11\", \"Topic11\", \"Topic11\", \"Topic11\", \"Topic11\", \"Topic11\", \"Topic11\", \"Topic11\", \"Topic11\", \"Topic11\", \"Topic11\", \"Topic11\", \"Topic11\", \"Topic11\", \"Topic11\", \"Topic11\", \"Topic11\", \"Topic11\", \"Topic11\", \"Topic11\", \"Topic11\", \"Topic11\", \"Topic11\", \"Topic12\", \"Topic12\", \"Topic12\", \"Topic12\", \"Topic12\", \"Topic12\", \"Topic12\", \"Topic12\", \"Topic12\", \"Topic12\", \"Topic12\", \"Topic12\", \"Topic12\", \"Topic12\", \"Topic12\", \"Topic12\", \"Topic12\", \"Topic12\", \"Topic12\", \"Topic12\", \"Topic12\", \"Topic12\", \"Topic12\", \"Topic12\", \"Topic12\", \"Topic12\", \"Topic12\", \"Topic12\", \"Topic12\", \"Topic12\", \"Topic12\", \"Topic12\", \"Topic12\", \"Topic12\", \"Topic12\", \"Topic12\", \"Topic12\", \"Topic12\", \"Topic12\", \"Topic12\", \"Topic12\", \"Topic12\", \"Topic12\", \"Topic12\", \"Topic12\", \"Topic12\", \"Topic12\", \"Topic12\", \"Topic12\", \"Topic12\", \"Topic12\", \"Topic12\", \"Topic12\", \"Topic12\", \"Topic12\", \"Topic12\", \"Topic12\", \"Topic12\", \"Topic12\", \"Topic12\", \"Topic12\", \"Topic12\", \"Topic13\", \"Topic13\", \"Topic13\", \"Topic13\", \"Topic13\", \"Topic13\", \"Topic13\", \"Topic13\", \"Topic13\", \"Topic13\", \"Topic13\", \"Topic13\", \"Topic13\", \"Topic13\", \"Topic13\", \"Topic13\", \"Topic13\", \"Topic13\", \"Topic13\", \"Topic13\", \"Topic13\", \"Topic13\", \"Topic13\", \"Topic13\", \"Topic13\", \"Topic13\", \"Topic13\", \"Topic13\", \"Topic13\", \"Topic13\", \"Topic13\", \"Topic13\", \"Topic13\", \"Topic13\", \"Topic13\", \"Topic13\", \"Topic13\", \"Topic13\", \"Topic13\", \"Topic13\", \"Topic13\", \"Topic13\", \"Topic13\", \"Topic13\", \"Topic13\", \"Topic13\", \"Topic13\", \"Topic13\", \"Topic13\", \"Topic13\", \"Topic13\", \"Topic14\", \"Topic14\", \"Topic14\", \"Topic14\", \"Topic14\", \"Topic14\", \"Topic14\", \"Topic14\", \"Topic14\", \"Topic14\", \"Topic14\", \"Topic14\", \"Topic14\", \"Topic14\", \"Topic14\", \"Topic14\", \"Topic14\", \"Topic14\", \"Topic14\", \"Topic14\", \"Topic14\", \"Topic14\", \"Topic14\", \"Topic14\", \"Topic14\", \"Topic14\", \"Topic14\", \"Topic14\", \"Topic14\", \"Topic14\", \"Topic14\", \"Topic14\", \"Topic14\", \"Topic14\", \"Topic14\", \"Topic14\", \"Topic14\", \"Topic14\", \"Topic14\", \"Topic14\", \"Topic14\", \"Topic14\", \"Topic14\", \"Topic14\", \"Topic14\", \"Topic14\", \"Topic14\", \"Topic14\", \"Topic14\", \"Topic14\", \"Topic14\", \"Topic14\", \"Topic14\", \"Topic14\", \"Topic14\", \"Topic15\", \"Topic15\", \"Topic15\", \"Topic15\", \"Topic15\", \"Topic15\", \"Topic15\", \"Topic15\", \"Topic15\", \"Topic15\", \"Topic15\", \"Topic15\", \"Topic15\", \"Topic15\", \"Topic15\", \"Topic15\", \"Topic15\", \"Topic15\", \"Topic15\", \"Topic15\", \"Topic15\", \"Topic15\", \"Topic15\", \"Topic15\", \"Topic15\", \"Topic15\", \"Topic15\", \"Topic15\", \"Topic15\", \"Topic15\", \"Topic15\", \"Topic15\", \"Topic15\", \"Topic15\", \"Topic15\", \"Topic15\", \"Topic15\", \"Topic15\", \"Topic15\", \"Topic15\", \"Topic15\", \"Topic15\", \"Topic15\", \"Topic15\", \"Topic15\", \"Topic15\", \"Topic15\", \"Topic15\", \"Topic15\", \"Topic15\", \"Topic15\", \"Topic15\", \"Topic15\", \"Topic15\", \"Topic15\", \"Topic15\", \"Topic15\", \"Topic15\", \"Topic15\", \"Topic15\", \"Topic15\", \"Topic16\", \"Topic16\", \"Topic16\", \"Topic16\", \"Topic16\", \"Topic16\", \"Topic16\", \"Topic16\", \"Topic16\", \"Topic16\", \"Topic16\", \"Topic16\", \"Topic16\", \"Topic16\", \"Topic16\", \"Topic16\", \"Topic16\", \"Topic16\", \"Topic16\", \"Topic16\", \"Topic16\", \"Topic16\", \"Topic16\", \"Topic16\", \"Topic16\", \"Topic16\", \"Topic16\", \"Topic16\", \"Topic16\", \"Topic16\", \"Topic16\", \"Topic16\", \"Topic16\", \"Topic16\", \"Topic16\", \"Topic16\", \"Topic16\", \"Topic16\", \"Topic16\", \"Topic16\", \"Topic16\", \"Topic16\", \"Topic16\", \"Topic16\", \"Topic16\", \"Topic16\", \"Topic16\", \"Topic16\", \"Topic16\", \"Topic16\", \"Topic16\", \"Topic16\", \"Topic16\", \"Topic16\", \"Topic16\", \"Topic16\", \"Topic16\", \"Topic17\", \"Topic17\", \"Topic17\", \"Topic17\", \"Topic17\", \"Topic17\", \"Topic17\", \"Topic17\", \"Topic17\", \"Topic17\", \"Topic17\", \"Topic17\", \"Topic17\", \"Topic17\", \"Topic17\", \"Topic17\", \"Topic17\", \"Topic17\", \"Topic17\", \"Topic17\", \"Topic17\", \"Topic17\", \"Topic17\", \"Topic17\", \"Topic17\", \"Topic17\", \"Topic17\", \"Topic17\", \"Topic17\", \"Topic17\", \"Topic17\", \"Topic17\", \"Topic17\", \"Topic17\", \"Topic17\", \"Topic17\", \"Topic17\", \"Topic17\", \"Topic17\", \"Topic17\", \"Topic17\", \"Topic17\", \"Topic17\", \"Topic17\", \"Topic17\", \"Topic17\", \"Topic17\", \"Topic18\", \"Topic18\", \"Topic18\", \"Topic18\", \"Topic18\", \"Topic18\", \"Topic18\", \"Topic18\", \"Topic18\", \"Topic18\", \"Topic18\", \"Topic18\", \"Topic18\", \"Topic18\", \"Topic18\", \"Topic18\", \"Topic18\", \"Topic18\", \"Topic18\", \"Topic18\", \"Topic18\", \"Topic18\", \"Topic18\", \"Topic18\", \"Topic18\", \"Topic18\", \"Topic18\", \"Topic18\", \"Topic18\", \"Topic18\", \"Topic18\", \"Topic18\", \"Topic18\", \"Topic18\", \"Topic18\", \"Topic18\", \"Topic18\", \"Topic18\", \"Topic18\", \"Topic18\", \"Topic18\", \"Topic18\", \"Topic18\", \"Topic18\", \"Topic18\", \"Topic18\", \"Topic18\", \"Topic18\", \"Topic18\", \"Topic18\", \"Topic18\", \"Topic18\", \"Topic18\", \"Topic18\", \"Topic18\", \"Topic18\", \"Topic18\", \"Topic19\", \"Topic19\", \"Topic19\", \"Topic19\", \"Topic19\", \"Topic19\", \"Topic19\", \"Topic19\", \"Topic19\", \"Topic19\", \"Topic19\", \"Topic19\", \"Topic19\", \"Topic19\", \"Topic19\", \"Topic19\", \"Topic19\", \"Topic19\", \"Topic19\", \"Topic19\", \"Topic19\", \"Topic19\", \"Topic19\", \"Topic19\", \"Topic19\", \"Topic19\", \"Topic19\", \"Topic19\", \"Topic19\", \"Topic19\", \"Topic19\", \"Topic19\", \"Topic19\", \"Topic19\", \"Topic19\", \"Topic19\", \"Topic19\", \"Topic19\", \"Topic19\", \"Topic19\", \"Topic19\", \"Topic19\", \"Topic19\", \"Topic19\", \"Topic19\", \"Topic19\", \"Topic19\", \"Topic19\", \"Topic19\", \"Topic19\", \"Topic19\", \"Topic19\", \"Topic20\", \"Topic20\", \"Topic20\", \"Topic20\", \"Topic20\", \"Topic20\", \"Topic20\", \"Topic20\", \"Topic20\", \"Topic20\", \"Topic20\", \"Topic20\", \"Topic20\", \"Topic20\", \"Topic20\", \"Topic20\", \"Topic20\", \"Topic20\", \"Topic20\", \"Topic20\", \"Topic20\", \"Topic20\", \"Topic20\", \"Topic20\", \"Topic20\", \"Topic20\", \"Topic20\", \"Topic20\", \"Topic20\", \"Topic20\", \"Topic20\", \"Topic20\", \"Topic20\", \"Topic20\", \"Topic20\", \"Topic20\", \"Topic20\", \"Topic20\", \"Topic20\", \"Topic20\", \"Topic20\", \"Topic20\", \"Topic20\", \"Topic20\", \"Topic20\", \"Topic20\", \"Topic20\", \"Topic20\", \"Topic20\", \"Topic20\", \"Topic20\", \"Topic20\", \"Topic20\", \"Topic20\", \"Topic20\"], \"logprob\": [30.0, 29.0, 28.0, 27.0, 26.0, 25.0, 24.0, 23.0, 22.0, 21.0, 20.0, 19.0, 18.0, 17.0, 16.0, 15.0, 14.0, 13.0, 12.0, 11.0, 10.0, 9.0, 8.0, 7.0, 6.0, 5.0, 4.0, 3.0, 2.0, 1.0, -4.354700088500977, -4.486800193786621, -4.543799877166748, -4.824900150299072, -5.066699981689453, -5.302999973297119, -5.362500190734863, -5.4207000732421875, -5.4878997802734375, -5.669099807739258, -5.78439998626709, -6.064700126647949, -6.093699932098389, -6.229899883270264, -6.264100074768066, -6.4842000007629395, -6.559299945831299, -6.657599925994873, -6.675000190734863, -6.728899955749512, -6.7480998039245605, -6.826000213623047, -6.956299781799316, -6.956299781799316, -7.028500080108643, -7.106299877166748, -7.190700054168701, -5.303599834442139, -7.220399856567383, -7.251200199127197, -5.459000110626221, -5.274199962615967, -4.50600004196167, -4.83459997177124, -4.473999977111816, -5.491399765014648, -5.923500061035156, -4.810500144958496, -2.247299909591675, -4.803899765014648, -5.790500164031982, -5.488999843597412, -4.787700176239014, -5.473199844360352, -4.9604997634887695, -5.361299991607666, -3.832200050354004, -4.346099853515625, -4.168900012969971, -4.084499835968018, -5.0746002197265625, -4.155200004577637, -4.806099891662598, -5.178599834442139, -4.997399806976318, -4.746099948883057, -4.64870023727417, -4.72130012512207, -4.8282999992370605, -5.072199821472168, -5.071599960327148, -5.004000186920166, -5.126100063323975, -3.9137001037597656, -5.98799991607666, -6.879199981689453, -7.009399890899658, -7.050099849700928, -7.01200008392334, -7.0929999351501465, -7.394400119781494, -2.187299966812134, -4.522500038146973, -3.271699905395508, -6.362400054931641, -5.0817999839782715, -4.807300090789795, -7.075200080871582, -5.533699989318848, -6.6315999031066895, -5.403900146484375, -6.1620001792907715, -5.255799770355225, -5.183700084686279, -5.341400146484375, -4.685100078582764, -5.750899791717529, -7.029799938201904, -6.940000057220459, -3.724400043487549, -6.725100040435791, -6.6203999519348145, -7.423699855804443, -5.055300235748291, -5.548500061035156, -4.789599895477295, -3.6530001163482666, -5.015900135040283, -4.657100200653076, -4.647600173950195, -4.857600212097168, -3.8022000789642334, -4.637400150299072, -5.358399868011475, -4.746699810028076, -5.062600135803223, -4.348499774932861, -3.6168999671936035, -3.6352999210357666, -3.2030999660491943, -4.836699962615967, -3.391400098800659, -3.6006999015808105, -4.3531999588012695, -4.332200050354004, -4.55620002746582, -4.231599807739258, -4.534200191497803, -4.83519983291626, -4.834700107574463, -4.732699871063232, -4.722400188446045, -5.210999965667725, -5.612599849700928, -5.685200214385986, -6.634500026702881, -6.732999801635742, -6.802599906921387, -7.207699775695801, -2.7400999069213867, -6.506499767303467, -2.115600109100342, -6.789100170135498, -6.365600109100342, -5.476600170135498, -5.816999912261963, -6.786099910736084, -6.919300079345703, -2.605600118637085, -6.730000019073486, -7.494699954986572, -6.922900199890137, -6.3968000411987305, -6.960700035095215, -7.125, -7.162399768829346, -6.210700035095215, -3.7873001098632812, -7.311399936676025, -5.603600025177002, -6.052800178527832, -6.478300094604492, -3.7249999046325684, -1.6435999870300293, -4.375400066375732, -4.7546000480651855, -4.423600196838379, -5.977799892425537, -4.768799781799316, -5.458199977874756, -5.021100044250488, -5.732800006866455, -3.601599931716919, -3.242000102996826, -3.099600076675415, -5.052700042724609, -4.656799793243408, -3.791800022125244, -5.286200046539307, -4.6128997802734375, -3.986599922180176, -4.7565999031066895, -3.825900077819824, -4.601600170135498, -4.940899848937988, -4.627999782562256, -4.996600151062012, -5.264400005340576, -5.392300128936768, -4.97599983215332, -5.418300151824951, -3.246799945831299, -6.370200157165527, -6.487500190734863, -6.318699836730957, -6.9903998374938965, -5.299900054931641, -7.06220006942749, -7.065899848937988, -7.179200172424316, -5.445000171661377, -5.753699779510498, -7.411300182342529, -7.413099765777588, -7.464000225067139, -3.88100004196167, -5.173900127410889, -5.316100120544434, -5.054100036621094, -4.632500171661377, -4.666900157928467, -6.860000133514404, -5.625400066375732, -5.48799991607666, -6.896599769592285, -5.4131999015808105, -6.6753997802734375, -5.291999816894531, -4.5903000831604, -4.592899799346924, -3.1133999824523926, -2.3173999786376953, -2.5230000019073486, -4.4253997802734375, -4.973199844360352, -4.99459981918335, -5.218400001525879, -4.656199932098389, -3.0306999683380127, -4.323999881744385, -3.562000036239624, -4.218900203704834, -4.689499855041504, -3.992000102996826, -5.056700229644775, -4.339900016784668, -4.816400051116943, -4.643599987030029, -4.573200225830078, -4.734799861907959, -4.316299915313721, -4.849699974060059, -4.936800003051758, -4.789100170135498, -4.8460001945495605, -4.893799781799316, -4.959400177001953, -4.9532999992370605, -4.1595001220703125, -6.281599998474121, -5.743100166320801, -6.457200050354004, -4.76200008392334, -6.77269983291626, -5.842299938201904, -5.186600208282471, -6.026899814605713, -6.866000175476074, -4.56790018081665, -7.616799831390381, -6.1184000968933105, -5.363900184631348, -4.409900188446045, -2.1131999492645264, -6.410600185394287, -7.341100215911865, -5.31689977645874, -7.291900157928467, -6.727200031280518, -3.9470999240875244, -6.803400039672852, -6.091100215911865, -6.725100040435791, -5.048799991607666, -6.528900146484375, -7.514100074768066, -7.307300090789795, -1.8798999786376953, -5.470699787139893, -4.962500095367432, -4.725900173187256, -5.4145002365112305, -5.653900146484375, -6.0370001792907715, -4.7621002197265625, -4.845099925994873, -3.674499988555908, -3.765000104904175, -3.0344998836517334, -4.314300060272217, -5.244500160217285, -3.9100000858306885, -4.4868998527526855, -3.437999963760376, -5.098700046539307, -5.1168999671936035, -4.497600078582764, -4.082200050354004, -4.717599868774414, -5.172699928283691, -4.6717000007629395, -4.936800003051758, -4.694300174713135, -4.848800182342529, -4.888899803161621, -5.022500038146973, -5.04640007019043, -3.8001999855041504, -7.1128997802734375, -2.4772000312805176, -6.280600070953369, -2.3564000129699707, -5.905200004577637, -4.463699817657471, -6.287399768829346, -7.607600212097168, -7.253799915313721, -4.578999996185303, -3.8375000953674316, -4.085100173950195, -3.9147000312805176, -5.661600112915039, -5.430799961090088, -7.120999813079834, -7.847400188446045, -7.503399848937988, -7.224999904632568, -1.7214000225067139, -5.1092000007629395, -5.815299987792969, -7.945000171661377, -2.2646000385284424, -2.503000020980835, -7.314199924468994, -6.102099895477295, -6.924499988555908, -8.005900382995605, -5.520999908447266, -4.805099964141846, -4.83050012588501, -4.7316999435424805, -5.734499931335449, -5.986599922180176, -4.4131999015808105, -3.110599994659424, -5.026299953460693, -4.630799770355225, -4.158899784088135, -5.36329984664917, -3.5852999687194824, -4.485300064086914, -5.325900077819824, -4.5960001945495605, -5.253900051116943, -5.111199855804443, -5.037799835205078, -5.210100173950195, -6.087699890136719, -6.173600196838379, -6.388500213623047, -6.506199836730957, -6.571199893951416, -7.079699993133545, -4.647600173950195, -4.0117998123168945, -5.127399921417236, -5.783400058746338, -5.709400177001953, -6.638700008392334, -3.9430999755859375, -6.600100040435791, -6.338600158691406, -7.168499946594238, -6.454899787902832, -3.469899892807007, -5.7332000732421875, -6.948299884796143, -6.975800037384033, -6.738900184631348, -3.979599952697754, -6.504300117492676, -6.167500019073486, -6.821100234985352, -6.412300109863281, -7.142499923706055, -6.6118998527526855, -5.945799827575684, -5.808700084686279, -4.7322998046875, -2.394700050354004, -2.129499912261963, -5.334799766540527, -5.872799873352051, -4.797399997711182, -3.518199920654297, -5.075699806213379, -4.060800075531006, -3.6926000118255615, -3.258500099182129, -4.661399841308594, -5.039599895477295, -4.218100070953369, -4.864200115203857, -4.834499835968018, -5.151199817657471, -5.353300094604492, -4.635300159454346, -5.072800159454346, -3.998699903488159, -4.358699798583984, -3.8359999656677246, -4.776899814605713, -4.549799919128418, -4.78000020980835, -4.9222002029418945, -4.715099811553955, -4.9344000816345215, -5.041800022125244, -5.695199966430664, -5.989200115203857, -6.319799900054932, -6.564799785614014, -6.746600151062012, -6.746600151062012, -6.815999984741211, -5.828800201416016, -5.283999919891357, -5.079899787902832, -5.620299816131592, -6.390500068664551, -4.389900207519531, -6.5117998123168945, -6.0894999504089355, -5.293799877166748, -6.281599998474121, -6.114500045776367, -3.9242000579833984, -6.466100215911865, -6.65749979019165, -6.202499866485596, -4.294000148773193, -6.601900100708008, -6.578499794006348, -6.928599834442139, -6.496500015258789, -5.4552998542785645, -5.505300045013428, -6.17549991607666, -4.029600143432617, -5.095099925994873, -4.4369001388549805, -5.934899806976318, -5.138599872589111, -5.005099773406982, -4.900700092315674, -4.651899814605713, -5.268499851226807, -3.5190000534057617, -4.64300012588501, -5.506800174713135, -5.088600158691406, -4.616300106048584, -3.3041999340057373, -5.176400184631348, -3.739000082015991, -4.452000141143799, -4.176799774169922, -4.300300121307373, -4.854400157928467, -4.392499923706055, -4.925899982452393, -4.940999984741211, -4.178199768066406, -4.0381999015808105, -4.807300090789795, -4.355100154876709, -4.535600185394287, -4.909999847412109, -5.02400016784668, -4.992800235748291, -4.97130012512207, -5.047599792480469, -4.709099769592285, -6.72130012512207, -6.583199977874756, -6.222700119018555, -5.721199989318848, -6.05019998550415, -4.397600173950195, -6.785799980163574, -6.348999977111816, -6.486700057983398, -7.03849983215332, -4.72189998626709, -4.586699962615967, -6.8343000411987305, -6.001999855041504, -3.4674999713897705, -3.066999912261963, -3.8601999282836914, -5.478799819946289, -6.563000202178955, -5.437399864196777, -5.990900039672852, -4.40339994430542, -4.646200180053711, -6.417200088500977, -7.153900146484375, -7.371500015258789, -7.098100185394287, -7.197000026702881, -6.645199775695801, -1.840000033378601, -4.454100131988525, -4.32390022277832, -4.381199836730957, -4.322800159454346, -4.638700008392334, -3.8650999069213867, -4.334099769592285, -2.6338999271392822, -4.559999942779541, -4.035299777984619, -5.214200019836426, -2.826200008392334, -4.689899921417236, -4.169400215148926, -4.331699848175049, -4.418799877166748, -4.948800086975098, -4.938000202178955, -4.660600185394287, -4.178699970245361, -5.000100135803223, -4.703400135040283, -1.6523000001907349, -6.174699783325195, -6.486700057983398, -6.549499988555908, -6.594099998474121, -6.851500034332275, -6.146200180053711, -1.8720999956130981, -4.100399971008301, -6.500800132751465, -5.932400226593018, -6.48390007019043, -3.2679998874664307, -7.292900085449219, -5.962200164794922, -6.888999938964844, -6.013599872589111, -6.392199993133545, -7.423600196838379, -5.510000228881836, -6.182000160217285, -3.5652999877929688, -6.394400119781494, -4.191100120544434, -5.486499786376953, -5.372099876403809, -6.566800117492676, -7.056600093841553, -6.870699882507324, -4.229700088500977, -5.367400169372559, -5.658899784088135, -2.702199935913086, -5.246799945831299, -5.03980016708374, -5.572999954223633, -5.128300189971924, -3.4786999225616455, -3.317500114440918, -3.8541998863220215, -4.398900032043457, -4.0584001541137695, -4.671899795532227, -4.8308000564575195, -4.994800090789795, -4.190400123596191, -4.685699939727783, -4.8730998039245605, -4.996200084686279, -5.413899898529053, -4.787600040435791, -4.820199966430664, -5.036200046539307, -5.155900001525879, -5.142000198364258, -5.207200050354004, -5.38100004196167, -6.2916998863220215, -6.4268999099731445, -3.2146999835968018, -5.187600135803223, -6.273499965667725, -6.281400203704834, -6.3933000564575195, -6.481200218200684, -5.659900188446045, -5.108699798583984, -5.151000022888184, -6.830999851226807, -6.821199893951416, -5.63640022277832, -6.686699867248535, -5.821899890899658, -3.681299924850464, -6.571700096130371, -4.680799961090088, -6.220699787139893, -5.9319000244140625, -4.593200206756592, -4.1194000244140625, -5.835700035095215, -6.69950008392334, -5.7444000244140625, -6.469799995422363, -6.066699981689453, -5.515699863433838, -5.299499988555908, -5.645400047302246, -4.911600112915039, -4.976399898529053, -3.5007998943328857, -4.546599864959717, -3.341200113296509, -3.0434000492095947, -4.084700107574463, -4.8333001136779785, -3.2809998989105225, -5.313399791717529, -4.822400093078613, -4.690800189971924, -3.4755001068115234, -5.4552998542785645, -4.318399906158447, -4.91540002822876, -3.579900026321411, -4.8628997802734375, -4.146299839019775, -4.088799953460693, -4.076200008392334, -4.922599792480469, -4.4816999435424805, -4.759200096130371, -4.828000068664551, -4.946499824523926, -4.8983001708984375, -4.732999801635742, -4.732900142669678, -3.554500102996826, -4.0920000076293945, -5.820799827575684, -6.171000003814697, -6.610300064086914, -6.610400199890137, -6.446300029754639, -6.7895002365112305, -5.664899826049805, -6.041900157928467, -6.237500190734863, -6.610599994659424, -6.461599826812744, -6.309800148010254, -5.914400100708008, -6.720200061798096, -6.08489990234375, -4.374199867248535, -5.577899932861328, -6.37529993057251, -5.836999893188477, -4.631899833679199, -6.991799831390381, -5.297500133514404, -6.1828999519348145, -3.815200090408325, -6.275599956512451, -6.494800090789795, -5.479599952697754, -7.058800220489502, -5.822299957275391, -1.863800048828125, -5.576399803161621, -4.270100116729736, -5.458099842071533, -3.8413000106811523, -4.212699890136719, -4.639400005340576, -4.186500072479248, -4.529200077056885, -5.015500068664551, -4.002900123596191, -3.5597000122070312, -4.077400207519531, -4.953800201416016, -4.9791998863220215, -3.7304999828338623, -3.315999984741211, -5.366499900817871, -4.4039998054504395, -4.820899963378906, -4.241499900817871, -4.216700077056885, -4.220200061798096, -5.068699836730957, -4.410399913787842, -4.834199905395508, -5.148200035095215, -4.404300212860107, -4.886899948120117, -4.815299987792969, -4.957600116729736, -5.675300121307373, -6.025100231170654, -4.435400009155273, -3.4149999618530273, -6.488100051879883, -6.5131001472473145, -6.783100128173828, -4.918799877166748, -5.704999923706055, -6.39769983291626, -3.4154999256134033, -5.427700042724609, -2.768199920654297, -2.916800022125244, -4.3958001136779785, -2.1579999923706055, -3.750499963760376, -2.399199962615967, -6.286499977111816, -7.175600051879883, -6.931700229644775, -4.2692999839782715, -7.37529993057251, -6.39109992980957, -5.3607001304626465, -6.755199909210205, -5.343500137329102, -6.765100002288818, -4.833399772644043, -6.6407999992370605, -3.6135001182556152, -4.363999843597412, -5.995800018310547, -4.096199989318848, -2.546299934387207, -3.319999933242798, -3.536900043487549, -5.202600002288818, -4.483699798583984, -4.493599891662598, -5.281099796295166, -5.174300193786621, -3.7011001110076904, -4.76609992980957, -4.986000061035156, -5.170899868011475, -4.676799774169922, -4.593299865722656, -4.861100196838379, -5.184299945831299, -5.110099792480469, -3.751699924468994, -5.345900058746338, -5.3881001472473145, -5.5524001121521, -3.250200033187866, -5.577000141143799, -5.883800029754639, -4.150400161743164, -6.381800174713135, -5.247200012207031, -3.414299964904785, -6.077700138092041, -5.188899993896484, -5.885799884796143, -3.635699987411499, -6.131100177764893, -5.760799884796143, -6.5157999992370605, -5.068999767303467, -6.00600004196167, -4.750500202178955, -5.252799987792969, -6.103799819946289, -3.9451000690460205, -6.549900054931641, -6.202000141143799, -4.116099834442139, -5.950799942016602, -6.580399990081787, -5.951600074768066, -4.683199882507324, -4.497399806976318, -5.052299976348877, -5.161799907684326, -5.698400020599365, -4.142099857330322, -4.265100002288818, -3.110100030899048, -4.36359977722168, -4.542399883270264, -3.081399917602539, -5.139599800109863, -5.002200126647949, -5.244200229644775, -3.80649995803833, -4.09499979019165, -4.129700183868408, -4.850500106811523, -4.92579984664917, -4.76039981842041, -5.054800033569336, -4.82859992980957, -4.86329984664917, -5.04640007019043, -5.00540018081665, -5.5584001541137695, -6.017399787902832, -5.52209997177124, -6.285600185394287, -6.335700035095215, -6.3881001472473145, -4.892499923706055, -4.959700107574463, -5.758699893951416, -6.013800144195557, -5.853000164031982, -4.247300148010254, -5.302299976348877, -5.3267998695373535, -6.6072001457214355, -6.067500114440918, -5.234899997711182, -5.466100215911865, -5.594600200653076, -6.349800109863281, -6.858699798583984, -5.112500190734863, -6.375699996948242, -3.6317999362945557, -5.929900169372559, -6.146299839019775, -6.4319000244140625, -4.539899826049805, -2.91729998588562, -6.504199981689453, -5.593800067901611, -5.114500045776367, -5.336299896240234, -4.456500053405762, -3.696199893951416, -4.114799976348877, -4.9704999923706055, -4.311399936676025, -4.899400234222412, -2.4330999851226807, -5.164299964904785, -4.782400131225586, -5.148399829864502, -4.675600051879883, -5.049300193786621, -4.2322998046875, -3.9751999378204346, -3.5051000118255615, -4.752500057220459, -4.3653998374938965, -4.872300148010254, -4.147600173950195, -4.533599853515625, -4.133399963378906, -4.363999843597412, -4.837399959564209, -4.60230016708374, -4.448299884796143, -4.8649001121521, -4.86959981918335, -4.8379998207092285, -4.877399921417236, -5.69379997253418, -6.072800159454346, -6.07289981842041, -3.9124999046325684, -6.386600017547607, -5.020199775695801, -4.403200149536133, -5.606599807739258, -5.739099979400635, -5.467800140380859, -6.143700122833252, -5.7555999755859375, -5.627999782562256, -5.349599838256836, -6.557499885559082, -4.871399879455566, -6.555099964141846, -6.434000015258789, -5.725200176239014, -6.279900074005127, -4.570099830627441, -2.75600004196167, -7.028900146484375, -6.1041998863220215, -6.157400131225586, -6.022600173950195, -4.483099937438965, -6.196700096130371, -6.938399791717529, -6.179900169372559, -5.199699878692627, -4.044300079345703, -4.905099868774414, -3.9900999069213867, -4.524899959564209, -3.3582000732421875, -3.611799955368042, -4.736000061035156, -2.8970000743865967, -4.755300045013428, -4.903600215911865, -3.724100112915039, -4.457799911499023, -4.283299922943115, -4.7144999504089355, -4.981299877166748, -4.519000053405762, -4.646599769592285, -4.596499919891357, -4.435200214385986, -4.978099822998047, -4.573999881744385, -4.872799873352051, -4.765500068664551, -4.894400119781494, -4.970900058746338, -2.149199962615967, -3.859600067138672, -4.56790018081665, -5.688199996948242, -6.163000106811523, -6.89769983291626, -3.97160005569458, -3.9979000091552734, -2.498500108718872, -4.169099807739258, -3.9995999336242676, -5.953700065612793, -3.815500020980835, -6.771100044250488, -4.938799858093262, -6.464099884033203, -5.992300033569336, -6.3024001121521, -4.644700050354004, -5.289400100708008, -5.628300189971924, -6.589700222015381, -4.160600185394287, -3.90339994430542, -5.223800182342529, -6.7754998207092285, -5.939899921417236, -3.8661999702453613, -6.807400226593018, -6.736400127410889, -1.6349999904632568, -4.84689998626709, -5.563399791717529, -3.9147000312805176, -3.91510009765625, -3.717600107192993, -4.178999900817871, -4.259399890899658, -3.3373000621795654, -4.071300029754639, -4.942299842834473, -3.6693999767303467, -4.0346999168396, -4.910299777984619, -4.849100112915039, -4.455100059509277, -4.791800022125244, -6.220600128173828, -6.442599773406982, -6.638199806213379, -5.39169979095459, -4.7993998527526855, -5.0391998291015625, -4.8003997802734375, -4.6407999992370605, -3.74780011177063, -6.508299827575684, -3.883699893951416, -5.912700176239014, -5.231299877166748, -4.810999870300293, -6.109899997711182, -4.197199821472168, -6.216899871826172, -4.833199977874756, -5.4816999435424805, -5.9319000244140625, -5.921299934387207, -4.778800010681152, -6.138700008392334, -6.555699825286865, -6.282899856567383, -6.8144001960754395, -5.757599830627441, -5.811500072479248, -6.1006999015808105, -6.115600109100342, -5.228799819946289, -4.162899971008301, -3.26990008354187, -5.25570011138916, -5.502799987792969, -4.104000091552734, -4.480999946594238, -3.9649999141693115, -5.215000152587891, -4.43779993057251, -4.8221001625061035, -3.9725000858306885, -4.243599891662598, -5.344600200653076, -3.7172999382019043, -4.881899833679199, -4.477399826049805, -3.6760001182556152, -3.577699899673462, -4.003699779510498, -4.184999942779541, -4.17579984664917, -4.093999862670898, -4.3958001136779785, -4.583899974822998, -4.755099773406982, -4.87529993057251, -4.156199932098389, -4.1605000495910645, -4.638700008392334, -4.834199905395508, -2.227799892425537, -3.7374000549316406, -5.688700199127197, -5.706399917602539, -5.799200057983398, -5.902900218963623, -5.727200031280518, -6.397900104522705, -5.003499984741211, -6.069200038909912, -4.6697001457214355, -5.55620002746582, -5.275100231170654, -6.005899906158447, -4.757999897003174, -6.608799934387207, -6.771100044250488, -5.685299873352051, -4.921199798583984, -6.121099948883057, -3.5418999195098877, -5.888800144195557, -6.0167999267578125, -5.623199939727783, -4.907800197601318, -6.500199794769287, -5.170199871063232, -3.1684000492095947, -4.7204999923706055, -4.281300067901611, -3.5922000408172607, -5.508600234985352, -4.896299839019775, -3.4435999393463135, -5.462200164794922, -4.154099941253662, -4.626500129699707, -4.606599807739258, -4.728700160980225, -3.5625, -3.4965999126434326, -4.605899810791016, -4.410099983215332, -4.212100028991699, -4.768799781799316, -4.693999767303467, -4.788899898529053, -4.889100074768066, -3.4595000743865967, -5.907899856567383, -6.007800102233887, -3.3445000648498535, -5.807000160217285, -5.242599964141846, -5.436399936676025, -5.699900150299072, -5.508999824523926, -4.304800033569336, -3.9172000885009766, -4.697999954223633, -6.287600040435791, -3.951900005340576, -6.655700206756592, -6.984600067138672, -5.098100185394287, -6.340700149536133, -6.960400104522705, -6.226900100708008, -6.188300132751465, -5.692800045013428, -4.778200149536133, -3.6519999504089355, -6.101099967956543, -7.617800235748291, -6.1371002197265625, -6.843699932098389, -6.393899917602539, -6.859899997711182, -4.3165998458862305, -4.176700115203857, -4.776599884033203, -5.329100131988525, -5.032599925994873, -4.2972002029418945, -5.445400238037109, -4.009300231933594, -2.5913000106811523, -3.024899959564209, -3.1373000144958496, -2.846299886703491, -4.5528998374938965, -3.550100088119507, -4.6697001457214355, -4.783100128173828, -4.579400062561035, -3.731300115585327, -4.383800029754639, -4.558899879455566, -4.379199981689453, -4.736400127410889, -4.897200107574463, -4.859300136566162, -4.874199867248535], \"loglift\": [30.0, 29.0, 28.0, 27.0, 26.0, 25.0, 24.0, 23.0, 22.0, 21.0, 20.0, 19.0, 18.0, 17.0, 16.0, 15.0, 14.0, 13.0, 12.0, 11.0, 10.0, 9.0, 8.0, 7.0, 6.0, 5.0, 4.0, 3.0, 2.0, 1.0, 1.8709, 1.8707, 1.8705, 1.87, 1.8693, 1.8685, 1.8683, 1.868, 1.8677, 1.8668, 1.8661, 1.8641, 1.8639, 1.8626, 1.8623, 1.8598, 1.8588, 1.8574, 1.8571, 1.8563, 1.856, 1.8547, 1.8522, 1.8522, 1.8508, 1.849, 1.847, 1.8466, 1.8462, 1.8454, 1.8336, 1.8144, 1.7905, 1.7966, 1.7718, 1.7766, 1.7512, 1.6175, 1.2815, 1.5999, 1.7068, 1.6322, 1.3809, 1.5665, 1.2312, 1.389, 0.5051, 0.6175, 0.2653, 0.1756, 1.0358, -0.0762, 0.7176, 1.1071, 0.7904, 0.3315, 0.0405, 0.0122, 0.1773, 0.7868, 0.429, -0.8031, 0.1973, 2.5825, 2.5681, 2.5447, 2.5393, 2.5374, 2.5361, 2.5354, 2.5185, 2.5088, 2.4982, 2.4888, 2.4881, 2.4827, 2.4697, 2.4627, 2.4423, 2.4373, 2.4306, 2.4184, 2.3952, 2.3941, 2.3804, 2.3571, 2.3517, 2.3508, 2.3414, 2.3296, 2.3034, 2.2853, 2.2839, 2.2809, 2.2525, 2.2216, 2.1602, 2.23, 2.1759, 2.1391, 2.1506, 1.9174, 2.0644, 2.2095, 2.0066, 2.0074, 1.7061, 1.0992, 1.0983, 0.4704, 1.6507, 0.3978, 0.4229, 1.1705, 0.5776, 0.8401, -0.1526, 0.0269, 1.0186, 0.8552, 0.098, -0.0332, 2.6859, 2.682, 2.6801, 2.6604, 2.6571, 2.6545, 2.6351, 2.6319, 2.6117, 2.5691, 2.4739, 2.4521, 2.4436, 2.4092, 2.3799, 2.3621, 2.3581, 2.3494, 2.3242, 2.3202, 2.2879, 2.2756, 2.2719, 2.2318, 2.2244, 2.2161, 2.1908, 2.1496, 2.1275, 2.1247, 2.0295, 1.8853, 1.9968, 1.8273, 1.7449, 2.0505, 1.7248, 1.9098, 1.7292, 1.9626, 1.1319, 0.9588, 0.8791, 1.6696, 1.2342, 0.6424, 1.6345, 0.9874, 0.2735, 0.9145, -0.0367, 0.0875, 0.4554, -0.2907, 0.5314, 0.2361, 1.0091, 2.8863, 2.8838, 2.8705, 2.8639, 2.8599, 2.8477, 2.8367, 2.8359, 2.8324, 2.8287, 2.8236, 2.8175, 2.8103, 2.8067, 2.8066, 2.8021, 2.7855, 2.7772, 2.7377, 2.7236, 2.7234, 2.6964, 2.6933, 2.6904, 2.6479, 2.6292, 2.6178, 2.612, 2.606, 2.5859, 2.5798, 2.546, 2.5131, 2.4066, 2.5334, 2.4226, 2.3291, 2.322, 2.1323, 1.4618, 1.7553, 0.9991, 1.4074, 1.62, 0.6972, 1.9324, 0.6864, 1.4696, 1.0463, 0.7501, 1.1316, -0.2927, 0.8792, 1.1731, -0.0556, -0.7671, 0.1117, 0.1182, 2.848, 2.8098, 2.8035, 2.7958, 2.7927, 2.7738, 2.7709, 2.7664, 2.6831, 2.605, 2.5787, 2.5635, 2.5002, 2.4786, 2.4762, 2.4739, 2.4479, 2.4433, 2.443, 2.4119, 2.4103, 2.369, 2.3626, 2.3385, 2.3317, 2.3195, 2.3136, 2.2996, 2.2646, 2.2446, 2.199, 2.2176, 2.1395, 2.111, 2.1839, 2.18, 2.1486, 1.74, 1.7327, 1.156, 1.1646, 0.639, 1.312, 1.8151, 0.8813, 1.2328, 0.3512, 1.7036, 1.6716, 0.9149, -0.0586, 0.9724, 1.6579, 0.3339, 0.7921, -0.2018, 0.061, 0.1374, 0.7324, -0.7091, 2.9505, 2.895, 2.8802, 2.8348, 2.6863, 2.6618, 2.6352, 2.5923, 2.4824, 2.473, 2.4549, 2.372, 2.366, 2.3105, 2.2588, 2.2439, 2.2233, 2.1117, 2.1075, 2.0831, 2.0678, 2.0649, 1.9891, 1.9638, 1.9362, 1.9312, 1.9049, 1.8152, 1.7859, 1.777, 1.7136, 1.679, 1.5987, 1.5509, 1.6707, 1.7237, 1.2578, 0.8681, 1.4375, 1.1329, 0.8467, 1.3338, 0.0882, 0.5923, 1.0755, -0.3359, 0.6551, 0.3013, -0.7005, -0.5209, 2.9417, 2.9394, 2.9326, 2.9282, 2.9255, 2.8981, 2.8871, 2.869, 2.8353, 2.8292, 2.8063, 2.7875, 2.7789, 2.7638, 2.7576, 2.7459, 2.7143, 2.7098, 2.6825, 2.6723, 2.67, 2.6647, 2.6584, 2.6465, 2.6366, 2.6196, 2.6181, 2.6078, 2.5992, 2.5981, 2.5888, 2.5265, 2.3966, 2.3631, 2.5449, 2.5675, 2.4124, 2.0493, 2.3255, 2.0185, 1.9076, 1.7678, 2.1351, 2.1332, 1.6728, 1.9276, 1.8424, 1.9998, 2.1134, 1.5242, 1.8489, 0.6905, 0.9646, -0.0468, 1.17, 0.7563, 1.0883, 0.7041, -0.3778, 0.4781, -0.6076, 3.0267, 3.0201, 3.0102, 3.0004, 2.9916, 2.9916, 2.9872, 2.9752, 2.9466, 2.9087, 2.9019, 2.8635, 2.8609, 2.8446, 2.844, 2.8397, 2.831, 2.8305, 2.8171, 2.7943, 2.7923, 2.7847, 2.7844, 2.7808, 2.7623, 2.7527, 2.7485, 2.7447, 2.7404, 2.7309, 2.7288, 2.7002, 2.5389, 2.6837, 2.5331, 2.4943, 2.3936, 2.3028, 2.4677, 1.8044, 2.12, 2.4781, 2.281, 2.0541, 1.4119, 2.2353, 1.2873, 1.6579, 1.4139, 1.4285, 1.8618, 1.361, 1.8918, 1.7447, 0.256, -0.3647, 1.3032, -0.0178, 0.1535, 1.3996, 1.7169, 1.2095, 0.5524, 1.7643, 3.0676, 3.023, 2.9497, 2.89, 2.8536, 2.7533, 2.7259, 2.6264, 2.6185, 2.5839, 2.5677, 2.5477, 2.5036, 2.5034, 2.4721, 2.4674, 2.461, 2.4509, 2.4396, 2.4347, 2.3964, 2.3906, 2.387, 2.3771, 2.3429, 2.3182, 2.2994, 2.2944, 2.266, 2.2426, 2.1387, 2.192, 2.1187, 2.0882, 2.0786, 2.0359, 1.8986, 1.9685, 1.567, 2.0177, 1.6934, 2.0412, 0.8473, 1.774, 1.4569, 1.5366, 1.2522, 1.6493, 1.62, 0.7357, -0.3895, 1.3721, 0.3229, 3.0668, 3.0626, 3.0508, 3.048, 3.0458, 3.0316, 2.9622, 2.9585, 2.9327, 2.9297, 2.8392, 2.7136, 2.6695, 2.6462, 2.6304, 2.5218, 2.4232, 2.4128, 2.4008, 2.3946, 2.3479, 2.2884, 2.2741, 2.2425, 2.1699, 2.153, 2.1515, 2.0915, 2.0624, 2.0583, 1.9954, 1.9668, 1.3214, 1.8424, 1.747, 1.8416, 1.5734, 0.6003, 0.356, 0.6384, 0.9072, 0.5027, 1.0656, 1.0355, 1.1647, 0.0697, 0.3199, 0.5394, 0.6937, 1.423, -0.0984, -0.8415, -0.3202, -0.2461, -0.3506, -1.418, 3.1971, 3.1726, 3.1675, 3.1093, 3.038, 3.0126, 2.9889, 2.9884, 2.9719, 2.931, 2.9261, 2.9073, 2.8963, 2.8817, 2.8081, 2.7721, 2.7698, 2.6696, 2.669, 2.6063, 2.5964, 2.5691, 2.567, 2.5663, 2.5636, 2.5382, 2.5336, 2.5285, 2.527, 2.5235, 2.5193, 2.4875, 2.3908, 2.3881, 1.9997, 2.1994, 1.7908, 1.6726, 1.875, 2.0506, 1.0563, 2.2337, 1.848, 1.6684, 0.5032, 2.2462, 1.0941, 1.6425, 0.0936, 1.519, 0.5429, 0.3454, 0.1246, 1.5182, 0.4281, 0.8315, 0.5684, 1.2658, 0.8562, -0.654, -0.9437, 3.2217, 3.2203, 3.1989, 3.1881, 3.1683, 3.1682, 3.1371, 3.1286, 3.1004, 3.0424, 2.9934, 2.9876, 2.9811, 2.9697, 2.9451, 2.9362, 2.928, 2.8941, 2.8649, 2.8631, 2.8212, 2.8174, 2.8068, 2.7916, 2.7807, 2.7774, 2.7517, 2.6885, 2.6834, 2.6518, 2.6239, 2.3963, 2.5834, 2.3656, 2.5161, 1.9736, 2.0731, 2.192, 1.9546, 2.0979, 2.2898, 1.785, 1.5179, 1.7358, 2.1755, 2.181, 1.3122, 0.6627, 2.3224, 1.0966, 1.5383, 0.764, 0.4725, 0.1171, 1.6701, 0.0822, 1.0747, 1.7515, -0.3807, 0.8768, -0.0817, 0.4549, 3.2301, 3.2207, 3.2098, 3.2019, 3.2016, 3.2002, 3.1842, 3.1429, 3.1262, 3.0825, 3.0429, 2.9919, 2.9867, 2.9456, 2.7561, 2.7518, 2.7369, 2.7329, 2.6984, 2.6547, 2.6233, 2.6092, 2.5838, 2.57, 2.549, 2.5453, 2.5433, 2.5013, 2.4893, 2.4839, 2.3462, 2.143, 2.3723, 2.0138, 1.4773, 1.6096, 1.2935, 2.0222, 1.4538, 1.3601, 1.9081, 1.7687, -0.0276, 1.1002, 1.302, 1.5993, 0.0568, -0.8041, -0.1719, 1.4477, 0.2862, 3.3101, 3.2954, 3.2951, 3.2916, 3.2916, 3.2912, 3.2833, 3.2791, 3.2641, 3.2015, 3.1824, 3.142, 3.1335, 3.1259, 3.1235, 3.1189, 3.1112, 3.0934, 3.0735, 3.0495, 3.0277, 2.993, 2.914, 2.8811, 2.8775, 2.8564, 2.8443, 2.8343, 2.8331, 2.8271, 2.7604, 2.6843, 2.7295, 2.7342, 2.788, 2.459, 2.242, 1.2272, 1.9314, 1.9832, 0.592, 2.3232, 2.1801, 2.3877, 0.2725, 0.6011, -0.3405, 1.0179, 1.1288, 0.2452, 1.5694, -0.1394, -0.6032, 0.6733, -0.2718, 3.3195, 3.3005, 3.2967, 3.2956, 3.2933, 3.2907, 3.2139, 3.2086, 3.1856, 3.1571, 3.1421, 3.0836, 3.0743, 3.0223, 3.0114, 3.0063, 2.9804, 2.9483, 2.9259, 2.9223, 2.9201, 2.9136, 2.894, 2.8938, 2.888, 2.8604, 2.8241, 2.8238, 2.8113, 2.7701, 2.7132, 2.6414, 2.655, 2.4652, 2.2197, 2.326, 2.5345, 2.3247, 2.5019, 1.2404, 2.4924, 2.2244, 2.3935, 1.9869, 2.3056, 1.4272, 1.0511, 0.2841, 1.8401, 1.2608, 1.9582, 0.5416, 1.22, 0.2039, 0.4273, 1.3749, 0.4753, -0.3694, 1.421, 1.3102, 0.7623, 3.3678, 3.3528, 3.3405, 3.3405, 3.3362, 3.326, 3.2789, 3.2592, 3.244, 3.2281, 3.1786, 3.1657, 3.1624, 3.1425, 3.0805, 3.0359, 3.0095, 2.988, 2.946, 2.9426, 2.9347, 2.9311, 2.9129, 2.9065, 2.8842, 2.877, 2.8632, 2.8517, 2.84, 2.8355, 2.835, 2.7632, 2.6182, 2.5502, 1.7635, 2.0202, 1.3578, 1.4659, 1.9731, 0.7764, 1.8767, 1.8986, 0.6132, 1.4046, 1.0401, 1.5805, 1.8501, 0.9816, 0.9441, 0.8159, -0.1751, 1.434, -0.5953, 0.8172, -0.6865, 0.1112, 0.8169, 3.3817, 3.3781, 3.3736, 3.3555, 3.339, 3.2946, 3.2901, 3.2885, 3.2389, 3.2372, 3.214, 3.206, 3.1966, 3.039, 3.0365, 2.9584, 2.8726, 2.8428, 2.8364, 2.8164, 2.7873, 2.7837, 2.7825, 2.764, 2.6809, 2.623, 2.5694, 2.5673, 2.4224, 2.4184, 2.3886, 2.3951, 2.3954, 1.9942, 1.9512, 1.5886, 1.6747, 1.4305, 0.3362, 0.9342, 1.682, 0.1198, 0.2254, 1.2919, 1.0099, -0.3761, 0.6206, 3.4174, 3.4058, 3.393, 3.38, 3.379, 3.3188, 3.3072, 3.2867, 3.2658, 3.1661, 3.112, 3.0955, 3.0756, 3.0618, 3.0475, 3.0348, 3.0192, 3.0157, 3.0148, 3.0049, 2.9874, 2.9779, 2.9572, 2.9558, 2.9497, 2.9079, 2.9052, 2.8926, 2.8758, 2.8717, 2.8557, 2.8086, 2.646, 2.7661, 2.7782, 2.3416, 2.4187, 2.2267, 2.6625, 2.3023, 2.4064, 1.8865, 1.9587, 2.6278, 1.2883, 2.1072, 1.6821, 0.7582, 0.401, 0.7876, 0.8413, 0.1615, -0.4205, 0.3378, 0.9167, 0.9736, 1.2351, 3.4654, 3.4653, 3.4614, 3.4592, 3.4577, 3.4451, 3.4425, 3.4418, 3.4391, 3.4356, 3.425, 3.4131, 3.2859, 3.2793, 3.2409, 3.2387, 3.232, 3.2317, 3.2078, 3.1809, 3.1762, 3.1449, 3.1386, 3.1233, 3.1175, 3.092, 3.0531, 3.0349, 3.0095, 2.9841, 2.9652, 2.8908, 2.9351, 2.8837, 2.5978, 2.8835, 2.506, 1.2899, 2.8096, 1.7049, 2.0957, 2.0271, 2.1487, 0.8717, 0.7635, 1.6016, 1.1136, 0.6978, 1.6433, 0.8734, 0.8018, -0.2044, 3.4773, 3.4436, 3.4398, 3.4106, 3.3216, 3.3188, 3.2769, 3.2769, 3.2644, 3.0606, 3.0019, 2.9936, 2.9898, 2.9411, 2.9296, 2.9242, 2.9113, 2.9016, 2.8753, 2.8669, 2.8173, 2.7689, 2.6861, 2.6431, 2.6014, 2.5482, 2.5387, 2.5296, 2.4971, 2.4935, 2.4856, 2.4505, 2.458, 2.4672, 2.4302, 2.1436, 2.4371, 1.7196, 1.0822, 1.1759, 1.2, 0.9429, 1.8485, 1.166, 1.9081, 1.9846, 1.6459, 0.2923, 1.2069, 1.4007, 0.927, 1.1319, 1.5869, 0.6687, -0.6142]}, \"token.table\": {\"Topic\": [7, 10, 11, 12, 14, 15, 16, 20, 1, 13, 18, 1, 10, 19, 7, 20, 1, 7, 12, 15, 19, 1, 7, 8, 15, 16, 4, 10, 2, 10, 19, 1, 1, 2, 10, 2, 4, 5, 7, 8, 11, 15, 16, 19, 20, 1, 2, 4, 7, 8, 10, 11, 12, 13, 14, 15, 16, 20, 12, 13, 17, 2, 4, 5, 8, 10, 11, 14, 15, 16, 2, 8, 12, 14, 20, 1, 8, 2, 10, 4, 7, 11, 12, 1, 2, 7, 8, 9, 10, 11, 12, 14, 16, 18, 20, 1, 4, 6, 13, 7, 2, 15, 16, 13, 1, 16, 5, 6, 19, 6, 12, 1, 6, 9, 14, 15, 20, 9, 14, 16, 2, 7, 10, 12, 13, 17, 1, 4, 10, 14, 18, 1, 10, 12, 20, 6, 8, 13, 14, 15, 20, 1, 7, 8, 3, 5, 6, 11, 12, 1, 2, 3, 4, 7, 15, 16, 18, 20, 1, 2, 3, 5, 6, 7, 8, 11, 12, 14, 15, 16, 17, 18, 20, 1, 8, 11, 14, 15, 16, 14, 1, 19, 1, 12, 17, 2, 5, 7, 8, 9, 10, 11, 13, 14, 15, 16, 18, 19, 20, 6, 7, 8, 15, 16, 2, 10, 11, 16, 3, 7, 14, 8, 14, 1, 2, 4, 5, 11, 12, 14, 18, 19, 2, 7, 19, 20, 14, 18, 9, 19, 8, 4, 8, 14, 5, 8, 10, 13, 16, 9, 15, 4, 8, 15, 1, 2, 7, 11, 16, 4, 6, 12, 5, 16, 19, 2, 3, 6, 7, 12, 13, 15, 18, 19, 20, 1, 8, 15, 18, 1, 10, 17, 11, 12, 18, 1, 9, 1, 2, 3, 4, 7, 8, 9, 11, 14, 16, 7, 9, 12, 8, 15, 16, 1, 5, 1, 5, 6, 9, 11, 15, 16, 1, 1, 1, 1, 3, 8, 14, 4, 15, 1, 3, 6, 9, 11, 20, 2, 9, 1, 8, 9, 12, 15, 17, 19, 7, 12, 15, 12, 1, 2, 3, 7, 11, 12, 14, 20, 4, 1, 2, 3, 4, 6, 7, 11, 14, 15, 16, 18, 19, 20, 2, 4, 13, 17, 4, 20, 13, 15, 20, 1, 8, 9, 13, 16, 18, 8, 2, 4, 5, 8, 11, 13, 16, 15, 18, 1, 2, 4, 12, 16, 18, 13, 17, 18, 3, 4, 20, 1, 3, 2, 8, 9, 10, 14, 19, 4, 6, 14, 1, 4, 5, 8, 9, 12, 15, 4, 7, 9, 10, 10, 11, 13, 19, 1, 4, 5, 11, 15, 8, 11, 20, 11, 15, 20, 1, 3, 5, 11, 12, 16, 20, 1, 6, 7, 11, 13, 2, 18, 1, 3, 11, 16, 10, 13, 4, 7, 8, 18, 1, 2, 3, 6, 7, 9, 10, 11, 12, 14, 16, 17, 18, 19, 20, 13, 14, 19, 14, 19, 1, 3, 5, 7, 8, 9, 11, 13, 15, 16, 1, 5, 8, 20, 5, 9, 1, 4, 8, 16, 14, 20, 1, 3, 12, 18, 1, 4, 5, 9, 11, 18, 13, 1, 2, 3, 4, 7, 8, 9, 10, 12, 19, 9, 20, 5, 9, 1, 4, 7, 8, 12, 19, 14, 19, 18, 19, 6, 1, 3, 6, 7, 11, 12, 14, 16, 20, 1, 5, 11, 20, 2, 6, 13, 14, 16, 10, 17, 19, 8, 15, 5, 9, 16, 5, 7, 15, 5, 9, 12, 1, 5, 7, 8, 9, 15, 16, 1, 1, 8, 11, 16, 18, 2, 9, 10, 11, 6, 7, 9, 12, 13, 15, 18, 1, 2, 3, 7, 8, 10, 11, 12, 14, 15, 17, 18, 19, 8, 3, 5, 7, 12, 18, 1, 3, 4, 1, 3, 6, 7, 8, 9, 11, 15, 16, 5, 16, 5, 11, 1, 3, 1, 3, 7, 8, 9, 14, 1, 3, 6, 8, 15, 17, 19, 2, 12, 1, 5, 8, 10, 11, 13, 16, 19, 1, 5, 2, 12, 20, 5, 8, 11, 18, 2, 8, 11, 15, 16, 1, 2, 8, 10, 1, 3, 1, 4, 7, 9, 12, 14, 1, 4, 5, 8, 9, 13, 16, 20, 4, 19, 1, 2, 3, 6, 7, 9, 14, 15, 16, 18, 20, 1, 3, 10, 2, 4, 5, 10, 18, 19, 14, 5, 19, 18, 12, 18, 20, 19, 5, 10, 12, 19, 20, 1, 2, 5, 6, 19, 20, 2, 12, 18, 4, 9, 20, 1, 5, 2, 10, 11, 13, 17, 1, 2, 4, 7, 8, 9, 10, 14, 15, 17, 18, 19, 1, 19, 1, 3, 6, 11, 12, 15, 18, 20, 1, 8, 9, 11, 16, 19, 20, 1, 4, 5, 10, 12, 14, 18, 15, 17, 1, 2, 3, 5, 6, 7, 9, 14, 16, 20, 8, 18, 1, 18, 6, 18, 2, 7, 8, 9, 15, 16, 18, 7, 4, 1, 1, 4, 1, 2, 4, 5, 7, 8, 9, 11, 12, 13, 14, 15, 16, 18, 19, 1, 4, 18, 1, 3, 7, 11, 12, 14, 15, 18, 1, 2, 7, 8, 12, 13, 14, 15, 1, 2, 8, 9, 5, 10, 20, 4, 12, 17, 1, 14, 1, 1, 3, 15, 19, 20, 6, 7, 9, 11, 14, 15, 1, 3, 11, 12, 14, 15, 1, 3, 10, 14, 2, 4, 5, 8, 10, 11, 13, 15, 16, 19, 20, 5, 11, 14, 15, 1, 8, 19, 7, 16, 1, 2, 8, 10, 18, 15, 20, 2, 3, 10, 13, 1, 3, 1, 3, 1, 4, 5, 7, 11, 7, 9, 17, 4, 5, 7, 10, 14, 15, 2, 4, 5, 8, 9, 10, 12, 13, 14, 15, 19, 20, 5, 9, 11, 13, 5, 11, 8, 14, 2, 8, 18, 10, 19, 2, 10, 1, 3, 12, 5, 11, 12, 7, 8, 20, 4, 12, 16, 1, 3, 2, 2, 4, 5, 7, 8, 10, 13, 14, 15, 17, 19, 7, 2, 16, 19, 2, 10, 2, 5, 8, 9, 15, 1, 9, 4, 9, 1, 6, 4, 9, 1, 4, 8, 11, 12, 15, 20, 1, 8, 1, 5, 14, 19, 1, 4, 6, 9, 11, 15, 16, 17, 5, 16, 1, 3, 5, 6, 7, 8, 9, 11, 12, 13, 14, 16, 19, 12, 18, 1, 8, 12, 16, 17, 1, 3, 20, 20, 1, 6, 11, 15, 18, 16, 1, 3, 6, 7, 9, 15, 16, 18, 20, 1, 4, 7, 11, 13, 15, 18, 20, 8, 13, 14, 18, 15, 18, 12, 17, 16, 1, 2, 3, 12, 14, 15, 16, 18, 20, 4, 5, 9, 18, 4, 16, 20, 5, 16, 1, 2, 4, 5, 7, 10, 11, 12, 14, 17, 19, 20, 1, 5, 6, 7, 8, 5, 6, 14, 17, 19, 1, 2, 3, 5, 8, 15, 17, 18, 20, 1, 2, 3, 4, 5, 6, 7, 8, 9, 10, 11, 16, 19, 5, 8, 9, 11, 14, 15, 18, 20, 1, 7, 9, 15, 20, 5, 9, 17, 11, 16, 2, 4, 8, 10, 13, 14, 15, 18, 2, 4, 5, 6, 7, 8, 9, 10, 11, 13, 14, 15, 16, 20, 1, 3, 4, 1, 2, 3, 7, 8, 9, 15, 16, 8, 9, 1, 4, 8, 10, 11, 14, 7, 16, 15, 1, 4, 5, 7, 8, 9, 10, 11, 12, 13, 14, 16, 18, 19, 1, 3, 5, 6, 7, 8, 9, 10, 18, 19, 20, 9, 2, 5, 7, 8, 10, 11, 12, 13, 14, 15, 16, 17, 18, 20, 4, 7, 10, 12, 16, 18, 8, 16, 18, 19, 1, 1, 2, 5, 7, 15, 17, 19, 20, 1, 5, 20, 5, 7, 19, 1, 6, 7, 3, 6, 11, 15, 1, 2, 4, 5, 8, 11, 14, 16, 18, 20, 2, 20, 8, 16, 18, 1, 20, 4, 6, 14, 17, 2, 13, 18, 2, 12, 18, 19, 20, 1, 11, 15, 19, 20, 2, 4, 5, 8, 10, 14, 15, 20, 3, 6, 8, 11, 12, 14, 15, 16, 11, 12, 20, 11, 12, 15, 7, 10, 12, 15, 16, 2, 5, 9, 10, 11, 13, 14, 16, 19, 20, 7, 10, 14, 15, 16, 18, 5, 14, 7, 7, 14, 20, 1, 3, 1, 2, 4, 5, 6, 7, 8, 9, 10, 11, 12, 14, 15, 17, 18, 19, 20, 17, 1, 2, 4, 13, 4, 1, 2, 8, 11, 14, 15, 16, 17, 18, 19, 1, 2, 10, 12, 17, 5, 7, 12, 5, 19, 1, 7, 8, 10, 11, 12, 14, 15, 16, 17, 19, 2, 15, 10, 1, 2, 3, 4, 5, 6, 8, 9, 10, 11, 12, 14, 15, 16, 17, 18, 20, 8, 11, 14, 15, 16, 1, 13, 14, 2, 10, 13, 17, 19, 10, 10, 17, 13, 17, 2, 5, 10, 12, 19, 19, 2, 10, 17, 19, 5, 9, 1, 2, 3, 4, 5, 6, 7, 8, 9, 10, 11, 13, 14, 15, 16, 17, 18, 19, 20, 1, 17, 11, 4, 10, 11, 1, 4, 8, 9, 14, 15, 16, 18, 4, 7, 18, 1, 2, 3, 4, 5, 6, 8, 10, 12, 14, 16, 17, 18, 20, 7, 14, 18, 1, 7, 12, 5, 7, 9, 15, 20, 5, 7, 11, 15, 16, 7, 20, 1, 16, 1, 2, 18, 2, 4, 6, 8, 10, 12, 14, 15, 17, 19, 20, 1, 2, 8, 10, 11, 13, 19, 1, 16, 1, 6, 9, 11, 15, 1, 6, 6, 12, 1, 2, 3, 4, 8, 9, 13, 14, 15, 16, 19, 1, 5, 8, 18, 6, 10, 1, 12, 1, 2, 4, 11, 12, 13, 16, 19, 1, 10, 14, 15, 16, 19, 20, 4, 10, 17, 10, 12, 1, 16, 1, 8, 18, 1, 14, 16, 18, 4, 15, 17, 7, 15, 20, 2, 4, 9, 16, 18, 19, 1, 5, 8, 14, 20, 8, 12, 1, 2, 8, 11, 15, 16, 20, 5, 8, 11, 14, 15, 16, 19, 4, 12, 18, 8, 14, 16, 2, 6, 16, 8, 16, 7, 9, 1, 14, 2, 5, 8, 10, 11, 13, 16, 2, 11, 18, 7, 16, 19, 3, 7, 15, 2, 5, 6, 7, 9, 10, 11, 15, 16, 20, 16, 19, 1, 3, 5, 6, 7, 8, 11, 14, 16, 17, 18, 19, 1, 6, 8, 12, 16, 17, 18, 19, 20, 5, 12, 20, 1, 3, 6, 7, 9, 3, 8, 18, 1, 19, 1, 2, 4, 8, 10, 11, 13, 14, 16, 18, 19, 2, 7, 18, 1, 8, 18, 1, 2, 11, 14, 19, 20, 13, 2, 14, 18, 8, 14, 4, 5, 7, 10, 12, 16, 17, 18, 19, 20, 14, 17, 1, 1, 2, 3, 4, 8, 10, 11, 12, 14, 16, 17, 19, 20, 19, 2, 8, 11, 14, 16, 20, 9, 14, 15, 17, 20, 17, 5, 7, 9, 11, 18, 1, 2, 4, 5, 7, 9, 11, 15, 1, 3, 9, 18, 3, 17, 1, 2, 5, 10, 12, 13, 18, 19, 20, 2, 13, 19, 4, 8, 18, 8, 11, 18, 4, 5, 7, 11, 13, 1, 3, 15, 18, 1, 4, 7, 15, 4, 7, 4, 5, 12, 15, 17, 18, 1, 2, 3, 4, 5, 6, 7, 8, 9, 10, 11, 12, 13, 14, 15, 16, 17, 18, 19, 2, 11, 20, 8, 12, 16, 18, 1, 14, 16, 20, 4, 5, 7, 8, 13, 14, 15, 1, 2, 4, 6, 7, 8, 9, 11, 13, 15, 16, 18, 19, 20, 1, 4, 10, 11, 13, 16, 18, 4, 2, 4, 8, 11, 16, 19, 20, 2, 10, 1, 3, 4, 18, 2, 5, 7, 11, 20, 8, 17, 19, 20, 1, 3, 8, 19, 1, 3, 12, 18, 19, 1, 1, 4, 5, 6, 7, 8, 9, 10, 11, 12, 13, 14, 15, 16, 20, 1, 15, 16, 19, 1, 2, 3, 4, 5, 7, 8, 9, 10, 11, 12, 13, 14, 15, 18, 20, 2, 4, 5, 6, 7, 10, 12, 13, 17, 19, 20, 1, 3, 4, 5, 7, 8, 9, 12, 14, 15, 16, 19, 20, 5, 8, 16, 4, 5, 7, 11, 14, 1, 3, 5, 6, 1, 2, 3, 4, 6, 10, 11, 12, 13, 15, 16, 19, 18, 4, 20, 5, 14, 19, 1, 4, 6, 11, 12, 20, 3, 9, 16, 1, 4, 5, 14, 16, 20, 6, 8, 14, 15, 16, 20, 1, 16, 17, 8, 14, 15, 20, 2, 8, 14, 16, 18, 13, 16, 12, 16, 1, 8, 19, 5, 14, 19, 20, 6, 8, 12, 8, 7, 9, 10, 12, 15, 18, 4, 13, 17, 20, 1, 8, 9, 11, 12, 15, 16, 18, 20, 1, 2, 4, 8, 9, 13, 18, 19, 1, 8, 14, 5, 17, 1, 2, 8, 5, 9, 11, 13, 14, 15, 16, 20, 5, 8, 11, 13, 14, 15, 16, 12, 3, 3, 2, 4, 5, 8, 10, 12, 14, 18, 7, 9, 1, 12, 15, 1, 2, 4, 5, 6, 8, 9, 11, 12, 14, 15, 16, 19, 20, 9, 13, 17, 5, 11, 13, 5, 7, 9, 10, 11, 16, 20, 5, 11, 15, 1, 2, 4, 5, 7, 8, 10, 12, 14, 17, 18, 19, 5, 14, 5, 15, 16, 1, 5, 8, 9, 11, 12, 14, 15, 16, 18, 13, 17, 19, 1, 2, 4, 10, 14, 15, 19, 1, 2, 3, 4, 11, 12, 14, 15, 19, 20, 1, 15, 2, 8, 16, 4, 12, 5, 7, 9, 19, 8, 16, 1, 19, 16, 1, 5, 16, 1, 8, 11, 12, 14, 16, 20, 2, 7, 10, 13, 18, 19, 1, 2, 3, 9, 10, 11, 14, 16, 17, 19, 1, 8, 16, 17, 20, 8, 11, 15, 5, 14, 1, 2, 3, 4, 5, 6, 7, 8, 9, 15, 16, 20, 1, 3, 4, 6, 8, 9, 10, 12, 14, 18, 1, 7, 14, 16, 19, 1, 4, 1, 2, 6, 7, 9, 11, 14, 15, 16, 18, 20, 4, 11, 16, 1, 3, 5, 7, 14, 1, 1, 4, 11, 12, 14, 1, 3, 4, 8, 18, 1, 9, 1, 18, 4, 4, 9, 4, 7, 2, 8, 10, 12, 13, 2, 2, 6, 7, 11, 17, 1, 3, 4, 5, 6, 7, 8, 9, 11, 12, 14, 15, 18, 19, 2, 11, 2, 4, 5, 6, 9, 10, 13, 15, 16, 17, 18, 1, 6, 9, 15, 20, 3, 1, 5, 11, 14, 17, 18, 20, 5, 20, 1, 11, 2, 4, 5, 7, 8, 9, 11, 13, 16, 19, 7, 17, 1, 5, 13, 5, 8, 9, 11, 12, 13, 14, 20, 2, 18, 19, 1, 2, 5, 12, 17, 18, 14, 15, 2, 5, 8, 10, 11, 13, 14, 16, 19, 16, 5, 13, 1, 4, 5, 10, 17, 18, 20, 1, 2, 14, 16, 20, 19, 1, 7, 12, 1, 2, 5, 6, 7, 9, 11, 16, 19, 4, 6, 14, 4, 5, 7, 8, 9, 14, 15, 18, 20, 2, 7, 1, 7, 14, 15, 17, 19, 2, 11, 5, 9, 15, 2, 15, 20, 17, 8, 18, 1, 2, 3, 8, 9, 11, 16, 18, 19, 20, 1, 5, 7, 14, 15, 17, 1, 7, 10, 18, 19, 20, 1, 3, 5, 6, 7, 8, 9, 11, 12, 14, 15, 16, 20, 3, 17, 3, 1, 5, 12, 16, 19, 6, 8, 11, 14, 15, 16, 18, 20, 14, 7, 11, 15, 16, 1, 4, 8, 9, 11, 12, 13, 14, 18, 19, 15, 9, 15, 16, 18, 1, 5, 11, 1, 6, 9, 12, 15, 16, 18, 19, 1, 2, 7, 10, 2, 10, 13, 15, 18, 20, 4, 6, 2, 2, 5, 11, 2, 10, 18, 1, 3, 1, 2, 3, 4, 5, 6, 7, 8, 10, 11, 12, 14, 16, 17, 18, 19, 4, 9, 18, 2, 8, 18, 1, 3, 5, 6, 7, 9, 11, 14, 16, 20, 1, 3, 1, 2, 10, 14, 18, 1, 4, 7, 15, 18, 20, 2, 19, 1, 3, 19, 8, 8, 9, 11, 19, 1, 1, 7, 14, 4, 5, 11, 13, 19, 5, 7, 19, 4, 5, 11, 4, 5, 7, 9, 13, 15, 16, 20, 11, 15, 20, 1, 3, 6, 9, 11, 15, 16, 19, 1, 8, 17, 18, 19, 1, 17, 2, 5, 6, 7, 8, 9, 11, 12, 14, 16, 18, 1, 12, 16, 12, 14, 18, 19, 1, 1, 4, 7, 8, 9, 10, 12, 18, 19, 20, 1, 2, 7, 10, 16, 18, 19, 3, 16, 7, 9, 11, 14, 16, 5, 8, 3, 15, 17, 7, 9, 15, 16, 2, 14, 1, 1, 7, 12, 14, 16, 18, 19, 20, 1, 2, 4, 5, 8, 9, 11, 17, 18, 3, 5, 8, 18, 8, 16, 1, 4, 5, 6, 7, 8, 10, 14, 15, 17, 18, 19, 5, 13, 16, 3, 2, 19, 2, 13, 1, 3, 8, 9, 11, 14, 15, 16, 18, 19, 20, 1, 2, 10, 12, 2, 5, 9, 11, 12, 14, 15, 16, 18, 20, 7, 8, 10, 12, 14, 15, 16, 1, 2, 11, 12, 17, 13, 20, 1, 2, 3, 4, 5, 6, 8, 9, 10, 11, 13, 15, 17, 18, 19, 20, 8, 9, 10, 11, 19, 2, 4, 5, 7, 8, 9, 10, 11, 13, 15, 16, 18, 19, 20, 14, 8, 15, 1, 10, 16, 1, 4, 10, 20, 2, 9, 13, 16, 6, 8, 12, 14, 16, 18, 20, 1, 2, 4, 5, 8, 13, 14, 15, 17, 5, 13, 19, 20, 10, 15, 1, 8, 10, 16, 19, 1, 18, 5, 8, 12, 14, 1, 3, 4, 11, 14, 15, 1, 8, 10, 12, 13, 16, 20, 1, 8, 10, 11, 16, 7, 3, 5, 12, 11, 1, 2, 4, 5, 6, 8, 9, 11, 1, 7, 11, 10, 17, 1, 4, 13, 19, 1, 4, 1, 4, 5, 7, 8, 9, 11, 12, 13, 15, 17, 18, 1, 5, 18, 12, 2, 14, 12, 1, 3, 7, 3, 15, 1, 3, 14, 5, 6, 7, 8, 9, 11, 14, 18, 1, 4, 7, 8, 9, 12, 16, 20, 11, 14, 14, 15, 15, 5, 15, 20, 14, 15, 16, 2, 10, 11, 12, 13, 14, 15, 16, 18, 13, 1, 4, 8, 7, 8, 9, 13, 14, 16, 18, 20, 5, 6, 7, 11, 14, 15, 16, 18, 20, 1, 3, 6, 7, 9, 14, 7, 8, 9, 14, 20, 15, 16, 5, 10, 15, 16, 20, 15, 16, 1, 7, 10, 15, 14, 6, 20, 2, 3, 4, 14, 18, 1, 2, 4, 5, 8, 11, 12, 14, 17, 18, 19, 1, 5, 8, 19, 3, 16, 2, 5, 7, 10, 15, 7, 1, 2, 4, 8, 13, 15, 18, 19, 14, 15, 16, 20, 1, 3, 7, 8, 11, 12, 13, 14, 15, 16, 18, 19, 20, 12, 19, 4, 11, 15, 16, 4, 1, 15, 1, 9, 1, 2, 7, 11, 12, 16, 19, 10, 12, 15, 5, 8, 5, 15, 1, 4, 8, 11, 14, 19, 5, 13, 5, 11, 16, 1, 5, 10, 12, 14, 16, 8, 2, 8, 10, 11, 14, 15, 16, 19, 2, 5, 6, 7, 8, 9, 10, 11, 12, 13, 14, 15, 16, 17, 18, 19, 20, 6, 16, 17, 18, 1, 2, 4, 5, 7, 8, 9, 11, 12, 13, 15, 16, 17, 18, 19, 8, 14, 3, 19, 4, 9, 20, 16, 18, 4, 11, 13, 19, 20, 15, 19, 20, 6, 11, 13, 20, 10, 17, 1, 9, 1, 15, 1, 5, 14, 11, 12, 1, 2, 3, 5, 7, 8, 9, 10, 11, 12, 13, 14, 15, 16, 18, 19, 20, 1, 2, 3, 4, 5, 6, 7, 8, 9, 10, 12, 13, 15, 16, 18, 20, 9, 17, 5, 7, 2, 14, 1, 9, 14, 6, 10, 12, 1, 2, 3, 4, 5, 6, 7, 8, 10, 11, 12, 13, 14, 15, 16, 17, 18, 19, 1, 2, 4, 8, 13, 17, 2, 9, 14, 15, 4, 7, 1, 9, 11, 16, 3, 4, 5, 9, 11, 16, 18, 20, 11, 16, 1, 2, 17, 1, 4, 6, 7, 8, 11, 12, 14, 16, 18, 19, 6, 10, 18, 1, 4, 7, 8, 10, 11, 14, 18, 19, 1, 9, 11, 13, 16, 18, 20, 8, 11, 14, 1, 6, 11, 12, 15, 11, 16, 2, 5, 2, 20, 1, 7, 9, 17, 18, 19, 7, 10, 18, 11, 16, 19, 1, 2, 4, 5, 6, 7, 8, 10, 11, 12, 13, 14, 15, 16, 17, 19, 20, 2, 7, 8, 13, 14, 1, 9, 20, 4, 5, 1, 6, 9, 11, 15, 5, 7, 7, 8, 10, 11, 14, 16, 6, 13, 2, 5, 7, 8, 11, 13, 14, 15, 16, 20, 5, 7, 8, 10, 16, 5, 16, 1, 7, 13, 8, 14, 1, 4, 1, 2, 4, 5, 6, 7, 8, 9, 10, 11, 12, 13, 14, 15, 16, 17, 18, 19, 2, 8, 10, 11, 14, 17, 18, 19, 5, 8, 11, 13, 16, 20, 2, 9, 5, 9, 11, 12, 1, 4, 5, 14, 1, 2, 4, 8, 9, 11, 15, 18, 19, 20, 4, 9, 4, 15, 1, 3, 5, 6, 7, 8, 9, 10, 11, 12, 15, 16, 17, 18, 20, 4, 7, 12, 17, 8, 9, 5, 7, 12, 17, 5, 8, 11, 1, 2, 4, 8, 9, 11, 15, 17, 19, 3, 14, 20, 1, 3, 14, 1, 4, 8, 12, 14, 15, 16, 19, 20, 18, 4, 1, 2, 3, 6, 7, 8, 9, 10, 11, 14, 16, 17, 18, 19, 20, 1, 8, 11, 18, 16, 18, 1, 2, 5, 10, 11, 1, 2, 3, 7, 9, 11, 15, 20, 1, 3, 12, 1, 8, 9, 11, 17, 18, 5, 13, 1, 2, 8, 10, 13, 14, 18, 19, 2, 10, 14, 17, 18, 2, 5, 9, 11, 14, 20, 2, 10, 13, 2, 17], \"Freq\": [0.0964322449244028, 0.0022960058315334, 0.183680466522672, 0.034440087473001, 0.0367360933045344, 0.3627689213822772, 0.0206640524838006, 0.2617446647948076, 0.36072736107174397, 0.48096981476232525, 0.12024245369058131, 0.2769584559612248, 0.4473944288604401, 0.2769584559612248, 0.1656175058877683, 0.8044278857405889, 0.07685901019946279, 0.2690065356981198, 0.5252032363629957, 0.012809835033243799, 0.11528851529919419, 0.050869712549447235, 0.661306263142814, 0.03391314169963149, 0.10173942509889447, 0.11869599594871022, 0.09921798310207458, 0.8598891868846463, 0.07231041847215698, 0.6869489754854913, 0.21693125541647093, 0.9992537430025671, 0.9975939300307147, 0.7226322954103264, 0.1806580738525816, 0.16769334308097356, 0.011565058143515418, 0.005782529071757709, 0.034695174430546254, 0.05782529071757709, 0.4394722094535859, 0.06939034886109251, 0.05782529071757709, 0.09252046514812334, 0.0636078197893348, 0.001649235809858018, 0.01649235809858018, 0.17811746746466595, 0.004947707429574054, 0.24903460728856075, 0.0362831878168764, 0.02638777295772829, 0.024738537147870273, 0.28861626672515317, 0.0725663756337528, 0.003298471619716036, 0.023089301338012253, 0.0725663756337528, 0.04878286756962048, 0.11789192995991617, 0.8293087486835482, 0.29653446407676026, 0.056276613620407055, 0.1450205043295105, 0.13203359349403193, 0.004328970278492851, 0.18398123683594614, 0.0952373461268427, 0.043289702784928503, 0.04112521764568208, 0.006313251926227904, 0.13573491641389993, 0.015783129815569757, 0.8270360023358554, 0.015783129815569757, 0.9802306896750749, 0.9313686485868071, 0.8387677680918164, 0.13654359015448175, 0.06128160297569648, 0.06128160297569648, 0.5232506100232546, 0.353547709475172, 0.04042625215028729, 0.10510825559074696, 0.010780333906743277, 0.04312133562697311, 0.07546233734720295, 0.010780333906743277, 0.08624267125394622, 0.018865584336800738, 0.4258231893163595, 0.1104984225441186, 0.010780333906743277, 0.06468200344045967, 0.12621153656098758, 0.22087018898172825, 0.23664663105185169, 0.4101874938232096, 0.9467698632949492, 0.8900713761841673, 0.05827848296443953, 0.04768239515272325, 0.9369619152793798, 0.1148794822921599, 0.8615961171911992, 0.050254862483605174, 0.3115801473983521, 0.6332112672934253, 0.12915501981250702, 0.8395076287812956, 0.09992593851568254, 0.0736296389062924, 0.5890371112503392, 0.12096297820319467, 0.08940741867192649, 0.026296299609390145, 0.10915028902522496, 0.8186271676891872, 0.05457514451261248, 0.5931199225198005, 0.017883012739290466, 0.2175766549947007, 0.02980502123215078, 0.03576602547858093, 0.10431757431252772, 0.4498970211567491, 0.036478136850547224, 0.2857454053292866, 0.006079689475091204, 0.22494851057837456, 0.12199349259681252, 0.12199349259681252, 0.6099674629840627, 0.15249186574601567, 0.007721086175409017, 0.23163258526227049, 0.02702380161393156, 0.6254079802081304, 0.07335031866638565, 0.030884344701636066, 0.996473030298705, 0.23461996989325343, 0.7625149021530736, 0.15123368149206082, 0.13106919062645273, 0.4940300262073987, 0.15123368149206082, 0.07057571802962839, 0.0036090142173264656, 0.14075155447573218, 0.010827042651979398, 0.025263099521285262, 0.14075155447573218, 0.03609014217326466, 0.032481127955938195, 0.021654085303958796, 0.5846603032068874, 0.25468120663779875, 0.028017734503608224, 0.0504319221064948, 0.027177202468499976, 0.025496138398283484, 0.03530234547454636, 0.04678961662102574, 0.11543306615486588, 0.04482837520577316, 0.12411856385098444, 0.043427488480592746, 0.06275972528808242, 0.0025215961053247403, 0.03670323219972677, 0.10226473093817001, 0.9983750797036841, 0.06018682157979325, 0.19489066035361624, 0.017196234737083784, 0.2579435210562568, 0.4671643770241095, 0.9902543010817503, 0.19940548054791238, 0.7794941512327483, 0.1495424914675917, 0.7850980802048563, 0.03738562286689792, 0.22628189142600572, 0.038873019322731545, 0.002455138062488308, 0.19518347596782049, 0.01227569031244154, 0.032735174166510776, 0.2140062011135642, 0.0004091896770813847, 0.022505432239476156, 0.0028643277395696927, 0.13257745537436863, 0.00695622451038354, 0.013503259343685695, 0.0986147121766137, 0.06736359387951933, 0.10665902364257228, 0.13472718775903866, 0.10104539081927899, 0.5894314464457941, 0.596200856559551, 0.394886281617365, 0.8166340715584863, 0.1555493469635212, 0.07405493608319792, 0.8146042969151771, 0.07405493608319792, 0.8052735461996724, 0.12714845466310618, 0.019266818439820997, 0.06261715992941824, 0.009633409219910499, 0.04816704609955249, 0.019266818439820997, 0.18303477517829947, 0.5346542117050327, 0.004816704609955249, 0.12041761524888123, 0.09178562661449509, 0.7036898040444624, 0.12238083548599345, 0.061190417742996724, 0.3521435497776232, 0.623023203452718, 0.18819154181940012, 0.7904044756414805, 0.9276827866470757, 0.19150936295598023, 0.16757069258648272, 0.6224054296069358, 0.25337477515303364, 0.7334532964956236, 0.20424089839568899, 0.5446423957218374, 0.20424089839568899, 0.22036589956068678, 0.716189173572232, 0.20267022375095475, 0.6890787607532461, 0.0810680895003819, 0.06853826424286594, 0.1931532901389858, 0.1993840414337918, 0.36138357509874763, 0.17446103625456783, 0.8085206841103352, 0.014972605261302504, 0.14972605261302505, 0.09669681151735125, 0.09669681151735125, 0.7977486950181478, 0.25415499817226994, 0.09590754648010186, 0.2757341961302928, 0.06953297119807385, 0.009590754648010185, 0.05514683922605857, 0.04315839591604584, 0.028772263944030558, 0.014386131972015279, 0.15105438570616042, 0.21182625357976084, 0.1270957521478565, 0.08473050143190435, 0.5719308846653544, 0.32703578767676167, 0.19985520358024322, 0.4360477169023489, 0.12025184803678539, 0.7515740502299086, 0.12025184803678539, 0.3503279034556789, 0.6051118332416271, 0.5083262907579241, 0.021696853873813836, 0.0030995505534019765, 0.040294157194225695, 0.0030995505534019765, 0.263461797039168, 0.03719460664082372, 0.03409505608742174, 0.049592808854431625, 0.03719460664082372, 0.8593883816006052, 0.09142429591495799, 0.05485457754897479, 0.1838946813934706, 0.14711574511477649, 0.6252419167378, 0.35936486711664023, 0.5989414451944004, 0.3097657738431366, 0.07227868056339853, 0.06711591766601292, 0.23232433038235242, 0.20651051589542438, 0.025813814486928047, 0.08518558780686256, 0.9971423044586926, 0.98554923167417, 0.9963970772657075, 0.5538809895891301, 0.4452768739834183, 0.0007489939007290468, 0.9820558052685102, 0.9463393327706001, 0.03504960491742963, 0.08167163792570775, 0.1854166915070122, 0.1500992264580575, 0.3686260414484647, 0.017658732524477354, 0.19645339933481054, 0.9612627073736901, 0.9868339010913955, 0.22396381641795804, 0.11198190820897902, 0.13597803139661738, 0.40793409418985216, 0.04799224637527672, 0.02399612318763836, 0.039993538646063934, 0.1484075739125852, 0.19787676521678024, 0.6430994869545358, 0.9934488175688814, 0.11795764617040252, 0.02948941154260063, 0.12778745001793607, 0.4357879705739871, 0.09502143719282426, 0.16383006412555906, 0.01965960769506709, 0.006553202565022362, 0.8898529198729785, 0.10201299181449826, 0.01589812859446726, 0.23184770866931423, 0.06359251437786904, 0.0013248440495389384, 0.27424271825456026, 0.045044697684323905, 0.05299376198155754, 0.07021673462556374, 0.03179625718893452, 0.02649688099077877, 0.07286642272464161, 0.014573284544928324, 0.03208957409792325, 0.03743783644757712, 0.016044787048961624, 0.9092045994411587, 0.06602693870950685, 0.9338095617487396, 0.060714377714727, 0.8742870390920688, 0.0485715021717816, 0.09225157744643674, 0.5618959717192056, 0.1425706196899477, 0.04193253520292579, 0.05031904224351095, 0.1006380844870219, 0.9313140492495611, 0.005066069952537567, 0.6124878572617919, 0.17629923434830735, 0.0010132139905075135, 0.007599104928806352, 0.19301726519168133, 0.004052855962030054, 0.3593141563647792, 0.5879686195060023, 0.9049376485077147, 0.009446113241207879, 0.01322455853769103, 0.024559894427140485, 0.02644911707538206, 0.020781449130657333, 0.23967214884039056, 0.1369555136230803, 0.6162998113038615, 0.29336221824350367, 0.13038320810822385, 0.5541286344599514, 0.28513867001137716, 0.7144191309292409, 0.23141311827653252, 0.019998664542416392, 0.0057139041549761115, 0.03428342492985667, 0.0028569520774880557, 0.7028102110620618, 0.2931177578381683, 0.4606136194599788, 0.2093698270272631, 0.039933985761746615, 0.34609454326847067, 0.006655664293624436, 0.06655664293624436, 0.039933985761746615, 0.05324531434899549, 0.4459295076728372, 0.23983974437134598, 0.25582906066276906, 0.49566880503411503, 0.9330110571422987, 0.48220569086021997, 0.09273186362696538, 0.1669173545285377, 0.24110284543010999, 0.01916781070612954, 0.03833562141225908, 0.8050480496574408, 0.07667124282451816, 0.057503432118388625, 0.243022238856814, 0.7406392041350522, 0.011572487564610191, 0.8344961424208702, 0.12312238166865298, 0.027360529259700662, 0.02415141324933971, 0.4830282649867942, 0.008050471083113237, 0.14490847949603824, 0.05635329758179265, 0.1529589505791515, 0.136858008412925, 0.06234525604637017, 0.23691197297620664, 0.14962861451128842, 0.48629299716168733, 0.06234525604637017, 0.7863095535809775, 0.1935531208814714, 0.1544134981565609, 0.8106708653219448, 0.16402939419163154, 0.7928087385928857, 0.092894709286136, 0.894111576879059, 0.1346610289471095, 0.07819027487251519, 0.7688710362463993, 0.013031712478752532, 0.1833643135687901, 0.0012967773236830982, 0.08895892440466054, 0.03682847599259999, 0.007780663942098589, 0.012967773236830982, 0.048499471905747875, 0.006483886618415491, 0.4364952471517309, 0.019970370784719714, 0.02852910112102816, 0.04253429621680562, 0.0025935546473661963, 0.06665435443731124, 0.016598749743143657, 0.9464054549531683, 0.7520859992356222, 0.2448652090534584, 0.14581372815578877, 0.831138250487996, 0.20242272891480784, 0.0023002582831228163, 0.02530284111435098, 0.16561859638484278, 0.027603099397473796, 0.38414313328151034, 0.05980671536119323, 0.034503874246842245, 0.06670749021056167, 0.03220361596371943, 0.9929780009121161, 0.28571232637633626, 0.19047488425089082, 0.38094976850178164, 0.6500135426050236, 0.3250067713025118, 0.183628363456784, 0.09498018799488828, 0.27860855145167224, 0.43690886477648605, 0.9779634916534818, 0.020321319307085337, 0.9910848731118822, 0.14493777919330414, 0.2608880025479475, 0.5507635609345557, 0.034688142642401415, 0.6937628528480282, 0.11948138021271597, 0.07323052335618076, 0.03854238071377935, 0.03854238071377935, 0.9720250988029066, 0.009806178961357645, 0.6545624456706227, 0.0012257723701697056, 0.05515975665763675, 0.0036773171105091164, 0.018386585552545583, 0.02696699214373352, 0.0012257723701697056, 0.22554211611122582, 0.0049030894806788225, 0.3524752765624739, 0.6266227138888425, 0.9047900606129551, 0.06462786147235393, 0.4182808614759931, 0.12041418739460408, 0.0158439720256058, 0.396099300640145, 0.02851914964609044, 0.019012766430726958, 0.012946531849314692, 0.9860941758561358, 0.024103343672866474, 0.9737750843838056, 0.8944320134261288, 0.18840767269749528, 0.5143645052170883, 0.02542925643769875, 0.061261390509001534, 0.09478177399505898, 0.02889688231556676, 0.03236450819343477, 0.0508585128753975, 0.003467625877868011, 0.21527287660139924, 0.7145227393578358, 0.0045802739702425375, 0.06412383558339552, 0.9082166582901627, 0.022094899497455946, 0.008140226130641665, 0.039538241205973795, 0.02093201005022142, 0.13181657818543763, 0.865898556700892, 0.001136349811943428, 0.7701051349116728, 0.1925262837279182, 0.16640340038396403, 0.5824119013438741, 0.20800425047995505, 0.18176880675649532, 0.13219549582290568, 0.6775019160923916, 0.21085063819820585, 0.10542531909910292, 0.6747220422342588, 0.013561151244727187, 0.2881744639504527, 0.15934352712554445, 0.05424460497890875, 0.1796852539926352, 0.25088129802745296, 0.050854317167726946, 0.9940442291444176, 0.25159183176143435, 0.5975306004334067, 0.031448978970179294, 0.055035713197813765, 0.055035713197813765, 0.9522201444506342, 0.28829497816246585, 0.16216592521638706, 0.5225346479194695, 0.010689228116447963, 0.058790754640463794, 0.005344614058223981, 0.6386813799577657, 0.04008460543667986, 0.22180148341629524, 0.024050763262007918, 0.3147598614478638, 0.2431818171535974, 0.011012006814502524, 0.06515437365247327, 0.08259005110876892, 0.027530017036256307, 0.016518010221753785, 0.03945969108530071, 0.04863636343071948, 0.0477186961961776, 0.000917667234541877, 0.006423670641793139, 0.09451972515781333, 0.9885470086263825, 0.025698933720603227, 0.2055914697648258, 0.11564520174271452, 0.5782260087135725, 0.06424733430150807, 0.44923874684837184, 0.527855527546837, 0.02246193734241859, 0.16127326760946806, 0.4203680254082856, 0.06609560147929018, 0.058164129301775364, 0.058164129301775364, 0.03172588871005929, 0.007931472177514822, 0.07667089771597661, 0.11632825860355073, 0.16176368753442438, 0.8088184376721218, 0.18674372276404572, 0.7936608217471943, 0.35214002038137704, 0.6162450356674097, 0.07043372461795924, 0.12074352791650156, 0.06037176395825078, 0.07043372461795924, 0.5232219543048401, 0.14086744923591848, 0.10748196598347218, 0.1458683824061408, 0.084450116129871, 0.4759915636410911, 0.007677283284533727, 0.1266751741948065, 0.04990234134946923, 0.1848134599465321, 0.7854572047727614, 0.1645584932951624, 0.46699031881059594, 0.09339806376211919, 0.026685161074891196, 0.08450301007048878, 0.044475268458151994, 0.06226537584141279, 0.05337032214978239, 0.2720496923203139, 0.6347826154140657, 0.21553939400090774, 0.3448630304014524, 0.38797090920163396, 0.005161484927912334, 0.8309990733938857, 0.06709930406286034, 0.092906728702422, 0.6479202348564367, 0.1781780645855201, 0.0971880352284655, 0.032396011742821834, 0.04049501467852729, 0.1777758700553369, 0.7750404159430039, 0.04522368624214711, 0.0015594374566257623, 0.7843247661772039, 0.20854878175810046, 0.23271631162434642, 0.6205768309982571, 0.04176959439411346, 0.0298354245672239, 0.0298354245672239, 0.04176959439411346, 0.05824317915145959, 0.11648635830291917, 0.03882878610097306, 0.17472953745437877, 0.10677916177767591, 0.06795037567670285, 0.05824317915145959, 0.34945907490875755, 0.9437779157820387, 0.9894721848907158, 0.23962882642682676, 0.004840986392461147, 0.3800174318082, 0.0024204931962305736, 0.0024204931962305736, 0.16217304414744843, 0.012102465981152867, 0.07019430269068663, 0.10166071424168409, 0.009681972784922294, 0.009681972784922294, 0.9939867811437071, 0.3036154083676438, 0.6072308167352876, 0.2586279756111096, 0.1293139878055548, 0.5172559512222192, 0.6318816801215199, 0.0987315125189875, 0.25670193254936746, 0.9727880712685053, 0.8688094515309444, 0.10221287665069934, 0.9705019039683654, 0.31911770611750817, 0.6382354122350163, 0.03754325954323626, 0.9348455244836589, 0.2093974981502175, 0.11020920955274605, 0.06612552573164764, 0.03306276286582382, 0.5620669687190049, 0.1680371936819043, 0.21917894828074475, 0.4894996511603299, 0.014611929885382983, 0.036529824713457455, 0.06575368448422342, 0.39297243227697826, 0.15931314822039658, 0.43545593846908404, 0.7754148562214139, 0.050026764917510576, 0.15008029475253173, 0.333375956263451, 0.6411076081989442, 0.2093392876412071, 0.4454842157730566, 0.012764590709829701, 0.1506221703759905, 0.18125718807958177, 0.3374930208377346, 0.05261298043477991, 0.033364329056201895, 0.04619676330858724, 0.019248651378578018, 0.0051329737009541375, 0.0025664868504770687, 0.02309838165429362, 0.007699460551431206, 0.09367677004241301, 0.2053189480381655, 0.17067137555672507, 0.9633057161761021, 0.03228957707852856, 0.09253880566816172, 0.12585277570869993, 0.5182173117417056, 0.08698647732807202, 0.005552328340089703, 0.007403104453452938, 0.0018507761133632345, 0.15916674574923817, 0.021979503816931846, 0.013187702290159108, 0.5626752977134553, 0.21979503816931845, 0.0571467099240228, 0.013187702290159108, 0.10989751908465922, 0.15621964826975357, 0.029064120608326246, 0.032697135684367024, 0.10899045228122342, 0.2288799497905692, 0.09082537690101952, 0.34876944729991494, 0.26687554044294287, 0.7339077362180929, 0.14613543355250488, 0.030154930733056563, 0.0835059620300028, 0.011598050281944832, 0.547427973307796, 0.013917660338333799, 0.06262947152250209, 0.0208764905075007, 0.0023196100563889666, 0.0835059620300028, 0.7511482245963723, 0.2086522846101034, 0.07085648884603007, 0.921134354998391, 0.15231326604921655, 0.8326458544023838, 0.1588253483034791, 0.18644714800843198, 0.20025804786090842, 0.006905449926238222, 0.38670519586934043, 0.03452724963119111, 0.027621799704952887, 0.9622185254950929, 0.9437762632624921, 0.9833447957994453, 0.15481985791944228, 0.8257059089036922, 0.18701487137213302, 0.027038294656212002, 0.117165943510252, 0.0015021274809006667, 0.13519147328106002, 0.28915954007337835, 0.018025529770808003, 0.018025529770808003, 0.024785103434861, 0.02178084847305967, 0.006759573664053001, 0.04356169694611934, 0.09613615877764267, 0.003755318702251667, 0.011265956106755001, 0.6006523814662755, 0.050474990039182814, 0.3482774312703614, 0.27454637421185524, 0.3450380108338181, 0.0927521534499511, 0.003710086137998044, 0.07049163662196284, 0.04081094751797848, 0.1261429286919335, 0.04081094751797848, 0.26292599517230747, 0.09279741006081439, 0.08351766905473296, 0.09898390406486869, 0.21034079613784595, 0.16084884410541161, 0.030932470020271465, 0.05877169303851578, 0.0124765682855606, 0.062382841427802996, 0.8109769385614389, 0.1122891145700454, 0.21313297009406704, 0.15984972757055027, 0.5861156677586844, 0.1296431024481599, 0.2592862048963198, 0.5963582712615356, 0.11090553416706729, 0.8502757619475159, 0.9861161949225332, 0.22040762552063628, 0.22040762552063628, 0.022040762552063626, 0.13224457531238176, 0.4187744884892089, 0.011141617177614636, 0.3268207705433626, 0.14855489570152847, 0.055708085888073175, 0.04085259631792033, 0.4159537079642797, 0.4582242542997887, 0.0973726540387051, 0.011455606357494718, 0.04009462225123151, 0.028639015893736793, 0.35512379708233627, 0.29929196039780936, 0.5586783260759108, 0.11971678415912373, 0.9885347342142496, 0.1453351665680398, 0.13294224538781935, 0.12167595340580077, 0.19828673888352719, 0.018026067171229745, 0.08562381906334128, 0.002253258396403718, 0.03267224674785391, 0.06534449349570783, 0.024785842360440898, 0.17237426732488442, 0.08137330187845965, 0.5207891320221417, 0.2115705848839951, 0.17902126413261124, 0.8831879279355656, 0.07885606499424692, 0.03154242599769877, 0.38134170514537596, 0.6160135236963765, 0.9649036841322304, 0.6627650219006987, 0.03738674482516762, 0.16654095422120122, 0.12575541441192745, 0.15595842548809205, 0.8243516775799151, 0.6392861047742859, 0.016225535654169693, 0.2596085704667151, 0.08112767827084848, 0.3432503783711928, 0.588429220064902, 0.6120788339885957, 0.38648406374708477, 0.9800994992751749, 0.8948603802013188, 0.08056620786378432, 0.008632093699691179, 0.011509458266254904, 0.6823420265601112, 0.12996990982097356, 0.17870862600383866, 0.10963233780476031, 0.5539318120661574, 0.005770123042355806, 0.07501159955062547, 0.09232196867769289, 0.16156344518596255, 0.0774518109402074, 0.1499971723185917, 0.6360861396220653, 0.001752303414936819, 0.01016335980663355, 0.07464812547630849, 0.0010513820489620913, 0.012616584587545096, 0.005256910244810457, 0.022429483711191283, 0.006658752976759912, 0.0010513820489620913, 0.36435013217024026, 0.04554376652128003, 0.5009814317340804, 0.09108753304256006, 0.7407207066984488, 0.23147522084326527, 0.03085484841608573, 0.9688422402650919, 0.8231334958368862, 0.08589219086993595, 0.07873450829744129, 0.26526097781018293, 0.7199940826276393, 0.7959624833633854, 0.19689598272673217, 0.03503587699476051, 0.7357534168899708, 0.21021526196856308, 0.9153473197996514, 0.081796994535288, 0.9685099929494245, 0.816821658816936, 0.032672866352677445, 0.13069146541070978, 0.1506646413446493, 0.6779908860509218, 0.11299848100848696, 0.6164201801751422, 0.38174244660592566, 0.961265633927163, 0.1564130559834413, 0.17063242470920867, 0.08273087258628299, 0.010341359073285374, 0.0025853397683213435, 0.12797431853190652, 0.11634028957446046, 0.0775601930496403, 0.0025853397683213435, 0.23914392856972427, 0.01421936872576739, 0.9779838793250999, 0.3513859719932572, 0.6364727039877867, 0.006629923999872778, 0.13693719747700092, 0.8672689173543392, 0.0837379903944462, 0.6512954808456927, 0.04652110577469233, 0.09304221154938466, 0.12095487501420008, 0.44411356244647965, 0.5329362749357756, 0.34474254704514184, 0.6320280029160933, 0.6280432099751144, 0.33249346410447234, 0.7545152251338083, 0.23648984668373094, 0.08890161089057831, 0.09260584467768573, 0.022225402722644578, 0.022225402722644578, 0.04074657165818173, 0.11112701361322289, 0.6186070424469408, 0.22749035157366887, 0.7583011719122296, 0.15187310626728617, 0.503579247096791, 0.19983303456221865, 0.13588646350230868, 0.007885896899125396, 0.17348973178075872, 0.48892560774577454, 0.07097307209212857, 0.03942948449562698, 0.08674486589037936, 0.007885896899125396, 0.11828845348688094, 0.10222817278219185, 0.8689394686486307, 0.016447114838986518, 0.13157691871189214, 0.056390108019382344, 0.21616208074096566, 0.037593405346254896, 0.058739695853523274, 0.272552188760348, 0.004699175668281862, 0.08458516202907351, 0.016447114838986518, 0.035243817512113966, 0.054040520185241414, 0.014097527004845586, 0.5458293687033872, 0.44348636207150205, 0.09708812192122471, 0.024272030480306177, 0.18204022860229632, 0.1092241371613778, 0.5703927162871951, 0.07864906849511877, 0.707841616456069, 0.15729813699023754, 0.9750797227495, 0.19097989521989683, 0.08184852652281294, 0.5792357261614454, 0.10283532819532906, 0.044072283512283886, 0.9906389986424184, 0.10289995704008364, 0.4973497923604043, 0.03858748389003137, 0.006431247315005228, 0.18221867392514812, 0.02358124015501917, 0.010718745525008714, 0.11361870256509236, 0.02358124015501917, 0.3251390266370815, 0.05823385551708922, 0.13102617491345075, 0.02911692775854461, 0.2620523498269015, 0.07764514068945229, 0.06308667681017999, 0.05338103422399845, 0.1671457232525117, 0.08357286162625585, 0.11143048216834113, 0.6407252724679615, 0.845009516378298, 0.140834919396383, 0.6595033109883998, 0.2638013243953599, 0.9421615522548156, 0.16578669428741202, 0.004043577909449074, 0.0930022919173287, 0.1576995384685139, 0.0930022919173287, 0.327529810665375, 0.04043577909449074, 0.024261467456694445, 0.08895871400787964, 0.820162917018565, 0.04620636152217268, 0.03465477114162951, 0.09241272304434536, 0.3725899184566686, 0.23952209043642983, 0.3725899184566686, 0.94876417007323, 0.0447530268902467, 0.030737583579387752, 0.017564333473935857, 0.061475167158775504, 0.04391083368483965, 0.039519750316355684, 0.2854204189514577, 0.013173250105451893, 0.026346500210903786, 0.22394525179268218, 0.039519750316355684, 0.18442550147632653, 0.030737583579387752, 0.3634525171979669, 0.20191806510998161, 0.40383613021996323, 0.755362483990862, 0.2221654364679006, 0.07894522663331827, 0.598321717641991, 0.21190560833153851, 0.06648019084911012, 0.03739510735262444, 0.06233919709402782, 0.22263998962152792, 0.07124479667888894, 0.03562239833944447, 0.1068671950183334, 0.017811199169722236, 0.0534335975091667, 0.0534335975091667, 0.3651295829793058, 0.1711978203429579, 0.010633404990245832, 0.16907113934490872, 0.026583512475614583, 0.04147027946195875, 0.18076788483417916, 0.049977003454155414, 0.053167024951229165, 0.16056441535271207, 0.04253361996098333, 0.02233015047951625, 0.0319002149707375, 0.037216917465860415, 0.02037473616668501, 0.01494147318890234, 0.11681515402232738, 0.04754105105559835, 0.02580799914446768, 0.32599577866696017, 0.4400943012003962, 0.008149894466674005, 0.14731364356131602, 0.42272610761073287, 0.012809882048810088, 0.30103222814703706, 0.10888399741488575, 0.19851860250557707, 0.23160503625650655, 0.5459261568903369, 0.7192227947354427, 0.2397409315784809, 0.10284976517382806, 0.046749893260830934, 0.06077486123908022, 0.12154972247816044, 0.6077486123908021, 0.018699957304332375, 0.018699957304332375, 0.023374946630415467, 0.1528369438469231, 0.09455166865106258, 0.03756162179288788, 0.023314110078344198, 0.1528369438469231, 0.059580503533546283, 0.21371267571815517, 0.011657055039172099, 0.009066598363800521, 0.012952283376857889, 0.10102781033949153, 0.028495023429087354, 0.006476141688428944, 0.09584689698874838, 0.13240552760322083, 0.6620276380161042, 0.17654070347096112, 0.1271989869399675, 0.058707224741523456, 0.08806083711228518, 0.35224334844914074, 0.11741444948304691, 0.06196873722716365, 0.14676806185380864, 0.0423996623133225, 0.557050282445313, 0.42441926281547654, 0.08085950458294792, 0.15632837552703266, 0.52289146296973, 0.09703140549953751, 0.03234380183317917, 0.1185939400549903, 0.7732986572645113, 0.21089963379941218, 0.9551910641537745, 0.26153825120896873, 0.08595153795599912, 0.028241219614113994, 0.024557582273142604, 0.09577457086525616, 0.04665940631897095, 0.015962428477542694, 0.05157092277359947, 0.2860958334821113, 0.011050912022914172, 0.05648243922822799, 0.009823032909257042, 0.0012278791136571302, 0.025785461386799734, 0.3177380672769637, 0.03631292197451014, 0.004539115246813767, 0.25419045382157096, 0.05900849820857897, 0.16113859126188873, 0.013617345740441301, 0.004539115246813767, 0.03404336435110325, 0.07489540157242716, 0.040852037221323904, 0.9370355762446898, 0.05073503517619993, 0.13279343989596679, 0.5647030002220514, 0.0008823484378469553, 0.03176454376249039, 0.02029401407047997, 0.01499992344339824, 0.010588181254163463, 0.010147007035239986, 0.05426442892758775, 0.022058710946173885, 0.00044117421892347767, 0.06882317815206251, 0.018088142975862583, 0.38140187780105295, 0.09932340567735755, 0.07548578831479173, 0.09137753322316894, 0.09535046945026324, 0.2582408547611296, 0.10432048168167318, 0.06954698778778212, 0.10432048168167318, 0.7186522071404152, 0.9973133824777008, 0.13680440492542292, 0.27360880985084585, 0.5814187209330475, 0.10293677108197632, 0.1715612851366272, 0.5833083694645325, 0.10293677108197632, 0.9699979861371321, 0.35812495753398227, 0.11937498584466076, 0.5073436898398083, 0.20033321735390844, 0.05008330433847711, 0.7262079129079181, 0.08886119574862285, 0.31101418512018, 0.5998130713032043, 0.7762063941789689, 0.020161205043609583, 0.09072542269624312, 0.1008060252180479, 0.028088539470681344, 0.4150861944000688, 0.05149565569624913, 0.010923320905264967, 0.10923320905264967, 0.0686608742616655, 0.11235415788272538, 0.0686608742616655, 0.09674941373234686, 0.03745138596090846, 0.863308952997599, 0.12789762266631097, 0.5699531899249538, 0.22583050921554776, 0.20432284167120987, 0.9919829123810747, 0.995299219046178, 0.07537301337365358, 0.7182604803842283, 0.022168533345192233, 0.1817819734305763, 0.3920923623163697, 0.596557704628587, 0.007216423846313553, 0.1545356828994183, 0.0883061045139533, 0.5739896793406966, 0.06622957838546499, 0.0883061045139533, 0.05274980734908106, 0.07384973028871349, 0.04219984587926485, 0.7701471872965835, 0.05274980734908106, 0.5599866159860991, 0.030153125476174568, 0.07753660836730604, 0.08184419772104526, 0.09907455513600215, 0.05169107224487069, 0.030153125476174568, 0.06892142965982759, 0.09636613310036311, 0.27102974934477125, 0.11443478305668119, 0.06625171650649964, 0.03011441659386347, 0.06625171650649964, 0.19273226620072623, 0.15057208296931734, 0.08499430004683736, 0.6969532603840664, 0.20398632011240966, 0.6313061591221331, 0.11836990483539996, 0.21701149219823326, 0.029679461795074365, 0.07419865448768591, 0.3413138106433552, 0.5342303123113386, 0.014839730897537182, 0.13459852049420906, 0.058607473868327195, 0.010430143654532806, 0.03526381902246806, 0.06158751491247943, 0.6054450054702615, 0.007450102610380576, 0.005463408580945755, 0.06258086192719683, 0.0193702667869895, 0.027005729289023884, 0.016878580805639927, 0.6481375029365732, 0.13165293028399144, 0.13165293028399144, 0.043884310094663814, 0.085504369311805, 0.889245440842772, 0.9819277464037626, 0.8730210246380179, 0.08414660478438726, 0.03155497679414523, 0.3542446950654985, 0.6241454151154021, 0.17201155411666708, 0.04429482080257521, 0.02288565741466386, 0.0014764940267525072, 0.011073705200643803, 0.10926055797968554, 0.04724780885608023, 0.060536255096852794, 0.11221354603319054, 0.04798605586945648, 0.04724780885608023, 0.0007382470133762536, 0.03543585664206017, 0.16610557800965706, 0.01033545818726755, 0.033959362615307666, 0.07751593640450663, 0.9991939643510099, 0.016609587099672234, 0.11626710969770564, 0.06643834839868894, 0.7640410065849227, 0.9751799259388402, 0.11309467070041841, 0.05516813204898459, 0.12688670371266456, 0.024825659422043064, 0.17377961595430147, 0.08826901127837534, 0.08275219807347689, 0.18205483576164916, 0.11309467070041841, 0.035859285831839983, 0.01575669278973788, 0.09454015673842728, 0.05777454022903889, 0.7195556373980299, 0.11554908045807778, 0.18806747732129298, 0.695849666088784, 0.09403373866064649, 0.03455499052535907, 0.967539734710054, 0.3393966166188191, 0.02151105316598149, 0.07767880309937761, 0.0406319893135206, 0.06333810098872328, 0.23662158482579643, 0.02987646273052985, 0.028681404221308656, 0.07648374459015642, 0.02151105316598149, 0.062143042479502086, 0.8639335147970316, 0.05081961851747245, 0.9567550995689965, 0.04482717170356656, 0.009591840233514242, 0.16286553212824184, 0.014485636271021509, 0.0025447739395037788, 0.12254065277918195, 0.0007830073660011626, 0.39091642747608046, 0.019575184150029065, 0.06635987426859853, 0.07712622555111452, 0.01194086233151773, 0.0015660147320023252, 0.018792176784027902, 0.0003915036830005813, 0.046588938277069177, 0.00920033655051366, 0.038814024705984114, 0.898851098454369, 0.004085686811156223, 0.0020428434055781114, 0.055156771950609, 0.15508391112997927, 0.5169463704332642, 0.2584731852166321, 0.30555372758331845, 0.3870347216055367, 0.0746909111870334, 0.2240727335611002, 0.006790082835184855, 0.9651485095616027, 0.28756907398665904, 0.702946625300722, 0.9501005380884928, 0.049284754137155246, 0.1762438321490379, 0.050355380614010826, 0.107005183804773, 0.6672087931356435, 0.9637440153492424, 0.957519238948627, 0.07750241048437091, 0.42626325766404, 0.4422196362931752, 0.052428101210015614, 0.4900511873778452, 0.508543685014745, 0.011822755127900665, 0.11223519594020767, 0.06510613097830228, 0.00032391109939453874, 0.07822453050378111, 0.4068323408395407, 0.04907253155827262, 0.0008097777484863469, 0.03125742109157299, 0.011012977379414318, 0.01554773277093786, 0.017329243817607823, 0.0259128879515631, 0.04696710941220812, 0.0027532443448535795, 0.03822150972855557, 0.0032391109939453877, 0.004372799841826273, 0.07903430825226745, 0.5974966724824394, 0.3734354203015246, 0.9679445744716488, 0.0676754120971153, 0.4737278846798071, 0.33837706048557653, 0.24562204901428156, 0.15072262098603642, 0.09489942802824515, 0.06419667190145996, 0.022329277183116506, 0.3628507542256432, 0.055823192957791264, 0.0027911596478895633, 0.21989971869174188, 0.696349109190516, 0.03664995311529031, 0.056656264303710985, 0.04991147093422158, 0.04451563623863006, 0.07823960308607707, 0.0620520989993025, 0.09847398319454528, 0.05126042960811946, 0.06340105767320038, 0.11601044595521773, 0.03102604949965125, 0.03911980154303853, 0.2495573546711079, 0.058005222977608864, 0.0013489586738978806, 0.04487570370722782, 0.6282598519011895, 0.2692542222433669, 0.22893330085490257, 0.11446665042745129, 0.6295665773509821, 0.083119344660839, 0.7728330556763116, 0.01061098016946881, 0.13086875542344864, 0.001768496694911468, 0.23777439031426825, 0.5746214432594816, 0.10897992889403961, 0.06935086384166157, 0.0049536331315472555, 0.8662545513790272, 0.12087272809939914, 0.30377421604787375, 0.6509447486740151, 0.02609902977906556, 0.05219805955813112, 0.9134660422672947, 0.20089793232047687, 0.011160996240026493, 0.039063486840092726, 0.030692739660072858, 0.09765871710023181, 0.42411785712100675, 0.06975622650016558, 0.01674149436003974, 0.0027902490600066232, 0.07812697368018545, 0.02790249060006623, 0.0974894016571907, 0.13648516232006697, 0.01949788033143814, 0.08774046149147163, 0.03899576066287628, 0.4874470082859535, 0.1267362221543479, 0.30649035114523693, 0.6640624274813467, 0.38339655970961395, 0.08457277052417955, 0.4115874832176738, 0.025371831157253867, 0.09303004757659751, 0.5466730817725246, 0.4373384654180197, 0.982840144574156, 0.012520256618779058, 0.15906600676518454, 0.06644529396520367, 0.11074215660867279, 0.27987563215646394, 0.03624288761738382, 0.04429686264346911, 0.056377825182597055, 0.09664770031302353, 0.034229393860862496, 0.02416192507825588, 0.08859372528693822, 0.09777704527460133, 0.012616392938658237, 0.7285966922075131, 0.15770491173322795, 0.2125450786335998, 0.779331954989866, 0.05318425506513955, 0.9041323361073724, 0.40157384337585794, 0.1316269819954201, 0.024540623761857984, 0.008923863186130176, 0.02677158955839053, 0.10262442664049704, 0.14278181097808282, 0.1606295373503432, 0.12392147715005841, 0.038725461609393254, 0.12392147715005841, 0.4259800777033258, 0.10843129250630111, 0.13941166179381573, 0.030980369287514603, 0.2144320232013025, 0.20143614300728419, 0.5783166686338158, 0.19622935510805714, 0.7849174204322286, 0.39159532468086994, 0.572331628379733, 0.20773876712265607, 0.08903090019542403, 0.6825702348315842, 0.30224683690156, 0.392920887972028, 0.241797469521248, 0.052893196457773003, 0.21665626270562777, 0.6905918373741885, 0.06770508209550867, 0.5279130880577407, 0.43192889022906056, 0.035994074185755044, 0.13445031481077308, 0.1792670864143641, 0.6274348024502743, 0.11273656211903685, 0.6388405186745422, 0.2254731242380737, 0.12154345396235698, 0.13890680452840798, 0.034726701132101995, 0.046302268176135995, 0.6598073215099379, 0.09387147192732427, 0.8917789833095806, 0.209242382614466, 0.104621191307233, 0.46498307247659115, 0.06974746087148867, 0.1104334797131904, 0.01162457681191478, 0.02324915362382956, 0.06480043180976142, 0.10530070169086231, 0.38070253688234834, 0.15390102554818336, 0.008100053976220177, 0.24300161928660532, 0.040500269881100885, 0.3666880333235041, 0.06111467222058402, 0.5500320499852561, 0.8743296511176256, 0.05397096611837195, 0.06476515934204634, 0.15787124115522125, 0.6841087116726254, 0.13155936762935105, 0.2685958657424459, 0.6983492509303595, 0.7445079298615466, 0.23162468929025895, 0.15667167105223181, 0.8094703004365311, 0.028193339331976323, 0.5840048861623667, 0.1933257554192662, 0.04430381895024851, 0.11075954737562126, 0.0060414298568520685, 0.03423476918882839, 0.1484966594339193, 0.1979955459118924, 0.5939866377356772, 0.2457152463468233, 0.6142881158670582, 0.12285762317341165, 0.19520279135604648, 0.23424334962725576, 0.5465678157969301, 0.004244232732878548, 0.06366349099317822, 0.03713703641268729, 0.054113967344201486, 0.001061058183219637, 0.044564443695224755, 0.07002984009249603, 0.06366349099317822, 0.6270853862828054, 0.03395386186302839, 0.12615107518673585, 0.8410071679115724, 0.07861912702132919, 0.032162370145089214, 0.050030353559027664, 0.0875531187282984, 0.001786798341393845, 0.1107814971664184, 0.09291351375247994, 0.05717754692460304, 0.00357359668278769, 0.001786798341393845, 0.06611153863157226, 0.4181108118861598, 0.29844538238665974, 0.07054163583684685, 0.15917087060621854, 0.0018087598932524833, 0.018087598932524835, 0.12299567274116886, 0.22066870697680296, 0.034366437971797184, 0.07235039573009934, 0.11598251970734184, 0.05799125985367092, 0.811877637951393, 0.17267574782574066, 0.09867185590042322, 0.17678707515492495, 0.05755858260858022, 0.49747060683130045, 0.18723122356999794, 0.18723122356999794, 0.5991399154239934, 0.3373252132794311, 0.6535676007288977, 0.11212981124909395, 0.2319048369015352, 0.0637101200278943, 0.010193619204463086, 0.022935643210041944, 0.012742024005578858, 0.14016226406136745, 0.012742024005578858, 0.2573888849126929, 0.007645214403347315, 0.12996864485690435, 0.09369855660442504, 0.031232852201475012, 0.8589034355405629, 0.1879411083875872, 0.1079661686481884, 0.6997807227197396, 0.0008022472838505603, 0.9269967364893225, 0.00040112364192528016, 0.06618540091767122, 0.0036101127773275213, 0.0016044945677011206, 0.9486662874693107, 0.6875059802806583, 0.09922766725700223, 0.21263071555071908, 0.8417360233957817, 0.1530429133446876, 0.23823067572294912, 0.044831871667642895, 0.5458362185520318, 0.08573686406512729, 0.043195671971743524, 0.0013089597567195006, 0.0029451594526188766, 0.009162718297036505, 0.015707517080634007, 0.012762357628015131, 0.7528530637159215, 0.21958214358381045, 0.9731634348528239, 0.19566893578776492, 0.04764113219180363, 0.10208814041100778, 0.006805876027400519, 0.017014690068501297, 0.0459396631849535, 0.13271458253431012, 0.2807423861302714, 0.040835256164403116, 0.0017014690068501298, 0.08167051232880623, 0.044238194178103374, 0.0017014690068501298, 0.9812555881623016, 0.04521393258954066, 0.011303483147385164, 0.7460298877274208, 0.011303483147385164, 0.1243383146212368, 0.05651741573692582, 0.17167549915809943, 0.06437831218428729, 0.27897268613191156, 0.08583774957904972, 0.3862698731057237, 0.980524557177266, 0.3266395710193435, 0.21775971401289568, 0.35256334649706916, 0.06740181624208676, 0.03629328566881595, 0.1947991385327, 0.005814899657692538, 0.22678108665000896, 0.10757564366731194, 0.3256343808307821, 0.037796847775001495, 0.04361174743269403, 0.05524154674807911, 0.33952694831526764, 0.6197478794575627, 0.023722406869189003, 0.014826504293243128, 0.9946818227736808, 0.9885080214754053, 0.9965970725899587, 0.27982530784568704, 0.03350021291110338, 0.3547081367058005, 0.06305922430325342, 0.1418832546823202, 0.03350021291110338, 0.047294418227440065, 0.04532381746796339, 0.7364390036960243, 0.20800185600574733, 0.044973374271512934, 0.9473880556851674, 0.7911313635094668, 0.18614855611987455, 0.14959830458331413, 0.14959830458331413, 0.6881522010832449, 0.8427631609402614, 0.07453007545730203, 0.017199248182454312, 0.022932330909939083, 0.0401315790923934, 0.048098026507428795, 0.9398827474894282, 0.007096430140440315, 0.003942461189133508, 0.13559527417108025, 0.7042545247645253, 0.011562387720014593, 0.14715766189109483, 0.921121054831251, 0.057570065926953184, 0.565401931826043, 0.25512038387272673, 0.04826601857051587, 0.05516116408058957, 0.062056309590663265, 0.013790291020147392, 0.1601360461738825, 0.07289775236273754, 0.07369444910987129, 0.11074084785159037, 0.03146952151178288, 0.030672824764649134, 0.10237553200668607, 0.055370423925795186, 0.026689341028980414, 0.0410298824773878, 0.06891426862706883, 0.0637357397706995, 0.032664566632483495, 0.03146952151178288, 0.060947301155731395, 0.023900902414012312, 0.0019917418678343595, 0.009162012592038053, 0.0019917418678343595, 0.9184613727071483, 0.045103013838297464, 0.03690246586769792, 0.17444335688271417, 0.08722167844135709, 0.6880821299262615, 0.038765190418380925, 0.08376513771653003, 0.7259645268765936, 0.12564770657479504, 0.06980428143044169, 0.06655495037475029, 0.12756365488493804, 0.005546245864562524, 0.10537867142668796, 0.465884652623252, 0.17193362180143823, 0.049916212781062716, 0.11432255654638045, 0.06928639790689724, 0.005773866492241437, 0.04157183874413835, 0.004619093193793149, 0.18591850105017427, 0.09815573036810443, 0.043881385341034924, 0.06582207801155238, 0.12009642303862189, 0.19862100733310542, 0.004619093193793149, 0.028869332461207185, 0.019631146073620886, 0.059847330359086716, 0.019949110119695572, 0.07979644047878229, 0.059847330359086716, 0.49872775299238925, 0.0698218854189345, 0.1994911011969557, 0.95010816859544, 0.049865319868986145, 0.07919786096838977, 0.2727926322244536, 0.5221192315693843, 0.029332541099403617, 0.014666270549701809, 0.03226579520934398, 0.8584052657618418, 0.09537836286242687, 0.2901148690236565, 0.033474792579652676, 0.1673739628982634, 0.4909636245015726, 0.20129559940941372, 0.027764910263367408, 0.32623769559456706, 0.37482628855546, 0.06941227565841852, 0.27719696023877066, 0.17324810014923167, 0.0519744300447695, 0.4850946804178487, 0.08843288393832201, 0.8823460392949168, 0.003569040158945731, 0.025379841130280755, 0.30117873868448636, 0.3589807188360545, 0.036506513779937744, 0.04867535170658366, 0.2525033869779027, 0.9851879431039274, 0.06182732401314291, 0.07465941012907823, 0.037329705064539115, 0.1598177998075581, 0.09565736922788148, 0.060660770729876065, 0.3079700667824477, 0.020997959098803254, 0.01749829924900271, 0.09565736922788148, 0.043162471480873356, 0.003499659849800542, 0.005832766416334237, 0.012832086115935322, 0.003499659849800542, 0.2999912893191533, 0.04999854821985889, 0.037498911164894164, 0.5999825786383066, 0.16804743761285046, 0.1745108005979601, 0.10664548925430894, 0.051706903880877064, 0.040396018656935206, 0.03150889455240946, 0.004847522238832225, 0.09614252440350579, 0.0395880982837965, 0.07109699283620596, 0.026661372313577236, 0.051706903880877064, 0.03150889455240946, 0.04281977977635132, 0.0193900889553289, 0.04443562052262873, 0.11506341483884501, 0.041152573634533535, 0.05179901059471136, 0.0004094783446222242, 0.006961131858577812, 0.16952403467360083, 0.02723030991737791, 0.1691145563289786, 0.37016842353849067, 0.006961131858577812, 0.041152573634533535, 0.2819771377618034, 0.017998540708200218, 0.05399562212460065, 0.001999837856466691, 0.021998216421133598, 0.02999756784700036, 0.329973246317004, 0.043996432842267195, 0.05799529783753403, 0.047996108555200576, 0.05399562212460065, 0.015998702851733528, 0.04199659498580051, 0.20462961522190867, 0.7117551833805519, 0.0800724581303121, 0.0999695745042135, 0.5664942555238764, 0.08330797875351124, 0.06664638300280899, 0.1666159575070225, 0.20471261084523837, 0.5800190640615087, 0.07676722906696438, 0.12794538177827397, 0.14356855180344288, 0.13176839686069416, 0.019666924904581218, 0.23993648383589083, 0.015733539923664972, 0.02556700237595558, 0.06883423716603426, 0.09833462452290609, 0.03736715731870431, 0.145535244293901, 0.06490085218511801, 0.005900077471374365, 0.9549180025703761, 0.10124971916178954, 0.8437476596815795, 0.5500427981318455, 0.10000778147851737, 0.3250252898051814, 0.06284687473345651, 0.21547499908613663, 0.3770812484007391, 0.09875937458114595, 0.053868749771534157, 0.18854062420036954, 0.15785474904415223, 0.5437219133743022, 0.28063066496738176, 0.03156009715108973, 0.03156009715108973, 0.12624038860435893, 0.13676042098805552, 0.5365216515685255, 0.12624038860435893, 0.28438644990171436, 0.10156658925061227, 0.10664491871314287, 0.05078329462530613, 0.09140993032555103, 0.3605613918396735, 0.09236145030143662, 0.5849558519090986, 0.3078715010047887, 0.02951571272681123, 0.877421641969752, 0.04829843900750928, 0.042931945784452696, 0.08249642749351527, 0.9074607024286679, 0.7805545248658238, 0.11330630199665184, 0.10071671288591275, 0.30250205463533814, 0.6050041092706763, 0.10126331296484332, 0.8880013598455492, 0.3094524954930318, 0.10057206103523533, 0.5879597414367604, 0.16902347378935773, 0.1267676053420183, 0.33804694757871545, 0.38030281602605487, 0.6179101440878486, 0.08827287772683552, 0.17654575545367104, 0.9493960816547133, 0.8273263667520365, 0.018249846325412572, 0.0030416410542354285, 0.07299938530165029, 0.06995774424741485, 0.0030416410542354285, 0.05311795495186172, 0.2276483783651217, 0.5501502477157107, 0.16694214413442257, 0.27964950324421567, 0.00830642088844205, 0.5426861647115472, 0.04845412184924529, 0.04983852533065229, 0.024919262665326146, 0.04291650792361725, 0.0013844034814070082, 0.0013844034814070082, 0.5261905493963839, 0.03937480301605594, 0.0304259841487705, 0.03579527546914176, 0.03400551169568467, 0.026846456601856323, 0.2899417313000483, 0.016107873961113794, 0.033215646935296696, 0.7971755264471206, 0.13286258774118678, 0.14917939970894553, 0.8453499316840246, 0.9083308790441637, 0.07350654512496123, 0.015751402526777404, 0.07983049692210342, 0.0012875886600339263, 0.016738652580441042, 0.7352131248793718, 0.0025751773200678525, 0.0012875886600339263, 0.13905957528366403, 0.025751773200678525, 0.09567603921165897, 0.15210037002879118, 0.009812927098631689, 0.3287330578041616, 0.34345244845210915, 0.05887756259179014, 0.012266158873289612, 0.9697191690547603, 0.9820253472371478, 0.9843658290449695, 0.1774296819389241, 0.02388476487639363, 0.45381053265147897, 0.0716542946291809, 0.1876660097430928, 0.040945311216674794, 0.017060546340281164, 0.020472655608337397, 0.5273100823038998, 0.43942506858658315, 0.07736774446016009, 0.7478881964482141, 0.12894624076693348, 0.21441078062230057, 0.020559937867891835, 0.06226724039990099, 0.055218118845195216, 0.092813433803626, 0.04758157049426397, 0.041707302532009154, 0.04229472932823464, 0.18151488003367364, 0.025259352237695685, 0.05698039923387166, 0.14744412585259575, 0.002937133981127405, 0.008811401943382216, 0.042207245293488196, 0.08441449058697639, 0.862233725281259, 0.4034002759060441, 0.13446675863534802, 0.4706336552237181, 0.3032076013696679, 0.019774408784978343, 0.019774408784978343, 0.036253082772460296, 0.023070143582474733, 0.22740570102725094, 0.3691222973195957, 0.29659996882088735, 0.5437666095049601, 0.14829998441044367, 0.13517880615872294, 0.011504579247550887, 0.09874763854147844, 0.05368803648857081, 0.3988254139150974, 0.0527293215512749, 0.046977031927499455, 0.023009158495101774, 0.03834859749183629, 0.01054586431025498, 0.05464675142586672, 0.07477976510908077, 0.7394204102800683, 0.2464734700933561, 0.038865331063417156, 0.6218452970146745, 0.2720573174439201, 0.005631964776550585, 0.001126392955310117, 0.05744604072081596, 0.25005923607884595, 0.010137536597791052, 0.001126392955310117, 0.001126392955310117, 0.5879771226718811, 0.002252785910620234, 0.08222668573763853, 0.010435455286611538, 0.9131023375785096, 0.07304818700628077, 0.17766088157414248, 0.016655707647575856, 0.5662940600175791, 0.08327853823787928, 0.02775951274595976, 0.07217473313949538, 0.05551902549191952, 0.10506433112132825, 0.07641042263369327, 0.1814747537550215, 0.015918838048686098, 0.1942098241939704, 0.03502144370710942, 0.03502144370710942, 0.019102605658423318, 0.11143186634080268, 0.22286373268160536, 0.3116846092638763, 0.6623297946857372, 0.23418349015776443, 0.08515763278464161, 0.6386822458848121, 0.9227234106857906, 0.07097872389890697, 0.5153682050943441, 0.46383138458490963, 0.46440207467959316, 0.5224523340145423, 0.1667174879314566, 0.812747753665851, 0.3371806009156405, 0.6261925445576181, 0.9422766918315325, 0.2647433335651667, 0.10589733342606669, 0.6089096671998835, 0.19198143674994206, 0.21483636969636372, 0.02285493294642167, 0.3519659673748938, 0.07770677201783369, 0.05028085248212768, 0.09141973178568669, 0.006566992729691802, 0.0004104370456057376, 0.9715044869487809, 0.010671363185749178, 0.0036939334104516383, 0.006977429775297539, 0.38158255731785606, 0.02149760886297781, 0.18004247422743913, 0.2391608986006281, 0.05911842437318897, 0.010748804431488904, 0.04299521772595562, 0.02149760886297781, 0.01343600553936113, 0.029559212186594484, 0.4618725424134621, 0.31460883323815536, 0.013387609925027886, 0.18073273398787648, 0.02677521985005577, 0.190921848802463, 0.03182030813374383, 0.763687395209852, 0.1524243703346109, 0.8383340368403599, 0.03603059730594643, 0.2612218304681116, 0.02702294797945982, 0.003002549775495536, 0.060050995509910714, 0.051043346183424106, 0.21318103406018304, 0.033028047530450896, 0.03903314708144197, 0.018015298652973216, 0.24620908159063393, 0.012010199101982144, 0.4660087953540175, 0.12190947389008053, 0.011797691021620696, 0.0039325636738735655, 0.02949422755405174, 0.0019662818369367827, 0.02949422755405174, 0.31657137574682204, 0.015730254695494262, 0.0039325636738735655, 0.054842853527935664, 0.9186177965929223, 0.013710713381983916, 0.19610275572674776, 0.7190434376647418, 0.13825345464753494, 0.8525629703264654, 0.029669300588224666, 0.0534047410588044, 0.1958173838822828, 0.044503950882336996, 0.2047181740587502, 0.13944571276465592, 0.07714018152938414, 0.09197483182349646, 0.05043781099998193, 0.05933860117644933, 0.0534047410588044, 0.08693334196581914, 0.7824000776923723, 0.08693334196581914, 0.03872114679754349, 0.08712258029447285, 0.12584372709201633, 0.6582594955582393, 0.09680286699385872, 0.9971964921667036, 0.9277340558829916, 0.01111058749560469, 0.01111058749560469, 0.036109409360715244, 0.013888234369505863, 0.975482067709455, 0.023336891571996532, 0.730359767162129, 0.2148116962241556, 0.05250952574368248, 0.3809038298507151, 0.5985631611939808, 0.32686593634229694, 0.6633455766946614, 0.9043862777697946, 0.9378702566352839, 0.050019747020548476, 0.8391385398890255, 0.14859744977201492, 0.7036048093628396, 0.010271603056391819, 0.02567900764097955, 0.020543206112783638, 0.23624687029701186, 0.9973905899710626, 0.057743777464244514, 0.7314211812137639, 0.07699170328565935, 0.09623962910707419, 0.019247925821414838, 0.1946828156078478, 0.10792199560869825, 0.012696705365729206, 0.021161175609548676, 0.0973414078039239, 0.0021161175609548675, 0.006348352682864603, 0.03385788097527788, 0.21372787365644164, 0.18410222780307348, 0.03385788097527788, 0.05290293902387169, 0.035973998536232746, 0.0021161175609548675, 0.451675113361227, 0.5269542989214315, 0.177716533394021, 0.15712742281788442, 0.1452074114317001, 0.04334549594976122, 0.08452371710203438, 0.09102554149449857, 0.01950547317739255, 0.005418186993720152, 0.07693825531082617, 0.141956499235468, 0.05743278213343362, 0.44962499294076075, 0.08122257936994387, 0.35389838154046976, 0.04641290249711079, 0.06671854733959676, 0.9910698919800599, 0.052379982049150176, 0.07333197486881025, 0.031427989229490104, 0.18856793537694064, 0.3771358707538813, 0.16761594255728057, 0.12571195691796042, 0.8983075042886222, 0.07485895869071851, 0.3286932278326918, 0.6573864556653836, 0.019458013693360435, 0.0416957436286295, 0.20291928565933026, 0.05559432483817267, 0.10562921719252807, 0.0027797162419086335, 0.07227262228962447, 0.1640032582726094, 0.22237729935269068, 0.10840893343443671, 0.43111804256293806, 0.5604534553318195, 0.14271595540220944, 0.3139751018848608, 0.5137774394479541, 0.31069803783002065, 0.052660684377969606, 0.3475605168945994, 0.013165171094492402, 0.013165171094492402, 0.042128547502375685, 0.013165171094492402, 0.20800970329297994, 0.07174495156211026, 0.6277683261684648, 0.2690435683579135, 0.12557082473235426, 0.04829647105090548, 0.06761505947126767, 0.18352658999344082, 0.11591153052217315, 0.4443275336683304, 0.14766316810252908, 0.8269137413741628, 0.05892868885800848, 0.001240603975958073, 0.013026341747559768, 0.013026341747559768, 0.2406771713358662, 0.593629002495938, 0.014266945723517842, 0.03163540138693087, 0.032255703374909905, 0.9638493194464569, 0.03828114319530748, 0.957028579882687, 0.03256960025849917, 0.05699680045237355, 0.06513920051699834, 0.008142400064624793, 0.004071200032312396, 0.8183112064947916, 0.012213600096937189, 0.0638020007807842, 0.1276040015615684, 0.37005160452854835, 0.08294260101501945, 0.35091100429431304, 0.994522388302642, 0.1951788955507156, 0.707523496371344, 0.0487947238876789, 0.148182901064731, 0.04780093582733258, 0.02390046791366629, 0.40630795453232693, 0.0812615909064654, 0.02390046791366629, 0.24856486630212943, 0.019120374330933033, 0.9912757526542855, 0.23786442056924303, 0.11893221028462152, 0.6184474934800319, 0.12730693915654454, 0.13943140955240593, 0.04243564638551484, 0.4425431694489405, 0.060622351979306925, 0.04243564638551484, 0.048497881583445535, 0.03637341118758415, 0.060622351979306925, 0.22080995449102864, 0.7176323520958431, 0.77526577351456, 0.04987089771146293, 0.004533717973769357, 0.07707320555407907, 0.015868012908192747, 0.07253948758030972, 0.24566128459949071, 0.7369838537984722, 0.18573675626006383, 0.07739031510835993, 0.7274689620185834, 0.7291843572810893, 0.08102048414234325, 0.1620409682846865, 0.9933849593915686, 0.8649333703190772, 0.11041702599818008, 0.0968073310352021, 0.05042048491416776, 0.09479051163863539, 0.022185013362233816, 0.5344571400901783, 0.05042048491416776, 0.08067277586266841, 0.020168193965667103, 0.014117735775966972, 0.03226911034506737, 0.07804079235670494, 0.08324351184715194, 0.6451372168154275, 0.06763535337581095, 0.1196625482802809, 0.005202719490446996, 0.2458065644009532, 0.014459209670644306, 0.08675525802386583, 0.5060723384725507, 0.08675525802386583, 0.057836838682577225, 0.06893104898706728, 0.17623860397048052, 0.0007333090317773115, 0.35663262578769916, 0.001955490751406164, 0.003910981502812328, 0.22072601856497076, 0.04546515997019331, 0.00464429053458964, 0.006110908598144262, 0.008066399349550427, 0.006355344942070033, 0.09973002832171436, 0.3169710242977354, 0.6339420485954708, 0.9565646404405984, 0.2891545268151294, 0.4731619529702117, 0.052573550330023526, 0.11829048824255292, 0.052573550330023526, 0.0039692393043002944, 0.04167701269515309, 0.01984619652150147, 0.2500620761709185, 0.06350782886880471, 0.16472343112846222, 0.01984619652150147, 0.4326470841687321, 0.962468012926387, 0.17031228964025483, 0.4995827162780809, 0.05677076321341828, 0.24979135813904044, 0.11914201928223216, 0.0015676581484504232, 0.11443904483688089, 0.04546208630506227, 0.02351487222675635, 0.009405948890702539, 0.03448847926590931, 0.026650188523657192, 0.06584164223491777, 0.559653958996801, 0.9718468343952169, 0.2241164253881043, 0.6499376336255025, 0.0784407488858365, 0.044823285077620866, 0.2642821204576847, 0.11326376591043628, 0.5663188295521814, 0.06239546771395125, 0.7549851593388102, 0.0011344630493445682, 0.14748019641479387, 0.005105083722050557, 0.0028361576233614204, 0.02042033488820223, 0.005105083722050557, 0.021188891855039402, 0.9040593858150144, 0.0565037116134384, 0.021188891855039402, 0.345404778295699, 0.3228783797111969, 0.10512319339434317, 0.15768479009151476, 0.04505279716900422, 0.00750879952816737, 0.0999276975776567, 0.8660400456730247, 0.9900589112479063, 0.8604874159117748, 0.06476787001486477, 0.06476787001486477, 0.8184257682261327, 0.03306770780711647, 0.140537758180245, 0.3006926620111407, 0.6765584895250666, 0.18365032327413072, 0.05301809927854369, 0.03498101395697728, 0.06176335276778801, 0.07706754637396557, 0.1202472354771094, 0.02131655538003303, 0.00327947005846662, 0.06230993111086578, 0.00218631337231108, 0.08526622152013212, 0.04645915916161045, 0.0382604840154439, 0.08635937820628765, 0.1131417170170984, 0.01038498851847763, 0.8837184935693717, 0.05198344079819833, 0.05198344079819833, 0.08426435091217387, 0.814555392151014, 0.08426435091217387, 0.1843231018967833, 0.11520193868548957, 0.0009216155094839165, 0.03502138936038883, 0.001843231018967833, 0.5391450730480911, 0.019353925699162246, 0.02396200324658183, 0.019353925699162246, 0.05990500811645457, 0.4184024497242302, 0.5622282918169343, 0.07871364881436517, 0.14758809152693467, 0.059035236610773874, 0.5608347478023518, 0.14758809152693467, 0.14056773486432392, 0.051115539950663244, 0.06389442493832906, 0.17890438982732138, 0.1086205223951594, 0.4536504170621363, 0.9754543537006177, 0.9791854389829837, 0.1591358664498576, 0.1591358664498576, 0.668370639089402, 0.9400925551955017, 0.14542189578106834, 0.24236982630178058, 0.04847396526035612, 0.549371606284036, 0.9866700338348017, 0.12010437731851457, 0.030026094329628644, 0.8407306412296021, 0.6812994824955657, 0.17479804904431684, 0.002293937651500221, 0.14084777180211358, 0.0004587875303000442, 0.12810310671188163, 0.8113196758419169, 0.042701035570627204, 0.9735500379759137, 0.0033226963753444153, 0.01993617825206649, 0.21971683928919664, 0.3124861714335241, 0.15624308571676204, 0.05370856071513696, 0.08788673571567866, 0.004882596428648814, 0.02685428035756848, 0.1342714017878424, 0.5036511917035573, 0.20738578481911185, 0.26663886619600097, 0.057201354778755736, 0.318693262338782, 0.2860067738937787, 0.20429055278127048, 0.03268648844500328, 0.08988784322375902, 0.29113486427266094, 0.6696101878271201, 0.2967119624062249, 0.07162012885667497, 0.37344781475266237, 0.21486038657002493, 0.035810064428337486, 0.9952548997700953, 0.9610542488528523, 0.0023311288051166045, 0.006216343480310946, 0.9169106633458645, 0.0007770429350388682, 0.009324515220466418, 0.003885214675194341, 0.005439300545272078, 0.04351440436217662, 0.0023311288051166045, 0.003885214675194341, 0.004662257610233209, 0.24954906344594138, 0.5703978593050089, 0.14259946482625221, 0.9697439283732225, 0.2930168770380625, 0.5567320663723188, 0.14650843851903125, 0.997961656810153, 0.3032842037189273, 0.012131368148757092, 0.2356951526044235, 0.0051991577780387535, 0.0051991577780387535, 0.1455764177850851, 0.012131368148757092, 0.1681061014899197, 0.06758905111450379, 0.04332631481698961, 0.019096320247569017, 0.19573728253758244, 0.43444128563219514, 0.047740800618922545, 0.03341856043324578, 0.18618912241379793, 0.08115936105216832, 0.6811815715965122, 0.26490394450975474, 0.20448412338009003, 0.7043342027536434, 0.045440916306686674, 0.03180864141468067, 0.009088183261337335, 0.04879206409292463, 0.9270492177655679, 0.23900733389571727, 0.6273942514762578, 0.11950366694785863, 0.2597678075665716, 0.0649419518916429, 0.49788829783592886, 0.16235487972910725, 0.7633522847496514, 0.2137386397299024, 0.9785471881344205, 0.06107942798499102, 0.03053971399249551, 0.3562966632457809, 0.03053971399249551, 0.21717129950219027, 0.20020479172858166, 0.08143923731332135, 0.023753110883052063, 0.4337202716373321, 0.046140454429503416, 0.039219386265077906, 0.025377249936226882, 0.027684272657702052, 0.043833431708028246, 0.013842136328851026, 0.046140454429503416, 0.3252902037279991, 0.6711741252812514, 0.08660311293951632, 0.10825389117439539, 0.10825389117439539, 0.25176843226501894, 0.7385207346440557, 0.12348373179243077, 0.18424556807124592, 0.06272189551361564, 0.24304734511526058, 0.07644231015721906, 0.05684171780921417, 0.01568047387840391, 0.01568047387840391, 0.02352071081760586, 0.10584319867922638, 0.02352071081760586, 0.07056213245281759, 0.07361955364101028, 0.014723910728202056, 0.8981585544203253, 0.9644820858665173, 0.9199957365230536, 0.07666631137692113, 0.5035742717496748, 0.4648377893073921, 0.3946033625586955, 0.0548060225775966, 0.08586276870490134, 0.03105674612730474, 0.14249565870175115, 0.049325420319836936, 0.14066879128249793, 0.04019108322357084, 0.0182686741925322, 0.025576143869545077, 0.014614939354025759, 0.0984135674758774, 0.7157350361881992, 0.12525363133293488, 0.05368012771411494, 0.9759986592618844, 0.013831528478131863, 0.10511961643380216, 0.01106522278250549, 0.3236577663882856, 0.02213044556501098, 0.0608587253037802, 0.0027663056956263726, 0.09958700504254941, 0.35685343473580206, 0.16896817621620902, 0.05995644962510643, 0.03815410430688591, 0.39244221572796933, 0.01635175898866539, 0.26162814381864624, 0.05995644962510643, 0.735475005930588, 0.00417883526096925, 0.150438069394893, 0.08775554048035425, 0.016715341043877, 0.13398914463037823, 0.842217480533806, 0.17961901969189645, 0.009290638949580852, 0.003096879649860284, 0.027871916848742555, 0.030968796498602836, 0.006193759299720568, 0.10839078774510993, 0.003096879649860284, 0.06503447264706595, 0.08051887089636738, 0.009290638949580852, 0.015484398249301418, 0.1300689452941319, 0.3127848446358887, 0.003096879649860284, 0.015484398249301418, 0.1752585593669182, 0.10420779205600542, 0.0994710742352779, 0.061577331669457745, 0.5541959850251197, 0.010602626459562838, 0.10993249539651995, 0.06305772578582108, 0.30077977166865105, 0.1724321882107851, 0.06361575875737703, 0.00948656051645096, 0.04241050583825135, 0.013392791317342532, 0.10100396785162494, 0.026227549663129127, 0.07254428630227205, 0.0005580329715559389, 0.013950824288898472, 0.9953925624254989, 0.7832144785675573, 0.21755957737987705, 0.06434168698449814, 0.32170843492249074, 0.5790751828604833, 0.22377880259664212, 0.13426728155798529, 0.5818248867512695, 0.044755760519328426, 0.9457777258164966, 0.09594438270003001, 0.8634994443002701, 0.9682673449336844, 0.003903418265300317, 0.06245469224480507, 0.16394356714261332, 0.1131991296937092, 0.0702615287754057, 0.5191546292849422, 0.06245469224480507, 0.14511824481664914, 0.5134953278127584, 0.004465176763589204, 0.18865371826164387, 0.027907354772432526, 0.001116294190897301, 0.07144282821742727, 0.008930353527178409, 0.039070296681405534, 0.6159900894109505, 0.19978056953868661, 0.12486285596167913, 0.04162095198722638, 0.9782554832972762, 0.9361687812817358, 0.04478458653166965, 0.4030612787850268, 0.380668985519192, 0.06717687979750447, 0.06717687979750447, 0.1337403198758072, 0.8510747628460458, 0.20289386399593728, 0.04773973270492642, 0.6444863915165067, 0.08354453223362124, 0.30176725798364723, 0.4584541034751564, 0.034819298998113146, 0.13927719599245258, 0.011606432999371048, 0.05222894849716971, 0.09248580569523288, 0.03557146372893572, 0.028457170983148577, 0.07114292745787144, 0.5264576631882487, 0.16362873315310433, 0.08181436657655217, 0.980240665138662, 0.7397756673067933, 0.12562228312756868, 0.055832125834474965, 0.055832125834474965, 0.9754416973410327, 0.12079812617746738, 0.3019953154436685, 0.5435915677986032, 0.9731535348431928, 0.029841878128558156, 0.15773564153666453, 0.11510438706729574, 0.33678691030801344, 0.17478814332441206, 0.04689437991630567, 0.09378875983261134, 0.042631254469368794, 0.47444812538313336, 0.01976867189096389, 0.49421679727409723, 0.49624096320965183, 0.49624096320965183, 0.3295380891765992, 0.08596645804606937, 0.057310972030712906, 0.5157987482764161, 0.2008383112626037, 0.7531436672347639, 0.08845836610514918, 0.22572134799244964, 0.20436932858775844, 0.10370980853707146, 0.011184391116742999, 0.1972519887861947, 0.009150865459153364, 0.0010167628287948182, 0.0010167628287948182, 0.12506182794176263, 0.014234679603127454, 0.018301730918306728, 0.2613926732147849, 0.588133514733266, 0.09802225245554433, 0.8918679702798687, 0.7816748586578758, 0.1737055241461946, 0.9774212557701487, 0.06901919095553306, 0.17254797738883265, 0.7247015050330972, 0.7068606946557556, 0.25704025260209296, 0.0452141744180992, 0.12057113178159785, 0.8289265309984852, 0.017332155769419117, 0.15310070929653552, 0.034664311538838234, 0.36975265641427446, 0.07799470096238602, 0.2542049512848137, 0.023109541025892154, 0.06643993044943995, 0.15674799693864658, 0.31989387130336033, 0.387071584277066, 0.04158620326943684, 0.014395224208651216, 0.033588856486852836, 0.015994693565168017, 0.028790448417302432, 0.749082538029196, 0.23655238043027244, 0.02475735162227143, 0.9655367132685858, 0.9462543445168251, 0.8829613689724207, 0.02006730384028229, 0.08026921536112916, 0.05167810890053156, 0.8785278513090365, 0.05167810890053156, 0.018044021458804366, 0.6523607758183116, 0.052744062725735834, 0.0013880016506772589, 0.1651721964305938, 0.03608804291760873, 0.01249201485609533, 0.04996805942438132, 0.008328009904063552, 0.9690114517499129, 0.08107839187681978, 0.16215678375363957, 0.729705526891378, 0.052109136926044734, 0.15307058972025642, 0.5015504429131805, 0.026054568463022367, 0.18238197924115657, 0.026054568463022367, 0.003256821057877796, 0.048852315868166934, 0.0626535925580847, 0.033736549838968684, 0.028917042719116014, 0.13976570647572742, 0.32290697703012883, 0.043375564078674024, 0.17832176343454875, 0.13012669223602208, 0.053014578318379364, 0.06680093672245017, 0.9352131141143025, 0.15730769678404966, 0.1258461574272397, 0.031461539356809926, 0.6292307871361986, 0.14896598973148784, 0.6037042741749771, 0.1646466202295392, 0.0313612609961027, 0.0509620491186669, 0.8420757017426393, 0.1122767602323519, 0.07827724170382426, 0.011182463100546323, 0.7715899539376964, 0.016773694650819484, 0.1174158625557364, 0.613359732286468, 0.3833498326790425, 0.2753130883806158, 0.06882827209515395, 0.37855549652334675, 0.24089895233303882, 0.9743762036530595, 0.3681956985745012, 0.5891131177192019, 0.10692071349437504, 0.20196134771159732, 0.0712804756629167, 0.0712804756629167, 0.546483646749028, 0.2540269755187123, 0.07862739718436332, 0.09072391982811152, 0.12398935709841909, 0.30543719675464215, 0.04838609057499282, 0.003024130660937051, 0.02419304528749641, 0.003024130660937051, 0.05443435189686691, 0.012096522643748204, 0.09983296663425581, 0.039933186653702324, 0.059899779980553486, 0.7986637330740465, 0.791460598320446, 0.1978651495801115, 0.15207254859831973, 0.05069084953277324, 0.1858664482868352, 0.5069084953277324, 0.08448474922128874, 0.9635955597146931, 0.174162441545535, 0.02402240573041862, 0.13812883294990708, 0.04804481146083724, 0.0660616157586512, 0.02402240573041862, 0.1321232315173024, 0.37835289025409324, 0.2649340802113746, 0.63734141937642, 0.009997512460806589, 0.084978855916856, 0.23582666187114745, 0.08518453565687835, 0.0017933586454079655, 0.018830265776783636, 0.29680085581501825, 0.11925834991962969, 0.004483396613519913, 0.022416983067599566, 0.007173434581631862, 0.09056461159310225, 0.07801110107524649, 0.01703690713137567, 0.021520303744895584, 0.7437451014121678, 0.22884464658835932, 0.9661403163381145, 0.6641008639683595, 0.13622581824991992, 0.1873105000936399, 0.9029365325712577, 0.4960834433777109, 0.4960834433777109, 0.13286050424126195, 0.8303781515078872, 0.16303131239705998, 0.14672818115735398, 0.043475016639216, 0.44018454347206193, 0.11955629575784399, 0.043475016639216, 0.043475016639216, 0.1619391229682834, 0.8096956148414169, 0.9787886077231475, 0.16659460349151217, 0.8052072502089754, 0.3232925815384834, 0.6465851630769668, 0.9788071767710181, 0.035111147670854756, 0.052666721506282134, 0.3247781159554065, 0.5617783627336761, 0.017555573835427378, 0.8785404039075825, 0.10981755048844781, 0.6545649012805872, 0.1586824003104454, 0.17851770034925107, 0.297899574878425, 0.03191781159411697, 0.06383562318823394, 0.4894064444431268, 0.021278541062744644, 0.08511416425097858, 0.9887157582073547, 0.06934060379140167, 0.09823252203781903, 0.0635622201421182, 0.011556767298566945, 0.07511898744068514, 0.5951735158761976, 0.02889191824641736, 0.05778383649283472, 0.12074382961199072, 0.10415417560317479, 0.05626056576902793, 0.0036064465236556368, 0.03303505015668563, 0.10747210640493797, 0.06462752170390901, 0.044142905449544995, 0.00317367294081696, 0.03750704384601862, 0.06578158459147881, 0.12218640822145296, 0.07400428266541366, 0.047460836251308175, 0.020484616254364017, 0.00447199368933299, 0.09088245239612204, 0.6138415590417636, 0.1841524677125291, 0.12276831180835272, 0.06138415590417636, 0.11273116121991938, 0.02909191257288242, 0.0672750478247906, 0.10545818307669877, 0.04181962432351848, 0.14727780740021726, 0.007272978143220605, 0.02545542350127212, 0.0818210041112318, 0.02909191257288242, 0.01272771175063606, 0.09091222679025757, 0.02545542350127212, 0.0709115368964009, 0.15455078554343785, 0.41933343134369094, 0.5758011296062622, 0.6731410496083586, 0.2692564198433434, 0.07759694467573394, 0.7953686829262728, 0.09699618084466742, 0.23300746192572555, 0.757274251258608, 0.09623984745470054, 0.10425983474259225, 0.16841973304572594, 0.008019987287891711, 0.6175390211676618, 0.07653431104129971, 0.7653431104129971, 0.15306862208259941, 0.1461654365802849, 0.1461654365802849, 0.5846617463211397, 0.11693234926422794, 0.9708938293213855, 0.8799684152280742, 0.2682021452133558, 0.7314603960364249, 0.3307116418708735, 0.661423283741747, 0.9434396770591915, 0.021940457606027707, 0.030716640648438792, 0.9443402449928583, 0.9954592725232254, 0.13835869216541338, 0.04808209869578195, 0.003925069281288322, 0.02943801960966242, 0.023550415687729937, 0.19527219674409405, 0.034344356211272825, 0.051025900656748197, 0.09223912811027558, 0.01373774248450913, 0.04317576209417155, 0.0304192869299845, 0.010793940523542888, 0.08733279150866517, 0.025512950328374098, 0.06966997974286773, 0.10303306863381848, 0.26760873535691737, 0.0014010928552718187, 0.05604371421087275, 0.060246992776688206, 0.008406557131630913, 0.06865354990831912, 0.1653289569220746, 0.09107103559266821, 0.01120874284217455, 0.0028021857105436374, 0.04903824993451365, 0.04903824993451365, 0.04343387851342638, 0.04063169280288274, 0.04903824993451365, 0.03502732138179547, 0.13927119491690718, 0.835627169501443, 0.25138780754876416, 0.6913164707591014, 0.3021125775290367, 0.6646476705638807, 0.1414565376392644, 0.4243696129177932, 0.37721743370470506, 0.13878730306499468, 0.3608469879689862, 0.47187683042098194, 0.1557401858457622, 0.2261147618028045, 0.20945805743427376, 0.05205220115165849, 0.0045805937013459475, 0.012492528276398037, 0.0004164176092132679, 0.026650726989649147, 0.008328352184265359, 0.02748356220807568, 0.03664474961076758, 0.040808925702900255, 0.02789997981728895, 0.0033313408737061434, 0.004164176092132679, 0.007079099356625555, 0.043723848967393134, 0.11284917209679561, 0.08045404538410551, 0.3620432042284748, 0.04022702269205276, 0.19107835778725057, 0.2916459145173825, 0.030170267019039566, 0.8240505250496811, 0.09241688131398293, 0.03850703388082622, 0.03850703388082622, 0.13633973492276494, 0.8180384095365896, 0.9221556342962495, 0.041735492069442326, 0.027823661379628217, 0.007949617537036633, 0.9650717245208208, 0.46484400052056235, 0.2925591611667875, 0.07151446161854805, 0.01625328673148819, 0.04875986019446458, 0.04550920284816694, 0.05851183223335749, 0.03605159295599013, 0.9579423271163092, 0.34645185472866097, 0.2425162983100627, 0.38109704020152707, 0.43397170631837045, 0.008250412667649629, 0.028051403070008737, 0.047852393472367846, 0.17490874855417213, 0.033001650670598515, 0.044552228405307995, 0.033001650670598515, 0.033001650670598515, 0.10725536467944517, 0.05445272360648755, 0.024419308069590483, 0.5128054694614002, 0.43954754525262874, 0.03063144214027154, 0.27846765582065036, 0.03898547181489105, 0.11417173888646666, 0.04177014837309755, 0.050124178047717065, 0.03063144214027154, 0.17821929972521625, 0.2366975074475528, 0.4404528010897356, 0.14043422643440845, 0.11170904375464309, 0.19150121786510244, 0.025533495715346993, 0.025533495715346993, 0.060642052323949105, 0.7617742058070605, 0.11719603166262468, 0.11719603166262468, 0.6492627551529058, 0.3246313775764529, 0.09585124838052933, 0.15975208063421553, 0.7029091547905484, 0.18871630583000423, 0.7784547615487675, 0.7863936030320396, 0.1965984007580099, 0.4106962906774172, 0.5475950542365563, 0.14480350577083181, 0.3783575473366896, 0.20552755657795485, 0.13079026327688037, 0.09809269745766026, 0.03736864665053725, 0.9054731936521986, 0.003564855093118892, 0.0891213773279723, 0.8296541188205423, 0.15802935596581758, 0.9808404691879288, 0.14238267213578823, 0.06469972487629282, 0.02553367068696506, 0.4959590950383383, 0.0002163870397200429, 0.001731096317760343, 0.013632383502362701, 0.08244346213333634, 0.020773155813124118, 0.005842450072441158, 0.009953803827121972, 0.047821535778129476, 0.024451735488364847, 0.01709457613788339, 0.023369800289764632, 0.011684900144882316, 0.012334061264042444, 0.014020857041289516, 0.03738895211010538, 0.08879876126150027, 0.8108728988879104, 0.04673619013763172, 0.22687757346142842, 0.18906464455119035, 0.5671939336535711, 0.7515826834989783, 0.19778491671025744, 0.18945950681099014, 0.5519829861897116, 0.1275208218920126, 0.0637604109460063, 0.06558213697303505, 0.16982887931350213, 0.7359251436918426, 0.7326552057120813, 0.033556726979179295, 0.022371151319452862, 0.13143051400178557, 0.011185575659726431, 0.06711345395835859, 0.38717077452245324, 0.5420390843314346, 0.07379457715890074, 0.06669894473977567, 0.002838252967650028, 0.014191264838250141, 0.26253839950762764, 0.403031921406304, 0.011353011870600112, 0.032639909127975326, 0.007095632419125071, 0.12488313057660125, 0.24487919472219752, 0.07280192275524791, 0.5757970254278698, 0.01985506984234034, 0.0860386359834748, 0.9145139239718725, 0.07620949366432271, 0.09223097698005268, 0.6917323273503951, 0.18446195396010537, 0.39065552510181256, 0.5859832876527189, 0.9806352040481366, 0.9893381375587661, 0.0008210564905350315, 0.04515810697942673, 0.08538987501564327, 0.13711643391935024, 0.06978980169547767, 0.08292670554403818, 0.04597916346996176, 0.03448437260247132, 0.07717931011029296, 0.11987424761811459, 0.06240029328066239, 0.02791592067819107, 0.031200146640331196, 0.008210564905350314, 0.07717931011029296, 0.06322134977119742, 0.01806324279177069, 0.012315847358025472, 0.5617634758616593, 0.018830060643407573, 0.1380871113849889, 0.03452177784624722, 0.03138343440567929, 0.018830060643407573, 0.04393680816795101, 0.15377882858782851, 0.1144756108808546, 0.0023126386036536285, 0.009250554414614514, 0.7654833778093509, 0.052034368582206635, 0.05550332648768708, 0.10112978373617762, 0.8596031617575097, 0.6544161163765637, 0.02503231046249151, 0.3111158586052516, 0.0035760443517845013, 0.09309291302130104, 0.21721679704970245, 0.5585574781278063, 0.1241238840284014, 0.761172057645913, 0.028765223108711827, 0.059743155687324564, 0.008850837879603638, 0.004425418939801819, 0.042041479928117284, 0.019914385229108187, 0.037616060988315464, 0.026552513638810917, 0.013276256819405459, 0.4758280060522042, 0.4758280060522042, 0.7329560618245208, 0.26348093725718064, 0.13770154293198889, 0.18129052055074796, 0.005943951493467146, 0.05250490485895979, 0.345739845203339, 0.02476646455611311, 0.04953292911222622, 0.001981317164489049, 0.04557029478324812, 0.025757123138357634, 0.07529005225058386, 0.002971975746733573, 0.021794488809379536, 0.0009906585822445245, 0.025757123138357634, 0.7492368670155265, 0.07886703863321332, 0.09858379829151664, 0.059150278974909994, 0.4902963185343598, 0.4902963185343598, 0.10080311564038816, 0.2073664093173699, 0.14976462895143383, 0.5385766464215024, 0.02790905488952697, 0.7938575613021004, 0.17365634153483447, 0.31266862982713883, 0.06750799962176861, 0.02131831567003219, 0.08172021006845673, 0.0994854731268169, 0.08527326268012876, 0.01776526305836016, 0.04974273656340845, 0.2664789458754024, 0.7529276143377454, 0.08213755792775404, 0.15058552286754906, 0.18202094604993715, 0.13651570953745287, 0.63707331117478, 0.12311984913727192, 0.19632624592159578, 0.2761877696863127, 0.06322370631373424, 0.07320639678432385, 0.023292944431375768, 0.08318908725491346, 0.09317177772550307, 0.06655126980393077, 0.9155540590990023, 0.9895334866814135, 0.2003332482450364, 0.0003086798894376524, 0.1284108340060634, 0.35498187285330024, 0.028089869938826367, 0.06142729799809282, 0.0006173597788753048, 0.0074083173465036576, 0.05679709965652804, 0.0055562380098777425, 0.007099637457066005, 0.0006173597788753048, 0.06667485611853291, 0.07439185335447422, 0.007099637457066005, 0.187420056595692, 0.17300312916525415, 0.5045924600653247, 0.10091849201306492, 0.3126387042091052, 0.6600150422192221, 0.10968418306147108, 0.43873673224588433, 0.028864258700387127, 0.3348254009244907, 0.08659277610116138, 0.19374641171780682, 0.09451044474039356, 0.04725522237019678, 0.11577529480698212, 0.37095349560604474, 0.014176566711059034, 0.042529700133177105, 0.1205008170440018, 0.8453114805402063, 0.04622797159204253, 0.09905993912580542, 0.16714686175025048, 0.025325282083371287, 0.060780677000091085, 0.030390338500045543, 0.060780677000091085, 0.648327221334305, 0.10027101277006562, 0.8773713617380742, 0.031661469552420225, 0.08305399984040666, 0.003212033142999153, 0.8718375673854843, 0.0004588618775713076, 0.0009177237551426152, 0.006424066285998306, 0.0022943093878565377, 0.6945748229279053, 0.02030920534876916, 0.07311313925556898, 0.13810259637163028, 0.06905129818581514, 0.058872967914220656, 0.17661890374266198, 0.07492923189082629, 0.5459129752045916, 0.02676043996100939, 0.11774593582844131, 0.02075760974779155, 0.8510619996594535, 0.1286971804363076, 0.4862622986290002, 0.4862622986290002], \"Term\": [\"$\", \"$\", \"$\", \"$\", \"$\", \"$\", \"$\", \"$\", \"-pron-\", \"-pron-\", \"-pron-\", \"1/2\", \"1/2\", \"1/2\", \"1st\", \"1st\", \"2nd\", \"2nd\", \"2nd\", \"2nd\", \"2nd\", \"3rd\", \"3rd\", \"3rd\", \"3rd\", \"3rd\", \"4th\", \"4th\", \"4yr\", \"4yr\", \"4yr\", \"aa\", \"aaa\", \"abc\", \"abc\", \"ability\", \"ability\", \"ability\", \"ability\", \"ability\", \"ability\", \"ability\", \"ability\", \"ability\", \"ability\", \"able\", \"able\", \"able\", \"able\", \"able\", \"able\", \"able\", \"able\", \"able\", \"able\", \"able\", \"able\", \"able\", \"absolutely\", \"absolutely\", \"absolutely\", \"access\", \"access\", \"access\", \"access\", \"access\", \"access\", \"access\", \"access\", \"access\", \"account\", \"account\", \"account\", \"account\", \"account\", \"acid\", \"act\", \"activity\", \"activity\", \"ad\", \"ad\", \"ad\", \"ad\", \"add\", \"add\", \"add\", \"add\", \"add\", \"add\", \"add\", \"add\", \"add\", \"add\", \"add\", \"add\", \"addition\", \"addition\", \"addition\", \"addition\", \"adjustment\", \"adult\", \"adult\", \"adult\", \"advanced\", \"advantage\", \"advantage\", \"advertise\", \"advertise\", \"advertise\", \"advertising\", \"advertising\", \"affordable\", \"affordable\", \"affordable\", \"affordable\", \"affordable\", \"affordable\", \"afraid\", \"afraid\", \"afraid\", \"age\", \"age\", \"age\", \"age\", \"age\", \"age\", \"ago\", \"ago\", \"ago\", \"ago\", \"ago\", \"ahead\", \"ahead\", \"ahead\", \"ahead\", \"alexa\", \"alexa\", \"alexa\", \"alexa\", \"alexa\", \"alexa\", \"alkaline\", \"alright\", \"alright\", \"alternative\", \"alternative\", \"alternative\", \"alternative\", \"alternative\", \"amazing\", \"amazing\", \"amazing\", \"amazing\", \"amazing\", \"amazing\", \"amazing\", \"amazing\", \"amazing\", \"amazon\", \"amazon\", \"amazon\", \"amazon\", \"amazon\", \"amazon\", \"amazon\", \"amazon\", \"amazon\", \"amazon\", \"amazon\", \"amazon\", \"amazon\", \"amazon\", \"amazon\", \"amazonbasics\", \"android\", \"android\", \"android\", \"android\", \"android\", \"answer\", \"anymore\", \"anymore\", \"anytime\", \"anytime\", \"anytime\", \"app\", \"app\", \"app\", \"app\", \"app\", \"app\", \"app\", \"app\", \"app\", \"app\", \"app\", \"app\", \"app\", \"app\", \"apple\", \"apple\", \"apple\", \"apple\", \"apple\", \"appropriate\", \"appropriate\", \"appstore\", \"appstore\", \"arm\", \"arm\", \"arm\", \"article\", \"article\", \"ask\", \"ask\", \"ask\", \"ask\", \"ask\", \"ask\", \"ask\", \"ask\", \"ask\", \"aspect\", \"aspect\", \"aspect\", \"aspect\", \"associate\", \"associate\", \"attention\", \"attention\", \"attractive\", \"audible\", \"audible\", \"audible\", \"audio\", \"audio\", \"aunt\", \"aunt\", \"aunt\", \"automatic\", \"automatic\", \"automatically\", \"automatically\", \"automatically\", \"available\", \"available\", \"available\", \"available\", \"available\", \"avid\", \"avid\", \"avid\", \"aware\", \"aware\", \"aware\", \"awesome\", \"awesome\", \"awesome\", \"awesome\", \"awesome\", \"awesome\", \"awesome\", \"awesome\", \"awesome\", \"awesome\", \"awhile\", \"awhile\", \"awhile\", \"awhile\", \"baby\", \"baby\", \"baby\", \"backpack\", \"backpack\", \"backpack\", \"backup\", \"backup\", \"bad\", \"bad\", \"bad\", \"bad\", \"bad\", \"bad\", \"bad\", \"bad\", \"bad\", \"bad\", \"bag\", \"bag\", \"bag\", \"bang\", \"bang\", \"bang\", \"bank\", \"bank\", \"basic\", \"basic\", \"basic\", \"basic\", \"basic\", \"basic\", \"basic\", \"basics\", \"batch\", \"batteries\", \"battery\", \"battery\", \"battery\", \"bc\", \"beach\", \"beach\", \"beat\", \"beat\", \"beat\", \"beat\", \"beat\", \"beat\", \"beating\", \"beginner\", \"believe\", \"believe\", \"believe\", \"believe\", \"believe\", \"believe\", \"believe\", \"benefit\", \"benefit\", \"benefit\", \"best\", \"better\", \"better\", \"better\", \"better\", \"better\", \"better\", \"better\", \"better\", \"bezel\", \"big\", \"big\", \"big\", \"big\", \"big\", \"big\", \"big\", \"big\", \"big\", \"big\", \"big\", \"big\", \"big\", \"birthday\", \"birthday\", \"birthday\", \"birthday\", \"black\", \"black\", \"blue\", \"blue\", \"blue\", \"bluetooth\", \"bluetooth\", \"bluetooth\", \"bluetooth\", \"bluetooth\", \"bluetooth\", \"board\", \"book\", \"book\", \"book\", \"book\", \"book\", \"book\", \"book\", \"boot\", \"boot\", \"box\", \"box\", \"box\", \"box\", \"box\", \"box\", \"boy\", \"boy\", \"boy\", \"brainer\", \"brainer\", \"brainer\", \"brand\", \"brand\", \"break\", \"break\", \"break\", \"break\", \"break\", \"break\", \"breeze\", \"breeze\", \"breeze\", \"bright\", \"bright\", \"bright\", \"bright\", \"bright\", \"bright\", \"bright\", \"brightness\", \"brightness\", \"brightness\", \"broken\", \"brother\", \"brother\", \"brother\", \"brother\", \"browse\", \"browse\", \"browse\", \"browse\", \"browse\", \"browser\", \"browser\", \"browser\", \"browsing\", \"browsing\", \"browsing\", \"buck\", \"buck\", \"buck\", \"buck\", \"buck\", \"buck\", \"buck\", \"budget\", \"budget\", \"budget\", \"budget\", \"budget\", \"bumper\", \"bumper\", \"bunny\", \"bunny\", \"business\", \"business\", \"busy\", \"busy\", \"button\", \"button\", \"button\", \"button\", \"buy\", \"buy\", \"buy\", \"buy\", \"buy\", \"buy\", \"buy\", \"buy\", \"buy\", \"buy\", \"buy\", \"buy\", \"buy\", \"buy\", \"buy\", \"buying\", \"cable\", \"cable\", \"call\", \"call\", \"camera\", \"camera\", \"camera\", \"camera\", \"camera\", \"camera\", \"camera\", \"camera\", \"camera\", \"camera\", \"candle\", \"can\\u201a\\u00e4\\u00f4t\", \"can\\u201a\\u00e4\\u00f4t\", \"can\\u201a\\u00e4\\u00f4t\", \"capable\", \"capable\", \"car\", \"car\", \"car\", \"car\", \"card\", \"card\", \"cardboard\", \"careful\", \"careful\", \"careful\", \"carry\", \"carry\", \"carry\", \"carry\", \"carry\", \"carry\", \"cartoon\", \"case\", \"case\", \"case\", \"case\", \"case\", \"case\", \"case\", \"case\", \"case\", \"case\", \"casual\", \"casual\", \"challenge\", \"challenge\", \"change\", \"change\", \"change\", \"change\", \"change\", \"change\", \"charge\", \"charge\", \"charger\", \"charger\", \"charm\", \"cheap\", \"cheap\", \"cheap\", \"cheap\", \"cheap\", \"cheap\", \"cheap\", \"cheap\", \"cheap\", \"check\", \"check\", \"check\", \"check\", \"child\", \"child\", \"child\", \"child\", \"child\", \"christmas\", \"christmas\", \"christmas\", \"chrome\", \"chrome\", \"chromecast\", \"chromecast\", \"chromecast\", \"clarity\", \"clarity\", \"clarity\", \"class\", \"class\", \"class\", \"clear\", \"clear\", \"clear\", \"clear\", \"clear\", \"clear\", \"clear\", \"clock\", \"close\", \"close\", \"close\", \"close\", \"close\", \"clumsy\", \"college\", \"college\", \"college\", \"color\", \"color\", \"color\", \"color\", \"color\", \"color\", \"color\", \"come\", \"come\", \"come\", \"come\", \"come\", \"come\", \"come\", \"come\", \"come\", \"come\", \"come\", \"come\", \"come\", \"command\", \"compact\", \"compact\", \"compact\", \"compact\", \"compact\", \"comparable\", \"comparable\", \"comparable\", \"compare\", \"compare\", \"compare\", \"compare\", \"compare\", \"compare\", \"compare\", \"compare\", \"compare\", \"compatible\", \"compatible\", \"compete\", \"compete\", \"competitor\", \"competitor\", \"complain\", \"complain\", \"complain\", \"complain\", \"complain\", \"complain\", \"complaint\", \"complaint\", \"complaint\", \"complaint\", \"complaint\", \"complaint\", \"complaint\", \"complicated\", \"complicated\", \"computer\", \"computer\", \"computer\", \"computer\", \"computer\", \"computer\", \"computer\", \"computer\", \"concerned\", \"concerned\", \"confusing\", \"confusing\", \"confusing\", \"connect\", \"connect\", \"connect\", \"connect\", \"content\", \"content\", \"content\", \"content\", \"content\", \"control\", \"control\", \"control\", \"control\", \"controller\", \"controller\", \"convenient\", \"convenient\", \"convenient\", \"convenient\", \"convenient\", \"convenient\", \"cool\", \"cool\", \"cool\", \"cool\", \"cool\", \"cool\", \"cool\", \"cool\", \"copy\", \"cord\", \"cost\", \"cost\", \"cost\", \"cost\", \"cost\", \"cost\", \"cost\", \"cost\", \"cost\", \"cost\", \"cost\", \"costco\", \"costly\", \"costly\", \"couch\", \"couch\", \"couch\", \"crack\", \"crack\", \"crack\", \"credit\", \"crystal\", \"crystal\", \"curious\", \"customer\", \"customer\", \"customer\", \"cute\", \"dad\", \"dad\", \"dad\", \"dad\", \"dad\", \"daily\", \"daily\", \"daily\", \"daily\", \"daily\", \"daily\", \"damage\", \"damage\", \"damage\", \"dark\", \"dark\", \"dark\", \"datum\", \"datum\", \"daughter\", \"daughter\", \"daughter\", \"daughter\", \"daughter\", \"day\", \"day\", \"day\", \"day\", \"day\", \"day\", \"day\", \"day\", \"day\", \"day\", \"day\", \"day\", \"dead\", \"dead\", \"deal\", \"deal\", \"deal\", \"deal\", \"deal\", \"deal\", \"deal\", \"deal\", \"decent\", \"decent\", \"decent\", \"decent\", \"decent\", \"decent\", \"decent\", \"decide\", \"decide\", \"decide\", \"decide\", \"decide\", \"decide\", \"decide\", \"def\", \"def\", \"definitely\", \"definitely\", \"definitely\", \"definitely\", \"definitely\", \"definitely\", \"definitely\", \"definitely\", \"definitely\", \"definitely\", \"delete\", \"delete\", \"delivery\", \"delivery\", \"describe\", \"describe\", \"design\", \"design\", \"design\", \"design\", \"design\", \"design\", \"design\", \"desire\", \"desk\", \"detector\", \"determine\", \"determine\", \"device\", \"device\", \"device\", \"device\", \"device\", \"device\", \"device\", \"device\", \"device\", \"device\", \"device\", \"device\", \"device\", \"device\", \"device\", \"die\", \"die\", \"die\", \"difference\", \"difference\", \"difference\", \"difference\", \"difference\", \"difference\", \"difference\", \"difference\", \"different\", \"different\", \"different\", \"different\", \"different\", \"different\", \"different\", \"different\", \"difficult\", \"difficult\", \"difficult\", \"difficult\", \"direct\", \"direct\", \"direct\", \"direction\", \"direction\", \"direction\", \"directly\", \"directly\", \"discharge\", \"discount\", \"discount\", \"discount\", \"discount\", \"discount\", \"display\", \"display\", \"display\", \"display\", \"display\", \"display\", \"dollar\", \"dollar\", \"dollar\", \"dollar\", \"dollar\", \"dollar\", \"door\", \"door\", \"door\", \"dot\", \"download\", \"download\", \"download\", \"download\", \"download\", \"download\", \"download\", \"download\", \"download\", \"download\", \"download\", \"downside\", \"downside\", \"downside\", \"downside\", \"drain\", \"drain\", \"drain\", \"drawback\", \"drawback\", \"drawer\", \"drop\", \"drop\", \"drop\", \"drop\", \"durability\", \"durability\", \"durable\", \"durable\", \"durable\", \"durable\", \"duracel\", \"duracel\", \"duracell\", \"duracell\", \"duracells\", \"e\", \"e\", \"e\", \"e\", \"early\", \"early\", \"early\", \"ease\", \"ease\", \"ease\", \"ease\", \"ease\", \"ease\", \"easy\", \"easy\", \"easy\", \"easy\", \"easy\", \"easy\", \"easy\", \"easy\", \"easy\", \"easy\", \"easy\", \"easy\", \"ebook\", \"ebook\", \"ebook\", \"ebook\", \"ebooks\", \"ebooks\", \"echo\", \"echo\", \"edition\", \"edition\", \"edition\", \"education\", \"education\", \"educational\", \"educational\", \"effective\", \"effective\", \"effective\", \"email\", \"email\", \"employee\", \"enable\", \"enable\", \"enable\", \"encourage\", \"encourage\", \"encourage\", \"energizer\", \"energizer\", \"engage\", \"enjoy\", \"enjoy\", \"enjoy\", \"enjoy\", \"enjoy\", \"enjoy\", \"enjoy\", \"enjoy\", \"enjoy\", \"enjoy\", \"enjoy\", \"enjoyable\", \"entertain\", \"entertain\", \"entertain\", \"entertaining\", \"entertaining\", \"entertainment\", \"entertainment\", \"entertainment\", \"entertainment\", \"entertainment\", \"entire\", \"entire\", \"entry\", \"entry\", \"equal\", \"equal\", \"ereader\", \"ereader\", \"especially\", \"especially\", \"especially\", \"especially\", \"especially\", \"especially\", \"especially\", \"event\", \"event\", \"everyday\", \"everyday\", \"everyday\", \"everyday\", \"exactly\", \"exactly\", \"exactly\", \"exactly\", \"exactly\", \"exactly\", \"exactly\", \"exactly\", \"exceed\", \"exceed\", \"excellent\", \"excellent\", \"excellent\", \"excellent\", \"excellent\", \"excellent\", \"excellent\", \"excellent\", \"excellent\", \"excellent\", \"excellent\", \"excellent\", \"excellent\", \"exchange\", \"exchange\", \"excited\", \"excited\", \"excited\", \"excited\", \"excited\", \"exclusively\", \"exclusively\", \"exclusively\", \"expansion\", \"expect\", \"expect\", \"expect\", \"expect\", \"expect\", \"expectation\", \"expensive\", \"expensive\", \"expensive\", \"expensive\", \"expensive\", \"expensive\", \"expensive\", \"expensive\", \"expensive\", \"experience\", \"experience\", \"experience\", \"experience\", \"experience\", \"experience\", \"experience\", \"experience\", \"explain\", \"explain\", \"explain\", \"explain\", \"explore\", \"explore\", \"extended\", \"extended\", \"extensive\", \"extra\", \"extra\", \"extra\", \"extra\", \"extra\", \"extra\", \"extra\", \"extra\", \"extra\", \"eye\", \"eye\", \"eye\", \"eye\", \"face\", \"face\", \"face\", \"facebook\", \"facebook\", \"fact\", \"fact\", \"fact\", \"fact\", \"fact\", \"fact\", \"fact\", \"fact\", \"fact\", \"fact\", \"fact\", \"fact\", \"fair\", \"fair\", \"fair\", \"familiar\", \"familiar\", \"family\", \"family\", \"family\", \"family\", \"family\", \"fantastic\", \"fantastic\", \"fantastic\", \"fantastic\", \"fantastic\", \"fantastic\", \"fantastic\", \"fantastic\", \"fantastic\", \"far\", \"far\", \"far\", \"far\", \"far\", \"far\", \"far\", \"far\", \"far\", \"far\", \"far\", \"far\", \"far\", \"fast\", \"fast\", \"fast\", \"fast\", \"fast\", \"fast\", \"fast\", \"fast\", \"faster\", \"faster\", \"faster\", \"faster\", \"faster\", \"father\", \"father\", \"father\", \"fault\", \"fault\", \"favorite\", \"favorite\", \"favorite\", \"favorite\", \"favorite\", \"favorite\", \"favorite\", \"favorite\", \"feature\", \"feature\", \"feature\", \"feature\", \"feature\", \"feature\", \"feature\", \"feature\", \"feature\", \"feature\", \"feature\", \"feature\", \"feature\", \"feature\", \"feedback\", \"feedback\", \"feedback\", \"feel\", \"feel\", \"feel\", \"feel\", \"feel\", \"feel\", \"feel\", \"feel\", \"fi\", \"fi\", \"figure\", \"figure\", \"figure\", \"figure\", \"figure\", \"figure\", \"file\", \"file\", \"filter\", \"find\", \"find\", \"find\", \"find\", \"find\", \"find\", \"find\", \"find\", \"find\", \"find\", \"find\", \"find\", \"find\", \"find\", \"fine\", \"fine\", \"fine\", \"fine\", \"fine\", \"fine\", \"fine\", \"fine\", \"fine\", \"fine\", \"fine\", \"fingertip\", \"fire\", \"fire\", \"fire\", \"fire\", \"fire\", \"fire\", \"fire\", \"fire\", \"fire\", \"fire\", \"fire\", \"fire\", \"fire\", \"fire\", \"fit\", \"fit\", \"fit\", \"fit\", \"fit\", \"fit\", \"fix\", \"fix\", \"fix\", \"fix\", \"flashlight\", \"flawlessly\", \"flawlessly\", \"flawlessly\", \"follow\", \"follow\", \"follow\", \"follow\", \"forever\", \"forget\", \"forget\", \"forget\", \"format\", \"format\", \"format\", \"forward\", \"forward\", \"forward\", \"fraction\", \"fraction\", \"fraction\", \"fraction\", \"free\", \"free\", \"free\", \"free\", \"free\", \"free\", \"free\", \"free\", \"free\", \"free\", \"freetime\", \"freetime\", \"freeze\", \"freeze\", \"freeze\", \"fresh\", \"friday\", \"friend\", \"friend\", \"friend\", \"friend\", \"friendly\", \"friendly\", \"friendly\", \"frustrating\", \"frustrating\", \"frustrating\", \"frustrating\", \"frustrating\", \"fully\", \"fully\", \"fully\", \"fully\", \"fully\", \"fun\", \"fun\", \"fun\", \"fun\", \"fun\", \"fun\", \"fun\", \"fun\", \"function\", \"function\", \"function\", \"function\", \"function\", \"function\", \"function\", \"function\", \"functional\", \"functional\", \"functional\", \"g\", \"g\", \"g\", \"galaxy\", \"galaxy\", \"galaxy\", \"galaxy\", \"galaxy\", \"game\", \"game\", \"game\", \"game\", \"game\", \"game\", \"game\", \"game\", \"game\", \"game\", \"gb\", \"gb\", \"gb\", \"gb\", \"gb\", \"gb\", \"geek\", \"geek\", \"gen\", \"generation\", \"generation\", \"generation\", \"generic\", \"generic\", \"get\", \"get\", \"get\", \"get\", \"get\", \"get\", \"get\", \"get\", \"get\", \"get\", \"get\", \"get\", \"get\", \"get\", \"get\", \"get\", \"get\", \"gift\", \"girl\", \"girl\", \"girl\", \"girl\", \"girlfriend\", \"give\", \"give\", \"give\", \"give\", \"give\", \"give\", \"give\", \"give\", \"give\", \"give\", \"glad\", \"glad\", \"glad\", \"glad\", \"glad\", \"glare\", \"glare\", \"glare\", \"glitch\", \"glitch\", \"go\", \"go\", \"go\", \"go\", \"go\", \"go\", \"go\", \"go\", \"go\", \"go\", \"go\", \"goal\", \"goal\", \"god\", \"good\", \"good\", \"good\", \"good\", \"good\", \"good\", \"good\", \"good\", \"good\", \"good\", \"good\", \"good\", \"good\", \"good\", \"good\", \"good\", \"good\", \"google\", \"google\", \"google\", \"google\", \"google\", \"grade\", \"grade\", \"grade\", \"grand\", \"grand\", \"grand\", \"grand\", \"grand\", \"grandaughter\", \"grandchild\", \"grandchild\", \"granddaughter\", \"granddaughter\", \"grandkid\", \"grandkid\", \"grandkid\", \"grandkid\", \"grandma\", \"grandmother\", \"grandson\", \"grandson\", \"grandson\", \"grandson\", \"graphic\", \"graphic\", \"great\", \"great\", \"great\", \"great\", \"great\", \"great\", \"great\", \"great\", \"great\", \"great\", \"great\", \"great\", \"great\", \"great\", \"great\", \"great\", \"great\", \"great\", \"great\", \"green\", \"green\", \"grip\", \"guide\", \"guide\", \"guide\", \"hand\", \"hand\", \"hand\", \"hand\", \"hand\", \"hand\", \"hand\", \"hand\", \"hang\", \"hang\", \"hang\", \"happy\", \"happy\", \"happy\", \"happy\", \"happy\", \"happy\", \"happy\", \"happy\", \"happy\", \"happy\", \"happy\", \"happy\", \"happy\", \"happy\", \"hardware\", \"hardware\", \"hardware\", \"hassle\", \"hassle\", \"hassle\", \"hd\", \"hd\", \"hd\", \"hd\", \"hd\", \"hd8\", \"hd8\", \"hd8\", \"hd8\", \"hd8\", \"hdx\", \"hdx\", \"head\", \"head\", \"hear\", \"hear\", \"hear\", \"help\", \"help\", \"help\", \"help\", \"help\", \"help\", \"help\", \"help\", \"help\", \"help\", \"help\", \"helpful\", \"helpful\", \"helpful\", \"helpful\", \"helpful\", \"helpful\", \"helpful\", \"hesitant\", \"hesitant\", \"high\", \"high\", \"high\", \"high\", \"high\", \"higher\", \"higher\", \"highly\", \"highly\", \"hold\", \"hold\", \"hold\", \"hold\", \"hold\", \"hold\", \"hold\", \"hold\", \"hold\", \"hold\", \"hold\", \"home\", \"home\", \"home\", \"home\", \"homework\", \"homework\", \"hooked\", \"hooked\", \"hour\", \"hour\", \"hour\", \"hour\", \"hour\", \"hour\", \"hour\", \"hour\", \"huge\", \"huge\", \"huge\", \"huge\", \"huge\", \"huge\", \"huge\", \"husband\", \"husband\", \"husband\", \"i.\", \"i.\", \"imagine\", \"imagine\", \"immediately\", \"immediately\", \"immediately\", \"impressed\", \"impressed\", \"impressed\", \"impressed\", \"improvement\", \"improvement\", \"improvement\", \"inch\", \"inch\", \"inch\", \"incredible\", \"incredible\", \"incredible\", \"indestructible\", \"indestructible\", \"indestructible\", \"inexpensive\", \"inexpensive\", \"inexpensive\", \"inexpensive\", \"inexpensive\", \"info\", \"info\", \"instal\", \"instal\", \"instal\", \"instal\", \"instal\", \"instal\", \"instal\", \"install\", \"install\", \"install\", \"install\", \"install\", \"install\", \"install\", \"instantly\", \"instantly\", \"instantly\", \"instruction\", \"instruction\", \"instruction\", \"intend\", \"intend\", \"intend\", \"interactive\", \"interactive\", \"interface\", \"interface\", \"internal\", \"internal\", \"internet\", \"internet\", \"internet\", \"internet\", \"internet\", \"internet\", \"internet\", \"introduce\", \"introduce\", \"introduce\", \"intuitive\", \"intuitive\", \"intuitive\", \"invest\", \"invest\", \"invest\", \"ipad\", \"ipad\", \"ipad\", \"ipad\", \"ipad\", \"ipad\", \"ipad\", \"ipad\", \"ipad\", \"ipad\", \"ipod\", \"ipod\", \"issue\", \"issue\", \"issue\", \"issue\", \"issue\", \"issue\", \"issue\", \"issue\", \"issue\", \"issue\", \"issue\", \"issue\", \"item\", \"item\", \"item\", \"item\", \"item\", \"item\", \"item\", \"item\", \"item\", \"it\\u201a\\u00e4\\u00f4s\", \"it\\u201a\\u00e4\\u00f4s\", \"it\\u201a\\u00e4\\u00f4s\", \"job\", \"job\", \"job\", \"job\", \"job\", \"jump\", \"jump\", \"jump\", \"junk\", \"junk\", \"keep\", \"keep\", \"keep\", \"keep\", \"keep\", \"keep\", \"keep\", \"keep\", \"keep\", \"keep\", \"keep\", \"key\", \"key\", \"key\", \"keyboard\", \"keyboard\", \"keyboard\", \"kid\", \"kid\", \"kid\", \"kid\", \"kid\", \"kid\", \"kiddo\", \"kids\", \"kids\", \"kids\", \"kinda\", \"kinda\", \"kindle\", \"kindle\", \"kindle\", \"kindle\", \"kindle\", \"kindle\", \"kindle\", \"kindle\", \"kindle\", \"kindle\", \"kindles\", \"kindles\", \"kirkland\", \"know\", \"know\", \"know\", \"know\", \"know\", \"know\", \"know\", \"know\", \"know\", \"know\", \"know\", \"know\", \"know\", \"knowledgeable\", \"lack\", \"lack\", \"lack\", \"lack\", \"lack\", \"lack\", \"lag\", \"lag\", \"lag\", \"lag\", \"lag\", \"lap\", \"laptop\", \"laptop\", \"laptop\", \"laptop\", \"laptop\", \"large\", \"large\", \"large\", \"large\", \"large\", \"large\", \"large\", \"large\", \"last\", \"last\", \"last\", \"last\", \"lasting\", \"law\", \"leak\", \"learn\", \"learn\", \"learn\", \"learn\", \"learn\", \"learn\", \"learn\", \"learn\", \"learning\", \"learning\", \"learning\", \"leather\", \"left\", \"left\", \"letter\", \"letter\", \"letter\", \"library\", \"library\", \"library\", \"library\", \"library\", \"life\", \"life\", \"life\", \"life\", \"light\", \"light\", \"light\", \"light\", \"lighting\", \"lighting\", \"lightweight\", \"lightweight\", \"lightweight\", \"lightweight\", \"lightweight\", \"lightweight\", \"like\", \"like\", \"like\", \"like\", \"like\", \"like\", \"like\", \"like\", \"like\", \"like\", \"like\", \"like\", \"like\", \"like\", \"like\", \"like\", \"like\", \"like\", \"like\", \"limit\", \"limit\", \"limit\", \"limited\", \"limited\", \"limited\", \"limited\", \"link\", \"link\", \"link\", \"link\", \"listen\", \"listen\", \"listen\", \"listen\", \"listen\", \"listen\", \"listen\", \"little\", \"little\", \"little\", \"little\", \"little\", \"little\", \"little\", \"little\", \"little\", \"little\", \"little\", \"little\", \"little\", \"little\", \"live\", \"live\", \"live\", \"live\", \"live\", \"live\", \"live\", \"living\", \"load\", \"load\", \"load\", \"load\", \"load\", \"load\", \"load\", \"loaded\", \"loaded\", \"local\", \"local\", \"local\", \"local\", \"lock\", \"lock\", \"lock\", \"lock\", \"lock\", \"lol\", \"lol\", \"lol\", \"lol\", \"long\", \"long\", \"long\", \"long\", \"longer\", \"longer\", \"longer\", \"longer\", \"longer\", \"longevity\", \"look\", \"look\", \"look\", \"look\", \"look\", \"look\", \"look\", \"look\", \"look\", \"look\", \"look\", \"look\", \"look\", \"look\", \"look\", \"loose\", \"loose\", \"loose\", \"loose\", \"lot\", \"lot\", \"lot\", \"lot\", \"lot\", \"lot\", \"lot\", \"lot\", \"lot\", \"lot\", \"lot\", \"lot\", \"lot\", \"lot\", \"lot\", \"lot\", \"love\", \"love\", \"love\", \"love\", \"love\", \"love\", \"love\", \"love\", \"love\", \"love\", \"love\", \"low\", \"low\", \"low\", \"low\", \"low\", \"low\", \"low\", \"low\", \"low\", \"low\", \"low\", \"low\", \"low\", \"magazine\", \"magazine\", \"magazine\", \"mail\", \"mail\", \"mail\", \"mail\", \"mail\", \"major\", \"major\", \"major\", \"major\", \"make\", \"make\", \"make\", \"make\", \"make\", \"make\", \"make\", \"make\", \"make\", \"make\", \"make\", \"make\", \"man\", \"manage\", \"manage\", \"maneuver\", \"maneuver\", \"maneuver\", \"market\", \"market\", \"market\", \"market\", \"market\", \"market\", \"material\", \"material\", \"material\", \"meet\", \"meet\", \"meet\", \"meet\", \"meet\", \"meet\", \"member\", \"member\", \"member\", \"member\", \"member\", \"member\", \"membership\", \"membership\", \"membership\", \"memory\", \"memory\", \"memory\", \"memory\", \"menu\", \"menu\", \"micro\", \"micro\", \"micro\", \"mile\", \"mile\", \"mini\", \"mini\", \"minute\", \"minute\", \"minute\", \"mirror\", \"mirror\", \"mirror\", \"mirror\", \"mistake\", \"mistake\", \"mistake\", \"mobile\", \"model\", \"model\", \"model\", \"model\", \"model\", \"model\", \"mom\", \"mom\", \"mom\", \"mom\", \"money\", \"money\", \"money\", \"money\", \"money\", \"money\", \"money\", \"money\", \"money\", \"month\", \"month\", \"month\", \"month\", \"month\", \"month\", \"month\", \"month\", \"morning\", \"morning\", \"morning\", \"mother\", \"mother\", \"mouse\", \"mouse\", \"mouse\", \"movie\", \"movie\", \"movie\", \"movie\", \"movie\", \"movie\", \"movie\", \"movie\", \"music\", \"music\", \"music\", \"music\", \"music\", \"music\", \"music\", \"n\", \"name\", \"national\", \"navigate\", \"navigate\", \"navigate\", \"navigate\", \"navigate\", \"navigate\", \"navigate\", \"navigate\", \"navigation\", \"navigation\", \"necessary\", \"necessary\", \"necessary\", \"need\", \"need\", \"need\", \"need\", \"need\", \"need\", \"need\", \"need\", \"need\", \"need\", \"need\", \"need\", \"need\", \"need\", \"nephew\", \"nephew\", \"nephew\", \"net\", \"net\", \"net\", \"netflix\", \"netflix\", \"netflix\", \"netflix\", \"netflix\", \"netflix\", \"netflix\", \"network\", \"network\", \"network\", \"new\", \"new\", \"new\", \"new\", \"new\", \"new\", \"new\", \"new\", \"new\", \"new\", \"new\", \"new\", \"news\", \"news\", \"nexus\", \"nexus\", \"nexus\", \"nice\", \"nice\", \"nice\", \"nice\", \"nice\", \"nice\", \"nice\", \"nice\", \"nice\", \"nice\", \"niece\", \"niece\", \"niece\", \"night\", \"night\", \"night\", \"night\", \"night\", \"night\", \"night\", \"not\", \"not\", \"not\", \"not\", \"not\", \"not\", \"not\", \"not\", \"not\", \"not\", \"noticeable\", \"noticeable\", \"numerous\", \"numerous\", \"numerous\", \"oasis\", \"oasis\", \"occasional\", \"occasional\", \"occasionally\", \"occasionally\", \"occupy\", \"occupy\", \"october\", \"october\", \"offline\", \"oh\", \"oh\", \"oh\", \"ok\", \"ok\", \"ok\", \"ok\", \"ok\", \"ok\", \"ok\", \"old\", \"old\", \"old\", \"old\", \"old\", \"old\", \"one\", \"one\", \"one\", \"one\", \"one\", \"one\", \"one\", \"one\", \"one\", \"one\", \"open\", \"open\", \"open\", \"open\", \"open\", \"operating\", \"operating\", \"operating\", \"opportunity\", \"opportunity\", \"option\", \"option\", \"option\", \"option\", \"option\", \"option\", \"option\", \"option\", \"option\", \"option\", \"option\", \"option\", \"order\", \"order\", \"order\", \"order\", \"order\", \"order\", \"order\", \"order\", \"order\", \"order\", \"original\", \"original\", \"original\", \"outdoor\", \"outdoor\", \"outside\", \"outside\", \"overall\", \"overall\", \"overall\", \"overall\", \"overall\", \"overall\", \"overall\", \"overall\", \"overall\", \"overall\", \"overall\", \"overpriced\", \"overpriced\", \"overpriced\", \"own\", \"own\", \"own\", \"own\", \"own\", \"pack\", \"package\", \"package\", \"package\", \"package\", \"package\", \"packaging\", \"packaging\", \"page\", \"page\", \"page\", \"pain\", \"pain\", \"pair\", \"pair\", \"pandora\", \"paper\", \"paper\", \"paperwhite\", \"paperwhite\", \"parent\", \"parent\", \"parent\", \"parent\", \"parent\", \"parental\", \"pass\", \"pass\", \"pass\", \"pass\", \"pass\", \"pay\", \"pay\", \"pay\", \"pay\", \"pay\", \"pay\", \"pay\", \"pay\", \"pay\", \"pay\", \"pay\", \"pay\", \"pay\", \"pay\", \"penny\", \"penny\", \"perfect\", \"perfect\", \"perfect\", \"perfect\", \"perfect\", \"perfect\", \"perfect\", \"perfect\", \"perfect\", \"perfect\", \"perfect\", \"performance\", \"performance\", \"performance\", \"performance\", \"performance\", \"period\", \"person\", \"person\", \"person\", \"person\", \"person\", \"person\", \"person\", \"personal\", \"personal\", \"personally\", \"personally\", \"phone\", \"phone\", \"phone\", \"phone\", \"phone\", \"phone\", \"phone\", \"phone\", \"phone\", \"phone\", \"physical\", \"physical\", \"pic\", \"pic\", \"pic\", \"picture\", \"picture\", \"picture\", \"picture\", \"picture\", \"picture\", \"picture\", \"picture\", \"piece\", \"piece\", \"piece\", \"plan\", \"plan\", \"plan\", \"plan\", \"plan\", \"plan\", \"platform\", \"platform\", \"play\", \"play\", \"play\", \"play\", \"play\", \"play\", \"play\", \"play\", \"play\", \"player\", \"playing\", \"playing\", \"pleased\", \"pleased\", \"pleased\", \"pleased\", \"pleased\", \"pleased\", \"pleased\", \"plenty\", \"plenty\", \"plenty\", \"plenty\", \"plenty\", \"plug\", \"pocket\", \"pocket\", \"pocket\", \"point\", \"point\", \"point\", \"point\", \"point\", \"point\", \"point\", \"point\", \"port\", \"portability\", \"portability\", \"portability\", \"portable\", \"portable\", \"portable\", \"portable\", \"portable\", \"portable\", \"portable\", \"portable\", \"portable\", \"position\", \"position\", \"power\", \"power\", \"power\", \"power\", \"power\", \"power\", \"powered\", \"powered\", \"powerful\", \"powerful\", \"powerful\", \"preloade\", \"preloade\", \"preloade\", \"present\", \"press\", \"press\", \"pretty\", \"pretty\", \"pretty\", \"pretty\", \"pretty\", \"pretty\", \"pretty\", \"pretty\", \"pretty\", \"pretty\", \"previous\", \"previous\", \"previous\", \"previous\", \"previous\", \"previous\", \"previously\", \"previously\", \"previously\", \"previously\", \"previously\", \"previously\", \"price\", \"price\", \"price\", \"price\", \"price\", \"price\", \"price\", \"price\", \"price\", \"price\", \"price\", \"price\", \"price\", \"pricey\", \"pricey\", \"pricing\", \"primarily\", \"primarily\", \"primarily\", \"primarily\", \"primarily\", \"prime\", \"prime\", \"prime\", \"prime\", \"prime\", \"prime\", \"prime\", \"prime\", \"prize\", \"pro\", \"pro\", \"pro\", \"pro\", \"problem\", \"problem\", \"problem\", \"problem\", \"problem\", \"problem\", \"problem\", \"problem\", \"problem\", \"problem\", \"processing\", \"processor\", \"processor\", \"processor\", \"processor\", \"produce\", \"produce\", \"produce\", \"product\", \"product\", \"product\", \"product\", \"product\", \"product\", \"product\", \"product\", \"profile\", \"profile\", \"profile\", \"profile\", \"program\", \"program\", \"program\", \"program\", \"program\", \"program\", \"promise\", \"promise\", \"proof\", \"protect\", \"protect\", \"protect\", \"protective\", \"protective\", \"protective\", \"prove\", \"prove\", \"purchase\", \"purchase\", \"purchase\", \"purchase\", \"purchase\", \"purchase\", \"purchase\", \"purchase\", \"purchase\", \"purchase\", \"purchase\", \"purchase\", \"purchase\", \"purchase\", \"purchase\", \"purchase\", \"purse\", \"purse\", \"purse\", \"push\", \"push\", \"push\", \"quality\", \"quality\", \"quality\", \"quality\", \"quality\", \"quality\", \"quality\", \"quality\", \"quality\", \"quality\", \"quantity\", \"quantity\", \"question\", \"question\", \"question\", \"question\", \"question\", \"quick\", \"quick\", \"quick\", \"quick\", \"quick\", \"quick\", \"quiet\", \"quit\", \"r\", \"r\", \"r\", \"randomly\", \"range\", \"range\", \"range\", \"range\", \"rayovac\", \"reach\", \"reach\", \"reach\", \"read\", \"read\", \"read\", \"read\", \"read\", \"readable\", \"readable\", \"readable\", \"reader\", \"reader\", \"reader\", \"reading\", \"reading\", \"reading\", \"reading\", \"reading\", \"reading\", \"reading\", \"reading\", \"rear\", \"rear\", \"rear\", \"reasonable\", \"reasonable\", \"reasonable\", \"reasonable\", \"reasonable\", \"reasonable\", \"reboot\", \"reboot\", \"receive\", \"receive\", \"receive\", \"receive\", \"receive\", \"rechargeable\", \"recipient\", \"recommend\", \"recommend\", \"recommend\", \"recommend\", \"recommend\", \"recommend\", \"recommend\", \"recommend\", \"recommend\", \"recommend\", \"recommend\", \"refund\", \"refund\", \"refund\", \"refuse\", \"register\", \"register\", \"register\", \"remote\", \"replace\", \"replace\", \"replace\", \"replace\", \"replace\", \"replace\", \"replace\", \"replace\", \"replace\", \"replace\", \"replacement\", \"replacement\", \"replacement\", \"replacement\", \"replacement\", \"replacement\", \"replacement\", \"report\", \"report\", \"resolution\", \"resolution\", \"resolution\", \"resolution\", \"resolution\", \"respond\", \"respond\", \"response\", \"response\", \"response\", \"responsive\", \"responsive\", \"responsive\", \"responsive\", \"restriction\", \"restriction\", \"result\", \"return\", \"return\", \"return\", \"return\", \"return\", \"return\", \"return\", \"return\", \"review\", \"review\", \"review\", \"review\", \"review\", \"review\", \"review\", \"review\", \"review\", \"rid\", \"rid\", \"rid\", \"rid\", \"ride\", \"ride\", \"right\", \"right\", \"right\", \"right\", \"right\", \"right\", \"right\", \"right\", \"right\", \"right\", \"right\", \"right\", \"road\", \"road\", \"road\", \"rock\", \"rubber\", \"rubber\", \"rugged\", \"rugged\", \"run\", \"run\", \"run\", \"run\", \"run\", \"run\", \"run\", \"run\", \"run\", \"run\", \"run\", \"safe\", \"safe\", \"safe\", \"safe\", \"safety\", \"sale\", \"sale\", \"sale\", \"sale\", \"sale\", \"sale\", \"sale\", \"sale\", \"sale\", \"samsung\", \"samsung\", \"samsung\", \"samsung\", \"samsung\", \"samsung\", \"samsung\", \"save\", \"save\", \"save\", \"save\", \"save\", \"savvy\", \"savvy\", \"say\", \"say\", \"say\", \"say\", \"say\", \"say\", \"say\", \"say\", \"say\", \"say\", \"say\", \"say\", \"say\", \"say\", \"say\", \"say\", \"school\", \"school\", \"school\", \"school\", \"school\", \"screen\", \"screen\", \"screen\", \"screen\", \"screen\", \"screen\", \"screen\", \"screen\", \"screen\", \"screen\", \"screen\", \"screen\", \"screen\", \"screen\", \"sd\", \"secure\", \"secure\", \"select\", \"select\", \"select\", \"self\", \"self\", \"self\", \"self\", \"selling\", \"sensitive\", \"sensitive\", \"separately\", \"service\", \"service\", \"service\", \"service\", \"service\", \"service\", \"service\", \"set\", \"set\", \"set\", \"set\", \"set\", \"set\", \"set\", \"set\", \"set\", \"setup\", \"setup\", \"setup\", \"setup\", \"seven\", \"shade\", \"shape\", \"shape\", \"shape\", \"shape\", \"shape\", \"shipping\", \"shipping\", \"shop\", \"shop\", \"shop\", \"shop\", \"short\", \"short\", \"short\", \"short\", \"short\", \"short\", \"show\", \"show\", \"show\", \"show\", \"show\", \"show\", \"show\", \"shrink\", \"shut\", \"shut\", \"shut\", \"shut\", \"sibling\", \"side\", \"side\", \"side\", \"silk\", \"simple\", \"simple\", \"simple\", \"simple\", \"simple\", \"simple\", \"simple\", \"simple\", \"single\", \"single\", \"single\", \"sister\", \"sister\", \"sit\", \"sit\", \"sit\", \"sit\", \"situation\", \"situation\", \"size\", \"size\", \"size\", \"size\", \"size\", \"size\", \"size\", \"size\", \"size\", \"size\", \"size\", \"size\", \"sized\", \"sized\", \"sized\", \"skill\", \"skype\", \"skype\", \"sleeve\", \"slim\", \"slim\", \"slim\", \"slip\", \"slip\", \"slot\", \"slot\", \"slot\", \"slow\", \"slow\", \"slow\", \"slow\", \"slow\", \"slow\", \"slow\", \"slow\", \"small\", \"small\", \"small\", \"small\", \"small\", \"small\", \"small\", \"small\", \"smart\", \"smart\", \"smooth\", \"smooth\", \"snappy\", \"social\", \"social\", \"social\", \"solid\", \"solid\", \"solid\", \"son\", \"son\", \"son\", \"son\", \"son\", \"son\", \"son\", \"son\", \"son\", \"song\", \"sort\", \"sort\", \"sort\", \"sound\", \"sound\", \"sound\", \"sound\", \"sound\", \"sound\", \"sound\", \"sound\", \"space\", \"space\", \"space\", \"space\", \"space\", \"space\", \"space\", \"space\", \"space\", \"span\", \"span\", \"speak\", \"speak\", \"speak\", \"speak\", \"speaker\", \"speaker\", \"speaker\", \"speaker\", \"speaker\", \"spec\", \"spec\", \"speed\", \"speed\", \"speed\", \"speed\", \"speed\", \"speedy\", \"speedy\", \"spot\", \"spot\", \"spot\", \"spot\", \"squad\", \"staff\", \"staff\", \"stand\", \"stand\", \"stand\", \"stand\", \"stand\", \"start\", \"start\", \"start\", \"start\", \"start\", \"start\", \"start\", \"start\", \"start\", \"start\", \"start\", \"stay\", \"stay\", \"stay\", \"stay\", \"steal\", \"steal\", \"step\", \"step\", \"step\", \"step\", \"step\", \"stereo\", \"stop\", \"stop\", \"stop\", \"stop\", \"stop\", \"stop\", \"stop\", \"stop\", \"storage\", \"storage\", \"storage\", \"storage\", \"store\", \"store\", \"store\", \"store\", \"store\", \"store\", \"store\", \"store\", \"store\", \"store\", \"store\", \"store\", \"store\", \"story\", \"story\", \"strain\", \"streaming\", \"streaming\", \"streaming\", \"string\", \"strong\", \"strong\", \"student\", \"student\", \"stuff\", \"stuff\", \"stuff\", \"stuff\", \"stuff\", \"stuff\", \"stuff\", \"suck\", \"suck\", \"sufficient\", \"sunlight\", \"sunlight\", \"superb\", \"superb\", \"supply\", \"support\", \"support\", \"support\", \"support\", \"support\", \"surf\", \"surf\", \"surfing\", \"surfing\", \"surfing\", \"surprised\", \"surprised\", \"surprised\", \"surprised\", \"surprised\", \"surprised\", \"swipe\", \"system\", \"system\", \"system\", \"system\", \"system\", \"system\", \"system\", \"system\", \"tablet\", \"tablet\", \"tablet\", \"tablet\", \"tablet\", \"tablet\", \"tablet\", \"tablet\", \"tablet\", \"tablet\", \"tablet\", \"tablet\", \"tablet\", \"tablet\", \"tablet\", \"tablet\", \"tablet\", \"tablets\", \"tablets\", \"tablets\", \"tablets\", \"take\", \"take\", \"take\", \"take\", \"take\", \"take\", \"take\", \"take\", \"take\", \"take\", \"take\", \"take\", \"take\", \"take\", \"take\", \"tap\", \"tap\", \"target\", \"target\", \"task\", \"task\", \"task\", \"tear\", \"tear\", \"tech\", \"tech\", \"tech\", \"tech\", \"tech\", \"technical\", \"technical\", \"technical\", \"teen\", \"teen\", \"teen\", \"teen\", \"teenage\", \"teenager\", \"tend\", \"tend\", \"term\", \"term\", \"test\", \"test\", \"test\", \"textbook\", \"thank\", \"thing\", \"thing\", \"thing\", \"thing\", \"thing\", \"thing\", \"thing\", \"thing\", \"thing\", \"thing\", \"thing\", \"thing\", \"thing\", \"thing\", \"thing\", \"thing\", \"thing\", \"think\", \"think\", \"think\", \"think\", \"think\", \"think\", \"think\", \"think\", \"think\", \"think\", \"think\", \"think\", \"think\", \"think\", \"think\", \"think\", \"thoroughly\", \"thoroughly\", \"thought\", \"thought\", \"thousand\", \"thousand\", \"tie\", \"tie\", \"tie\", \"till\", \"till\", \"till\", \"time\", \"time\", \"time\", \"time\", \"time\", \"time\", \"time\", \"time\", \"time\", \"time\", \"time\", \"time\", \"time\", \"time\", \"time\", \"time\", \"time\", \"time\", \"toddler\", \"toddler\", \"toddler\", \"toddler\", \"toddler\", \"toddler\", \"tool\", \"tool\", \"tool\", \"tool\", \"touchscreen\", \"touchscreen\", \"toy\", \"toy\", \"toy\", \"toy\", \"track\", \"travel\", \"travel\", \"travel\", \"travel\", \"travel\", \"travel\", \"travel\", \"trip\", \"trip\", \"truly\", \"truly\", \"truly\", \"try\", \"try\", \"try\", \"try\", \"try\", \"try\", \"try\", \"try\", \"try\", \"try\", \"try\", \"tube\", \"tube\", \"tube\", \"turn\", \"turn\", \"turn\", \"turn\", \"turn\", \"turn\", \"turn\", \"turn\", \"turn\", \"tv\", \"tv\", \"tv\", \"tv\", \"tv\", \"tv\", \"tv\", \"unable\", \"unable\", \"unable\", \"unbeatable\", \"unbeatable\", \"unbelievable\", \"unbelievable\", \"unbelievable\", \"underground\", \"underground\", \"unlock\", \"unlock\", \"unwanted\", \"unwanted\", \"update\", \"update\", \"update\", \"update\", \"update\", \"update\", \"upgrade\", \"upgrade\", \"upgrade\", \"upload\", \"upload\", \"usb\", \"use\", \"use\", \"use\", \"use\", \"use\", \"use\", \"use\", \"use\", \"use\", \"use\", \"use\", \"use\", \"use\", \"use\", \"use\", \"use\", \"use\", \"user\", \"user\", \"user\", \"user\", \"user\", \"usual\", \"usual\", \"usual\", \"vacation\", \"vacation\", \"value\", \"value\", \"value\", \"value\", \"value\", \"versatility\", \"versatility\", \"version\", \"version\", \"version\", \"version\", \"version\", \"version\", \"vibrant\", \"vibrant\", \"video\", \"video\", \"video\", \"video\", \"video\", \"video\", \"video\", \"video\", \"video\", \"video\", \"view\", \"view\", \"view\", \"view\", \"view\", \"viewing\", \"viewing\", \"visual\", \"visual\", \"visual\", \"voice\", \"voice\", \"voltage\", \"voyage\", \"want\", \"want\", \"want\", \"want\", \"want\", \"want\", \"want\", \"want\", \"want\", \"want\", \"want\", \"want\", \"want\", \"want\", \"want\", \"want\", \"want\", \"want\", \"warranty\", \"warranty\", \"warranty\", \"warranty\", \"warranty\", \"warranty\", \"warranty\", \"warranty\", \"watch\", \"watch\", \"watch\", \"watch\", \"watch\", \"watch\", \"watching\", \"watching\", \"web\", \"web\", \"web\", \"web\", \"website\", \"website\", \"website\", \"website\", \"week\", \"week\", \"week\", \"week\", \"week\", \"week\", \"week\", \"week\", \"week\", \"week\", \"weigh\", \"weigh\", \"weight\", \"weight\", \"well\", \"well\", \"well\", \"well\", \"well\", \"well\", \"well\", \"well\", \"well\", \"well\", \"well\", \"well\", \"well\", \"well\", \"well\", \"white\", \"white\", \"white\", \"white\", \"wi\", \"wi\", \"wife\", \"wife\", \"wife\", \"wife\", \"wifi\", \"wifi\", \"wifi\", \"will\", \"will\", \"will\", \"will\", \"will\", \"will\", \"will\", \"will\", \"will\", \"win\", \"win\", \"win\", \"winner\", \"winner\", \"winner\", \"wish\", \"wish\", \"wish\", \"wish\", \"wish\", \"wish\", \"wish\", \"wish\", \"wish\", \"wonderfully\", \"word\", \"work\", \"work\", \"work\", \"work\", \"work\", \"work\", \"work\", \"work\", \"work\", \"work\", \"work\", \"work\", \"work\", \"work\", \"work\", \"world\", \"world\", \"world\", \"world\", \"worried\", \"worried\", \"worry\", \"worry\", \"worry\", \"worry\", \"worry\", \"worth\", \"worth\", \"worth\", \"worth\", \"worth\", \"worth\", \"worth\", \"worth\", \"wrap\", \"wrap\", \"wrap\", \"wrong\", \"wrong\", \"wrong\", \"wrong\", \"wrong\", \"wrong\", \"xmas\", \"xmas\", \"year\", \"year\", \"year\", \"year\", \"year\", \"year\", \"year\", \"year\", \"young\", \"young\", \"young\", \"young\", \"young\", \"youtube\", \"youtube\", \"youtube\", \"youtube\", \"youtube\", \"youtube\", \"yr\", \"yr\", \"yr\", \"yrs\", \"yrs\"]}, \"R\": 30, \"lambda.step\": 0.01, \"plot.opts\": {\"xlab\": \"PC1\", \"ylab\": \"PC2\"}, \"topic.order\": [1, 7, 17, 3, 18, 11, 5, 4, 8, 12, 6, 14, 15, 20, 13, 2, 9, 16, 10, 19]};\n",
       "\n",
       "function LDAvis_load_lib(url, callback){\n",
       "  var s = document.createElement('script');\n",
       "  s.src = url;\n",
       "  s.async = true;\n",
       "  s.onreadystatechange = s.onload = callback;\n",
       "  s.onerror = function(){console.warn(\"failed to load library \" + url);};\n",
       "  document.getElementsByTagName(\"head\")[0].appendChild(s);\n",
       "}\n",
       "\n",
       "if(typeof(LDAvis) !== \"undefined\"){\n",
       "   // already loaded: just create the visualization\n",
       "   !function(LDAvis){\n",
       "       new LDAvis(\"#\" + \"ldavis_el1064816658045061207795539395\", ldavis_el1064816658045061207795539395_data);\n",
       "   }(LDAvis);\n",
       "}else if(typeof define === \"function\" && define.amd){\n",
       "   // require.js is available: use it to load d3/LDAvis\n",
       "   require.config({paths: {d3: \"https://cdnjs.cloudflare.com/ajax/libs/d3/3.5.5/d3.min\"}});\n",
       "   require([\"d3\"], function(d3){\n",
       "      window.d3 = d3;\n",
       "      LDAvis_load_lib(\"https://cdn.rawgit.com/bmabey/pyLDAvis/files/ldavis.v1.0.0.js\", function(){\n",
       "        new LDAvis(\"#\" + \"ldavis_el1064816658045061207795539395\", ldavis_el1064816658045061207795539395_data);\n",
       "      });\n",
       "    });\n",
       "}else{\n",
       "    // require.js not available: dynamically load d3 & LDAvis\n",
       "    LDAvis_load_lib(\"https://cdnjs.cloudflare.com/ajax/libs/d3/3.5.5/d3.min.js\", function(){\n",
       "         LDAvis_load_lib(\"https://cdn.rawgit.com/bmabey/pyLDAvis/files/ldavis.v1.0.0.js\", function(){\n",
       "                 new LDAvis(\"#\" + \"ldavis_el1064816658045061207795539395\", ldavis_el1064816658045061207795539395_data);\n",
       "            })\n",
       "         });\n",
       "}\n",
       "</script>"
      ],
      "text/plain": [
       "PreparedData(topic_coordinates=              x         y  topics  cluster       Freq\n",
       "topic                                                \n",
       "0     -0.191106  0.129967       1        1  15.375137\n",
       "6      0.159476 -0.008649       2        1   7.541356\n",
       "16    -0.276434  0.177818       3        1   6.759451\n",
       "2      0.134676  0.009383       4        1   5.521235\n",
       "17     0.175831 -0.108599       5        1   5.500759\n",
       "10    -0.176479  0.019962       6        1   5.145629\n",
       "4     -0.014236 -0.056083       7        1   5.138543\n",
       "3     -0.025962 -0.091998       8        1   4.754666\n",
       "7     -0.158783 -0.102601       9        1   4.604614\n",
       "11     0.220180  0.124026      10        1   4.524179\n",
       "5     -0.071180 -0.119776      11        1   4.015865\n",
       "13    -0.076530  0.130341      12        1   3.975396\n",
       "14     0.257560  0.000670      13        1   3.862189\n",
       "19    -0.006940 -0.077392      14        1   3.638023\n",
       "12    -0.038616 -0.197990      15        1   3.535487\n",
       "1     -0.030794 -0.134640      16        1   3.404905\n",
       "8      0.198345  0.191985      17        1   3.396134\n",
       "15    -0.070675  0.061396      18        1   3.121246\n",
       "9      0.012134  0.190647      19        1   3.106186\n",
       "18    -0.020468 -0.138467      20        1   3.079000, topic_info=         Term         Freq        Total Category  logprob  loglift\n",
       "2     battery  8010.000000  8010.000000  Default  30.0000  30.0000\n",
       "73       love  4884.000000  4884.000000  Default  29.0000  29.0000\n",
       "396       old  2436.000000  2436.000000  Default  28.0000  28.0000\n",
       "84       year  2179.000000  2179.000000  Default  27.0000  27.0000\n",
       "19       long  2521.000000  2521.000000  Default  26.0000  26.0000\n",
       "...       ...          ...          ...      ...      ...      ...\n",
       "65        get   105.385202  1354.560170  Topic20  -4.3792   0.9270\n",
       "1111  feature    73.727859   772.064640  Topic20  -4.7364   1.1319\n",
       "333   awesome    62.776343   417.068327  Topic20  -4.8972   1.5869\n",
       "6     quality    65.204598  1085.051184  Topic20  -4.8593   0.6687\n",
       "24        buy    64.236449  3855.712086  Topic20  -4.8742  -0.6142\n",
       "\n",
       "[1169 rows x 6 columns], token_table=      Topic      Freq Term\n",
       "term                      \n",
       "1351      7  0.096432    $\n",
       "1351     10  0.002296    $\n",
       "1351     11  0.183680    $\n",
       "1351     12  0.034440    $\n",
       "1351     14  0.036736    $\n",
       "...     ...       ...  ...\n",
       "806       2  0.020758   yr\n",
       "806      10  0.851062   yr\n",
       "806      13  0.128697   yr\n",
       "1438      2  0.486262  yrs\n",
       "1438     17  0.486262  yrs\n",
       "\n",
       "[3621 rows x 3 columns], R=30, lambda_step=0.01, plot_opts={'xlab': 'PC1', 'ylab': 'PC2'}, topic_order=[1, 7, 17, 3, 18, 11, 5, 4, 8, 12, 6, 14, 15, 20, 13, 2, 9, 16, 10, 19])"
      ]
     },
     "execution_count": 95,
     "metadata": {},
     "output_type": "execute_result"
    }
   ],
   "source": [
    "pyLDAvis.gensim.prepare(lda, corpus, id2word)"
   ]
  },
  {
   "cell_type": "code",
   "execution_count": 96,
   "metadata": {},
   "outputs": [
    {
     "name": "stderr",
     "output_type": "stream",
     "text": [
      "C:\\Users\\lomopa\\anaconda3\\envs\\U4-S1-NLP\\lib\\site-packages\\ipykernel\\ipkernel.py:287: DeprecationWarning: `should_run_async` will not call `transform_cell` automatically in the future. Please pass the result to `transformed_cell` argument and any exception that happen during thetransform in `preprocessing_exc_tuple` in IPython 7.17 and above.\n",
      "  and should_run_async(code)\n"
     ]
    }
   ],
   "source": [
    "distro = [lda[doc] for doc in corpus]"
   ]
  },
  {
   "cell_type": "code",
   "execution_count": 98,
   "metadata": {},
   "outputs": [
    {
     "name": "stderr",
     "output_type": "stream",
     "text": [
      "C:\\Users\\lomopa\\anaconda3\\envs\\U4-S1-NLP\\lib\\site-packages\\ipykernel\\ipkernel.py:287: DeprecationWarning: `should_run_async` will not call `transform_cell` automatically in the future. Please pass the result to `transformed_cell` argument and any exception that happen during thetransform in `preprocessing_exc_tuple` in IPython 7.17 and above.\n",
      "  and should_run_async(code)\n"
     ]
    },
    {
     "data": {
      "text/plain": [
       "[(0, 0.5359023), (3, 0.2321609), (7, 0.13747545)]"
      ]
     },
     "execution_count": 98,
     "metadata": {},
     "output_type": "execute_result"
    }
   ],
   "source": [
    "distro[0]"
   ]
  },
  {
   "cell_type": "code",
   "execution_count": 99,
   "metadata": {},
   "outputs": [
    {
     "name": "stderr",
     "output_type": "stream",
     "text": [
      "C:\\Users\\lomopa\\anaconda3\\envs\\U4-S1-NLP\\lib\\site-packages\\ipykernel\\ipkernel.py:287: DeprecationWarning: `should_run_async` will not call `transform_cell` automatically in the future. Please pass the result to `transformed_cell` argument and any exception that happen during thetransform in `preprocessing_exc_tuple` in IPython 7.17 and above.\n",
      "  and should_run_async(code)\n"
     ]
    }
   ],
   "source": [
    "def update(doc):\n",
    "    d_dist = {k:0 for k in range(0,20)}\n",
    "    for t in doc:\n",
    "        d_dist[t[0]] = t[1]\n",
    "    return d_dist\n",
    "\n",
    "new_distro = [update(doc) for doc in distro] "
   ]
  },
  {
   "cell_type": "code",
   "execution_count": 100,
   "metadata": {},
   "outputs": [
    {
     "name": "stderr",
     "output_type": "stream",
     "text": [
      "C:\\Users\\lomopa\\anaconda3\\envs\\U4-S1-NLP\\lib\\site-packages\\ipykernel\\ipkernel.py:287: DeprecationWarning: `should_run_async` will not call `transform_cell` automatically in the future. Please pass the result to `transformed_cell` argument and any exception that happen during thetransform in `preprocessing_exc_tuple` in IPython 7.17 and above.\n",
      "  and should_run_async(code)\n"
     ]
    }
   ],
   "source": [
    "topics = pd.DataFrame.from_records(new_distro)\n",
    "topics.columns = topic_labels"
   ]
  },
  {
   "cell_type": "code",
   "execution_count": 101,
   "metadata": {},
   "outputs": [
    {
     "name": "stderr",
     "output_type": "stream",
     "text": [
      "C:\\Users\\lomopa\\anaconda3\\envs\\U4-S1-NLP\\lib\\site-packages\\ipykernel\\ipkernel.py:287: DeprecationWarning: `should_run_async` will not call `transform_cell` automatically in the future. Please pass the result to `transformed_cell` argument and any exception that happen during thetransform in `preprocessing_exc_tuple` in IPython 7.17 and above.\n",
      "  and should_run_async(code)\n"
     ]
    },
    {
     "data": {
      "text/html": [
       "<div>\n",
       "<style scoped>\n",
       "    .dataframe tbody tr th:only-of-type {\n",
       "        vertical-align: middle;\n",
       "    }\n",
       "\n",
       "    .dataframe tbody tr th {\n",
       "        vertical-align: top;\n",
       "    }\n",
       "\n",
       "    .dataframe thead th {\n",
       "        text-align: right;\n",
       "    }\n",
       "</style>\n",
       "<table border=\"1\" class=\"dataframe\">\n",
       "  <thead>\n",
       "    <tr style=\"text-align: right;\">\n",
       "      <th></th>\n",
       "      <th>\"battery\", \"amazon\", \"buy\", \"use\", \"work\"</th>\n",
       "      <th>\"ipad\", \"tablet\", \"app\", \"need\", \"amazon\"</th>\n",
       "      <th>\"read\", \"book\", \"kindle\", \"light\", \"reader\"</th>\n",
       "      <th>\"app\", \"device\", \"screen\", \"wifi\", \"home\"</th>\n",
       "      <th>\"kindle\", \"fire\", \"screen\", \"hd\", \"new\"</th>\n",
       "      <th>\"app\", \"google\", \"amazon\", \"play\", \"good\"</th>\n",
       "      <th>\"kid\", \"tablet\", \"child\", \"great\", \"love\"</th>\n",
       "      <th>\"good\", \"price\", \"tablet\", \"quality\", \"money\"</th>\n",
       "      <th>\"love\", \"gift\", \"christmas\", \"tablet\", \"great\"</th>\n",
       "      <th>\"charge\", \"problem\", \"time\", \"buy\", \"break\"</th>\n",
       "      <th>\"great\", \"price\", \"product\", \"recommend\", \"work\"</th>\n",
       "      <th>\"old\", \"year\", \"love\", \"son\", \"tablet\"</th>\n",
       "      <th>\"tablet\", \"nice\", \"great\", \"storage\", \"fast\"</th>\n",
       "      <th>\"buy\", \"good\", \"thank\", \"need\", \"product\"</th>\n",
       "      <th>\"game\", \"play\", \"love\", \"watch\", \"movie\"</th>\n",
       "      <th>\"fast\", \"good\", \"work\", \"purchase\", \"pleased\"</th>\n",
       "      <th>\"battery\", \"long\", \"brand\", \"life\", \"good\"</th>\n",
       "      <th>\"use\", \"easy\", \"tablet\", \"great\", \"read\"</th>\n",
       "      <th>\"tablet\", \"great\", \"price\", \"amazon\", \"black\"</th>\n",
       "      <th>\"tablet\", \"amazon\", \"card\", \"memory\", \"account\"</th>\n",
       "    </tr>\n",
       "  </thead>\n",
       "  <tbody>\n",
       "    <tr>\n",
       "      <th>0</th>\n",
       "      <td>0.535902</td>\n",
       "      <td>0.0000</td>\n",
       "      <td>0.0000</td>\n",
       "      <td>0.232161</td>\n",
       "      <td>0.0000</td>\n",
       "      <td>0.0000</td>\n",
       "      <td>0.0000</td>\n",
       "      <td>0.137475</td>\n",
       "      <td>0.000000</td>\n",
       "      <td>0.0000</td>\n",
       "      <td>0.000000</td>\n",
       "      <td>0.0000</td>\n",
       "      <td>0.0000</td>\n",
       "      <td>0.0000</td>\n",
       "      <td>0.0000</td>\n",
       "      <td>0.0000</td>\n",
       "      <td>0.000000</td>\n",
       "      <td>0.0000</td>\n",
       "      <td>0.0000</td>\n",
       "      <td>0.0000</td>\n",
       "    </tr>\n",
       "    <tr>\n",
       "      <th>1</th>\n",
       "      <td>0.010000</td>\n",
       "      <td>0.0100</td>\n",
       "      <td>0.0100</td>\n",
       "      <td>0.010000</td>\n",
       "      <td>0.0100</td>\n",
       "      <td>0.0100</td>\n",
       "      <td>0.0100</td>\n",
       "      <td>0.010000</td>\n",
       "      <td>0.010000</td>\n",
       "      <td>0.0100</td>\n",
       "      <td>0.248612</td>\n",
       "      <td>0.0100</td>\n",
       "      <td>0.0100</td>\n",
       "      <td>0.0100</td>\n",
       "      <td>0.0100</td>\n",
       "      <td>0.0100</td>\n",
       "      <td>0.571384</td>\n",
       "      <td>0.0100</td>\n",
       "      <td>0.0100</td>\n",
       "      <td>0.0100</td>\n",
       "    </tr>\n",
       "    <tr>\n",
       "      <th>2</th>\n",
       "      <td>0.012500</td>\n",
       "      <td>0.0125</td>\n",
       "      <td>0.0125</td>\n",
       "      <td>0.012500</td>\n",
       "      <td>0.0125</td>\n",
       "      <td>0.0125</td>\n",
       "      <td>0.0125</td>\n",
       "      <td>0.012500</td>\n",
       "      <td>0.164172</td>\n",
       "      <td>0.0125</td>\n",
       "      <td>0.012500</td>\n",
       "      <td>0.0125</td>\n",
       "      <td>0.0125</td>\n",
       "      <td>0.0125</td>\n",
       "      <td>0.0125</td>\n",
       "      <td>0.0125</td>\n",
       "      <td>0.610824</td>\n",
       "      <td>0.0125</td>\n",
       "      <td>0.0125</td>\n",
       "      <td>0.0125</td>\n",
       "    </tr>\n",
       "    <tr>\n",
       "      <th>3</th>\n",
       "      <td>0.000000</td>\n",
       "      <td>0.0000</td>\n",
       "      <td>0.0000</td>\n",
       "      <td>0.000000</td>\n",
       "      <td>0.0000</td>\n",
       "      <td>0.0000</td>\n",
       "      <td>0.0000</td>\n",
       "      <td>0.000000</td>\n",
       "      <td>0.000000</td>\n",
       "      <td>0.0000</td>\n",
       "      <td>0.000000</td>\n",
       "      <td>0.0000</td>\n",
       "      <td>0.0000</td>\n",
       "      <td>0.0000</td>\n",
       "      <td>0.0000</td>\n",
       "      <td>0.0000</td>\n",
       "      <td>0.841666</td>\n",
       "      <td>0.0000</td>\n",
       "      <td>0.0000</td>\n",
       "      <td>0.0000</td>\n",
       "    </tr>\n",
       "    <tr>\n",
       "      <th>4</th>\n",
       "      <td>0.010000</td>\n",
       "      <td>0.0100</td>\n",
       "      <td>0.0100</td>\n",
       "      <td>0.010000</td>\n",
       "      <td>0.0100</td>\n",
       "      <td>0.0100</td>\n",
       "      <td>0.0100</td>\n",
       "      <td>0.010000</td>\n",
       "      <td>0.010000</td>\n",
       "      <td>0.0100</td>\n",
       "      <td>0.250004</td>\n",
       "      <td>0.0100</td>\n",
       "      <td>0.0100</td>\n",
       "      <td>0.0100</td>\n",
       "      <td>0.0100</td>\n",
       "      <td>0.0100</td>\n",
       "      <td>0.569995</td>\n",
       "      <td>0.0100</td>\n",
       "      <td>0.0100</td>\n",
       "      <td>0.0100</td>\n",
       "    </tr>\n",
       "  </tbody>\n",
       "</table>\n",
       "</div>"
      ],
      "text/plain": [
       "   \"battery\", \"amazon\", \"buy\", \"use\", \"work\"  \\\n",
       "0                                   0.535902   \n",
       "1                                   0.010000   \n",
       "2                                   0.012500   \n",
       "3                                   0.000000   \n",
       "4                                   0.010000   \n",
       "\n",
       "   \"ipad\", \"tablet\", \"app\", \"need\", \"amazon\"  \\\n",
       "0                                     0.0000   \n",
       "1                                     0.0100   \n",
       "2                                     0.0125   \n",
       "3                                     0.0000   \n",
       "4                                     0.0100   \n",
       "\n",
       "   \"read\", \"book\", \"kindle\", \"light\", \"reader\"  \\\n",
       "0                                       0.0000   \n",
       "1                                       0.0100   \n",
       "2                                       0.0125   \n",
       "3                                       0.0000   \n",
       "4                                       0.0100   \n",
       "\n",
       "   \"app\", \"device\", \"screen\", \"wifi\", \"home\"  \\\n",
       "0                                   0.232161   \n",
       "1                                   0.010000   \n",
       "2                                   0.012500   \n",
       "3                                   0.000000   \n",
       "4                                   0.010000   \n",
       "\n",
       "   \"kindle\", \"fire\", \"screen\", \"hd\", \"new\"  \\\n",
       "0                                   0.0000   \n",
       "1                                   0.0100   \n",
       "2                                   0.0125   \n",
       "3                                   0.0000   \n",
       "4                                   0.0100   \n",
       "\n",
       "   \"app\", \"google\", \"amazon\", \"play\", \"good\"  \\\n",
       "0                                     0.0000   \n",
       "1                                     0.0100   \n",
       "2                                     0.0125   \n",
       "3                                     0.0000   \n",
       "4                                     0.0100   \n",
       "\n",
       "   \"kid\", \"tablet\", \"child\", \"great\", \"love\"  \\\n",
       "0                                     0.0000   \n",
       "1                                     0.0100   \n",
       "2                                     0.0125   \n",
       "3                                     0.0000   \n",
       "4                                     0.0100   \n",
       "\n",
       "   \"good\", \"price\", \"tablet\", \"quality\", \"money\"  \\\n",
       "0                                       0.137475   \n",
       "1                                       0.010000   \n",
       "2                                       0.012500   \n",
       "3                                       0.000000   \n",
       "4                                       0.010000   \n",
       "\n",
       "   \"love\", \"gift\", \"christmas\", \"tablet\", \"great\"  \\\n",
       "0                                        0.000000   \n",
       "1                                        0.010000   \n",
       "2                                        0.164172   \n",
       "3                                        0.000000   \n",
       "4                                        0.010000   \n",
       "\n",
       "   \"charge\", \"problem\", \"time\", \"buy\", \"break\"  \\\n",
       "0                                       0.0000   \n",
       "1                                       0.0100   \n",
       "2                                       0.0125   \n",
       "3                                       0.0000   \n",
       "4                                       0.0100   \n",
       "\n",
       "   \"great\", \"price\", \"product\", \"recommend\", \"work\"  \\\n",
       "0                                          0.000000   \n",
       "1                                          0.248612   \n",
       "2                                          0.012500   \n",
       "3                                          0.000000   \n",
       "4                                          0.250004   \n",
       "\n",
       "   \"old\", \"year\", \"love\", \"son\", \"tablet\"  \\\n",
       "0                                  0.0000   \n",
       "1                                  0.0100   \n",
       "2                                  0.0125   \n",
       "3                                  0.0000   \n",
       "4                                  0.0100   \n",
       "\n",
       "   \"tablet\", \"nice\", \"great\", \"storage\", \"fast\"  \\\n",
       "0                                        0.0000   \n",
       "1                                        0.0100   \n",
       "2                                        0.0125   \n",
       "3                                        0.0000   \n",
       "4                                        0.0100   \n",
       "\n",
       "   \"buy\", \"good\", \"thank\", \"need\", \"product\"  \\\n",
       "0                                     0.0000   \n",
       "1                                     0.0100   \n",
       "2                                     0.0125   \n",
       "3                                     0.0000   \n",
       "4                                     0.0100   \n",
       "\n",
       "   \"game\", \"play\", \"love\", \"watch\", \"movie\"  \\\n",
       "0                                    0.0000   \n",
       "1                                    0.0100   \n",
       "2                                    0.0125   \n",
       "3                                    0.0000   \n",
       "4                                    0.0100   \n",
       "\n",
       "   \"fast\", \"good\", \"work\", \"purchase\", \"pleased\"  \\\n",
       "0                                         0.0000   \n",
       "1                                         0.0100   \n",
       "2                                         0.0125   \n",
       "3                                         0.0000   \n",
       "4                                         0.0100   \n",
       "\n",
       "   \"battery\", \"long\", \"brand\", \"life\", \"good\"  \\\n",
       "0                                    0.000000   \n",
       "1                                    0.571384   \n",
       "2                                    0.610824   \n",
       "3                                    0.841666   \n",
       "4                                    0.569995   \n",
       "\n",
       "   \"use\", \"easy\", \"tablet\", \"great\", \"read\"  \\\n",
       "0                                    0.0000   \n",
       "1                                    0.0100   \n",
       "2                                    0.0125   \n",
       "3                                    0.0000   \n",
       "4                                    0.0100   \n",
       "\n",
       "   \"tablet\", \"great\", \"price\", \"amazon\", \"black\"  \\\n",
       "0                                         0.0000   \n",
       "1                                         0.0100   \n",
       "2                                         0.0125   \n",
       "3                                         0.0000   \n",
       "4                                         0.0100   \n",
       "\n",
       "   \"tablet\", \"amazon\", \"card\", \"memory\", \"account\"  \n",
       "0                                           0.0000  \n",
       "1                                           0.0100  \n",
       "2                                           0.0125  \n",
       "3                                           0.0000  \n",
       "4                                           0.0100  "
      ]
     },
     "execution_count": 101,
     "metadata": {},
     "output_type": "execute_result"
    }
   ],
   "source": [
    "topics.head()"
   ]
  },
  {
   "cell_type": "code",
   "execution_count": 102,
   "metadata": {},
   "outputs": [
    {
     "name": "stderr",
     "output_type": "stream",
     "text": [
      "C:\\Users\\lomopa\\anaconda3\\envs\\U4-S1-NLP\\lib\\site-packages\\ipykernel\\ipkernel.py:287: DeprecationWarning: `should_run_async` will not call `transform_cell` automatically in the future. Please pass the result to `transformed_cell` argument and any exception that happen during thetransform in `preprocessing_exc_tuple` in IPython 7.17 and above.\n",
      "  and should_run_async(code)\n"
     ]
    }
   ],
   "source": [
    "df['primary_topic'] = topics.idxmax(axis=1)"
   ]
  },
  {
   "cell_type": "code",
   "execution_count": 103,
   "metadata": {},
   "outputs": [
    {
     "name": "stderr",
     "output_type": "stream",
     "text": [
      "C:\\Users\\lomopa\\anaconda3\\envs\\U4-S1-NLP\\lib\\site-packages\\ipykernel\\ipkernel.py:287: DeprecationWarning: `should_run_async` will not call `transform_cell` automatically in the future. Please pass the result to `transformed_cell` argument and any exception that happen during thetransform in `preprocessing_exc_tuple` in IPython 7.17 and above.\n",
      "  and should_run_async(code)\n"
     ]
    },
    {
     "data": {
      "text/html": [
       "<div>\n",
       "<style scoped>\n",
       "    .dataframe tbody tr th:only-of-type {\n",
       "        vertical-align: middle;\n",
       "    }\n",
       "\n",
       "    .dataframe tbody tr th {\n",
       "        vertical-align: top;\n",
       "    }\n",
       "\n",
       "    .dataframe thead th {\n",
       "        text-align: right;\n",
       "    }\n",
       "</style>\n",
       "<table border=\"1\" class=\"dataframe\">\n",
       "  <thead>\n",
       "    <tr style=\"text-align: right;\">\n",
       "      <th></th>\n",
       "      <th>id</th>\n",
       "      <th>dateAdded</th>\n",
       "      <th>dateUpdated</th>\n",
       "      <th>name</th>\n",
       "      <th>asins</th>\n",
       "      <th>brand</th>\n",
       "      <th>categories</th>\n",
       "      <th>primaryCategories</th>\n",
       "      <th>imageURLs</th>\n",
       "      <th>keys</th>\n",
       "      <th>...</th>\n",
       "      <th>reviews.doRecommend</th>\n",
       "      <th>reviews.id</th>\n",
       "      <th>reviews.numHelpful</th>\n",
       "      <th>reviews.rating</th>\n",
       "      <th>reviews.sourceURLs</th>\n",
       "      <th>reviews.text</th>\n",
       "      <th>reviews.title</th>\n",
       "      <th>reviews.username</th>\n",
       "      <th>sourceURLs</th>\n",
       "      <th>primary_topic</th>\n",
       "    </tr>\n",
       "  </thead>\n",
       "  <tbody>\n",
       "    <tr>\n",
       "      <th>0</th>\n",
       "      <td>AVpgNzjwLJeJML43Kpxn</td>\n",
       "      <td>2015-10-30T08:59:32Z</td>\n",
       "      <td>2019-04-25T09:08:16Z</td>\n",
       "      <td>AmazonBasics AAA Performance Alkaline Batterie...</td>\n",
       "      <td>B00QWO9P0O,B00LH3DMUO</td>\n",
       "      <td>Amazonbasics</td>\n",
       "      <td>AA,AAA,Health,Electronics,Health &amp; Household,C...</td>\n",
       "      <td>Health &amp; Beauty</td>\n",
       "      <td>https://images-na.ssl-images-amazon.com/images...</td>\n",
       "      <td>amazonbasics/hl002619,amazonbasicsaaaperforman...</td>\n",
       "      <td>...</td>\n",
       "      <td>NaN</td>\n",
       "      <td>NaN</td>\n",
       "      <td>NaN</td>\n",
       "      <td>3</td>\n",
       "      <td>https://www.amazon.com/product-reviews/B00QWO9...</td>\n",
       "      <td>[item, bad, quality, miss, backup, spring, pc,...</td>\n",
       "      <td>... 3 of them and one of the item is bad quali...</td>\n",
       "      <td>Byger yang</td>\n",
       "      <td>https://www.barcodable.com/upc/841710106442,ht...</td>\n",
       "      <td>\"battery\", \"amazon\", \"buy\", \"use\", \"work\"</td>\n",
       "    </tr>\n",
       "    <tr>\n",
       "      <th>1</th>\n",
       "      <td>AVpgNzjwLJeJML43Kpxn</td>\n",
       "      <td>2015-10-30T08:59:32Z</td>\n",
       "      <td>2019-04-25T09:08:16Z</td>\n",
       "      <td>AmazonBasics AAA Performance Alkaline Batterie...</td>\n",
       "      <td>B00QWO9P0O,B00LH3DMUO</td>\n",
       "      <td>Amazonbasics</td>\n",
       "      <td>AA,AAA,Health,Electronics,Health &amp; Household,C...</td>\n",
       "      <td>Health &amp; Beauty</td>\n",
       "      <td>https://images-na.ssl-images-amazon.com/images...</td>\n",
       "      <td>amazonbasics/hl002619,amazonbasicsaaaperforman...</td>\n",
       "      <td>...</td>\n",
       "      <td>NaN</td>\n",
       "      <td>NaN</td>\n",
       "      <td>NaN</td>\n",
       "      <td>4</td>\n",
       "      <td>https://www.amazon.com/product-reviews/B00QWO9...</td>\n",
       "      <td>[expensive, way, product, like]</td>\n",
       "      <td>... always the less expensive way to go for pr...</td>\n",
       "      <td>ByMG</td>\n",
       "      <td>https://www.barcodable.com/upc/841710106442,ht...</td>\n",
       "      <td>\"battery\", \"long\", \"brand\", \"life\", \"good\"</td>\n",
       "    </tr>\n",
       "    <tr>\n",
       "      <th>2</th>\n",
       "      <td>AVpgNzjwLJeJML43Kpxn</td>\n",
       "      <td>2015-10-30T08:59:32Z</td>\n",
       "      <td>2019-04-25T09:08:16Z</td>\n",
       "      <td>AmazonBasics AAA Performance Alkaline Batterie...</td>\n",
       "      <td>B00QWO9P0O,B00LH3DMUO</td>\n",
       "      <td>Amazonbasics</td>\n",
       "      <td>AA,AAA,Health,Electronics,Health &amp; Household,C...</td>\n",
       "      <td>Health &amp; Beauty</td>\n",
       "      <td>https://images-na.ssl-images-amazon.com/images...</td>\n",
       "      <td>amazonbasics/hl002619,amazonbasicsaaaperforman...</td>\n",
       "      <td>...</td>\n",
       "      <td>NaN</td>\n",
       "      <td>NaN</td>\n",
       "      <td>NaN</td>\n",
       "      <td>5</td>\n",
       "      <td>https://www.amazon.com/product-reviews/B00QWO9...</td>\n",
       "      <td>[duracell, price, happy]</td>\n",
       "      <td>... are not Duracell but for the price i am ha...</td>\n",
       "      <td>BySharon Lambert</td>\n",
       "      <td>https://www.barcodable.com/upc/841710106442,ht...</td>\n",
       "      <td>\"battery\", \"long\", \"brand\", \"life\", \"good\"</td>\n",
       "    </tr>\n",
       "    <tr>\n",
       "      <th>3</th>\n",
       "      <td>AVpgNzjwLJeJML43Kpxn</td>\n",
       "      <td>2015-10-30T08:59:32Z</td>\n",
       "      <td>2019-04-25T09:08:16Z</td>\n",
       "      <td>AmazonBasics AAA Performance Alkaline Batterie...</td>\n",
       "      <td>B00QWO9P0O,B00LH3DMUO</td>\n",
       "      <td>Amazonbasics</td>\n",
       "      <td>AA,AAA,Health,Electronics,Health &amp; Household,C...</td>\n",
       "      <td>Health &amp; Beauty</td>\n",
       "      <td>https://images-na.ssl-images-amazon.com/images...</td>\n",
       "      <td>amazonbasics/hl002619,amazonbasicsaaaperforman...</td>\n",
       "      <td>...</td>\n",
       "      <td>NaN</td>\n",
       "      <td>NaN</td>\n",
       "      <td>NaN</td>\n",
       "      <td>5</td>\n",
       "      <td>https://www.amazon.com/product-reviews/B00QWO9...</td>\n",
       "      <td>[work, brand, battery, well, price]</td>\n",
       "      <td>... as well as name brand batteries at a much ...</td>\n",
       "      <td>Bymark sexson</td>\n",
       "      <td>https://www.barcodable.com/upc/841710106442,ht...</td>\n",
       "      <td>\"battery\", \"long\", \"brand\", \"life\", \"good\"</td>\n",
       "    </tr>\n",
       "    <tr>\n",
       "      <th>4</th>\n",
       "      <td>AVpgNzjwLJeJML43Kpxn</td>\n",
       "      <td>2015-10-30T08:59:32Z</td>\n",
       "      <td>2019-04-25T09:08:16Z</td>\n",
       "      <td>AmazonBasics AAA Performance Alkaline Batterie...</td>\n",
       "      <td>B00QWO9P0O,B00LH3DMUO</td>\n",
       "      <td>Amazonbasics</td>\n",
       "      <td>AA,AAA,Health,Electronics,Health &amp; Household,C...</td>\n",
       "      <td>Health &amp; Beauty</td>\n",
       "      <td>https://images-na.ssl-images-amazon.com/images...</td>\n",
       "      <td>amazonbasics/hl002619,amazonbasicsaaaperforman...</td>\n",
       "      <td>...</td>\n",
       "      <td>NaN</td>\n",
       "      <td>NaN</td>\n",
       "      <td>NaN</td>\n",
       "      <td>5</td>\n",
       "      <td>https://www.amazon.com/product-reviews/B00QWO9...</td>\n",
       "      <td>[long, last, price, great]</td>\n",
       "      <td>... batteries are very long lasting the price ...</td>\n",
       "      <td>Bylinda</td>\n",
       "      <td>https://www.barcodable.com/upc/841710106442,ht...</td>\n",
       "      <td>\"battery\", \"long\", \"brand\", \"life\", \"good\"</td>\n",
       "    </tr>\n",
       "  </tbody>\n",
       "</table>\n",
       "<p>5 rows × 25 columns</p>\n",
       "</div>"
      ],
      "text/plain": [
       "                     id             dateAdded           dateUpdated  \\\n",
       "0  AVpgNzjwLJeJML43Kpxn  2015-10-30T08:59:32Z  2019-04-25T09:08:16Z   \n",
       "1  AVpgNzjwLJeJML43Kpxn  2015-10-30T08:59:32Z  2019-04-25T09:08:16Z   \n",
       "2  AVpgNzjwLJeJML43Kpxn  2015-10-30T08:59:32Z  2019-04-25T09:08:16Z   \n",
       "3  AVpgNzjwLJeJML43Kpxn  2015-10-30T08:59:32Z  2019-04-25T09:08:16Z   \n",
       "4  AVpgNzjwLJeJML43Kpxn  2015-10-30T08:59:32Z  2019-04-25T09:08:16Z   \n",
       "\n",
       "                                                name                  asins  \\\n",
       "0  AmazonBasics AAA Performance Alkaline Batterie...  B00QWO9P0O,B00LH3DMUO   \n",
       "1  AmazonBasics AAA Performance Alkaline Batterie...  B00QWO9P0O,B00LH3DMUO   \n",
       "2  AmazonBasics AAA Performance Alkaline Batterie...  B00QWO9P0O,B00LH3DMUO   \n",
       "3  AmazonBasics AAA Performance Alkaline Batterie...  B00QWO9P0O,B00LH3DMUO   \n",
       "4  AmazonBasics AAA Performance Alkaline Batterie...  B00QWO9P0O,B00LH3DMUO   \n",
       "\n",
       "          brand                                         categories  \\\n",
       "0  Amazonbasics  AA,AAA,Health,Electronics,Health & Household,C...   \n",
       "1  Amazonbasics  AA,AAA,Health,Electronics,Health & Household,C...   \n",
       "2  Amazonbasics  AA,AAA,Health,Electronics,Health & Household,C...   \n",
       "3  Amazonbasics  AA,AAA,Health,Electronics,Health & Household,C...   \n",
       "4  Amazonbasics  AA,AAA,Health,Electronics,Health & Household,C...   \n",
       "\n",
       "  primaryCategories                                          imageURLs  \\\n",
       "0   Health & Beauty  https://images-na.ssl-images-amazon.com/images...   \n",
       "1   Health & Beauty  https://images-na.ssl-images-amazon.com/images...   \n",
       "2   Health & Beauty  https://images-na.ssl-images-amazon.com/images...   \n",
       "3   Health & Beauty  https://images-na.ssl-images-amazon.com/images...   \n",
       "4   Health & Beauty  https://images-na.ssl-images-amazon.com/images...   \n",
       "\n",
       "                                                keys  ... reviews.doRecommend  \\\n",
       "0  amazonbasics/hl002619,amazonbasicsaaaperforman...  ...                 NaN   \n",
       "1  amazonbasics/hl002619,amazonbasicsaaaperforman...  ...                 NaN   \n",
       "2  amazonbasics/hl002619,amazonbasicsaaaperforman...  ...                 NaN   \n",
       "3  amazonbasics/hl002619,amazonbasicsaaaperforman...  ...                 NaN   \n",
       "4  amazonbasics/hl002619,amazonbasicsaaaperforman...  ...                 NaN   \n",
       "\n",
       "  reviews.id reviews.numHelpful reviews.rating  \\\n",
       "0        NaN                NaN              3   \n",
       "1        NaN                NaN              4   \n",
       "2        NaN                NaN              5   \n",
       "3        NaN                NaN              5   \n",
       "4        NaN                NaN              5   \n",
       "\n",
       "                                  reviews.sourceURLs  \\\n",
       "0  https://www.amazon.com/product-reviews/B00QWO9...   \n",
       "1  https://www.amazon.com/product-reviews/B00QWO9...   \n",
       "2  https://www.amazon.com/product-reviews/B00QWO9...   \n",
       "3  https://www.amazon.com/product-reviews/B00QWO9...   \n",
       "4  https://www.amazon.com/product-reviews/B00QWO9...   \n",
       "\n",
       "                                        reviews.text  \\\n",
       "0  [item, bad, quality, miss, backup, spring, pc,...   \n",
       "1                    [expensive, way, product, like]   \n",
       "2                           [duracell, price, happy]   \n",
       "3                [work, brand, battery, well, price]   \n",
       "4                         [long, last, price, great]   \n",
       "\n",
       "                                       reviews.title  reviews.username  \\\n",
       "0  ... 3 of them and one of the item is bad quali...        Byger yang   \n",
       "1  ... always the less expensive way to go for pr...              ByMG   \n",
       "2  ... are not Duracell but for the price i am ha...  BySharon Lambert   \n",
       "3  ... as well as name brand batteries at a much ...     Bymark sexson   \n",
       "4  ... batteries are very long lasting the price ...           Bylinda   \n",
       "\n",
       "                                          sourceURLs  \\\n",
       "0  https://www.barcodable.com/upc/841710106442,ht...   \n",
       "1  https://www.barcodable.com/upc/841710106442,ht...   \n",
       "2  https://www.barcodable.com/upc/841710106442,ht...   \n",
       "3  https://www.barcodable.com/upc/841710106442,ht...   \n",
       "4  https://www.barcodable.com/upc/841710106442,ht...   \n",
       "\n",
       "                                primary_topic  \n",
       "0   \"battery\", \"amazon\", \"buy\", \"use\", \"work\"  \n",
       "1  \"battery\", \"long\", \"brand\", \"life\", \"good\"  \n",
       "2  \"battery\", \"long\", \"brand\", \"life\", \"good\"  \n",
       "3  \"battery\", \"long\", \"brand\", \"life\", \"good\"  \n",
       "4  \"battery\", \"long\", \"brand\", \"life\", \"good\"  \n",
       "\n",
       "[5 rows x 25 columns]"
      ]
     },
     "execution_count": 103,
     "metadata": {},
     "output_type": "execute_result"
    }
   ],
   "source": [
    "df.head()"
   ]
  },
  {
   "cell_type": "code",
   "execution_count": 104,
   "metadata": {},
   "outputs": [
    {
     "name": "stderr",
     "output_type": "stream",
     "text": [
      "C:\\Users\\lomopa\\anaconda3\\envs\\U4-S1-NLP\\lib\\site-packages\\ipykernel\\ipkernel.py:287: DeprecationWarning: `should_run_async` will not call `transform_cell` automatically in the future. Please pass the result to `transformed_cell` argument and any exception that happen during thetransform in `preprocessing_exc_tuple` in IPython 7.17 and above.\n",
      "  and should_run_async(code)\n"
     ]
    },
    {
     "data": {
      "text/plain": [
       "\"battery\", \"amazon\", \"buy\", \"use\", \"work\"           5694\n",
       "\"battery\", \"long\", \"brand\", \"life\", \"good\"          3155\n",
       "\"great\", \"price\", \"product\", \"recommend\", \"work\"    2216\n",
       "\"kid\", \"tablet\", \"child\", \"great\", \"love\"           2048\n",
       "\"use\", \"easy\", \"tablet\", \"great\", \"read\"            1607\n",
       "\"good\", \"price\", \"tablet\", \"quality\", \"money\"       1571\n",
       "\"read\", \"book\", \"kindle\", \"light\", \"reader\"         1239\n",
       "\"love\", \"gift\", \"christmas\", \"tablet\", \"great\"      1228\n",
       "\"kindle\", \"fire\", \"screen\", \"hd\", \"new\"             1115\n",
       "\"old\", \"year\", \"love\", \"son\", \"tablet\"              1074\n",
       "\"game\", \"play\", \"love\", \"watch\", \"movie\"             951\n",
       "\"buy\", \"good\", \"thank\", \"need\", \"product\"            826\n",
       "\"app\", \"google\", \"amazon\", \"play\", \"good\"            808\n",
       "\"fast\", \"good\", \"work\", \"purchase\", \"pleased\"        767\n",
       "\"app\", \"device\", \"screen\", \"wifi\", \"home\"            717\n",
       "\"tablet\", \"great\", \"price\", \"amazon\", \"black\"        708\n",
       "\"tablet\", \"nice\", \"great\", \"storage\", \"fast\"         706\n",
       "\"tablet\", \"amazon\", \"card\", \"memory\", \"account\"      662\n",
       "\"ipad\", \"tablet\", \"app\", \"need\", \"amazon\"            637\n",
       "\"charge\", \"problem\", \"time\", \"buy\", \"break\"          603\n",
       "Name: primary_topic, dtype: int64"
      ]
     },
     "execution_count": 104,
     "metadata": {},
     "output_type": "execute_result"
    }
   ],
   "source": [
    "df['primary_topic'].value_counts()"
   ]
  },
  {
   "cell_type": "code",
   "execution_count": null,
   "metadata": {},
   "outputs": [],
   "source": [
    "# 'battery', 'tablet', 'amazon', 'good', 'great', 'app', 'buy', 'love'"
   ]
  },
  {
   "cell_type": "code",
   "execution_count": 6,
   "metadata": {},
   "outputs": [
    {
     "ename": "NameError",
     "evalue": "name 'pd' is not defined",
     "output_type": "error",
     "traceback": [
      "\u001b[1;31m---------------------------------------------------------------------------\u001b[0m",
      "\u001b[1;31mNameError\u001b[0m                                 Traceback (most recent call last)",
      "\u001b[1;32m<ipython-input-6-4e6713aa0434>\u001b[0m in \u001b[0;36m<module>\u001b[1;34m\u001b[0m\n\u001b[1;32m----> 1\u001b[1;33m agg = pd.pivot_table(df, values=['reviews.text'], \n\u001b[0m\u001b[0;32m      2\u001b[0m                      \u001b[0mindex\u001b[0m\u001b[1;33m=\u001b[0m\u001b[1;33m[\u001b[0m\u001b[1;34m'primary_topic'\u001b[0m\u001b[1;33m]\u001b[0m\u001b[1;33m,\u001b[0m\u001b[1;33m\u001b[0m\u001b[0m\n\u001b[0;32m      3\u001b[0m                      columns=['reviews.rating'], aggfunc='count')\n",
      "\u001b[1;31mNameError\u001b[0m: name 'pd' is not defined"
     ]
    }
   ],
   "source": [
    "agg = pd.pivot_table(df, values=['reviews.text'], \n",
    "                     index=['primary_topic'], \n",
    "                     columns=['reviews.rating'], aggfunc='count')"
   ]
  },
  {
   "cell_type": "code",
   "execution_count": 108,
   "metadata": {},
   "outputs": [
    {
     "name": "stderr",
     "output_type": "stream",
     "text": [
      "C:\\Users\\lomopa\\anaconda3\\envs\\U4-S1-NLP\\lib\\site-packages\\ipykernel\\ipkernel.py:287: DeprecationWarning: `should_run_async` will not call `transform_cell` automatically in the future. Please pass the result to `transformed_cell` argument and any exception that happen during thetransform in `preprocessing_exc_tuple` in IPython 7.17 and above.\n",
      "  and should_run_async(code)\n"
     ]
    }
   ],
   "source": [
    "agg = agg.reset_index()"
   ]
  },
  {
   "cell_type": "code",
   "execution_count": 110,
   "metadata": {},
   "outputs": [
    {
     "name": "stderr",
     "output_type": "stream",
     "text": [
      "C:\\Users\\lomopa\\anaconda3\\envs\\U4-S1-NLP\\lib\\site-packages\\ipykernel\\ipkernel.py:287: DeprecationWarning: `should_run_async` will not call `transform_cell` automatically in the future. Please pass the result to `transformed_cell` argument and any exception that happen during thetransform in `preprocessing_exc_tuple` in IPython 7.17 and above.\n",
      "  and should_run_async(code)\n"
     ]
    },
    {
     "data": {
      "text/html": [
       "<div>\n",
       "<style scoped>\n",
       "    .dataframe tbody tr th:only-of-type {\n",
       "        vertical-align: middle;\n",
       "    }\n",
       "\n",
       "    .dataframe tbody tr th {\n",
       "        vertical-align: top;\n",
       "    }\n",
       "\n",
       "    .dataframe thead tr th {\n",
       "        text-align: left;\n",
       "    }\n",
       "</style>\n",
       "<table border=\"1\" class=\"dataframe\">\n",
       "  <thead>\n",
       "    <tr>\n",
       "      <th></th>\n",
       "      <th>primary_topic</th>\n",
       "      <th colspan=\"5\" halign=\"left\">reviews.text</th>\n",
       "    </tr>\n",
       "    <tr>\n",
       "      <th>reviews.rating</th>\n",
       "      <th></th>\n",
       "      <th>1</th>\n",
       "      <th>2</th>\n",
       "      <th>3</th>\n",
       "      <th>4</th>\n",
       "      <th>5</th>\n",
       "    </tr>\n",
       "  </thead>\n",
       "  <tbody>\n",
       "    <tr>\n",
       "      <th>0</th>\n",
       "      <td>\"app\", \"device\", \"screen\", \"wifi\", \"home\"</td>\n",
       "      <td>35.0</td>\n",
       "      <td>36.0</td>\n",
       "      <td>65.0</td>\n",
       "      <td>278.0</td>\n",
       "      <td>303.0</td>\n",
       "    </tr>\n",
       "    <tr>\n",
       "      <th>1</th>\n",
       "      <td>\"app\", \"google\", \"amazon\", \"play\", \"good\"</td>\n",
       "      <td>25.0</td>\n",
       "      <td>14.0</td>\n",
       "      <td>102.0</td>\n",
       "      <td>283.0</td>\n",
       "      <td>384.0</td>\n",
       "    </tr>\n",
       "    <tr>\n",
       "      <th>2</th>\n",
       "      <td>\"battery\", \"amazon\", \"buy\", \"use\", \"work\"</td>\n",
       "      <td>562.0</td>\n",
       "      <td>263.0</td>\n",
       "      <td>279.0</td>\n",
       "      <td>629.0</td>\n",
       "      <td>3961.0</td>\n",
       "    </tr>\n",
       "    <tr>\n",
       "      <th>3</th>\n",
       "      <td>\"battery\", \"long\", \"brand\", \"life\", \"good\"</td>\n",
       "      <td>80.0</td>\n",
       "      <td>94.0</td>\n",
       "      <td>179.0</td>\n",
       "      <td>433.0</td>\n",
       "      <td>2369.0</td>\n",
       "    </tr>\n",
       "    <tr>\n",
       "      <th>4</th>\n",
       "      <td>\"buy\", \"good\", \"thank\", \"need\", \"product\"</td>\n",
       "      <td>33.0</td>\n",
       "      <td>25.0</td>\n",
       "      <td>46.0</td>\n",
       "      <td>126.0</td>\n",
       "      <td>596.0</td>\n",
       "    </tr>\n",
       "  </tbody>\n",
       "</table>\n",
       "</div>"
      ],
      "text/plain": [
       "                                             primary_topic reviews.text  \\\n",
       "reviews.rating                                                        1   \n",
       "0                \"app\", \"device\", \"screen\", \"wifi\", \"home\"         35.0   \n",
       "1                \"app\", \"google\", \"amazon\", \"play\", \"good\"         25.0   \n",
       "2                \"battery\", \"amazon\", \"buy\", \"use\", \"work\"        562.0   \n",
       "3               \"battery\", \"long\", \"brand\", \"life\", \"good\"         80.0   \n",
       "4                \"buy\", \"good\", \"thank\", \"need\", \"product\"         33.0   \n",
       "\n",
       "                                             \n",
       "reviews.rating      2      3      4       5  \n",
       "0                36.0   65.0  278.0   303.0  \n",
       "1                14.0  102.0  283.0   384.0  \n",
       "2               263.0  279.0  629.0  3961.0  \n",
       "3                94.0  179.0  433.0  2369.0  \n",
       "4                25.0   46.0  126.0   596.0  "
      ]
     },
     "execution_count": 110,
     "metadata": {},
     "output_type": "execute_result"
    }
   ],
   "source": [
    "agg.head()"
   ]
  },
  {
   "cell_type": "code",
   "execution_count": 113,
   "metadata": {},
   "outputs": [
    {
     "name": "stderr",
     "output_type": "stream",
     "text": [
      "C:\\Users\\lomopa\\anaconda3\\envs\\U4-S1-NLP\\lib\\site-packages\\ipykernel\\ipkernel.py:287: DeprecationWarning: `should_run_async` will not call `transform_cell` automatically in the future. Please pass the result to `transformed_cell` argument and any exception that happen during thetransform in `preprocessing_exc_tuple` in IPython 7.17 and above.\n",
      "  and should_run_async(code)\n"
     ]
    },
    {
     "name": "stdout",
     "output_type": "stream",
     "text": [
      "Collecting altair\n",
      "  Downloading altair-4.1.0-py3-none-any.whl (727 kB)\n",
      "Requirement already satisfied: pandas>=0.18 in c:\\users\\lomopa\\anaconda3\\lib\\site-packages (from altair) (1.0.1)\n",
      "Requirement already satisfied: entrypoints in c:\\users\\lomopa\\anaconda3\\lib\\site-packages (from altair) (0.3)\n",
      "Requirement already satisfied: jinja2 in c:\\users\\lomopa\\anaconda3\\lib\\site-packages (from altair) (2.11.1)\n",
      "Requirement already satisfied: numpy in c:\\users\\lomopa\\anaconda3\\lib\\site-packages (from altair) (1.18.1)\n",
      "Requirement already satisfied: jsonschema in c:\\users\\lomopa\\anaconda3\\lib\\site-packages (from altair) (3.2.0)\n",
      "Requirement already satisfied: toolz in c:\\users\\lomopa\\anaconda3\\lib\\site-packages (from altair) (0.10.0)\n",
      "Requirement already satisfied: python-dateutil>=2.6.1 in c:\\users\\lomopa\\anaconda3\\lib\\site-packages (from pandas>=0.18->altair) (2.8.1)\n",
      "Requirement already satisfied: pytz>=2017.2 in c:\\users\\lomopa\\anaconda3\\lib\\site-packages (from pandas>=0.18->altair) (2019.3)\n",
      "Requirement already satisfied: MarkupSafe>=0.23 in c:\\users\\lomopa\\anaconda3\\lib\\site-packages (from jinja2->altair) (1.1.1)\n",
      "Requirement already satisfied: pyrsistent>=0.14.0 in c:\\users\\lomopa\\anaconda3\\lib\\site-packages (from jsonschema->altair) (0.15.7)\n",
      "Requirement already satisfied: setuptools in c:\\users\\lomopa\\anaconda3\\lib\\site-packages (from jsonschema->altair) (45.2.0.post20200210)\n",
      "Requirement already satisfied: attrs>=17.4.0 in c:\\users\\lomopa\\anaconda3\\lib\\site-packages (from jsonschema->altair) (19.3.0)\n",
      "Requirement already satisfied: six>=1.11.0 in c:\\users\\lomopa\\anaconda3\\lib\\site-packages (from jsonschema->altair) (1.14.0)\n",
      "Requirement already satisfied: importlib-metadata; python_version < \"3.8\" in c:\\users\\lomopa\\anaconda3\\lib\\site-packages (from jsonschema->altair) (1.5.0)\n",
      "Requirement already satisfied: zipp>=0.5 in c:\\users\\lomopa\\anaconda3\\lib\\site-packages (from importlib-metadata; python_version < \"3.8\"->jsonschema->altair) (2.2.0)\n",
      "Installing collected packages: altair\n",
      "Successfully installed altair-4.1.0\n"
     ]
    }
   ],
   "source": [
    "!pip install altair"
   ]
  },
  {
   "cell_type": "code",
   "execution_count": null,
   "metadata": {},
   "outputs": [],
   "source": [
    "import altair as alt\n",
    "from plotly.offline import iplot\n",
    "import plotly.graph_objs as go\n",
    "import IPython\n",
    "import plotly.offline as py\n",
    "from altair import datum\n",
    "import plotly.express as px\n",
    "import plotly"
   ]
  },
  {
   "cell_type": "code",
   "execution_count": null,
   "metadata": {},
   "outputs": [],
   "source": [
    "# source = new_df\n",
    "\n",
    "# alt.Chart(source).transform_fold(\n",
    "#     ['Nozzle_Bed_Temp', 'Print_Fan_Speed', 'infill_roughness'],\n",
    "#     as_=['Experiment', 'Measurement']\n",
    "# ).mark_area(\n",
    "#     opacity=0.3,\n",
    "#     interpolate='step'\n",
    "# ).encode(\n",
    "#     alt.X('Measurement:Q', bin=alt.Bin(maxbins=100)),\n",
    "#     alt.Y('count()', stack=None),\n",
    "#     alt.Color('Experiment:N')\n",
    "# )"
   ]
  },
  {
   "cell_type": "code",
   "execution_count": null,
   "metadata": {},
   "outputs": [],
   "source": [
    "fig = px.scatter_3d(new_df, x='Nozzle_Bed_Temp', y='Print_Fan_Speed', z='infill_roughness',\n",
    "              color='Print_Fan_Speed')\n",
    "fig.show()"
   ]
  },
  {
   "cell_type": "code",
   "execution_count": null,
   "metadata": {},
   "outputs": [],
   "source": []
  },
  {
   "cell_type": "code",
   "execution_count": null,
   "metadata": {},
   "outputs": [],
   "source": []
  },
  {
   "cell_type": "code",
   "execution_count": null,
   "metadata": {},
   "outputs": [],
   "source": []
  },
  {
   "cell_type": "code",
   "execution_count": null,
   "metadata": {},
   "outputs": [],
   "source": []
  },
  {
   "cell_type": "code",
   "execution_count": null,
   "metadata": {},
   "outputs": [],
   "source": []
  },
  {
   "cell_type": "code",
   "execution_count": null,
   "metadata": {},
   "outputs": [],
   "source": []
  },
  {
   "cell_type": "code",
   "execution_count": null,
   "metadata": {},
   "outputs": [],
   "source": []
  },
  {
   "cell_type": "markdown",
   "metadata": {},
   "source": [
    "## Stretch Goals\n",
    "\n",
    "* Incorporate Named Entity Recognition in your analysis\n",
    "* Incorporate some custom pre-processing from our previous lessons (like spacy lemmatization)\n",
    "* Analyze a dataset of interest to you with topic modeling"
   ]
  }
 ],
 "metadata": {
  "kernelspec": {
   "display_name": "U4-S1-NLP (Python3)",
   "language": "python",
   "name": "u4-s1-nlp"
  },
  "language_info": {
   "codemirror_mode": {
    "name": "ipython",
    "version": 3
   },
   "file_extension": ".py",
   "mimetype": "text/x-python",
   "name": "python",
   "nbconvert_exporter": "python",
   "pygments_lexer": "ipython3",
   "version": "3.7.0"
  }
 },
 "nbformat": 4,
 "nbformat_minor": 4
}
